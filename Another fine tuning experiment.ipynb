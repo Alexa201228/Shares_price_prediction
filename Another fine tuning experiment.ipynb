{
 "cells": [
  {
   "cell_type": "code",
   "execution_count": 1,
   "id": "0c0ebc99",
   "metadata": {
    "pycharm": {
     "name": "#%%\n"
    }
   },
   "outputs": [
    {
     "name": "stdout",
     "output_type": "stream",
     "text": [
      "Requirement already satisfied: datasets in /home/alexa/miniconda3/envs/tf/lib/python3.9/site-packages (2.12.0)\r\n",
      "Requirement already satisfied: evaluate in /home/alexa/miniconda3/envs/tf/lib/python3.9/site-packages (0.4.0)\r\n",
      "Requirement already satisfied: transformers==4.28.0 in /home/alexa/miniconda3/envs/tf/lib/python3.9/site-packages (4.28.0)\r\n",
      "Requirement already satisfied: accelerate in /home/alexa/miniconda3/envs/tf/lib/python3.9/site-packages (0.19.0)\r\n",
      "Requirement already satisfied: filelock in /home/alexa/miniconda3/envs/tf/lib/python3.9/site-packages (from transformers==4.28.0) (3.12.0)\r\n",
      "Requirement already satisfied: packaging>=20.0 in /home/alexa/miniconda3/envs/tf/lib/python3.9/site-packages (from transformers==4.28.0) (23.1)\r\n",
      "Requirement already satisfied: numpy>=1.17 in /home/alexa/miniconda3/envs/tf/lib/python3.9/site-packages (from transformers==4.28.0) (1.24.3)\r\n",
      "Requirement already satisfied: pyyaml>=5.1 in /home/alexa/miniconda3/envs/tf/lib/python3.9/site-packages (from transformers==4.28.0) (6.0)\r\n",
      "Requirement already satisfied: regex!=2019.12.17 in /home/alexa/miniconda3/envs/tf/lib/python3.9/site-packages (from transformers==4.28.0) (2023.5.5)\r\n",
      "Requirement already satisfied: tokenizers!=0.11.3,<0.14,>=0.11.1 in /home/alexa/miniconda3/envs/tf/lib/python3.9/site-packages (from transformers==4.28.0) (0.12.1)\r\n",
      "Requirement already satisfied: tqdm>=4.27 in /home/alexa/miniconda3/envs/tf/lib/python3.9/site-packages (from transformers==4.28.0) (4.65.0)\r\n",
      "Requirement already satisfied: requests in /home/alexa/miniconda3/envs/tf/lib/python3.9/site-packages (from transformers==4.28.0) (2.30.0)\r\n",
      "Requirement already satisfied: huggingface-hub<1.0,>=0.11.0 in /home/alexa/miniconda3/envs/tf/lib/python3.9/site-packages (from transformers==4.28.0) (0.14.1)\r\n",
      "Requirement already satisfied: multiprocess in /home/alexa/miniconda3/envs/tf/lib/python3.9/site-packages (from datasets) (0.70.14)\r\n",
      "Requirement already satisfied: aiohttp in /home/alexa/miniconda3/envs/tf/lib/python3.9/site-packages (from datasets) (3.8.4)\r\n",
      "Requirement already satisfied: pandas in /home/alexa/miniconda3/envs/tf/lib/python3.9/site-packages (from datasets) (2.0.1)\r\n",
      "Requirement already satisfied: xxhash in /home/alexa/miniconda3/envs/tf/lib/python3.9/site-packages (from datasets) (3.2.0)\r\n",
      "Requirement already satisfied: dill<0.3.7,>=0.3.0 in /home/alexa/miniconda3/envs/tf/lib/python3.9/site-packages (from datasets) (0.3.6)\r\n",
      "Requirement already satisfied: responses<0.19 in /home/alexa/miniconda3/envs/tf/lib/python3.9/site-packages (from datasets) (0.18.0)\r\n",
      "Requirement already satisfied: pyarrow>=8.0.0 in /home/alexa/miniconda3/envs/tf/lib/python3.9/site-packages (from datasets) (12.0.0)\r\n",
      "Requirement already satisfied: fsspec[http]>=2021.11.1 in /home/alexa/miniconda3/envs/tf/lib/python3.9/site-packages (from datasets) (2023.5.0)\r\n",
      "Requirement already satisfied: torch>=1.6.0 in /home/alexa/miniconda3/envs/tf/lib/python3.9/site-packages (from accelerate) (2.0.1)\r\n",
      "Requirement already satisfied: psutil in /home/alexa/miniconda3/envs/tf/lib/python3.9/site-packages (from accelerate) (5.9.0)\r\n",
      "Requirement already satisfied: charset-normalizer<4.0,>=2.0 in /home/alexa/miniconda3/envs/tf/lib/python3.9/site-packages (from aiohttp->datasets) (3.1.0)\r\n",
      "Requirement already satisfied: attrs>=17.3.0 in /home/alexa/miniconda3/envs/tf/lib/python3.9/site-packages (from aiohttp->datasets) (23.1.0)\r\n",
      "Requirement already satisfied: multidict<7.0,>=4.5 in /home/alexa/miniconda3/envs/tf/lib/python3.9/site-packages (from aiohttp->datasets) (6.0.4)\r\n",
      "Requirement already satisfied: yarl<2.0,>=1.0 in /home/alexa/miniconda3/envs/tf/lib/python3.9/site-packages (from aiohttp->datasets) (1.9.2)\r\n",
      "Requirement already satisfied: async-timeout<5.0,>=4.0.0a3 in /home/alexa/miniconda3/envs/tf/lib/python3.9/site-packages (from aiohttp->datasets) (4.0.2)\r\n",
      "Requirement already satisfied: aiosignal>=1.1.2 in /home/alexa/miniconda3/envs/tf/lib/python3.9/site-packages (from aiohttp->datasets) (1.3.1)\r\n",
      "Requirement already satisfied: frozenlist>=1.1.1 in /home/alexa/miniconda3/envs/tf/lib/python3.9/site-packages (from aiohttp->datasets) (1.3.3)\r\n",
      "Requirement already satisfied: typing-extensions>=3.7.4.3 in /home/alexa/miniconda3/envs/tf/lib/python3.9/site-packages (from huggingface-hub<1.0,>=0.11.0->transformers==4.28.0) (4.5.0)\r\n",
      "Requirement already satisfied: idna<4,>=2.5 in /home/alexa/miniconda3/envs/tf/lib/python3.9/site-packages (from requests->transformers==4.28.0) (3.4)\r\n",
      "Requirement already satisfied: certifi>=2017.4.17 in /home/alexa/miniconda3/envs/tf/lib/python3.9/site-packages (from requests->transformers==4.28.0) (2023.5.7)\r\n",
      "Requirement already satisfied: urllib3<3,>=1.21.1 in /home/alexa/miniconda3/envs/tf/lib/python3.9/site-packages (from requests->transformers==4.28.0) (2.0.2)\r\n",
      "Requirement already satisfied: sympy in /home/alexa/miniconda3/envs/tf/lib/python3.9/site-packages (from torch>=1.6.0->accelerate) (1.11.1)\r\n",
      "Requirement already satisfied: networkx in /home/alexa/miniconda3/envs/tf/lib/python3.9/site-packages (from torch>=1.6.0->accelerate) (2.8.4)\r\n",
      "Requirement already satisfied: jinja2 in /home/alexa/miniconda3/envs/tf/lib/python3.9/site-packages (from torch>=1.6.0->accelerate) (3.1.2)\r\n",
      "Requirement already satisfied: pytz>=2020.1 in /home/alexa/miniconda3/envs/tf/lib/python3.9/site-packages (from pandas->datasets) (2023.3)\r\n",
      "Requirement already satisfied: python-dateutil>=2.8.2 in /home/alexa/miniconda3/envs/tf/lib/python3.9/site-packages (from pandas->datasets) (2.8.2)\r\n",
      "Requirement already satisfied: tzdata>=2022.1 in /home/alexa/miniconda3/envs/tf/lib/python3.9/site-packages (from pandas->datasets) (2023.3)\r\n",
      "Requirement already satisfied: six>=1.5 in /home/alexa/miniconda3/envs/tf/lib/python3.9/site-packages (from python-dateutil>=2.8.2->pandas->datasets) (1.16.0)\r\n",
      "Requirement already satisfied: MarkupSafe>=2.0 in /home/alexa/miniconda3/envs/tf/lib/python3.9/site-packages (from jinja2->torch>=1.6.0->accelerate) (2.1.1)\r\n",
      "Requirement already satisfied: mpmath>=0.19 in /home/alexa/miniconda3/envs/tf/lib/python3.9/site-packages (from sympy->torch>=1.6.0->accelerate) (1.2.1)\r\n"
     ]
    }
   ],
   "source": [
    "!pip install datasets evaluate transformers==4.28.0 --upgrade accelerate"
   ]
  },
  {
   "cell_type": "code",
   "execution_count": 2,
   "id": "e9f2dd14",
   "metadata": {
    "pycharm": {
     "name": "#%%\n"
    }
   },
   "outputs": [
    {
     "name": "stderr",
     "output_type": "stream",
     "text": [
      "2023-05-13 22:46:28.065514: I tensorflow/core/platform/cpu_feature_guard.cc:182] This TensorFlow binary is optimized to use available CPU instructions in performance-critical operations.\n",
      "To enable the following instructions: AVX2 FMA, in other operations, rebuild TensorFlow with the appropriate compiler flags.\n",
      "2023-05-13 22:46:28.756679: W tensorflow/compiler/tf2tensorrt/utils/py_utils.cc:38] TF-TRT Warning: Could not find TensorRT\n"
     ]
    }
   ],
   "source": [
    "import os\n",
    "\n",
    "# Data processing\n",
    "import pandas as pd\n",
    "import numpy as np\n",
    "\n",
    "# Modeling\n",
    "import tensorflow as tf\n",
    "from transformers import AutoTokenizer, AutoModelForSequenceClassification, TrainingArguments, Trainer, EarlyStoppingCallback, BertTokenizer\n",
    "\n",
    "# Hugging Face Dataset\n",
    "from datasets import Dataset\n",
    "\n",
    "# Model performance evaluation\n",
    "import evaluate"
   ]
  },
  {
   "cell_type": "code",
   "execution_count": 3,
   "id": "5f35c27a",
   "metadata": {
    "pycharm": {
     "name": "#%%\n"
    }
   },
   "outputs": [
    {
     "name": "stdout",
     "output_type": "stream",
     "text": [
      "northrop.csv          Дата     Время     Цена до  Цена после   \n",
      "0  2022-10-14  14:10:32  471.454987  468.269989  \\\n",
      "1  2022-10-14  11:38:17  475.109985  472.109985   \n",
      "2  2022-10-14  11:25:32  476.359985  475.109985   \n",
      "3  2022-10-14  10:37:16  476.359985  475.109985   \n",
      "4  2022-10-12  12:47:18  501.450012  501.660004   \n",
      "\n",
      "                                       Текст новости  \n",
      "0         Check Out What Whales Are Doing With NOC\\n  \n",
      "1  What 7 Analyst Ratings Have To Say About North...  \n",
      "2  7 Analysts Have This to Say About Northrop Gru...  \n",
      "3  Benzinga's Top Ratings Upgrades, Downgrades Fo...  \n",
      "4  Credit Suisse Picks 7 Aerospace, Defense Stock...  \n",
      "boeing.csv          Дата     Время     Цена до  Цена после   \n",
      "0  2022-09-29  15:00:27  124.675903  124.540001  \\\n",
      "1  2022-09-28  14:30:52  133.009995  133.330002   \n",
      "2  2022-09-28  11:42:56  130.130005  130.570007   \n",
      "3  2022-09-26  14:05:53  127.320000  126.980003   \n",
      "4  2022-09-23  11:38:28  131.759995  130.229996   \n",
      "\n",
      "                                       Текст новости  \n",
      "0           Why Boeing Shares Are Getting Hammered\\n  \n",
      "1  Morgan Stanley Bets On Boeing's Prospects Desp...  \n",
      "2          Looking At Boeing's Recent Whale Trades\\n  \n",
      "3  9 Industrials Stocks With Whale Alerts In Toda...  \n",
      "4  Costco Down After Earnings as Analysts Fret Ab...  \n",
      "amd.csv          Дата     Время    Цена до  Цена после   \n",
      "0  2022-10-10  15:11:10  57.939999   57.830002  \\\n",
      "1  2022-10-10  13:36:40  57.619999   57.939999   \n",
      "2  2022-10-10  13:34:42  57.619999   57.939999   \n",
      "3  2022-10-10  12:29:53  57.494301   57.180000   \n",
      "4  2022-10-10  11:36:07  57.494301   57.180000   \n",
      "\n",
      "                                       Текст новости  \n",
      "0  AMD Analyst Slashes Price Target By 32% On Dis...  \n",
      "1  10 Information Technology Stocks With Whale Al...  \n",
      "2                  What's Going On With AMD Shares\\n  \n",
      "3           Stocks That Hit 52-Week Lows On Monday\\n  \n",
      "4  IDC Highlights Weak PC Market, Apple Being The...  \n",
      "target.csv          Дата     Время     Цена до  Цена после   \n",
      "0  2022-10-17  14:54:44  149.723206  149.744995  \\\n",
      "1  2022-10-17  13:11:21  149.929993  149.509995   \n",
      "2  2022-10-14  14:10:00  146.619995  146.059998   \n",
      "3  2022-10-14  13:42:51  146.619995  146.059998   \n",
      "4  2022-10-11  14:49:32  156.059998  154.279999   \n",
      "\n",
      "                                       Текст новости  \n",
      "0  This Chipotle Analyst Sees Further Upside In 2...  \n",
      "1               Target Whale Trades For October 17\\n  \n",
      "2        This Is What Whales Are Betting On Target\\n  \n",
      "3  10 Consumer Discretionary Stocks Whale Activit...  \n",
      "4  10 Best Deals Available Now From Amazon, Targe...  \n",
      "tesla.csv          Дата     Время     Цена до  Цена после   \n",
      "0  2022-10-17  15:23:09  218.440002  219.210007  \\\n",
      "1  2022-10-17  13:43:16  219.610001  218.440002   \n",
      "2  2022-10-17  11:22:15  217.193695  219.080002   \n",
      "3  2022-10-17  11:15:59  217.193695  219.080002   \n",
      "4  2022-10-17  10:45:26  217.193695  219.080002   \n",
      "\n",
      "                                       Текст новости  \n",
      "0  Tesla Shares Have A Supporter in Congress: Hou...  \n",
      "1  10 Consumer Discretionary Stocks Whale Activit...  \n",
      "2  Monday's Market Minute: Three Things to Watch ...  \n",
      "3  Friday Retreat: After Wild Thursday Rally, Mar...  \n",
      "4  Elon's Mom: Stop Being Mean To My 'Genius' Son...  \n",
      "amd2.csv       Время    Цена до  Цена после   \n",
      "0  14:18:01  89.261703   89.190002  \\\n",
      "1  11:58:12  87.139999   87.949997   \n",
      "2  15:20:14  86.919998   87.330002   \n",
      "3  13:35:15  86.589996   86.309998   \n",
      "4  15:00:43  84.378899   84.315002   \n",
      "\n",
      "                                       Текст новости   \n",
      "0                    What's Going On With AMD Shares  \\\n",
      "1           What's Going On With Nvidia Shares Today   \n",
      "2  Germany's Possible Export Ban On Semiconductor...   \n",
      "3  10 Information Technology Stocks Whale Activit...   \n",
      "4  Advanced Micro Devices Unusual Options Activit...   \n",
      "\n",
      "                                          Unnamed: 5  \n",
      "0  Advanced Micro Devices, Inc. AMD shares are tr...  \n",
      "1  Nvidia Corp NVDA shares are trading higher on ...  \n",
      "2  Germany could be moving forward with a plan to...  \n",
      "3  This whale alert can help traders discover the...  \n",
      "4  Someone with a lot of money to spend has taken...  \n",
      "nike.csv          Дата     Время    Цена до  Цена после   \n",
      "0  2022-10-07  10:52:51  87.940002   87.760002  \\\n",
      "1  2022-10-06  13:38:06  90.930000   90.320000   \n",
      "2  2022-10-05  13:12:53  89.500000   90.539902   \n",
      "3  2022-10-03  14:36:10  86.220001   86.129997   \n",
      "4  2022-10-03  14:33:22  86.220001   86.129997   \n",
      "\n",
      "                                       Текст новости  \n",
      "0  If You Invested $1,000 In Nike (NKE) Stock At ...  \n",
      "1  10 Consumer Discretionary Stocks With Whale Al...  \n",
      "2     2 NASDAQ earning reports to watch in October\\n  \n",
      "3  Tesla To Rally Around 43%? Plus This Analyst P...  \n",
      "4     Nike Stock Is Rising Today: What's Going On?\\n  \n",
      "amazon.csv          Дата     Время     Цена до  Цена после   \n",
      "0  2022-10-21  15:21:15  118.610001  119.364998  \\\n",
      "1  2022-10-21  15:05:00  118.610001  119.364998   \n",
      "2  2022-10-21  13:55:58  117.800003  118.610001   \n",
      "3  2022-10-21  13:53:36  117.800003  118.610001   \n",
      "4  2022-10-20  14:20:03  116.440002  115.209999   \n",
      "\n",
      "                                       Текст новости  \n",
      "0  S&P 500 Rebounds From 2022 Lows This Week As B...  \n",
      "1               What's Going On With Amazon Shares\\n  \n",
      "2  10 Consumer Discretionary Stocks Whale Activit...  \n",
      "3  Amazon To $175? Plus JP Morgan Cuts Price Targ...  \n",
      "4  Are All Streaming Services Losing Money? Netfl...  \n",
      "nvidia.csv          Дата     Время     Цена до  Цена после   \n",
      "0  2022-10-20  13:41:21  123.739998  121.680000  \\\n",
      "1  2022-10-06  13:38:02  133.460007  132.240005   \n",
      "2  2022-10-05  14:22:50  130.951996  130.940002   \n",
      "3  2022-10-05  14:04:06  130.951996  130.940002   \n",
      "4  2022-10-05  13:55:22  130.951996  130.940002   \n",
      "\n",
      "                                       Текст новости  \n",
      "0  10 Information Technology Stocks Whale Activit...  \n",
      "1  10 Information Technology Stocks With Whale Al...  \n",
      "2  YMTC Ban Likely A Plus For Micron & Western Di...  \n",
      "3  Why Shark Tank Investor Kevin O'Leary Plans To...  \n",
      "4  10 Information Technology Stocks Whale Activit...  \n",
      "amzn.csv       Время     Цена до  Цена после   \n",
      "0  12:00:29  104.839996  105.110603  \\\n",
      "1  14:47:48  103.379997  103.699997   \n",
      "2  11:49:10  102.620003  102.910004   \n",
      "3  15:05:42  102.500000  102.250000   \n",
      "4  13:48:31  102.885002  102.500000   \n",
      "\n",
      "                                       Текст новости   \n",
      "0  $100 Invested In Amazon.com 10 Years Ago Would...  \\\n",
      "1  Building A Stock Portfolio? Here's Your Compet...   \n",
      "2  5 Stocks To Keep An Eye On As WGA Strike Could...   \n",
      "3  Writers Strike Looms Over Hollywood: Average R...   \n",
      "4  Amazon Negates Bull Trend, Falls Under Bellwet...   \n",
      "\n",
      "                                          Unnamed: 5  \n",
      "0  Amazon.com AMZN has outperformed the market ov...  \n",
      "1  While there's no silver bullet for building a ...  \n",
      "2  Entertainment stocks were down on Tuesday afte...  \n",
      "3  Hollywood's writers are preparing to go on str...  \n",
      "4  Amazon.com, Inc AMZN was falling about 2.5% on...  \n",
      "twitter.csv          Дата     Время    Цена до  Цена после   \n",
      "0  2022-10-10  14:01:25  50.560001   50.445000  \\\n",
      "1  2022-10-07  14:02:08  49.410000   49.130001   \n",
      "2  2022-10-06  15:10:35  50.430000   50.435001   \n",
      "3  2022-10-06  13:35:35  50.720001   50.430000   \n",
      "4  2022-10-06  11:26:44  50.950100   51.040001   \n",
      "\n",
      "                                       Текст новости  \n",
      "0  Another 'Yuge' Setback For Donald Trump's SPAC...  \n",
      "1              Twitter Whale Trades For October 07\\n  \n",
      "2  'A Suicide Bomb': NBC Reporter Details How Mus...  \n",
      "3  Selling Tesla Shares To Buy Twitter Is 'Giving...  \n",
      "4  New Book Shows Donald Trump Treated White Hous...  \n",
      "walmart.csv          Дата     Время     Цена до  Цена после   \n",
      "0  2022-10-17  14:54:44  131.929993  131.755005  \\\n",
      "1  2022-10-14  11:32:56  131.449997  130.380005   \n",
      "2  2022-10-13  15:02:57  131.479996  132.410995   \n",
      "3  2022-10-11  14:49:32  133.619995  132.789993   \n",
      "4  2022-10-10  15:05:55  129.600006  129.649994   \n",
      "\n",
      "                                       Текст новости  \n",
      "0  This Chipotle Analyst Sees Further Upside In 2...  \n",
      "1  These 3 REITs Could See Dividend Increases Soon\\n  \n",
      "2     Looking Into Walmart's Recent Short Interest\\n  \n",
      "3  10 Best Deals Available Now From Amazon, Targe...  \n",
      "4  These 4 Blue Chip Recession-Proof Stocks Can H...  \n",
      "apple2.csv       Время     Цена до  Цена после   \n",
      "0  15:11:18  170.250000  168.139999  \\\n",
      "1  13:35:16  170.159897  170.250000   \n",
      "2  14:47:48  168.470001  168.970001   \n",
      "3  13:35:18  168.800003  168.470001   \n",
      "4  11:49:10  167.820007  168.110001   \n",
      "\n",
      "                                       Текст новости   \n",
      "0  Taiwan Semiconductor Eyes €10B Chip Plant Debu...  \\\n",
      "1  10 Information Technology Stocks Whale Activit...   \n",
      "2  Building A Stock Portfolio? Here's Your Compet...   \n",
      "3  10 Information Technology Stocks Whale Activit...   \n",
      "4  5 Stocks To Keep An Eye On As WGA Strike Could...   \n",
      "\n",
      "                                          Unnamed: 5  \n",
      "0  Taiwan Semiconductor Manufacturing Company Ltd...  \n",
      "1  This whale alert can help traders discover the...  \n",
      "2  While there's no silver bullet for building a ...  \n",
      "3  This whale alert can help traders discover the...  \n",
      "4  Entertainment stocks were down on Tuesday afte...  \n",
      "lockheed_martin.csv          Дата     Время     Цена до  Цена после   \n",
      "0  2022-10-17  14:32:40  398.445007  399.320007  \\\n",
      "1  2022-10-17  11:25:46  398.750000  398.350006   \n",
      "2  2022-10-17  11:15:59  398.750000  398.350006   \n",
      "3  2022-10-14  11:50:06  393.195007  391.040009   \n",
      "4  2022-10-13  14:59:49  403.839996  404.720001   \n",
      "\n",
      "                                       Текст новости  \n",
      "0       What Are Whales Doing With Lockheed Martin\\n  \n",
      "1  Solid Start: Week Begins in the Green After Ba...  \n",
      "2  Friday Retreat: After Wild Thursday Rally, Mar...  \n",
      "3  Will Chart Analysts Notice Bad Omen on Lockhee...  \n",
      "4  9 Industrials Stocks Whale Activity In Today's...  \n",
      "walt_disney.csv          Дата     Время    Цена до  Цена после   \n",
      "0  2022-10-07  13:57:47  96.959999   96.724998  \\\n",
      "1  2022-10-07  12:33:30  96.989998   96.959999   \n",
      "2  2022-10-03  13:38:15  96.510002   97.150002   \n",
      "3  2022-10-03  12:11:36  95.995003   95.820000   \n",
      "4  2022-10-03  14:16:41  96.510002   97.150002   \n",
      "\n",
      "                                       Текст новости  \n",
      "0  Disney Is a Living Proof of a Never-Ending Cor...  \n",
      "1                 Walt Disney Whale Trades Spotted\\n  \n",
      "2  Over 20% Of The S&P 500 Is Made Up Of 5 Stocks...  \n",
      "3  Is Putin Darth Vader? Luke Skywalker Helps Ukr...  \n",
      "4  $10 Bet Could Be Worth $74,000 If This NFL Tea...  \n",
      "apple.csv          Дата     Время     Цена до  Цена после   \n",
      "0  2022-10-21  15:21:15  146.149994  147.820099  \\\n",
      "1  2022-10-21  13:55:54  145.869995  146.149994   \n",
      "2  2022-10-21  11:57:55  144.250107  145.074997   \n",
      "3  2022-10-21  10:43:20  144.574997  144.250107   \n",
      "4  2022-10-20  13:41:21  144.285004  142.839996   \n",
      "\n",
      "                                       Текст новости  \n",
      "0  S&P 500 Rebounds From 2022 Lows This Week As B...  \n",
      "1  10 Information Technology Stocks With Whale Al...  \n",
      "2  When Can Elon Musk Sell Tesla Shares? Could Mo...  \n",
      "3  Google's New Tweaks To Messages May Annoy iPho...  \n",
      "4  10 Information Technology Stocks Whale Activit...  \n",
      "netflix.csv          Дата     Время     Цена до  Цена после   \n",
      "0  2022-10-20  14:20:03  270.600006  267.571106  \\\n",
      "1  2022-10-05  13:12:53  231.360001  233.850006   \n",
      "2  2022-10-03  13:36:14  238.360001  240.110001   \n",
      "3  2022-10-03  13:33:01  238.360001  240.110001   \n",
      "4  2022-10-03  11:31:58  237.690002  237.660004   \n",
      "\n",
      "                                       Текст новости  \n",
      "0  Are All Streaming Services Losing Money? Netfl...  \n",
      "1     2 NASDAQ earning reports to watch in October\\n  \n",
      "2  10 Communication Services Stocks With Whale Al...  \n",
      "3  If You Invested $1000 In This Stock 20 Years A...  \n",
      "4                     Netflix Whale Trades Spotted\\n  \n",
      "moderna.csv          Дата     Время     Цена до  Цена после   \n",
      "0  2022-10-07  12:03:37  121.550003  121.025002  \\\n",
      "1  2022-10-03  15:19:54  121.100098  121.904999   \n",
      "2  2022-09-29  13:32:01  116.739998  116.034798   \n",
      "3  2022-09-28  13:47:14  122.440002  122.250000   \n",
      "4  2022-09-27  13:02:24  122.029999  122.050003   \n",
      "\n",
      "                                    Текст новости  \n",
      "0      Looking At Moderna's Recent Whale Trades\\n  \n",
      "1     Check Out What Whales Are Doing With MRNA\\n  \n",
      "2      Stocks That Hit 52-Week Lows On Thursday\\n  \n",
      "3    This Is What Whales Are Betting On Moderna\\n  \n",
      "4  Looking Into Moderna's Recent Short Interest\\n  \n",
      "pfizer.csv          Дата     Время    Цена до  Цена после   \n",
      "0  2022-09-29  12:24:05  44.055000   44.355000  \\\n",
      "1  2022-09-23  12:02:47  43.880001   43.654999   \n",
      "2  2022-09-23  10:41:07  44.110001   43.880001   \n",
      "3  2022-09-22  13:42:15  44.869999   44.680000   \n",
      "4  2022-09-22  10:37:42  44.540001   44.689999   \n",
      "\n",
      "                                       Текст новости  \n",
      "0  Biohaven's ALS Drug Fails To Meet Study Endpoi...  \n",
      "1  Pfizer Resumes Dosing In Phase 3 Hemophilia Ge...  \n",
      "2  Elon Musk, Jeff Bezos & Richard Branson: Which...  \n",
      "3  10 Health Care Stocks With Whale Alerts In Tod...  \n",
      "4  Pfizer To Supply 6M COVID-19 Therapy Courses T...  \n",
      "<class 'pandas.core.frame.DataFrame'>\n",
      "Index: 21574 entries, 0 to 668\n",
      "Data columns (total 6 columns):\n",
      " #   Column         Non-Null Count  Dtype  \n",
      "---  ------         --------------  -----  \n",
      " 0   Дата           10873 non-null  object \n",
      " 1   Время          14000 non-null  object \n",
      " 2   Цена до        14000 non-null  float64\n",
      " 3   Цена после     14000 non-null  float64\n",
      " 4   Текст новости  14000 non-null  object \n",
      " 5   Unnamed: 5     3074 non-null   object \n",
      "dtypes: float64(2), object(4)\n",
      "memory usage: 1.2+ MB\n"
     ]
    },
    {
     "data": {
      "text/plain": "           Дата     Время     Цена до  Цена после   \n0    2022-10-21  15:21:15  118.610001  119.364998  \\\n1    2022-10-21  15:05:00  118.610001  119.364998   \n2    2022-10-21  13:55:58  117.800003  118.610001   \n3    2022-10-21  13:53:36  117.800003  118.610001   \n4    2022-10-20  14:20:03  116.440002  115.209999   \n..          ...       ...         ...         ...   \n664  2020-12-10  14:47:29   41.845001   41.955002   \n665  2020-12-10  11:36:18   41.930000   41.735001   \n666  2020-12-10  11:24:03   41.939999   41.930000   \n667  2020-12-09  11:29:30   41.520000   41.779999   \n668  2020-12-09  11:10:24   41.520000   41.779999   \n\n                                         Текст новости  \n0    S&P 500 Rebounds From 2022 Lows This Week As B...  \n1                 What's Going On With Amazon Shares\\n  \n2    10 Consumer Discretionary Stocks Whale Activit...  \n3    Amazon To $175? Plus JP Morgan Cuts Price Targ...  \n4    Are All Streaming Services Losing Money? Netfl...  \n..                                                 ...  \n664  10 Health Care Stocks With Unusual Options Ale...  \n665  Rehearsal Exposes Gaps In COVID Vaccine Delive...  \n666  Investors Seem More Focused On Vaccine, Stimul...  \n667  Allergy Warning Issued For Pfizer-BioNTech COV...  \n668       Stocks That Hit 52-Week Highs On Wednesday\\n  \n\n[21574 rows x 5 columns]",
      "text/html": "<div>\n<style scoped>\n    .dataframe tbody tr th:only-of-type {\n        vertical-align: middle;\n    }\n\n    .dataframe tbody tr th {\n        vertical-align: top;\n    }\n\n    .dataframe thead th {\n        text-align: right;\n    }\n</style>\n<table border=\"1\" class=\"dataframe\">\n  <thead>\n    <tr style=\"text-align: right;\">\n      <th></th>\n      <th>Дата</th>\n      <th>Время</th>\n      <th>Цена до</th>\n      <th>Цена после</th>\n      <th>Текст новости</th>\n    </tr>\n  </thead>\n  <tbody>\n    <tr>\n      <th>0</th>\n      <td>2022-10-21</td>\n      <td>15:21:15</td>\n      <td>118.610001</td>\n      <td>119.364998</td>\n      <td>S&amp;P 500 Rebounds From 2022 Lows This Week As B...</td>\n    </tr>\n    <tr>\n      <th>1</th>\n      <td>2022-10-21</td>\n      <td>15:05:00</td>\n      <td>118.610001</td>\n      <td>119.364998</td>\n      <td>What's Going On With Amazon Shares\\n</td>\n    </tr>\n    <tr>\n      <th>2</th>\n      <td>2022-10-21</td>\n      <td>13:55:58</td>\n      <td>117.800003</td>\n      <td>118.610001</td>\n      <td>10 Consumer Discretionary Stocks Whale Activit...</td>\n    </tr>\n    <tr>\n      <th>3</th>\n      <td>2022-10-21</td>\n      <td>13:53:36</td>\n      <td>117.800003</td>\n      <td>118.610001</td>\n      <td>Amazon To $175? Plus JP Morgan Cuts Price Targ...</td>\n    </tr>\n    <tr>\n      <th>4</th>\n      <td>2022-10-20</td>\n      <td>14:20:03</td>\n      <td>116.440002</td>\n      <td>115.209999</td>\n      <td>Are All Streaming Services Losing Money? Netfl...</td>\n    </tr>\n    <tr>\n      <th>...</th>\n      <td>...</td>\n      <td>...</td>\n      <td>...</td>\n      <td>...</td>\n      <td>...</td>\n    </tr>\n    <tr>\n      <th>664</th>\n      <td>2020-12-10</td>\n      <td>14:47:29</td>\n      <td>41.845001</td>\n      <td>41.955002</td>\n      <td>10 Health Care Stocks With Unusual Options Ale...</td>\n    </tr>\n    <tr>\n      <th>665</th>\n      <td>2020-12-10</td>\n      <td>11:36:18</td>\n      <td>41.930000</td>\n      <td>41.735001</td>\n      <td>Rehearsal Exposes Gaps In COVID Vaccine Delive...</td>\n    </tr>\n    <tr>\n      <th>666</th>\n      <td>2020-12-10</td>\n      <td>11:24:03</td>\n      <td>41.939999</td>\n      <td>41.930000</td>\n      <td>Investors Seem More Focused On Vaccine, Stimul...</td>\n    </tr>\n    <tr>\n      <th>667</th>\n      <td>2020-12-09</td>\n      <td>11:29:30</td>\n      <td>41.520000</td>\n      <td>41.779999</td>\n      <td>Allergy Warning Issued For Pfizer-BioNTech COV...</td>\n    </tr>\n    <tr>\n      <th>668</th>\n      <td>2020-12-09</td>\n      <td>11:10:24</td>\n      <td>41.520000</td>\n      <td>41.779999</td>\n      <td>Stocks That Hit 52-Week Highs On Wednesday\\n</td>\n    </tr>\n  </tbody>\n</table>\n<p>21574 rows × 5 columns</p>\n</div>"
     },
     "execution_count": 3,
     "metadata": {},
     "output_type": "execute_result"
    }
   ],
   "source": [
    "df = pd.read_csv(\"data/amazon.csv\", delimiter=\";\")\n",
    "df.drop(columns=[df.columns[0], \"Разница в долларах\", \"Дельта в процентах\"], axis=1, inplace=True)\n",
    "for root, _, files in os.walk(\"data\"):\n",
    "    for filename in files:\n",
    "        temp_df = pd.read_csv(os.path.join(root, filename), delimiter=\";\")\n",
    "        temp_df.drop(columns=[temp_df.columns[0], \"Разница в долларах\", \"Дельта в процентах\"], axis=1, inplace=True, errors=\"ignore\")\n",
    "        print(filename, temp_df.head())\n",
    "        df = pd.concat([df, temp_df], axis=0, sort=False)\n",
    "\n",
    "df.info()\n",
    "df.drop(columns=[df.columns[5]])"
   ]
  },
  {
   "cell_type": "code",
   "execution_count": 4,
   "id": "83010446",
   "metadata": {
    "pycharm": {
     "name": "#%%\n"
    }
   },
   "outputs": [
    {
     "data": {
      "text/plain": "                                           news_text  label\n0         Check Out What Whales Are Doing With NOC\\n      0\n1  What 7 Analyst Ratings Have To Say About North...      0\n2  7 Analysts Have This to Say About Northrop Gru...      0\n3  Benzinga's Top Ratings Upgrades, Downgrades Fo...      0\n5  Looking Into Northrop Grumman's Recent Short I...      1",
      "text/html": "<div>\n<style scoped>\n    .dataframe tbody tr th:only-of-type {\n        vertical-align: middle;\n    }\n\n    .dataframe tbody tr th {\n        vertical-align: top;\n    }\n\n    .dataframe thead th {\n        text-align: right;\n    }\n</style>\n<table border=\"1\" class=\"dataframe\">\n  <thead>\n    <tr style=\"text-align: right;\">\n      <th></th>\n      <th>news_text</th>\n      <th>label</th>\n    </tr>\n  </thead>\n  <tbody>\n    <tr>\n      <th>0</th>\n      <td>Check Out What Whales Are Doing With NOC\\n</td>\n      <td>0</td>\n    </tr>\n    <tr>\n      <th>1</th>\n      <td>What 7 Analyst Ratings Have To Say About North...</td>\n      <td>0</td>\n    </tr>\n    <tr>\n      <th>2</th>\n      <td>7 Analysts Have This to Say About Northrop Gru...</td>\n      <td>0</td>\n    </tr>\n    <tr>\n      <th>3</th>\n      <td>Benzinga's Top Ratings Upgrades, Downgrades Fo...</td>\n      <td>0</td>\n    </tr>\n    <tr>\n      <th>5</th>\n      <td>Looking Into Northrop Grumman's Recent Short I...</td>\n      <td>1</td>\n    </tr>\n  </tbody>\n</table>\n</div>"
     },
     "execution_count": 4,
     "metadata": {},
     "output_type": "execute_result"
    }
   ],
   "source": [
    "df = df.drop_duplicates(subset=[\"Текст новости\"], keep=False)\n",
    "df.rename(columns={\"Цена до\": \"price_before\", \"Цена после\": \"price_after\", \"Дата\": \"date\", \"Время\": \"Time\", \"Текст новости\": \"news_text\"}, inplace=True)\n",
    "\n",
    "df[\"absolute_price_difference\"] = df[\"price_after\"] - df[\"price_before\"]\n",
    "df[\"percentage_price_difference\"] = df[\"absolute_price_difference\"] / df[\"price_before\"] * 100\n",
    "df[\"label\"] = np.where(df[\"absolute_price_difference\"] > 0, 1, 0)\n",
    "df = df[[\"news_text\", \"label\"]].copy()\n",
    "df.head()"
   ]
  },
  {
   "cell_type": "code",
   "execution_count": 5,
   "outputs": [
    {
     "name": "stdout",
     "output_type": "stream",
     "text": [
      "<class 'pandas.core.frame.DataFrame'>\n",
      "Index: 5173 entries, 0 to 667\n",
      "Data columns (total 2 columns):\n",
      " #   Column     Non-Null Count  Dtype \n",
      "---  ------     --------------  ----- \n",
      " 0   news_text  5173 non-null   object\n",
      " 1   label      5173 non-null   int64 \n",
      "dtypes: int64(1), object(1)\n",
      "memory usage: 121.2+ KB\n"
     ]
    }
   ],
   "source": [
    "df.info()"
   ],
   "metadata": {
    "collapsed": false,
    "pycharm": {
     "name": "#%%\n"
    }
   }
  },
  {
   "cell_type": "code",
   "execution_count": 6,
   "id": "4eaf0b52",
   "metadata": {
    "pycharm": {
     "name": "#%%\n"
    }
   },
   "outputs": [
    {
     "name": "stdout",
     "output_type": "stream",
     "text": [
      "The training dataset has 4138 records.\n",
      "The testing dataset has 69 records.\n"
     ]
    }
   ],
   "source": [
    "train_data = df.sample(frac=0.8, random_state=42)\n",
    "\n",
    "# Testing dataset\n",
    "test_data = df.drop(train_data.index)\n",
    "\n",
    "# Check the number of records in training and testing dataset.\n",
    "print(f'The training dataset has {len(train_data)} records.')\n",
    "print(f'The testing dataset has {len(test_data)} records.')"
   ]
  },
  {
   "cell_type": "code",
   "execution_count": 7,
   "outputs": [
    {
     "data": {
      "text/plain": "['Quantity Over Quality? Ben Affleck Questions Assembly Line-Style Of Streaming Giant Netflix',\n 'Will Amazon, American Airlines And Netflix Lead The Market Higher? How To Play This Key Trend',\n \"Why Nvidia Is This Investor's Highest Conviction Play Right Now\\n\",\n 'What Does Apple Have To Do With DexCom Stock Trading Lower?',\n \"What's Going On With Moderna Stock?\\n\",\n \"RingCentral 's Most Resilient Enterprise Segment Gives In To Demand Weakness, Analysts Flag Post Q4 Disappointment\",\n 'These 3 Companies Did Well On Singles Day, Cramer Says\\n',\n 'Mid-Day Market Update: Crude Oil Rises 2%; CorMedix Shares Drop Following Q1 Results\\n',\n 'How To Trade Apple Stock Heading Into Q4 Earnings',\n 'Elon Musk Has An Idea For A New Cologne, But You May Want To Think Twice Before Using It\\n',\n \"Terra's Mirror Protocol Suffers Another $2M Exploit\",\n \"Here Are Warren Buffett's Best Performing Dividend Stocks\",\n 'Why Amazon Shares Are Volatile Today',\n \"Tesla Refuses To Integrate Apple's CarPlay — You Can Do It Anyway\",\n 'Euro 2020 Group C Betting Preview And Picks\\n',\n 'Why Netflix Is Still The Content King\\n',\n \"Pfizer's Hospira To Call Back Hospital Anesthetics Due To Mislabeling\\n\",\n 'Expert Ratings for Amazon.com',\n 'Viral TikTok Video Shows You How To Deliver Perfect Shots Of Moon On iPhone 14',\n 'Why Xilinx Shares Are Rising Today',\n 'Elon Musk Offloads Incremental Tesla Shares, Taking The Tally For The Week To $5.7B\\n',\n \"2 AMD Analysts Turn Bullish: 'This Has Historically Been A Very Strong Buy Signal'\",\n \"If You Invested $1,000 In Disney 10 Years Ago, Here's How Much You'd Have Now\\n\",\n 'Cramer Advises Viewers On Palo Alto, Pfizer, Zillow And More\\n',\n 'Internal Documents Show Instagram Is Not Even Close To TikTok, Lags In Engagement: WSJ',\n \"Can Hugh Jackman's Return As Wolverine In Deadpool 3 Break These Box Office Records?\\n\",\n 'Enterprise Users Focused AI Firm Cohere Weighs Funding Round At Over $6B Valuation',\n \"If You Invested $1,000 In Amazon When It Launched The First Prime Day, Here's How Much You'd Have Now\",\n \"Intel Shares Hit 6-Month High As Chipmaker Replaces CEO Bob Swan With VMware's Gelsinger\\n\",\n 'A Strong Dollar And Looming CPI Report Appear To Be Unsettling Investors',\n \"Here's Why This Analyst Is Cautious On Amazon\",\n 'BELIEVE: Football Is Life And Ted Lasso Is Now In A FIFA Video Game\\n',\n \"This Investor Just Swapped Amazon Stock For Meta Platforms: Here's Why\",\n \"China Won't Be Making As Many Apple iPhones Anymore. Here's Who Will And If You Can Invest\",\n 'The Fate Of Twitter: Why Disney Or Amazon Could Make A Bid Following Elon Musk Stake',\n 'Tigress Financial Is Bullish On Apple - Read Why\\n',\n 'Could Earnings Mean Full Stream Ahead For Netflix Stock?\\n',\n 'Cramer Gives His Opinion On Enphase Energy, Advanced Micro Devices, More\\n',\n 'These Options Traders Think Nvidia Stock Is Going Higher\\n',\n \"Netflix Co-CEO Blasts Employee Anger On Dave Chappelle's 'The Closer,' Claiming Jokes Don't Create Violence Against LGBTQ People\\n\",\n 'You Ask, We Analyze: Why Advanced Micro Devices May Be Set To Bounce',\n 'Pinduoduo Finds Early Success in U.S. E-Commerce. Now Comes the Hard Part',\n 'Elon Musk Says Twitter Poll Had No Impact On Tesla Stock Sale\\n',\n \"Apple's Stock Continues To Push Higher After Breaking Out\\n\",\n \"Benzinga's Daily Brief On Trending Tickers For Feb. 10, 2022: GameStop, Twitter, Disney and More\",\n \"Benzinga's Top Ratings Upgrades, Downgrades For November 12, 2021\\n\",\n 'Evercore ISI Sees 44% Upside In Netflix, Reiterates Rating\\n',\n \"Oxford Lab Study Suggests AstraZeneca's COVID-19 Booster Works Against Omicron\\n\",\n 'Why Moderna Shares Dipped On Tuesday\\n',\n 'What Elon Musk Wants, Elon Musk Gets: A Twitter Edit Button May Soon Be A Reality\\n',\n \"'Bringing Back The Magic': 4 Disney Analysts React To The Mouse's Q1 Beat\\n\",\n 'More Than 1 In 10 People On Earth Subscribe To An Apple Service',\n \"Looking Into Walmart Inc's Recent Short Interest\\n\",\n 'Earnings Season On PreMarket Prep: Airbnb, AMD Find Support After Q1 Reports\\n',\n \"A Poop Emoji And A 'Call' To Action: Elon Musk's Advice For Twitter CEO On Fixing Spam\\n\",\n \"See Why COVAX, African Union Refuse To Buy More Moderna's COVID-19 Vaccine\\n\",\n 'What to expect with SQ stock earnings report\\n',\n \"Benzinga's Top Ratings Upgrades, Downgrades For January 24, 2023\",\n \"Twitter Has Not Responded To Russia's Request: Reuters\\n\",\n 'Advanced Micro Devices Whale Trades For March 15',\n \"After F-150 Lightning's Success, Ford Could Launch EV Versions Of These Models\\n\",\n \"'Fast Money Halftime Report' Picks For September 30\\n\",\n 'BofA Downgrades Hibbett On Lower Stimulus, Inventory Challenges\\n',\n 'Why Apple Stock Looks To Be Preparing For A Blue-Sky Run\\n',\n 'Apple Resumes Sales In Turkey, Albeit At 25% Premium\\n',\n 'The Chinese EV Invasion\\n',\n \"Is Apple Stock A 'Safe Haven' For Tech Investors? Here's What iPhone Demand Trends Show\\n\",\n \"Tuesday's Market Minute: First Trading Day of 2022\\n\",\n 'You Ask, We Analyze: Why Apple Stock May Remain Volatile Heading Into Fed Meeting, Monthly Opex\\n',\n 'How To Invest In Real Estate For As Little As $5\\n',\n \"Kevin O'Leary Bought Disney Shares Today And Plans To Buy More, Why The Stock Will Act As 'Protection' In 2022\\n\",\n 'Jim Cramer Is Retiring Apes For Good: His On-Again, Off-Again Relationship With AMC Investors\\n',\n 'China Warns Biden Not To Enforce Xinjiang Import Law: Report\\n',\n 'How Meta Platforms (FB) Made History In An Unexpected Way',\n \"Tesla's Shanghai Factory Remains Closed Amid Covid-19 Surge\\n\",\n 'Mastercard VP Draws Parallels Between Mass Crypto Adoption And Evolution Of Internet For Amazon To Work',\n \"What's Going On With Boeing Stock?\\n\",\n 'Netflix Is Now A Free Cash Flow Story: Analysts React To Q4 Earnings\\n',\n \"33 Stocks Moving In Wednesday's Mid-Day Session\",\n 'Why Roblox, Netflix And Meta Platforms Shares Are Falling\\n',\n 'How Pfizer Is Getting Into Cannabis With $6.7B Arena Pharma Deal\\n',\n \"'Halftime Report' Final Trades From Oct. 25: Illumina, JPMorgan, And More\",\n \"Here's How Much Warren Buffett Makes In Apple Dividends Annually\",\n '$1000 Invested In NVIDIA 15 Years Ago Would Be Worth This Much\\n',\n 'Nasdaq, S&P 500 Reverse Earlier Gains As European Energy Crisis Looms Large\\n',\n 'Why Pete Najarian Just Bought Apple Call Options\\n',\n \"'Halftime Report' Final Trades: Boeing, Fortuna Silver Mines And More\\n\",\n 'How The 2020 Presidential Election Could Impact Tech Stocks\\n',\n \"Beginning Investor? Here's How To Protect Your Portfolio In 2021\\n\",\n 'Apple, Disney, American Express, Microsoft Rally As Dow Jones Index Recovers Losses\\n',\n \"Warren Buffett: It's a Huge Structural Advantage Not to Have a Lot of Money\",\n 'EXCLUSIVE From Bitcoin 2022: How To Increase Liquidity, Efficiency In Cryptocurrency Markets\\n',\n 'Hollywood Keeps Films In Russian Theaters Despite Ukraine Invasion\\n',\n \"Netflix OKs Back-To-Back Sequels For 'Red Notice'\\n\",\n \"Semiconductor Chip Crisis Continues to Stimulate Chipmakers' Revenue: CNBC\\n\",\n 'Moderna Whale Trades For August 23\\n',\n 'Disney Adds Joe Biden Audio-Animatron To Hall Of Presidents Exhibit\\n',\n \"Amazon Stock Is Falling: What's Going On?\",\n 'Advanced Micro Devices Whale Trades For July 01\\n',\n \"Barclays Maintains Equal-Weight Rating for Apple: Here's What You Need To Know\\n\",\n 'Wall Street Loves AI: Goldman Expects A Shocking $7 Trillion Boost In Global GDP And Raises Targets For MSFT, CRM, ADBE',\n 'DNA Script, Moderna Team Up For On-Demand Vaccines and Therapeutics For DARPA\\n',\n 'Why Cirrus Logic Shares Are Getting Hammered After Apple Analyst Remarks',\n \"Why Elon Musk's Tesla Is Down Over 10% Since Wednesday\\n\",\n '9 Best 401(k) Stocks To Buy Right Now\\n',\n \"Apple Finally Discloses Resolving iPhone's Zero Day Vulnerability\",\n 'Boeing Whale Trades For September 20\\n',\n \"Wednesday's Market Minute: Sector Breakdown for 2021\\n\",\n \"A Look Into Walmart's Debt\\n\",\n 'Tom Brady Has His Next Career Lined Up Once He Retires From The NFL\\n',\n 'Will The Real Palantir Please Stand Up?',\n 'Mid-Afternoon Market Update: Nasdaq Jumps Over 200 Points; Crude Oil Down 3%\\n',\n 'Bowlero Lands SPAC Deal: Reopening, Media And Sports Betting Could Add Upside\\n',\n 'Cross-Border E-commerce Trader Zibuyu Files for IPO Despite Sinking Profits',\n 'BZ Chart Of The Day: Is AMD About To Break Out?',\n \"Disney And Imax Take In $500K For One-Day Screening Of Beatles' Rooftop Concert Footage\\n\",\n 'If Cathie Wood Is Correct, A $1,000 Bet On Roku Will Produce An 817% Gain By 2026\\n',\n 'Warren Buffett Turns 92: A Highlight For Each Decade Of His Life\\n',\n 'Zepp Health Stuck in Rut as Global Chip Shortage, Covid Weigh\\n',\n 'General Electric Announces Plans to Split Up into Three Companies\\n',\n \"As Elon Musk Joins Twitter Board, Analyst Sees 'Strategic Initiatives' Ahead; This Is 'Just Start of Musk's Involvement'\\n\",\n \"Why Boeing's Stock Could Be Headed To $260 If This Pattern Dominates\\n\",\n 'GM Voids Warranties As In-Demand Vehicles Are Getting Resold By Dealers: Should Tesla Do The Same?\\n',\n 'Why BofA Remains A Disney Bull Despite Disappointing Q4 Outlook\\n',\n \"Benzinga's Top Ratings Upgrades, Downgrades For January 6, 2022\\n\",\n 'This Are The 5 Largest European Stocks\\n',\n \"Amanda Knox Complains Matt Damon Film 'Stillwater' Rips Off Her Life\\n\",\n 'This Wedbush Analyst Talks AMC, Netflix And Other Stock Ideas In Hard-Hit Entertainment Sector\\n',\n 'If You Invested $1000 In This Stock 10 Years Ago, You Would Have $7,700 Today',\n 'Barclays Sees Apple Vulnerable To TAC Pressure From Google\\n',\n 'European Drug Regulator Gives 6-Week Time Frame For Opinions On Pfizer-BioNTech, Moderna COVID-19 Vaccines\\n',\n 'Report\\n',\n \"Here's How Much $100 Invested In NVIDIA 10 Years Ago Would Be Worth Today\\n\",\n 'Cramer Says General Electric Has A Portfolio Made For Biden\\n',\n \"Lockheed Martin's Sikorsky Bags H-60 Black Hawk Helicopter Contract From US Army\\n\",\n \"Amazon's Twitch Implements Major Layoffs; CEO Describes Decision As 'Incredibly Difficult'\",\n 'Apple Whale Trades For January 05\\n',\n 'Marvel Comics Debuts First LGBTQ Captain America\\n',\n 'Apple Working On iPhone Features To Detect Car Accidents: WSJ\\n',\n 'May The Force Be With Disney+: All The Star Wars Announcements At Star Wars Celebration\\n',\n 'Pfizer, Moderna Vaccines, Gilead Treatment In Focus As Health Firms Report Q3 Earnings\\n',\n \"Did You Catch A Glimpse Of The Bored Ape Yacht Club NFT During Super Bowl LVI? Here's What You Missed\\n\",\n \"Deadbeat SPAC: Donald Trump's Social Network Isn't Paying Its Bills. Is This The Final Setback?\\n\",\n 'Is Apple A Defensive Play? Why This Investor Is Buying More Stock\\n',\n 'Why This Legendary Tesla Investor Plans To Hold EV Stock For At Least 8 More Years\\n',\n \"What's Going On With Snap Stock?\",\n '15 Stocks To Watch During Russia-Ukraine Conflict\\n',\n 'Trump-Linked SPAC Has Traders Also Focused On These 6 Stocks\\n',\n 'Moderna Says COVID-19 Booster To Be Ready By August, But Dicey If Omicron-Specific Needed: Reuters\\n',\n 'United Airlines Ditches Cargo-Only Flights As Passengers Return\\n',\n 'What US Stocks Are The Largest Gainers In 2021?',\n 'Chief Executive Officer Of Moderna Makes $7.3M Sale\\n',\n 'New York Times Issues Twitter Mandate For Journalists\\n',\n \"Disney Debuts Trailer For LGBTQ Rom-Com 'Fire Island'\\n\",\n \"No, Elon Musk Isn't Staying In A Boxabl вЂ” Here's How Much His Main Residence In South Texas Cost\\n\",\n 'Russia Penalizes TikTok RUB 1.5M For Illegal Content: Reuters\\n',\n 'Top News In Fintech And Beyond For May 19, 2022',\n 'Why Nvidia And AMD Shares Are Surging Today',\n \"New Tools In Troika's Toolbox? Converge Acquisition Could Lower Customer Acquisition Costs\\n\",\n \"36 Stocks Moving In Monday's Mid-Day Session\\n\",\n 'Twitter Earnings Preview\\n',\n 'Disney CEO Chapek In Damage Control Mode Ahead Of Workforce Walkout\\n',\n \"Full Speed Ahead? Xiaomi's Soaring EV Costs Raise Red Flag\",\n \"Apple Stock Attempts Break Up From This Pattern To Lead The Market Higher: What's Going On?\",\n 'Qudian Finds New Business Model in Buying Back Shares\\n',\n 'Arcturus Shares Shoot Higher After Additional Data From COVID-19 Vaccine Programs\\n',\n 'Parker-Hannifin Set To Gain EU Antitrust Approval For Meggitt Deal: Reuters\\n',\n \"Amazon Debuts Trailer For LGBTQ Romantic Drama 'My Policeman' Starring Harry Styles\",\n \"Spirit AeroSystems Analyst Turns Bullish, Sees 'Broader Aerospace Recovery'\\n\",\n 'Amazon Weighs Paring Back On Unprofitable Businesses Like Alexa; Introduces New Warehouse Robot To Cut Down On Lag',\n 'Russia Boycotts Oscars: A Look Back At Previous Wins, Incuding One For An Anti-War Film\\n',\n 'Analyst Ratings for Advanced Micro Devices',\n \"(WMT) - Analyzing Walmart Inc's Short Interest\\n\",\n '$100 Invested In This Stock 15 Years Ago Would Be Worth $3,400 Today',\n \"A Look Into Boeing's Debt\\n\",\n 'Ford Teams With GlobalFoundries On Semiconductor Manufacturing Pact',\n 'What Does The Sarah Lawrence College Sex Cult List And Wall Street Have In Common?',\n 'Tesla Chief Likely To Take Over As Temp Twitter CEO: CNBC\\n',\n 'Amazon Has Different Take On AI, Invites Applications From Global Generative AI Startups',\n \"Revlon, Kellogg's, Tesla, ASOS: Why are these 4 stocks trending?\\n\",\n \"Keybanc Maintains Overweight Rating for Walt Disney: Here's What You Need To Know\\n\",\n \"Ayr Wellness Gets Cannabis Dispensary License To Sell In Boston's Affluent Back Bay Neighborhood\",\n 'Qorvo May Trade At Discount Pending Diversification From Apple, Analyst Says While Downgrading Stock',\n 'What 4 Analyst Ratings Have To Say About Northrop Grumman\\n',\n 'Pete Najarian Buys Upside Call Options In Apple, Chevron And This Stock Up More Than 60% YTD\\n',\n 'Pfizer Starts Early-Stage Study Of Oral Antiviral COVID-19 Drug\\n',\n \"Lyft Shuffes Management: Analysts Address Whether This Is A 'Positive' Change\",\n \"Crypto Market Downturn Cools Ethereum's On-Chain Activity, Data Shows\\n\",\n \"Ticketmaster's Apple App Store Ranking Surges: What Does This Mean For Live Nation?\",\n 'Post-Holiday Jitters From China Rattle Market Early On—Fed Speakers, Key Data Could Contribute Later',\n 'Q1 13F Roundup: How Buffett, Einhorn, Ackman And Others Adjusted Their Portfolios',\n 'Why Teladoc Shares Are Trading Higher Today',\n 'Global Supply Shortages Have Exposed Weaknesses Inherent in This Critical Industry — Is There Another Way?',\n 'Merger Arbitrage Mondays вЂ“ Thoma Bravo Adds SailPoint Technologies To Its Portfolio And Approaches Twitte\\n',\n \"Options Trading: Boeing's Smart Money Trades For September 13\\n\",\n \"'Fast Money Halftime Report' Picks For September 29\\n\",\n \"Henry Blodget's Spectacular Amazon Call Came On This Day In Market History\",\n 'Why 7 Apple Analysts Say Investors Should Take A Bite Of The Stock After Q1 Blowout\\n',\n 'Apple Analysts See Production Issues As Transitory, Recommend Buying On Weakness Following Q2 Results\\n',\n 'Canadian Passenger Airline WestJet To Launch Freighter Division\\n',\n 'Mid-Day Market Update: Obalon Therapeutics Jumps On Merger News; Document Security Systems Shares Slide\\n',\n \"Fired Peloton Employees Crash CEO's Welcome Meeting\\n\",\n 'Is Now The Time To Buy Alibaba, Snap, Intel Or Nano Dimension Stock?\\n',\n 'Return on Capital Employed Overview: Boeing\\n',\n \"What Elon Musk's Twitter Deal Says About His Wealth\\n\",\n 'BZ Chart Of The Day: Where Will The Walmart Sell-Off End?\\n',\n \"Amazon Releases Title, Plot Details Of Upcoming 'Lord Of The Rings' Series\",\n 'Price Over Earnings Overview: Apple',\n 'Amazon Goes The Alibaba Way To Drive Sales Growth',\n 'Why AMD And Nvidia Shares Are Diving Today',\n 'Apple Inc. Climbs to Annual-High Share Price\\n',\n 'Disney Launches Fund To Create Jobs For Black Students In Media And Entertainment\\n',\n 'Apple Snaps This British Fintech In $150M Deal\\n',\n 'Insiders Including Co-founder Joe Gebbia, Selling Airbnb (ABNB) Despite The Recent Pullback\\n',\n '7 Of The Best Nasdaq Stocks to Buy On The Dip',\n 'Apple To Finance And Release Elizabeth Holmes Biopic Starring Jennifer Lawrence\\n',\n 'Northrop Grumman Stock Slips After Mixed Q3 Results, Weak FY21 Revenue Outlook\\n',\n 'Advanced Micro Devices Stock Analyst Turns Bullish On Cloud Data Center Potential\\n',\n 'Stock Market Pops After Latest Jobs Report, But New Data Shows Key Sectors Contracting',\n \"Analysis: Was Barclays' Disney Downgrade A Bad Call?\\n\",\n 'Amazon.com Whale Trades For October 26',\n 'This COVID-19 Vaccine Stock Quietly Soared 75% In April: Is There More Upside Ahead?\\n',\n \"Here's How Many Vehicles Lucid Group Produced, Delivered In Q3 вЂ” And How It Stacks Up To Rival EV Maker\\n\",\n 'Thinking About Buying Stock Or Options In Airbnb, GM, Bed Bath & Beyond Or Nike?\\n',\n \"Stephanie Link Exits Amazon Position: Here's Why\",\n \"Mid-Morning Market Update: Markets Open Higher; Moderna's COVID-19 Vaccine Shows 95% Efficacy In Phase 3 Trial\\n\",\n \"What's Going On With Donald Trump-Related Stock Digital World Acquisition?\\n\",\n 'Omicron Found In Wastewater At Florida County Home To Disney And Universal Parks\\n',\n 'Walmart Takes Stake In This Rancher-Owned Beef Company In Nebraska\\n',\n 'BZ Chart Of The Day: AMD Tests Critical Support',\n \"Project Veritas Founder James O'Keefe Files Defamation Suit Over Twitter Ban\\n\",\n 'With Pfizer-BioNTech Vaccine Rollout Underway, Investors Also Encouraged By Stimulus News\\n',\n 'Why Apple, Microsoft And PayPal Shares Are Falling Today\\n',\n \"Dorsey Defends Twitter Censorship To Congress: 'Our Team Made A Fast Decision'\\n\",\n 'Stock Wars: AstraZeneca Vs. Pfizer\\n',\n \"EXCLUSIVE: NFT Experts On What's Hot For 2022: Predictions, Coinbase Launch, NFL NFTs And More\\n\",\n 'Major Apple Supplier Taiwan Semiconductor Raises Capital Again Amid Odds\\n',\n 'BofA Downgrades This Defense Contractor, Cuts Price Target By ~15%\\n',\n 'Pixar Employees Accuse Disney Brass Of Censoring LGBTQ Content: Report\\n',\n 'Mammoth Freighters Invests In Aerospace Firm To Jump-Start 777 Conversions\\n',\n 'Flora Growth To Launch Hemp Shoes And Clothes On Popular Zulily E-Commerce Platform\\n',\n 'Golden Globes To Proceed This Weekend Without Celebrity Presenters\\n',\n 'How Mainstream Industries Can Adapt To The New Web 3.0 Reality\\n',\n 'Why Tesla Stock Is Surging Today\\n',\n 'AI Will Drive 25% Of GDP In 10 Years, Says Analyst: Which Company Will Emerge The Winner?',\n \"Facebook Parent Takes 'Step Forward' With Metaverse, Quest Pro Plans: Gene Munster\\n\",\n 'Global Dividend Payouts Rise In 2021 As Apple, Microsoft, Exxon Mobil And AT&T Lead The Way\\n',\n 'Boeing Delivers 95 Aircraft In Q1\\n',\n \"These 3 Dividend Yielding Stocks Are Warren Buffett's Top-Owned Positions In Berkshire\\n\",\n 'Why Disney Shares Are Popping Off\\n',\n \"A Bearish Sign Appears On Advanced Micro Devices's Chart\",\n \"Investing In Apple During The Bear Market? Here's The History, What To Watch And Methods To Enter\",\n 'Hut 8 Mining Shares Pop On Solid Q3 Results, Surpasses Bitcoin Reserve Goal\\n',\n \"Tesla Removes About 80 Miles Of Customer's Available Battery Capacity Via Software Restriction\\n\",\n \"Apple's VR Headset Might Be Its Biggest Flop in Decades — Here's Who the Real Winners Will Be\",\n 'Amazon Begins Laying Off Employees In An Effort To Strengthen Cost Structure',\n \"Predator Prequel Prey Beats The Kardashians: Here's What The Hulu Record Could Mean\",\n 'This Coal Stock Has A Better 1-Year Return Than Nvidia, Ford, Starbucks, Tesla, Bitcoin And Ethereum\\n',\n \"4 Stocks To Watch When Apple Launches New iPhone At 'Far Out' Event\",\n 'Surviving The Worst First Half For Stocks In Sixty Years: How The Hedged Portfolio Method Performed.\\n',\n \"'Halftime Report' Final Trades: Goldman Sachs, Best Buy And More\\n\",\n 'Move Over Pikachu, Is It Time To Catch LeBron James? Pokemon Go Maker Plans New NBA Game',\n \"Traders' Picks For CNBC's 2022 Stock Draft, 'Fast Money: Halftime Report'\",\n '$100 Invested In This Stock 10 Years Ago Would Be Worth $2,100 Today\\n',\n 'Why AstraZeneca And Pfizer Shares Are Moving Today\\n',\n \"Twitter Tests 'Undo Send' Feature For Subscription-Based Users: Reuters\\n\",\n \"CBOE's Weekly Market Recap: August 1 To August 5\",\n 'How Do Chipmakers Avoid The China Bans? Nvidia Might Have Something Up Its Sleeve',\n \"Pfizer/BioNTech's COVID-19 Vaccine Can Prevent Asymptomatic Infection, Study Shows\\n\",\n 'Disney Pays $3B For India TV Rights To Indian Premier League Cricket',\n \"Amazon.com To $180? Here's The Biggest Price Target Changes For Friday\",\n 'Love Hemp Group Shakes Up Management Team\\n',\n 'Why Moderna Stock Is Moving Lower Today\\n',\n 'Why AMD Shares Are Getting Hammered Today\\n',\n 'Is Apple Stock Due To Cool Off And Consolidate Again?\\n',\n \"What's Happening With Boeing Stock Today?\\n\",\n 'Oil Tanker Collides With Tanker Off Chinese Coast, Spilling Contents Into Yellow Sea\\n',\n 'Wells Fargo Expresses Caution Over Qualcomm - Read To Know\\n',\n \"Netflix In Court Over 'The Queen's Gambit': What You Need To Know\\n\",\n 'Mike Khouw Sees Unusual Options Activity In Netflix\\n',\n \"What's Going On With Celsius Holdings Stock Today?\",\n \"FDA Says Current Dose Of GSK-Vir's COVID-19 Therapy Unlikely To Work Against Omicron Subvariant\\n\",\n \"Benzinga's Top Ratings Upgrades, Downgrades For January 31, 2022\\n\",\n \"Tuesday's Market Minute: New Year, New Realities for Tech Giants as Layoffs Persist\",\n '6 Books Elon Musk Has Been Reading, And Why He Prefers Video Games Over Books\\n',\n 'T-Mobile Collaborates With Apple In Its Bid To Extend Consumer Benefits\\n',\n \"Amazon's Physical Stores Ambition Trails Expectations; Tigress Financial Sees 53% Upside\",\n 'Why Do Teladoc Health Investors Stand Divided? Bank Of America Analyst Weighs In',\n 'Disney Announces (Then Retracts) R-Rated Film From Streaming Platform',\n 'Check Out What Whales Are Doing With Twitter\\n',\n '$1000 Invested In Nike 5 Years Ago, Would Be Worth This Much\\n',\n 'Oil Trading Higher On Hurricane Supply Woes, Stronger Demand\\n',\n 'Chart Wars: Between Nvidia, Taiwan Semiconductor, Which Stock Looks Set To Fly Higher?\\n',\n \"3 Of 2020's Best ETFs: A Clean Active Bunch That Can Rally Again In 2021\\n\",\n 'Netflix Flashes Caution Light For Investors In These Stocks\\n',\n \"$tar Coin's New Brand Ambassadors: Mark Thomas, Nick Merico, Nashla Aguilar, MoonTellThat, And Tavo Betancourt\\n\",\n \"Here's How Much You Would Have Made Owning Netflix Stock In The Last 10 Years\\n\",\n 'Airlines Expect Turbulent 2021 After 2020 Erased Two Decades Of Passenger Traffic Growth\\n',\n 'Cinedigm Expands Into Horror Genre With Screambox Acquisition\\n',\n 'Explosive Growth: Smart Homes And The Internet-of-Things',\n 'Why NVIDIA, AMD And Micron Shares Are Falling Today',\n 'Does A Closer Look At Nvidia Stock Reveal Long-Term Weakness?',\n \"This Stock Has Fallen 35% YTD And Is Now 'The Definition Of Quality On Sale'\\n\",\n 'Death Cross Looms Over Moderna Investors\\n',\n \"'Halftime Report' Final Trades: Netflix, Facebook And More\\n\",\n \"AMD Analysts Cut Price Targets After Chipmaker Lowers Guidance, But 'Long-Term Opportunity' Remains\\n\",\n 'Joe Exotic Is Dumped By Prison FiancГ©: The Latest Romantic Angst From Behind Bars\\n',\n \"Why Apple Shares Are Diving Following Snap's Warning\\n\",\n \"Elon Musk's Iron Fist, 'It's Complete Terror' Says Expert Vs. Tim Cook's Consistent, More Tempered Approach\",\n \"Here's Why This Analyst Slashed 2025 Revenue Estimates For Alphabet, Meta, Snap, Twitter\\n\",\n \"Here's How Much You Would Have Made Owning Amazon.com Stock In The Last 5 Years\",\n \"Floyd Mayweather Could Make More in Logan Paul Fight Than Michael Jordan's Career NBA Salary\\n\",\n \"A Congress Member Sold Up To $100K In Amazon.com Stock: Here's What You Need To Know\",\n 'Thanos Snap: Could Disney Lose Avengers? What Investors Should Know About Comic Book Lawsuit\\n',\n \"Wednesday's Market Minute: Bulls Are Hoping This Five-Year Trendline Breaks\",\n 'Amazon.com Unusual Options Activity For January 04',\n \"13 Best Wendy's Roasts In Honor Of National Roast Day: 'Top Drink Of Choice For When You Hate Yourself'\\n\",\n \"Amazon Flies Higher On Break From This Pattern: Here's Why $109 Could Be In The Cards\",\n \"Why Verona Pharma Is Trading Higher By Around 84%, Here Are 85 Stocks Moving In Tuesday's Mid-Day Session\\n\",\n 'Apple Seeks To Raise Money Via Debt For Buyback And Dividends\\n',\n 'Why Is PolarityTE Stock Up 85% Today?\\n',\n \"Apple Is Running 'The Greatest Business In The History Of Planet Earth,' But Is Its Stock Overvalued?\",\n 'ASL Orders Up To 20 Additional 737-800 Boeing Converted Freighters\\n',\n 'GlobalFoundries Is At The Right Place, At The Right Time, BofA Says\\n',\n \"Nvidia Stock Is Rising Today: Here's Why\\n\",\n \"Apple's Halloween And Investor Fears Does Not Scare This Analyst\\n\",\n \"Here's Why This Analyst Initiated Coverage On Applovin, ironSource, Unity Software\",\n 'Why These Nike Investors Are Cautious Ahead Of Earnings\\n',\n \"A Look Into Pfizer's Price Over Earnings\\n\",\n \"Credit Card Startup Poach Apple Card's Head, Former Barclays Veteran For Key Leadership Roles\",\n \"VR Industry Woes Continue As Apple's VR Headset Rumored To Have More Delays\",\n 'Why AMD Stock Is Rising Today',\n 'Tesla And Mastercard Beating Estimates But Not Beating By Enough For Investors\\n',\n \"Boeing's Stock Is Entering Do-Or-Die Time\\n\",\n \"Tuesday's Market Minute: Goodbye, January\\n\",\n 'Mid-Day Market Update: Dow Tumbles Over 800 Points; DLocal Shares Surge\\n',\n 'Steve Jobs Was The Master Of Unveiling Apple Products: This Was His Secret For Leaving Audiences Awestruck',\n \"Twitter, Delta Air Lines And 45 Stocks Moving In Wednesday's Mid-Day Session\\n\",\n 'Exclusive: Roundhill MVP First Pure-Play Sports ETF Offers Growth, SPACs, Exposure To NFTs\\n',\n 'Trading Card Company Sells Out Memorabilia Card Featuring Will Smith, Chris Rock: Here Are The Details\\n',\n \"'Halftime Report' Final Trades: Moderna, Zoom Video And More\\n\",\n 'The Highest-Paid Woman CEO Is Not A Banker: The Answer May Enrage Californians',\n 'Apple Enters BNPL Sector, Unveils Apple Pay Later',\n 'Thinking About Buying Stock In Tesla, Zoom, Nike, Bank Of America Or Airbnb?\\n',\n \"From Cannabis Killing 100% Cancer Cells To Snoop Dogg Microwaving His Blunts: Benzinga's Most-Read Marijuana Stories In 2022\",\n 'Someone Just Paid More For A First-Generation Apple iPhone Than Price Of Tesla Model Y',\n 'Analyst Ratings for Amazon.com',\n \"Jim Cramer Sold About Half Of His Walmart Stock Today: Why He Realized The 'Disappointing Loss'\\n\",\n \"What's The Deal With #CashAppForHotties And Megan Thee Stallion?\\n\",\n \"Twitter's Big Money Trades Spotted\\n\",\n \"What's Going On With Disney Stock Today?\\n\",\n 'Netflix Dives Deeper In Gaming With Latest Acquisition\\n',\n \"EXCLUSIVE: 'I Don't Want To Be Elon Musk' Or The Tesla Of Weed, Says Tilray CEO\",\n '$100 Invested In This Stock 20 Years Ago Would Be Worth $1,200 Today',\n 'Boeing Whale Trades For February 10\\n',\n 'China Bounces Up, Volumes Super Low',\n 'Nike Just Did It Despite Supply Chain Constraints\\n',\n 'Microsoft Security Head Zeroes On AI For Cybersecurity At Q&A Session; Pitches For Multi-Cloud',\n 'Health Care Sector Appears to Be a Drag on Positive UnitedHealth Earnings\\n',\n 'Disney+ Launches Streaming Service In South Korea And Taiwan\\n',\n \"Analyst Says This MedTech Giant Stock Offers 'Too Much Optionality,' Upgrades Rating\",\n 'Pfizer Whale Trades For April 20\\n',\n 'Apple Leans Towards TSM To Reduce Reliance On Qualcomm\\n',\n 'Poolsuite NFT: Is This The First NFT To Get Apple Wallet Integration?\\n',\n 'What 16 Analyst Ratings Have To Say About Nike\\n',\n \"Why This Target Analyst Says Retail Stocks Could Experience 'Upward Bias' In Months Ahead\\n\",\n 'Wix Shares Pop On New Integration With Amazon',\n 'Why Boeing Shares Are Rising\\n',\n \"Why Luminar Shares Are Rising Today and What's Its Connection To Apple Car?\\n\",\n \"Why This Investor Thinks Amazon's Stock Is Well Positioned Ahead Of Earnings\",\n \"If You Invested $100 In Netflix 20 Years Ago, Here's How Much You Would Have Today\\n\",\n 'Jon Najarian Sees Unusual Options Activity In AMD And Marathon Digital Holdings\\n',\n \"Monday's Market Minute: From Non-Farm Payrolls To Inflation Figures\\n\",\n 'Jonah Lupton To Host 2021 FinTwit Conference: What You Need To Know\\n',\n 'Elon Musk Says Psychedelics Should Be Seriously Considered For Therapeutic Uses, Leading Chorus Of Celeb Support\\n',\n \"Mixed Earnings Reports From Lowe's And Target Keep Retailers In The Forefront\\n\",\n 'KULR Receives Follow-On Order From Lockheed Martin\\n',\n \"Thursday's Market Minute: Earnings Are Strong As Ever\\n\",\n 'MDA Partners With Lockheed Martin, General Motors On Lunar Rover Development\\n',\n \"Formula 1 Had A Huge 2021 With Viewership, Race Growth: Here's What's In Store For 2022 (Including US Expansion)\",\n 'Madea Is Back And Netflix Has Got Her\\n',\n 'YouTube TV Warns Subscribers They Could Lose Disney Channels This Week\\n',\n 'JPMorgan Sees Big Jump In Apple Gaming, Music Revenue',\n \"Moderna's CEO Outlines Its Non-COVID Pipeline View\\n\",\n 'Kroger Partners With NVIDIA For AI Services\\n',\n \"Snap Stock Is Sliding Thursday: What's Going On?\",\n 'Why The Best Outcome For Intel Shareholders Is To Break Up The Chipmaker\\n',\n \"BMO Capital Maintains Outperform Rating for Walmart: Here's What You Need To Know\\n\",\n 'New Quarter Feels Familiar As Stocks Wobble Amid Lack Of Momentum Ahead Of Jobs Data\\n',\n \"What's Happening With AMD Stock Today\",\n \"Is Apple Stock A 'Safe Haven' For Tech Investors? Here's What iPhone Demand Trends Show\",\n '5 AMD Analysts Weigh In On Blowout Q1 Earnings: Why 2 Reduced Price Targets\\n',\n \"Why Hindenburg Research Is Shorting Twitter: 'Musk Holds All The Cards'\\n\",\n 'Why Netflix Stock Is Falling Today\\n',\n 'Disney Roped In Google Veteran As Streaming CTO\\n',\n 'Amazon To $175? Plus JP Morgan Cuts Price Target On Meta Platforms',\n \"Here's Why AMD Shares Are Getting Crushed\\n\",\n 'Boeing 737 Max Returns To Skies With American Airlines, 2 Years After Deadly Crashes\\n',\n \"If You Invested $100 In Bitcoin, Ethereum, Apple, Microsoft, Tesla And AMC In March 2020, Here's How Much You'd Have Now\",\n 'Why Amazon, Meta Platforms And Microsoft Shares Are Falling Today',\n 'AMD Completes Xilinx Acquisition: All You Need To Know',\n \"As Apple Continues In This Trend, Here's How To Play It Bull And Bear\\n\",\n \"Amazon Pull Brakes On Corporate Recruitment; Plans To Hire 'Meaningful' Number In 2023\",\n 'Goldman Sachs Under Expanded Investigation For Its Credit Card Business',\n 'How Much Stock Did Amazon Chief Andy Jassy Get Awarded In FY22? The Answer Is Surprising',\n 'A Pair Of New ETFs Make Avoiding Losers Top Priority\\n',\n \"Goldman Sachs To Offer 'Full Spectrum' Of Investments In Cryptocurrencies\\n\",\n \"Jeff Bezos Says 'No, No, No. You're The Boss': How Amazon Founder Avoids Yes Men, Gets True Opinions From Employees\",\n \"5 Biogen Analysts On FDA Approval Of Alzheimer's Drug Aduhelm, Broad Label, Pricing\\n\",\n 'Moderna Debuts In S&P 500, Institutions Buy Billions Worth Of Stock\\n',\n 'After Workplace Safety, Pay And Unionization Concerns, A Study Claims Amazon Is Hiring Hazardous Trucking Companies',\n 'Apple Introduces Apple Watch Series 8, Watch SE And New Ultra Edition\\n',\n 'Dow 30,000: What To Do If The Next Stop Is Down\\n',\n \"Why Netflix's Stock is Trading Higher Today\\n\",\n 'Elon Musk, Jeff Bezos & Richard Branson: Which Billionaire Will Bring The Space Race Ethos To The Cannabis Industry?',\n 'Pete Najarian Sees Unusual Option Activity In Disney And BP\\n',\n 'Netflix Producing New Series About The Launch Of Spotify: What You Need To Know\\n',\n \"World's Richest Person Jeff Bezos Thanks Amazon Workers, Customers For Paying For His Space Trip\\n\",\n 'Why Nvidia Stock Could Surpass $300 On A Break From This Pattern\\n',\n 'Mid-Morning Market Update: US Markets Open Lower Amid Russian Military Action In Ukraine\\n',\n 'Pete Davidson In Talks To Host Oscars Telecast: Report\\n',\n 'Meta and Qualcomm MissвЂ” Will Tech Investors Shrug Off These Reports Too2022-07-27 15:09:02 154.699997 158.770004  4.0  2.6 This Is What Whales Are Betting On Moderna\\n',\n 'AMD, SolarEdge Technologies And Some Other Big Stocks Moving Lower On Wednesday',\n 'Why Jim Cramer Is Buying More Disney Stock Today\\n',\n 'Moderna Analysts On Positive Coronavirus Vaccine Data, Revenue Potential\\n',\n 'Short-lived Rally\\n',\n 'Europe Purchases Additional 150M Doses Of Moderna COVID-19 Vaccine\\n',\n \"Amazon's New In-House AWS Inferentia Chip Could Boost Cloud Business: Analyst\",\n 'Why Michael Binger Likes Micron\\n',\n \"Newell's NUK Launches Sustainable Baby Products\\n\",\n \"'The Biggest Risk Is Not Taking Any Risk': 3 Inspiring Quotes From AMD Boss Lisa Su On Business And Life\",\n 'BlueWalker 3 Successfully Reaches Orbit On SpaceX Launch: Why AST SpaceMobile Stock Is Rocketing Higher\\n',\n \"Disney Downplays Chinese Blocking Of Films: Problems 'Will Eventually Iron Themselves Out'\\n\",\n 'Rising Oil Prices Could Threaten Positive Inflation Outlook\\n',\n 'Amazon.com Whale Trades For September 26',\n 'Why Global Travel Trends Are Turning This Boeing Analyst Bullish\\n',\n \"Peering Into Tesla's Recent Short Interest\\n\",\n \"Will Elon Musk Buy YouTube To Tackle 'Nonstop Scam Ads?'\\n\",\n 'BZ Chart Of The Day: Is It Time To Sell Moderna?\\n',\n \"Monday's Market Minute: Three Things to Watch This Week\\n\",\n \"Amazon Inks Pact To Stream Content From India's Government-Run Studios\",\n \"Benzinga's Top Upgrades, Downgrades For November 4, 2020\\n\",\n \"Here's How Analysts View Nvidia Ahead Of Its Quarterly Results\",\n '10 Most Prominent Banishments From Twitter: Donald Trump, MTG And More\\n',\n \"Tesla's Stockpile Of New 4680 Battery Packs Is Increasing\\n\",\n \"Here's Why Apple Shares Are Rising Today\",\n 'Will The New iPhone 14 Drive Apple Stock To New Highs?\\n',\n 'This Analyst Says US Government Buying More COVID-19 Vaccines At Higher Prices\\n',\n \"Benzinga's Top Ratings Upgrades, Downgrades For July 29, 2022\\n\",\n \"Boeing, FuelCell And Sunrun Stocks Defy S&P 500, Move Higher: What's Next?\\n\",\n \"Qualcomm Finds Way To JPMorgan's Analyst Focus List\\n\",\n 'Mid-Morning Market Update: Markets Open Higher; Morgan Stanley Beats Q4 Expectations\\n',\n 'Touchlight Inks Patent License Agreement With Pfizer\\n',\n \"Apple's Latest Move Establishes Its Conviction In Healthcare Tech - Brief Overview\\n\",\n 'AstraZeneca Analyst Flags Lack Of Details In Interim COVID-19 Vaccine Data\\n',\n 'Japanese Olympic Committee Uses Anime Characters To Promote Games, With Mixed Results\\n',\n \"Amazon Offers First Glimpse Of Footage From New 'Lord Of The Rings' Series\",\n 'Emirates Delivers First COVID-19 Vaccines To UAE\\n',\n \"Disney's 'Raya And The Last Dragon' Opens To Disappointing $8.6M Domestic Box Office\\n\",\n 'Android WhatsApp Users Can Exhale: A Major Bug That Exposed Data May Finally Be Fixed\\n',\n \"An Airbag For Avis: In Case We (and Bank of America) Are Wrong About The Rental Car Company's Prospects\\n\",\n 'How The Film Industry Will Honor Ukraine Next Month\\n',\n 'Target Looks Like It Might Break Out Of A Bullish Pattern\\n',\n \"'Halftime Report' Final Trades Of The Day: Disney, CDW\\n\",\n \"AMD: What The Street Is Saying Ahead Of Chipmaker's Q4 Print\\n\",\n \"Twitter Sues To Halt Texas AG's Probe Of Trump Ban\\n\",\n \"Target's Ripple Effect On Retail: Why Macy's Stock Is Moving Lower\\n\",\n 'iPhone 14 Pro Models Preorders Reflect Loyal and Sticky Customers Amid Economic Slowdown, Apple Analyst Says',\n 'Price To Earnings Ratio Insights For Lockheed Martin\\n',\n \"Here's Why Russia Looks To Partially Limit Facebook Access\\n\",\n 'AMD Analyst Projects Strong Start To 2021 For Chipmaker\\n',\n \"Apple Sidesteps Feds On Weed As Health App Doesn't Discriminate On Legality\\n\",\n \"Mizuho's Bullish Re-Rating On PayPal Had An Apple Connection - Read To Know\\n\",\n 'Amazon Of Africa, Jumia Relocates Top Management From Dubai To Africa: Report',\n \"After 38% Of Boy's Brain Was Removed, He Catches Up Peers Thanks To Marijuana: Mother Shares Experience\",\n \"Zipline's Drone Delivery Of Pharmaceuticals Earns $2.75B Valuation\\n\",\n 'Holiday Heroes: Shipt is Ready for Last-Minute Needs\\n',\n 'Mid-Day Market Update: Nasdaq Jumps 200 Points; AutoWeb Shares Slide\\n',\n 'UK Antitrust Watchdog Launches Probe On Amazon-iRobot Deal',\n \"Blac Chyna's $100M Lawsuit Against The Kardashians Begins: Report\\n\",\n \"Here's Why Advanced Micro Devices, Nvidia Stock Must Hold These Key Levels\",\n \"Meet LinaBell, The Most Popular Disney Character You've Never Seen (Unless You're In China)\\n\",\n \"BofA Hails Nvidia's Dumping Of Arm Takeover\\n\",\n \"Disney Ditches Theatrical Release Of 'Strange World' In France Citing 'Cumbersome' Cinema Rules\",\n 'Another Bear Week For Markets?',\n 'Twitter CEO Jack Dorsey Endorses HamsterCoin, Pushing The Crypto Up 252%\\n',\n 'Reported Omicron-Induced Surge in Stay-at-Home Stocks May Have Helped Propel Digital Health Investments Past $14 Billion\\n',\n 'Muslim Advocacy Group Sue Facebook For Failure In Controlling Anti-Muslim Hate Speech: Bloomberg\\n',\n 'Is Tesla Stock Fair Priced? This Analyst Thinks So\\n',\n \"Why Are People So Angry Over Nicki Minaj's Vaccine Tweets?\\n\",\n 'Apple, GameStop And Costco Stocks Continue In This Pattern: What To Watch\\n',\n 'Europe To Start Deliveries Of Pfizer/BioNTech COVID-19 Shot For Children One Week Ahead Of Plan: Reuters\\n',\n 'Wells Fargo Expresses Caution Over Qualcomm - Read To Know',\n 'Stock Wars: AMC Vs. IMAX\\n',\n \"Gina Sanchez: This Airline Stock Is 'Slightly Overvalued'\\n\",\n 'Mike Khouw Sees Unusual Options Activity In Twitter\\n',\n \"Who Is Parag Agrawal, Twitter's New Under-The-Radar CEO?\\n\",\n 'Wells Fargo Enumerates Several Bottlenecks For PayPal; Reiterates Overweight Rating\\n',\n \"Here's How Much You Would Have Made Owning Apple Stock In The Last 15 Years\\n\",\n 'Twilio Joins Other Tech Firms, To Axe 11% Of Its Workforce, Reaffirms Q3 Outlook\\n',\n \"Textbook Company's Results Show Students Are Hitting The Job Market Instead Of The Books\\n\",\n \"AMD Plunges, But Here's Why The Pullback Could Offer Opportunity\",\n \"Benzinga's Top Ratings Upgrades, Downgrades For February 1, 2021\\n\",\n \"Pfizer Shares Are Falling: What's Going On?\\n\",\n 'Blood Clot Risk After First AstraZeneca COVID-19 Shot Very Small - UK Study Shows\\n',\n '$100 Invested In This Stock 10 Years Ago Would Be Worth $700 Today\\n',\n 'Summarizing 2Q22 Internet App Data, Google Search Trends Analysis By Raymond James',\n \"You Ask, We Analyze: Here's The Bull And Bear Case For Advanced Micro Devices Stock\\n\",\n \"Moderna's COVID-19 Vaccine Becomes Second To Score Complete FDA Approval\\n\",\n 'European Demand For US Drones, Missiles Increases After Russian Invasion: Reuters\\n',\n \"Netflix Buys Roald Dahl Catalog, The Streaming Company's Largest IP Acquisition\\n\",\n 'Amazon.com Whale Trades For January 28',\n 'Android Vs iOS: Polarizing User Experience',\n \"Chinese Moviegoers Help 'Avatar' Regain All-Time Box Office Championship\\n\",\n \"'Halftime Report' Traders On Nvidia, Amazon\\n\",\n 'KeyBanc Warns Against Heavily Constrained Apple iPhone 13 Supply\\n',\n 'Why Are Netflix Shares Down 30% In 2022?\\n',\n '$100 Invested In This Stock 10 Years Ago Would Be Worth $2,100 Today',\n 'Amazon Workers Vote To Unionize Warehouse: What Does It Mean For The Stock?',\n 'Apple Launches iPhone 14, High-End Apple Watch, Emergency Satellite Capabilities And More: What Investors Need To Know\\n',\n 'Why This Nvidia Analyst Expects Strong Q2 Report\\n',\n 'This Shoe Company Has A Better 5-Year Return Than Apple, Netflix And Microsoft\\n',\n \"'If Elon Musk Wants To Buy Twitter, He Will': So Here's How To Trade It\\n\",\n \"What We Know About Trump's SPAC Deal, TMTG & DWAC\\n\",\n \"42 Stocks Moving In Tuesday's Mid-Day Session\\n\",\n \"What's Going On With Apple And Microsoft Shares\",\n \"'Uncharted' Fans Complain Of Nathan Fillion Not Being Cast In New Film Version As Nathan Drake\\n\",\n \"'Fast Money Halftime Report' Picks For May 20\\n\",\n \"A Bearish Sign Appears On NVIDIA's Chart\\n\",\n 'Is Jim Cramer Helping Fuel The AMC Entertainment Stock Rally? CEO Thanks The CNBC Host\\n',\n \"4 Alphabet Analysts Break Down Q2 Earnings: 'Google Remains Our Top 2021 FANG'\\n\",\n 'This Analyst Picks 6 Bullish, 2 Bearish Stocks In The Entertainment Sector: What Are They And What Investors Should Know\\n',\n 'S&P 500 Fully Recovers Bank Turmoil Losses, Nasdaq 100 Extends Further As Rising Jobless Claims Keep Rate Expectations In Check',\n \"Pershing Square SPAC Discloses Bill Ackman's Tweets; Could A Deal Announcement Be Coming?\\n\",\n 'Climbing the Wall: As Wall Street Considers Fresh Worrisome Economic Data, Stocks Head Lower',\n 'Where To Watch For The Bounce On Apple As The Stock Approaches Critical Zone',\n 'Merck Ahead Of Pfizer In Talks With Europe For COVID-19 Pills: Reuters\\n',\n 'Did Drake Make A Bad Bet? If These NFL Teams Win In Week 4, The Rapper Scores $2M',\n \"3 AMD Analysts Dissect Chipmaker's Q4 Earnings, Guidance Beat\\n\",\n \"Walmart Intensifies Rivalry With Google, Amazon By Targeting India's Budding Payments Market\",\n 'How Dogecoin Looks Following Elon Musk-Fueled Mini-Rally\\n',\n \"Benzinga's Top Ratings Upgrades, Downgrades For December 14, 2021\\n\",\n \"Why Affirm Stock Is Falling During Apple's 2022 WWDC\\n\",\n \"Here's Why Disney, Inovio, Fisker, Aurora, Hyliion Are Moving\\n\",\n 'Disney Analyst Slashes Profit Estimates To Factor In Content Sales Licensing Guidance, DTC Losses\\n',\n 'Levi Strauss, Tilray Brands And Some Other Big Stocks Moving Lower On Friday\\n',\n 'This Discount Store Stock Has A Better 1-Year Return Than Tesla, Microsoft, Apple And AMD',\n \"If You Invested $1,000 In AMD When It Unveiled Ryzen Lineup Of Processors, Here's How Much You Would Have Now\\n\",\n 'Gap Plans To Eliminate 500 Jobs: WSJ\\n',\n 'These 5 Experts See A Market Crash Ahead: What Do BZ Readers Think?\\n',\n 'Target: 5 Analysts Cut Price Target After The Retailer Lowers Guidance\\n',\n \"Nvidia To Launch World's Fastest AI System Later This Year As It Unveils New Supercomputer\\n\",\n 'Alaska Air Unveils Long-Ferm Forecast, Fleet Transition Plan\\n',\n \"Here's How Morgan Stanley Saw Apple's March App Store Growth\\n\",\n 'After Microsoft And Nvidia, This Major Apple Supplier Became Ransomware Target',\n \"A Preview Of Northrop Grumman's Earnings\\n\",\n \"Life After The iPhone: Why Apple's 'Next Big Thing' Could Be A $420B Business\\n\",\n 'Wall Street Crime and Punishment: Howard Hughes Vs. The SEC\\n',\n \"McDonald's Super Fan Celebrates Eating Bic Macs Every Day For 50 Years\\n\",\n \"Amazon Is Buying iRobot. How Does It Rank Against The E-commerce Giant's Other Big Acquisitions?\",\n \"Benzinga's Top Ratings Upgrades, Downgrades For January 18, 2022\\n\",\n 'Disney Analyst Raises Earnings Estimate, Says Investors Underappreciate Theme Park Recovery\\n',\n \"Here's The New Acronym From Jim Cramer Replacing FAANG\\n\",\n 'Walmart-Amazon Rivalry Likely To Heat As As Former Boosts Online Look To Grab More Eyeballs',\n 'Nvidia, AMD Benefit From New Products, Strong Gaming Cycle: BofA',\n '$1000 Invested In AMD 15 Years Ago Would Be Worth This Much',\n 'Starbucks Faces Chinese Boycott Calls After Store Was Rude To Police Officers\\n',\n \"Netflix Analysts Break Down Q3 Earnings: 'Solid Recovery With Large Content Launches Ahead'\\n\",\n \"Here's How Much Investing $1,000 In Apple When Trump Sold Would Be Worth Today\\n\",\n 'The COVID-19 Vaccine Makes Its Way to the UK\\n',\n 'Moderna Looks To Bounce At Support After Announcing New Africa Facility Plans\\n',\n \"Was WWE's WrestleMania 38 Bigger Than Super Bowl LVI? Here's What Social Media Data Says\\n\",\n 'Ryanair CEO Thinks Boeing Management Needs A Reboot: CNBC\\n',\n \"Jim Cramer Advises Against Buying This Stock: 'It's Just Not A High-Quality Enough Stock During This Period In The Cycle'\",\n \"What's Next After Pfizer Stock Powers Higher Tuesday?\\n\",\n \"Why This Investor Thinks Qualcomm Should Be Trading At $210 'Right Now'\\n\",\n \"If Moderna Is 'Executing Superbly' On Its COVID-19 Vaccine Portfolio, Why Is This Analyst Downgrading The Stock?\\n\",\n 'Is Now The Time To Buy BA Stock, CLSK Stock Or PARR Stock?\\n',\n \"UK's NICE Provisionally Rejects Coverage Of Pfizer-Merck KGaA's Bavencio As First-Line Therapy For Bladder Cancer\\n\",\n 'This Bullish Pattern Is Forming In Apple Stock After New iPhone, Watch, AirPods Launch\\n',\n \"Don't Like A Tweet? You Could Soon Downvote It: Here's What We Know\\n\",\n 'Citi Upgrades AMD To Neutral, Increased Price Target Implies 8.5% Upside\\n',\n '2 Hot Stocks Go Parabolic: Are Shares About To Be Slapped Down?',\n \"Why This Bed Bath & Beyond Analyst Thinks Ryan Cohen's Plan May Not Work: 'Pivot In Strategy Won't Fix This Business'\",\n \"What To Know About Twitter Fleets And How It's Like Snapchat, Instagram Stories\\n\",\n 'Who Is The Ghost Of Kyiv?\\n',\n 'What Are The Investors Doing With Advanced Micro Devices',\n \"What's Going On With Netflix Shares?\\n\",\n 'Earnings Continue With Johnson & Johnson, 3M Early, Followed By Microsoft Later\\n',\n \"As Warren Buffett Turns 92, Here's How His Top 3 Holdings Did Since His Last Birthday\\n\",\n \"Trade Options Like A Pro вЂ” Check NVIDIA's Big Money Trade\\n\",\n 'You No Longer Need A Big Portfolio Or Tons Of Cash To Start Investing In Commercial Real Estate',\n \"What's Going On With AMD, Nvidia And Applied Materials Shares?\",\n \"As AMD Trades In Record Territory, Here's A Look At The Chipmaker's Run To $100B Market Cap\",\n \"Looking Into Netflix's Recent Short Interest\\n\",\n 'Pfizer In Talks With Israel For New COVID-19 Vaccine Supply Deal: Reuters\\n',\n 'Mrs. Claus Tops Pornhub Naughty List For Most-Searched Christmas Characters\\n',\n \"CNBC's Final Trades: Costco, Moderna And These Plays On Travel Recovery\\n\",\n 'Southwest Airlines Finds A Bottom, Options Traders Bet On Bounce\\n',\n 'RBC Capital Cuts Meta Platforms Price Target By 3.6% - Read Why\\n',\n \"Analyzing Micron Technology's Unusual Options Activity\\n\",\n \"Neuberger Analyst Expects Strong Q4 Results For Apple, Amazon, Google: Why He Would Buy The Stocks 'Right Now'\",\n 'Microsoft Takes On Apple And Google, Plans Xbox Mobile Game Store On Heels Of Activision Blizzard Deal\\n',\n \"Pfizer-BioNTech's COVID-19 Booster Study Shows Robust Efficacy\\n\",\n \"Read How Children's Place Fared In Q1\",\n 'BZ Chart Of The Day: Apple Teaches Important Lesson\\n',\n 'Analysis: Why Is It So Difficult To Obtain COVID-19 Monoclonal Antibody Treatments?\\n',\n 'Nike Whale Trades For May 06\\n',\n \"Hot Stocks: 11 Tickers Moved By Traders on 'Fast Money Halftime Report'\\n\",\n 'Disney Sets April 11 Vaccine Mandate Deadline For Anaheim Park Employees\\n',\n \"Why Moderna's Stock Is Moving Higher Today\\n\",\n 'Nike Whale Trades For February 07\\n',\n \"Federal Court Declines Carole Baskin Effort To Halt Netflix's 'Tiger King 2'\\n\",\n \"Takeover Secured: Elon Musk, The World's Richest Person, To Buy Twitter For $44B\\n\",\n \"Pfizer And Harley Davidson Lead Out In Tuesday's Earnings With Different Results\",\n '$1000 Invested In Amazon.com 10 Years Ago Would Be Worth This Much Today',\n 'Could Donald Trump Use SPAC To Launch Social Media Or News Platform?\\n',\n 'Tech Sector Leads Tuesday Market Sell-Off: What You Need To Know\\n',\n \"Here's The Level Amazon Must Hold For This Bullish Pattern To Become Dominant\",\n \"EXCLUSIVE: Super League Gaming CEO Ann Hand On Debunking 'The Myth Of Who A Gamer Is'\\n\",\n 'This Biotech Is Working With Pfizer, Merck KGaA, Roche, and Other Leaders To Develop a Better Standard of Care for Breast Cancer\\n',\n 'Jobless Claims Jump, Signaling Softening Labor Market: What You Need To Know',\n 'The Latest Analyst Ratings for Amazon.com',\n \"Drone Giant DJI's Russia Halt Pressures Other China Big-Techs\\n\",\n 'Boeing Earnings Preview\\n',\n \"Facebook Parent Takes 'Step Forward' With Metaverse, Quest Pro Plans: Gene Munster\",\n 'AMD Momentum Continues Amid Share Gains, Product Superiority And Execution',\n \"Tesla Model Y, Model 3 Leave Other Cars' Sales In the Dust In California: Report\\n\",\n 'ROCE Insights For Netflix\\n',\n 'Two More Directors Depart from SoftBank Group: FT\\n',\n \"Boeing's PTO Forecasts Demand For 2.1M New Commercial Aviation Personnel\\n\",\n \"United Cargo's March Schedule Dented By Removal Of Boeing 777s\\n\",\n 'Walmart Whale Trades For June 16\\n',\n 'Analyst Ratings For Advanced Micro Devices\\n',\n \"As Bitcoin Regains The $50K level, Here's What 4 Analysts And Traders Are Saying\\n\",\n \"Want To Stream Saturday Night Live, Law & Order? You'll Soon Have To Switch From Hulu To This Platform\\n\",\n \"'Just Don't Do It': Analysts Slash Nike Price Targets Citing Inventory, China Concerns\\n\",\n 'Progress In Europe Is Now Measured By Degrees Of Pessimism\\n',\n 'This Chipmaker Has A Better 5-Year Return Than Amazon, Microsoft, Bank Of America And Wells Fargo\\n',\n \"4 Experts On What The 8.2% CPI Print Means For The Fed & The Markets: Could 'Supersize' Rate Hike Spark 'Rude Awakening'?\\n\",\n 'KeyBanc Recommended Owning Apple - Read Why\\n',\n \"Have The Walmart Heirs Been Selling Their Shares? Here's How Much They Still Own\",\n 'Notable Boeing Insider Makes $220K Sale\\n',\n \"3 Vaccine Plays That Aren't Biotech Companies, According To Cramer\\n\",\n 'Read Why Triumph Shares Are Trading Higher Today\\n',\n 'Who Will Be The Next To Stock Split After Amazon.com?',\n \"KeyBanc Sees Semiconductors' Recessionary Fears Largely Priced In; Gives Out Top 5 Picks\",\n 'Netflix Finally Shifts Focus To Mass Entertainers\\n',\n 'When Can Elon Musk Sell Tesla Shares? Could More Shares Be Unloaded To Finance Twitter Acquisition?\\n',\n 'This Day In Market History: Apple Introduces The iPhone',\n 'Dow Dips 450 Points; Crude Oil Falls Sharply',\n 'GlobalFoundries Is At The Right Place, At The Right Time, BofA Says',\n 'Why Boeing Shares Are Falling Today\\n',\n 'Why This Netflix Analyst Says Bear Thesis Is Building\\n',\n 'NFL, Twitter Extend Partnership In Multi-Year Deal Involving Twitter Spaces\\n',\n 'Boeing Tests Suppliers On 787 Output Hikes: Reuters\\n',\n 'Cramer Advises Viewers On CVS Health, Cheesecake Factory, More\\n',\n 'Mid-Day Market Update: Crude Oil Jumps 9%; GoodRx Holdings Shares Plunge\\n',\n 'Stifel Analyst Provides Insight On Bullish Netflix Outlook\\n',\n 'Why Nikola Shares Are Rising\\n',\n \"Tuesday's Market Minute: Nike (NKE) Earnings Breakdown\\n\",\n 'How This Investor Is Using Options To Supplement His Moderna Position\\n',\n 'Into Marathon\\n',\n \"Analysis: Will Elon Musk's Twitter Kowtow To Chinese Communist Party Influence?\",\n 'This Chicken Wing Stock Has A Better 5-Year Return Than Disney, Netflix, Ford And Amazon',\n 'RBC Segregates Walled Garden Advertisers Like Amazon, Google From Open-Internet Players Like Magnite, PubMatic, Tremor & Trade Desk',\n 'Pfizer Commences Dosing In Pivotal Oral COVID-19 Drug Trial\\n',\n \"Benzinga's Top Ratings Upgrades, Downgrades For February 9, 2022\\n\",\n 'Texas Republican Seeks To Drop No-Fly-Zones Over Disney Theme Parks\\n',\n \"Michael Pollan's 'How To Change Your Mind' Coming Soon To Netflix: Documentary Based On Psychedelics Best Seller\\n\",\n \"Omicron Casts a Shadow Over Salesforce's Better-Than-Expected Q3 Results\\n\",\n \"AMD Likely To Gain Share In 4Q As Intel's Gains Reverse, Analyst Says While Seeing Correction In 1H23\",\n \"Why Josh Brown Says CrowdStrike Will 'Continue To Win' In Cybersecurity\",\n \"'Halftime Report' Final Trades: CVS, Moderna And More\\n\",\n 'Gracell Bio Shares Tumble as Investors Blow Hot, Cold Over Its Cutting-Edge Cancer Treatment\\n',\n 'Foghorn Therapeutics Shares Surge\\n',\n \"Here's Why BofA Calls Roblox 'Category Leader' In The Emerging Metaverse Media Category\",\n 'What Could A Salesforce NFT Cloud Mean?\\n',\n 'Expert Ratings for Advanced Micro Devices\\n',\n 'You Ask, We Analyze: Why Array Technologies Stock Looks Set For New Highs',\n \"Roku Ropes In Stitch Fix's Dan Jedda As New CFO; The Former Amazon Veteran Succeeds Steve Louden\",\n 'DoorDash Implements AI Robots For Smarter, Safer Workplace\\n',\n 'MONDAY MARKET UPDATE - Jackson Hole Thursday, Powell Friday @ 10 a.m.',\n 'Is A Rivian Electric Bike On The Horizon? What Investors Should Know About New Trademark',\n 'Why AMC Shares Are Rising\\n',\n \"What's Driving The Action In Nvidia Stock Today?\\n\",\n 'Unprecedented Numbers Of Residential Homebuyers Bailing On Offers\\n',\n 'Nvidia Stock Follows AMD Higher, Breaks Through Heavy Resistance: A Look At The Chart',\n 'Why Walmart Stock Is Sliding Today\\n',\n \"6 Amazon Analysts React To Q2 Earnings Report: 'Our Top '22 FANG Stock'\",\n 'BrightDrop Secures Orders From FedEx Express, Walmart, as EV Business Accelerates\\n',\n 'Analysis: Will The Real Elon Musk Please Stand Up?\\n',\n \"'Halftime Report' Final Trades: AMD, Wingstop And More\\n\",\n \"EXCLUSIVE: Genius Brands CEO Andy Heyward Talks Kartoon Channel Plans And More On 'Power Hour'\\n\",\n \"Twitch Executives Say It's The Best 'Time To Start Streaming' Despite Recent Controversies: What Do Twitch Creators Think?\",\n \"What Stocks Does 'The Big Short' Investor Michael Burry Own?\\n\",\n 'Why Nvidia And Micron Shares Are Rising Today\\n',\n \"'James Bond Meets Scarface With A Little Indiana Jones': New John McAfee Documentary Hits Netflix\\n\",\n 'Top-Performing Hedge Fund In 2022 Has This Strategy To Thank: How Much Did It Make Last Year?',\n 'CNBC Fast Money Favorites: AMD, CVS, And One Of The Worst Performers In The S&P 500 Today',\n 'Bavarian Nordic Launches COVID-19 Booster Study To Compare Against Pfizer/BioNTech Shot\\n',\n 'Cannabis Industry Salary Report: Increased Demand For Top Talent As Salaries Continue To Surge\\n',\n '5 Things You May Not Know About Google Doodle Subject Shirley Temple\\n',\n \"Apple Sidesteps Feds On Weed As Health App Doesn't Discriminate On Legality\",\n \"What Does Amazon.com's Debt Look Like?\",\n 'Meet Everyrealm, The Virtual Land Company Backed By Coinbase, Dapper Labs, Will Smith, The Weeknd And Even More Celebrities\\n',\n \"'Wait Until The Interview To Make A Decision': Peloton CEO Will Be On Cramer's 'Mad Money' Tonight\\n\",\n \"Amazon Is A Top September Stock Idea From JPMorgan: 'Full Speed Ahead'?\",\n 'Lululemon Launches Footwear Collection: What Investors Should Know\\n',\n \"12 Health Care Stocks Moving In Friday's Pre-Market Session\\n\",\n 'Amid Rising Infection Cases, Israel To Offer Third Pfizer-BioNTech COVID-19 Shot: CNBC\\n',\n '5 AMD Analysts Weigh In On Blowout Q1 Earnings: Why 2 Reduced Price Targets',\n \"What's Going On With Snap Stock?\\n\",\n 'Match To Let Go 8% Workforce After Dismal Quarterly Results',\n 'Nasdaq Suffers Worst Start To December Since 1975: Will Santa Visit The Market Or Will The Grinch Hold Strong?',\n \"Pfizer's Cancer Drug Partner Mulls Sale: Report\\n\",\n 'Walt Disney Whale Trades For May 13\\n',\n 'Read Why Needham Reiterated Buy On fuboTV Despite Slashing Its Price Target By 67%\\n',\n 'Green Light: Squid Game 2 Gets Teaser From Netflix, Director Shares Details\\n',\n 'Mizuho Cuts Twitter Price Target By 20%\\n',\n 'Billionaire John Whittaker To Enter Cannabis Industry Via Plans For $136M Facility On The Isle Of Man',\n \"'Halftime Report' Traders Talk Retail After The Pandemic\\n\",\n 'What 6 Analyst Ratings Have To Say About Boeing\\n',\n '10 Fintech Experts To Follow On Twitter\\n',\n 'PreMarket Prep Stock Of The Day: Roku\\n',\n 'Chris Rock Fans Are Forking Over A Ton Of Money For Standup Tour After Will Smith Slap At The Oscars\\n',\n 'Why Amazon Shares Are Getting Hammered',\n 'Amazon Prepares For Mass Layoffs, After Twitter and Meta',\n \"Japan's Top Messaging App Line Launches NFT Marketplace\\n\",\n \"Boeing's 787 Certification Documents Incomplete Reveals FAA: Report\\n\",\n 'Pentagon Warns Of Serious Threat To Global Economy From Blockchain Vulnerabilities',\n \"Coffee And Crypto: What's The Price Of Bitcoin Thursday Morning?\\n\",\n \"Tesla Stock Quiets As Investors Wait Out Musk-Twitter Drama: Here's Where The Break Will Come\\n\",\n 'Tesla Shares Plummet Through Key Levels: Did Musk Feed The Stock To The Bears?\\n',\n \"Here's How Much $1000 Invested In Walt Disney 20 Years Ago Would Be Worth Today\\n\",\n 'Elon Musk To Pump NFTs Next? NFT Creator Beeple Acknowledged By Tesla CEO\\n',\n 'Hulu Will Accept Ads About Political Issues After #BoycottHulu Backlash\\n',\n \"What The Careful CEO Should And Shouldn't Talk About: A Handy Guide\\n\",\n \"Why This Investor Says Apple Stock Is Headed To $200: 'This Was An Opportunity And I Still Think It Is'\\n\",\n 'Why This Investor Is Building A Position In AMD',\n 'Meta Keeps Losing Key Heads In Its Biggest Target Payments Market',\n 'Mid-Day Market Update: Nasdaq Down Over 150 Points; Netflix Shares Drop Following Earnings Report\\n',\n \"If You Invested $100 In Bitcoin, Ethereum, Apple, Microsoft, Tesla And AMC In March 2020, Here's How Much You'd Have Now\\n\",\n \"Here's Why Needham Sees Apple's Brand Value Worth At $1T\",\n 'Unrivaled Brands & Other Cannabis Operators Just Made Some Key Executive Changes You Should Know About\\n',\n 'BZ Chart Of The Day: AMD Slams Into Resistance',\n 'Yet Another Israeli Firm Apart From NSO Group Had Hacked iPhones\\n',\n 'European Inflation Jumps While China PMI Improves',\n \"5 Best LeBron James Acting Roles Before 'Space Jam: A New Legacy'\\n\",\n \"UK Antitrust Watchdog Launches Probe On Facebook's $400M Giphy Acquisition: Report\\n\",\n \"Here's How Benchmark Views Twitter, Pinterest, Snap\\n\",\n \"Alphabet, Exxon Are CNBC 'Fast Money' Mentions, And A Stock Loser Is Named Call Of The Day\\n\",\n \"How To Not Get Crushed: Investing Cautiously Ahead Of The Fed's Rate Tightening.\\n\",\n 'KeyBanc Recommended Owning Apple - Read Why',\n \"What's The Risk Of Blood Clots After Getting A COVID-19 Vaccination? This Study Shows Encouraging Data\\n\",\n 'Mike Khouw Sees Unusual Options Activity In Disney\\n',\n \"Mizuho's Bullish Re-Rating On PayPal Had An Apple Connection - Read To Know\",\n '$1000 Invested In This Stock 15 Years Ago Would Be Worth $3,100 Today\\n',\n 'Why 3 AMD Analysts Are Projecting Continued Market Share Gain Following Blowout Q2\\n',\n 'Expert Ratings for Nike\\n',\n 'Last Call To Invest In Multifamily Real Estate Investment Offering With 15.2% Target IRR',\n 'Why RBC Is Bullish On Nike, Cautious On Under Armour\\n',\n \"70 Stocks Moving In Wednesday's Mid-Day Session\\n\",\n \"Warner Bros. Snags China Release For 'Fantastic Beasts: The Secrets Of Dumbledore'\\n\",\n 'Investing In Complex Times: Is Avoiding Mistakes The Most Important Strategy?',\n 'Nancy Pelosi Makes Trades In These 3 Tech Stocks: How She Booked $1.8M Profit On $110K',\n 'Nvidia Agrees To Pay $5.5M Penalty For Insufficient Disclosure Of Crypto Impact\\n',\n \"Apple App Store Sales Are Dropping, But Here's Why Morgan Stanley Remains Bullish\\n\",\n '$1000 Invested In This Stock 10 Years Ago Would Be Worth $9,000 Today',\n \"Benzinga's Top Upgrades, Downgrades For December 17, 2020\\n\",\n 'China Pledges To Consolidate Tech R&D Position As US Continue To Slap Restrictions',\n '$100 Invested In This Stock 5 Years Ago Would Be Worth $200 Today',\n 'Follow What Smart Money Traders Are Doing With Moderna\\n',\n 'Mid-Day Market Update: Dow Dips 500 Points; GTY Technology Holdings Shares Jump',\n 'Why Is Dogecoin On The Rise Today?\\n',\n \"Disney Seeks Confidential Arbitration For Settling Scarlett Johansson's 'Black Widow' Salary Lawsuit\\n\",\n 'Earnings Triple Crown After Close As Facebook, Apple, Tesla Prepare To Report\\n',\n \"Yankees' Aaron Judge Hits A Home Run That Creates A Lifelong Friendship: How It Happened\",\n 'Bored Ape Yacht Club Parent Yuga Labs Could Be Worth $5B: Report\\n',\n \"Third Dose Of Pfizer-BioNTech's COVID-19 Vaccine Boosts Protection Against Delta Variant, New Data Reveals\\n\",\n 'Why AMD And Micron Technology Shares Are Trading Higher Today',\n 'Twitter Insider Trades $990K In Company Stock\\n',\n \"Google Submits Fitbit's Passive Heart Rate Monitoring Feature For FDA Approval\\n\",\n 'Spotify Shares Jump On Analyst Upgrade, Drawing Parallels With Netflix\\n',\n \"Understanding Applied Materials's Unusual Options Activity\",\n \"Northrop Grumman's Q1 Bottom-Line Beats Street View; Reaffirms FY22 Guidance\\n\",\n 'Why Netflix Shares Are Making New All-Time Highs Today\\n',\n \"Could Netflix's Demise Be Overexaggerated? Twice As Many Minutes Were Watched For 'Bridgerton' Than Any Other Streaming Programs\",\n 'Transportation: Strong Earnings Form Railroad And Airline Stocks Boost the Sector',\n 'Why Nvidia Stock Is Moving Today\\n',\n 'Tesla Whale Trades For July 29\\n',\n \"9 Consumer Discretionary Stocks Whale Activity In Today's Session\",\n 'Alex Jones Files For Bankruptcy Protection: What You Need To Know\\n',\n \"Amazon Negates This Bearish Trend As Black Friday, Cyber Monday Approach: What's Going On?\",\n \"DeSantis: Disney 'Crossed The Line' In Seeking Overturn Of 'Don't Say Gay' Law\\n\",\n \"Why Hasn't Donald Trump Tweeted Since Being Reinstated By Elon Musk? Rules For Truth Social Might Point To The Answer\",\n \"A Look Into Apple's Price Over Earnings\\n\",\n 'Is AMD Becoming The New WallStreetBets Darling?\\n',\n '$1000 Invested In This Stock 10 Years Ago Would Be Worth $6,700 Today',\n 'Video-Minded Vobile Nears Major Purchase to Boost Growing China Business\\n',\n \"Wells Fargo Maintains Overweight Rating for Advanced Micro Devices: Here's What You Need To Know\",\n 'Doge Devs Share New Weapon Against Dogecoin FUD\\n',\n \"If You Invested $1,000 In Intel (INTC) Stock At Its COVID-19 Pandemic Low, Here's How Much You'd Have Now\",\n 'Deere Earnings Greeted With Cheer As Company Cites Improved Equipment Demand\\n',\n 'George Lucas Is Getting His Own Star Wars Stormtrooper Action Figure: Here Are The Details\\n',\n 'Amazon, Alphabet Earnings Pack A Wallop, Helping Drive Early Market Strength\\n',\n 'Why Viatris Shares Are Plunging Monday\\n',\n 'Stock Market Looks To Take A Breather As Busy Week Comes To A Close\\n',\n \"Could Tesla Bring Apple AirPlay To Cars? Here's What Elon Musk Said\",\n \"What's Going On With Boeing Shares?\\n\",\n \"Startups And Industry Titans Alike Flocking To Disrupt America's Broken Healthcare System\",\n 'Walmart Whale Trades For July 26\\n',\n \"Imax's CEO On Accelerating Box Office Sales, AMC Entertainment Valuation\\n\",\n 'This Is What Whales Are Betting On Lockheed Martin\\n',\n 'Spotlight Growth Shares 3 Stocks for an Uncertain & Likely-Volatile 2023',\n \"Moderna's Stock Valuation Goes From 'Unreasonable To Ridiculous': Analyst\\n\",\n 'A Bullish Nvidia Technical Analysis\\n',\n \"Tuesday's Market Minute: Nike (NKE) Earnings Preview\\n\",\n \"COVID Does Late Night: Colbert Off After Positive Test, Kimmel Returns After A Week's Quarantine\\n\",\n 'Operation Warp Speed Head Says People Can Start Getting COVID-19 Immunized Days After EUA\\n',\n 'Jim Cramer Turns Positive On Peloton Following Interview With New CEO\\n',\n 'Control Of Congress Up For Grabs In Midterms: 12 Stocks To Watch',\n 'Morgan Stanley Gains Conviction On Affirm Post Its TMT Conference',\n 'Airbus Delivers 49 Commercial Aircraft In February\\n',\n 'Why These 2 Apple Analysts Are Moving In Opposite Directions Thursday\\n',\n '5 People Richer Than Warren Buffett (For Now)',\n 'Why Intel Shares Are Moving Today\\n',\n '5 Things You Might Not Know About Dogecoin Co-Creator Billy Markus\\n',\n \"Elon Musk, You're Cordially Invited To The Benzinga Cannabis Capital Conference In Chicago, No Need To RSVP, See You There?\\n\",\n 'ViacomCBS, Twitter Forge Premium Digital Content Deal\\n',\n \"How Wirex Expanded And What The Future Holds For Crypto As 'An Everyday Utility'\\n\",\n \"What Non-Tesla Vehicle Is Being Used By Elon Musk's The Boring Company In Las Vegas?\\n\",\n \"'Halftime Report' Final Trades: Salesforce, Moderna And More\\n\",\n \"Monday's Market Minute: Watching This Week's Economic Data\\n\",\n \"Argus Research Maintains Buy Rating for Moderna: Here's What You Need To Know\\n\",\n 'Advanced Micro Devices Whale Trades For July 01',\n \"Read Alibaba's Role In Shanghai's Recent Infamous Police Database Hack As China Struggles To Censor Breach News\\n\",\n \"What's Going On With Boeing Stock Today?\\n\",\n 'Why Qualcomm Stock Is Moving Higher Today\\n',\n 'AMD Unleashes $4B Share Buyback Program Shortly After Posting Upbeat Q1 Results',\n 'SpiderOak, Lockheed Martin Enter Space Cybersecurity + Blockchain Collaboration\\n',\n 'Wells Fargo Cuts Lockheed Martin Price Target By ~18%\\n',\n 'Tesla Bounces Higher: Is The Stock Charged Up For Another Bull Cycle? Or Bracing For Downtrend?\\n',\n \"Did Nvidia Stock Flash A Buy Signal Yesterday? Here's Why This AMD Investor Increased His Chip Exposure\",\n \"Disney To Commemorate Original 'Beauty and the Beast' With Live TV Special\\n\",\n 'What To Watch For On The Nvidia Chart As The Stock Trades In These Two Patterns\\n',\n 'As Global Recession Looms, These 3 Dividend Kings Are Primed To Benefit From The Sale Of Necessities\\n',\n \"What's Going On With NKE Stock And JNJ Stock Today?\\n\",\n \"Here's Why Boeing And Bloom Energy Are Moving\\n\",\n \"Former Hedge Fund Manager Lists 3 Reasons Berkshire Hathaway Has 'Everything We Look For In A Stock'\",\n 'Is Alfa Romeo Changing The Automotive Game With NFT Digital Certificates?',\n \"All The Stocks That Moved From Monday's CNBC's 'Fast Money: Halftime Report'\",\n 'Big Tech Like Google, Meta And Others Ditch Office Space In London And Europe',\n 'Amazon Has Compelling Margin Upside From Retail Media Network Moat, Bullish Analyst Says',\n \"Is Netflix Headed Back To $300? Here's Why Wells Fargo, BMO Say Yes\\n\",\n \"Elon Musk Sends Letter To Twitter: Here's Why The Social Media Stock Is Sliding\\n\",\n 'Latest Sonos Acquisition Suggests Headphone Launch Could Be Imminent\\n',\n 'Netflix Goes Aggressive On Mobile Gaming, Interacts With Roku, Comcast Regarding Ad-Supported Service Tier\\n',\n 'Apple Introduces Apple Watch Series 8, Watch SE And New Ultra Edition',\n 'Mid-Day Market Update: Aehr Test Systems Surges Following Q1 Results; Onconova Therapeutics Shares Slide\\n',\n 'Advanced Micro Devices Unusual Options Activity For April 25',\n 'Dow Jumps Over 200 Points; Crude Oil Falls Sharply\\n',\n \"Disney CEO On Disneyland's April 30 Reopening: 'No Shortage Of Demand'\\n\",\n 'Transactions Connect Squid Game Scammers To 3 Trillion Shiba Inu Whale\\n',\n 'Why Crypto Exchange Binance Launches Tesla Stock Tokens\\n',\n 'Stock Wars: American Airlines Vs. United Airlines\\n',\n 'Is Moderna About To Bounce?\\n',\n '25,000 Disneyland Employees In Class Action Lawsuit Alleging Underpaid Wages\\n',\n \"Here's How Cadence Is Set To Gain Despite Competition From Tesla, Apple\\n\",\n \"Will iPad Sales Normalize In 2024? Why This Apple Category Is In 'Structural Decline'\",\n 'FDA Says Strong Safety Data A Must For COVID-19 Vaccine Approval For Kids\\n',\n 'Amazon Prepares To Shut DPReview, The Camera Review Community Website After 25 Years',\n 'Apple Expands Nudity-Blurring Child Safety Feature To Outside US',\n \"Why Chimerix Is Trading Higher By Over 19%, Here Are 53 Stocks Moving In Monday's Mid-Day Session\",\n 'Why Cathie Wood Is Investing In Twitter\\n',\n \"Coalition Of Doctors Complain To Spotify Over COVID 'Misinformation' On Joe Rogan's Podcast\\n\",\n 'Why Meta Platforms, Boeing, Canopy Growth Look Set For Continuation And How To Trade The Move\\n',\n 'Recalled Heartburn Pill Zantac Sets Fire To Glaxo and Sanofi Shares As Billions In Market Value Goes Up In Smoke\\n',\n 'China Blocks Oscar Telecast For Second Straight Year\\n',\n 'Rising Volatility, Yields, Keep Pressure Churning On Wall Street',\n 'PreMarket Prep Stock Of The Day: Twitter\\n',\n \"Why Cowen Is Bullish On Boeing: '2022-24 Look Brighter'\\n\",\n \"JPMorgan Says Verizon's Growth Will 'Pick Up' Next Year\\n\",\n 'Why Amazon Shares Are Diving Today',\n 'Morgan Stanley Makes Tesla Prediction For 2023, Cuts Price Target As Production Headwinds Linger\\n',\n \"It's Month End. What's Priced In?\\n\",\n 'Southwest Picks Astronics To Provide Latest Generation Of In-Seat Power System\\n',\n \"Which Companies Have Great Reputations With Americans? Hint: Disney Isn't One Of Them!\",\n 'Stock Wars: Aerojet Rocketdyne Vs. Maxar\\n',\n \"That iPhone May Not Cost You $1,000: A 'Sticky Ecosystem' Is A Boon For Cell Phone Carriers\\n\",\n \"South Africa Authorizes Merck's COVID-19 Antiviral Pill, But Government Not Buying: Reuters\\n\",\n 'Elon Musk Has Lost More In The Last Week Than The Value of eBay, Coinbase and These Other Companies\\n',\n 'ESPN Boosts NFL Playoff Coverage With New Monday Night Football Deal\\n',\n \"Too Hot: Jobs Growth Near Estimates, But Still Too Strong for the Market's Liking\\n\",\n 'New Vehicle Prices Hit Record High In June: Report\\n',\n 'Elon Musk, Tesla Silent On Well-Being Of Locked Down Shanghai Workers\\n',\n 'Twitter Announces Broader Rollout Of Tipping Feature (And Even Includes Bitcoin)\\n',\n 'Match Agrees To Settle Tinder Valuation Lawsuit For $441M\\n',\n \"Udemy Joins AWS Partner Network - What's The Benefit?\",\n 'Check Out What Whales Are Doing With BA\\n',\n \"Amazon Prices Will Go Up With Fuel Surcharge: Here's The Date To Remember\",\n '$1000 Invested In This Stock Over The Last 15 Years, Would Be Worth This Much\\n',\n 'Global Regulators Continue To Penalize Big Tech Over Antitrust Concerns\\n',\n \"Wireless Customers At Canada's Rogers Communications Report Service Outages\\n\",\n \"This CEO Explains How Shiba Inu Can Reach $0.01 'Through Entertainment'\\n\",\n \"Apple, IBM Get CNBC 'Fast Money' Mentions, While This Stock Popped Nearly 1% In Seconds\\n\",\n \"Tesla Denies Report Of Legal Chief's Departure, Triggering A Clap Back From Elon Musk's Mom On Twitter\\n\",\n \"How To Profit From Amazon Stock's Historic Collapse On Earnings? Hint: It's An ETF\",\n \"Benzinga's Top Ratings Upgrades, Downgrades For January 4, 2023\",\n 'Will Joe Rogan Welcome Donald Trump On His Podcast?\\n',\n '$1000 Invested In This Stock 15 Years Ago Would Be Worth $4,400 Today',\n 'You Ask, We Analyze: Is Advanced Micro Devices Stock Headed To $215 As Santa Claus Rally Continues?',\n \"Investors Seem More Focused On Vaccine, Stimulus Than Facebook's Regulatory Woes\\n\",\n \"Looking Into Apple's Recent Short Interest\",\n 'Amazon Goes Bigger On Clean Energy Projects, Its First In Brazil, India And Poland',\n \"Tesla: Who Saw This Coming. Tesla's Vehicle Delivery Numbers Surprised Wall Street Analysts. They Didn't Surprise This Social Data Firm.\",\n 'Digital Superman? Collectibles Will Get A Digital Companion In New Funko, Warner Bros. Tie Up\\n',\n \"Free Ketamine Therapy? Laid Off Tech Workers Can Request Month Of 'Freedom' Program\",\n \"Why This Analyst Thinks Netflix Can't Win Streaming Wars With Its Current Strategy\\n\",\n 'October Jobs Report Looks Mostly Stronger than Expected, Perhaps Signaling Fed Has More Work to Do',\n 'Looking At Advanced Micro Devices Recent Whale Trades',\n 'Where Are Those \"Top 10\" Companies Now? – \"Nineties\" Focus',\n \"New Tools In Troika's Toolbox? Converge Acquisition Could Lower Customer Acquisition Costs\",\n \"Amazon's Encrypted Chat App Faces Charges Of Child Abuse\",\n 'This Pizza Stock Has A Better 1-Year Return Than Amazon, Snap, Plug Power And Starbucks',\n 'Disney To Reopen Shanghai Properties After 3 Months Of COVID Closure\\n',\n \"Top Kelly Blue Book Executive On Why Tesla's Market Share Will Plummet Next 5 Years\\n\",\n \"This Week Will Be About More Than Amazon's Prime Day Sales\\n\",\n \"What This Analyst Thinks About Netflix's Potential Gaming Expansion\\n\",\n 'Orderful Raises $19M to Simplify EDI Integrations for Logistics Community\\n',\n 'Mike Khouw Sees Unusual Options Activity In Nvidia\\n',\n \"Here's Why Amazon, Apple And Microsoft Shares Are Falling\",\n 'NVIDIA Whale Trades For May 16\\n',\n 'Why Disney Shares Are Trading Lower Today\\n',\n 'Capvision Tempts Investors With Fast Growth, Fat Margins In Hong Kong IPO\\n',\n 'UK Becomes First To Give Nod To Omicron-Targeted COVID-19 Shot\\n',\n 'Why Moderna, uniQure And Novavax Are Moving Today\\n',\n 'Why AMD Stock Is Soaring Higher Today\\n',\n '6 Reasons Investors Should Consider Trading Share CFDs Over Trading Stocks\\n',\n \"Tesla, AbbVie Are CNBC 'Fast Money' Mentions; Steve Weiss Is Shorting This ETF\\n\",\n \"Rivian Stock Shifts Into Gear After Hitting 52-Week Lows: What's Going On?\",\n 'Jim Cramer Cheers Twitter, CFO Ned Segal Following Earnings\\n',\n 'Pfizer Starts Late-Stage Trial For RSV Vaccine Candidate In Older Patients\\n',\n '$100 Invested In This Stock 10 Years Ago Would Be Worth $700 Today',\n \"Why Bitcoin- And Ethereum-Related Stocks MicroStrategy Incorporated And Coinbase Are Trading Lower Friday Following Tesla's Crypto Update\\n\",\n 'Prince Harry And Meghan Threaten BBC With Lawsuit Over Report On Naming Baby Lilibet: Report\\n',\n 'A Look At Tesla As The Stock Charges Into AI Day 2022\\n',\n 'Can PubMatic Weather Macro Issues? Analysts Remain Bullish Citing Potential Growth Opportunities\\n',\n \"Creature World NFT: Meet The Fast-Growing NFT That's Now Shaq's Profile Pic\\n\",\n \"New NFL Video Proclaims 'Football Is Gay' In Support Of Carl Nassib\\n\",\n 'Super Bowl LVI: Betting On MGM - Our Bet For Super Bowl 56.',\n 'Could Netflix Be Getting Into Video Games? Earnings Call Hints At A Move\\n',\n 'Pfizer Resumes Dosing In Phase 3 Hemophilia Gene Therapy Trial Six Months After FDA Lifts Clinical Hold\\n',\n 'South African Study Shows Omicron Variant Could Escape Pfizer/BioNTech COVID-19 Vaccine Protection\\n',\n 'Here Are Our Favorite Super Bowl LVI Commercials: Do You Agree?',\n \"11 Industrials Stocks Moving In Wednesday's Intraday Session\\n\",\n \"10 Amazon Analysts Lower Price Targets: How The Street Is Reacting To Disappointing Q3 Earnings, AWS 'Surprise'\",\n \"Here's How Much You Would Have Made Owning AMD Stock In The Last 5 Years\\n\",\n 'BofA Cuts Boeing Target On Higher Risk Profile\\n',\n '3 Quotes From Apple CEO Tim Cook To Inspire You Now',\n \"Disney's Stock Needs The Magic Of Volume: A Technical Look Ahead Of Earnings\\n\",\n \"'Jeopardy!' Contestants Apologize To Diana Ross For Saying She Was 95: Report\\n\",\n \"Will Chart Analysts Notice Bad Omen on Apple's Chart\\n\",\n \"Will The Recent Uptrend Continue? Here's What To Watch On The Apple Stock Chart\",\n 'Why These Apple Analysts Have Reduced Their Price Targets Ahead Of Results\\n',\n 'Super Bullish Or Bearish On Tesla Or Apple? These New ETFs Are For You',\n 'Largest Imax Screen Set To Open In Germany Premiering James Bond Movie\\n',\n \"Here's How Mizuho Views AMD, Nvidia, Qualcomm\",\n 'Smart For Life Agrees To Acquire Vitamin & Supplement Company Ceautamed For Undisclosed Sum',\n \"Joe Terranova Is Buying This Stock: Wednesday's CNBC 'Fast Money' Final Trades\\n\",\n 'GM Taps Google To Phase Out Apple CarPlay From EVs Starting With 2024 Chevrolet Blazer',\n 'Will Nvidia Or Micron Stock Grow More By 2022?\\n',\n 'What Made Peak Shipping Season a Success?',\n \"Here's How Much $1000 Invested In Amazon.com 20 Years Ago Would Be Worth Today\",\n 'Is Monkeypox Outbreak Cooling? Health Officials Says Virus Transmission Has Slowed\\n',\n 'Should Apple Try To Acquire Netflix Or Peloton In 2021?\\n',\n \"As AMD Trades In Record Territory, Here's A Look At The Chipmaker's Run To $100B Market Cap\\n\",\n 'Pfizer Cuts Late-Stage Asset For Rare Cardiovascular Acquired Via $11.4B Array acquisition\\n',\n 'Pfizer, AstraZeneca or J&J COVID-19 Shots Boost Sinovac Regime, Brazilian Study Shows\\n',\n \"This FAANG Stock Emerged As The Winner For 2021 — And It Isn't Apple\",\n 'Pfizer (PFE), BioNTech Seek EU Nod For Omicron-Based COVID Jab\\n',\n 'Charting Meta Platforms Stock As This Wall Street Analyst Drops Their Bullish Stance',\n 'Why Snap Shares Are Falling\\n',\n \"Ivan Reitman, Filmmaker Behind 'Animal House' And 'Ghostbusters,' Dies At 75\\n\",\n 'Amazon Analyst Sees Upside Fueled By Ad Spend Growth In July, October Prime Day Events',\n 'What 8 Analyst Ratings Have To Say About Advanced Micro Devices\\n',\n 'Pfizer Sues Former Employee For Stealing Confidential Info On Its Megablockbuster COVID-19 Vaccine\\n',\n \"Here's When The GameStop Movie Starring Seth Rogen, Paul Dano And Pete Davidson Hits Theaters\",\n '$1000 Invested In Apple 10 Years Ago Would Be Worth This Much\\n',\n \"38 Stocks Moving In Tuesday's Mid-Day Session\\n\",\n 'Twitter Insider Trades $760K In Company Stock\\n',\n \"What's Going On With Affirm And PayPal Shares After Amazon's Earnings Report\",\n \"Netflix's Next Big Hit May Come From Serious Pedigree: Game Of Thrones\\n\",\n 'Is Formula One Stock A Buy Ahead Of Miami Grand Prix? Earnings, Netflix Renewal In Focus',\n \"Musk Is Now Twitter's Big Bird, Multiple Reports Say\\n\",\n \"Look Out, Bezos Backers — Jim Cramer Plans To Target 'The Colossus That Is Amazon' When He Interviews Walmart CEO On 'Mad Money' Tonight\",\n \"Why Is It Moving? Looking At Moderna's Price Action Today\\n\",\n 'Playboy Announces Cardi B As Creative Director For CENTERFOLD Creator Platform: What Investors Should Know\\n',\n 'Twitter Shares Jump On CNBC Report Of CEO Jack Dorsey Stepping Down\\n',\n \"Here's Why AMD, Nvidia And Taiwan Semiconductor Shares Are Falling\",\n ...]"
     },
     "execution_count": 7,
     "metadata": {},
     "output_type": "execute_result"
    }
   ],
   "source": [
    "train_data[\"news_text\"].tolist()"
   ],
   "metadata": {
    "collapsed": false,
    "pycharm": {
     "name": "#%%\n"
    }
   }
  },
  {
   "cell_type": "code",
   "execution_count": 8,
   "id": "e035fd03",
   "metadata": {
    "pycharm": {
     "name": "#%%\n"
    }
   },
   "outputs": [],
   "source": [
    "hg_train_data = Dataset.from_pandas(train_data)\n",
    "hg_test_data = Dataset.from_pandas(test_data)"
   ]
  },
  {
   "cell_type": "code",
   "execution_count": 9,
   "id": "4237e38f",
   "metadata": {
    "pycharm": {
     "name": "#%%\n"
    }
   },
   "outputs": [
    {
     "name": "stdout",
     "output_type": "stream",
     "text": [
      "The length of hg_train_data is 4138.\n",
      "\n"
     ]
    },
    {
     "data": {
      "text/plain": "{'news_text': 'Quantity Over Quality? Ben Affleck Questions Assembly Line-Style Of Streaming Giant Netflix',\n 'label': 1,\n '__index_level_0__': 311}"
     },
     "execution_count": 9,
     "metadata": {},
     "output_type": "execute_result"
    }
   ],
   "source": [
    "print(f'The length of hg_train_data is {len(hg_train_data)}.\\n')\n",
    "\n",
    "# Check one review\n",
    "hg_train_data[0]"
   ]
  },
  {
   "cell_type": "code",
   "execution_count": 10,
   "id": "8ce0c89d",
   "metadata": {
    "pycharm": {
     "name": "#%%\n"
    }
   },
   "outputs": [
    {
     "data": {
      "text/plain": "BertTokenizer(name_or_path='bert-base-uncased', vocab_size=30522, model_max_length=512, is_fast=False, padding_side='right', truncation_side='right', special_tokens={'unk_token': '[UNK]', 'sep_token': '[SEP]', 'pad_token': '[PAD]', 'cls_token': '[CLS]', 'mask_token': '[MASK]'}, clean_up_tokenization_spaces=True)"
     },
     "execution_count": 10,
     "metadata": {},
     "output_type": "execute_result"
    }
   ],
   "source": [
    "# Tokenizer from a pretrained model\n",
    "tokenizer = BertTokenizer.from_pretrained(\"bert-base-uncased\")\n",
    "\n",
    "# Take a look at the tokenizer\n",
    "tokenizer"
   ]
  },
  {
   "cell_type": "code",
   "execution_count": 11,
   "id": "b54c897a",
   "metadata": {
    "pycharm": {
     "name": "#%%\n"
    }
   },
   "outputs": [
    {
     "data": {
      "text/plain": "Map:   0%|          | 0/4138 [00:00<?, ? examples/s]",
      "application/vnd.jupyter.widget-view+json": {
       "version_major": 2,
       "version_minor": 0,
       "model_id": "35e466526cb143dbaa8c5d1d1045c627"
      }
     },
     "metadata": {},
     "output_type": "display_data"
    },
    {
     "data": {
      "text/plain": "Map:   0%|          | 0/69 [00:00<?, ? examples/s]",
      "application/vnd.jupyter.widget-view+json": {
       "version_major": 2,
       "version_minor": 0,
       "model_id": "d0b1baf4b09c42169cac2b9732d08e06"
      }
     },
     "metadata": {},
     "output_type": "display_data"
    }
   ],
   "source": [
    "# Funtion to tokenize data\n",
    "def tokenize_dataset(data):\n",
    "    return tokenizer(data[\"news_text\"], \n",
    "                     max_length=32,\n",
    "                     truncation=True, \n",
    "                     padding=\"max_length\")\n",
    "\n",
    "# Tokenize the dataset\n",
    "dataset_train = hg_train_data.map(tokenize_dataset)\n",
    "dataset_test = hg_test_data.map(tokenize_dataset)"
   ]
  },
  {
   "cell_type": "code",
   "execution_count": 12,
   "id": "7ac00778",
   "metadata": {
    "pycharm": {
     "name": "#%%\n"
    }
   },
   "outputs": [
    {
     "name": "stdout",
     "output_type": "stream",
     "text": [
      "Dataset({\n",
      "    features: ['news_text', 'label', '__index_level_0__', 'input_ids', 'token_type_ids', 'attention_mask'],\n",
      "    num_rows: 4138\n",
      "})\n",
      "Dataset({\n",
      "    features: ['news_text', 'label', '__index_level_0__', 'input_ids', 'token_type_ids', 'attention_mask'],\n",
      "    num_rows: 69\n",
      "})\n"
     ]
    }
   ],
   "source": [
    "# Take a look at the data\n",
    "print(dataset_train)\n",
    "print(dataset_test)"
   ]
  },
  {
   "cell_type": "code",
   "execution_count": 13,
   "id": "d4aff089",
   "metadata": {
    "pycharm": {
     "name": "#%%\n"
    }
   },
   "outputs": [
    {
     "name": "stderr",
     "output_type": "stream",
     "text": [
      "Some weights of the model checkpoint at bert-base-uncased were not used when initializing BertForSequenceClassification: ['cls.seq_relationship.bias', 'cls.predictions.transform.LayerNorm.bias', 'cls.predictions.transform.dense.bias', 'cls.predictions.bias', 'cls.predictions.decoder.weight', 'cls.predictions.transform.LayerNorm.weight', 'cls.predictions.transform.dense.weight', 'cls.seq_relationship.weight']\n",
      "- This IS expected if you are initializing BertForSequenceClassification from the checkpoint of a model trained on another task or with another architecture (e.g. initializing a BertForSequenceClassification model from a BertForPreTraining model).\n",
      "- This IS NOT expected if you are initializing BertForSequenceClassification from the checkpoint of a model that you expect to be exactly identical (initializing a BertForSequenceClassification model from a BertForSequenceClassification model).\n",
      "Some weights of BertForSequenceClassification were not initialized from the model checkpoint at bert-base-uncased and are newly initialized: ['classifier.weight', 'classifier.bias']\n",
      "You should probably TRAIN this model on a down-stream task to be able to use it for predictions and inference.\n"
     ]
    }
   ],
   "source": [
    "\n",
    "model = AutoModelForSequenceClassification.from_pretrained(\"bert-base-uncased\", num_labels=2)\n"
   ]
  },
  {
   "cell_type": "code",
   "execution_count": 14,
   "id": "90992613",
   "metadata": {
    "pycharm": {
     "name": "#%%\n"
    }
   },
   "outputs": [
    {
     "name": "stderr",
     "output_type": "stream",
     "text": [
      "/home/alexa/miniconda3/envs/tf/lib/python3.9/site-packages/torch/cuda/__init__.py:107: UserWarning: CUDA initialization: CUDA unknown error - this may be due to an incorrectly set up environment, e.g. changing env variable CUDA_VISIBLE_DEVICES after program start. Setting the available devices to be zero. (Triggered internally at /opt/conda/conda-bld/pytorch_1682343964576/work/c10/cuda/CUDAFunctions.cpp:109.)\n",
      "  return torch._C._cuda_getDeviceCount() > 0\n"
     ]
    }
   ],
   "source": [
    "training_args = TrainingArguments(\n",
    "    output_dir=\"./sentiment_transfer_learning_transformer/\",          \n",
    "    logging_dir='./sentiment_transfer_learning_transformer/logs',            \n",
    "    logging_strategy='epoch',\n",
    "    logging_steps=100,    \n",
    "    num_train_epochs=10,\n",
    "    per_device_train_batch_size=4,\n",
    "    per_device_eval_batch_size=4,\n",
    "    learning_rate=5e-7,\n",
    "    seed=42,\n",
    "    save_strategy='epoch',\n",
    "    save_steps=100,\n",
    "    evaluation_strategy='epoch',\n",
    "    eval_steps=100,\n",
    "    load_best_model_at_end=True\n",
    ")"
   ]
  },
  {
   "cell_type": "code",
   "execution_count": 15,
   "id": "e40fc6ab",
   "metadata": {
    "pycharm": {
     "name": "#%%\n"
    }
   },
   "outputs": [
    {
     "name": "stdout",
     "output_type": "stream",
     "text": [
      "There are 157 evaluation models in Hugging Face.\n",
      "\n"
     ]
    },
    {
     "data": {
      "text/plain": "['lvwerra/test',\n 'precision',\n 'code_eval',\n 'roc_auc',\n 'cuad',\n 'xnli',\n 'rouge',\n 'pearsonr',\n 'mse',\n 'super_glue',\n 'comet',\n 'cer',\n 'sacrebleu',\n 'mahalanobis',\n 'wer',\n 'competition_math',\n 'f1',\n 'recall',\n 'coval',\n 'mauve',\n 'xtreme_s',\n 'bleurt',\n 'ter',\n 'accuracy',\n 'exact_match',\n 'indic_glue',\n 'spearmanr',\n 'mae',\n 'squad',\n 'chrf',\n 'glue',\n 'perplexity',\n 'mean_iou',\n 'squad_v2',\n 'meteor',\n 'bleu',\n 'wiki_split',\n 'sari',\n 'frugalscore',\n 'google_bleu',\n 'bertscore',\n 'matthews_correlation',\n 'seqeval',\n 'trec_eval',\n 'rl_reliability',\n 'jordyvl/ece',\n 'angelina-wang/directional_bias_amplification',\n 'cpllab/syntaxgym',\n 'lvwerra/bary_score',\n 'kaggle/amex',\n 'kaggle/ai4code',\n 'hack/test_metric',\n 'yzha/ctc_eval',\n 'codeparrot/apps_metric',\n 'mfumanelli/geometric_mean',\n 'daiyizheng/valid',\n 'poseval',\n 'erntkn/dice_coefficient',\n 'mgfrantz/roc_auc_macro',\n 'Vlasta/pr_auc',\n 'gorkaartola/metric_for_tp_fp_samples',\n 'idsedykh/metric',\n 'idsedykh/codebleu2',\n 'idsedykh/codebleu',\n 'idsedykh/megaglue',\n 'cakiki/ndcg',\n 'brier_score',\n 'Vertaix/vendiscore',\n 'GMFTBY/dailydialogevaluate',\n 'GMFTBY/dailydialog_evaluate',\n 'jzm-mailchimp/joshs_second_test_metric',\n 'ola13/precision_at_k',\n 'yulong-me/yl_metric',\n 'abidlabs/mean_iou',\n 'abidlabs/mean_iou2',\n 'KevinSpaghetti/accuracyk',\n 'NimaBoscarino/weat',\n 'ronaldahmed/nwentfaithfulness',\n 'Viona/infolm',\n 'kyokote/my_metric2',\n 'kashif/mape',\n 'Ochiroo/rouge_mn',\n 'giulio98/code_eval_outputs',\n 'leslyarun/fbeta_score',\n 'giulio98/codebleu',\n 'anz2/iliauniiccocrevaluation',\n 'zbeloki/m2',\n 'xu1998hz/sescore',\n 'mase',\n 'mape',\n 'smape',\n 'dvitel/codebleu',\n 'NCSOFT/harim_plus',\n 'JP-SystemsX/nDCG',\n 'sportlosos/sescore',\n 'Drunper/metrica_tesi',\n 'jpxkqx/peak_signal_to_noise_ratio',\n 'jpxkqx/signal_to_reconstrution_error',\n 'hpi-dhc/FairEval',\n 'nist_mt',\n 'lvwerra/accuracy_score',\n 'character',\n 'charcut_mt',\n 'ybelkada/cocoevaluate',\n 'harshhpareek/bertscore',\n 'posicube/mean_reciprocal_rank',\n 'bstrai/classification_report',\n 'omidf/squad_precision_recall',\n 'Josh98/nl2bash_m',\n 'BucketHeadP65/confusion_matrix',\n 'BucketHeadP65/roc_curve',\n 'yonting/average_precision_score',\n 'transZ/test_parascore',\n 'transZ/sbert_cosine',\n 'hynky/sklearn_proxy',\n 'xu1998hz/sescore_english_mt',\n 'xu1998hz/sescore_german_mt',\n 'xu1998hz/sescore_english_coco',\n 'xu1998hz/sescore_english_webnlg',\n 'unnati/kendall_tau_distance',\n 'r_squared',\n 'Viona/fuzzy_reordering',\n 'Viona/kendall_tau',\n 'lhy/hamming_loss',\n 'lhy/ranking_loss',\n 'Muennighoff/code_eval',\n 'yuyijiong/quad_match_score',\n 'Splend1dchan/cosine_similarity',\n 'Yeshwant123/mcc',\n 'transformersegmentation/segmentation_scores',\n 'sma2023/wil',\n 'chanelcolgate/average_precision',\n 'ckb/unigram',\n 'Felipehonorato/eer',\n 'manueldeprada/beer',\n 'tialaeMceryu/unigram',\n 'shunzh/apps_metric',\n 'hxw15/sari_metric',\n 'mcnemar',\n 'exact_match',\n 'wilcoxon',\n 'ncoop57/levenshtein_distance',\n 'kaleidophon/almost_stochastic_order',\n 'word_length',\n 'lvwerra/element_count',\n 'word_count',\n 'text_duplicates',\n 'perplexity',\n 'label_distribution',\n 'toxicity',\n 'prb977/cooccurrence_count',\n 'regard',\n 'honest',\n 'NimaBoscarino/pseudo_perplexity',\n 'ybelkada/toxicity',\n 'ronaldahmed/ccl_win',\n 'meg/perplexity']"
     },
     "execution_count": 15,
     "metadata": {},
     "output_type": "execute_result"
    }
   ],
   "source": [
    "print(f'There are {len(evaluate.list_evaluation_modules())} evaluation models in Hugging Face.\\n')\n",
    "\n",
    "# List all evaluation metrics\n",
    "evaluate.list_evaluation_modules()"
   ]
  },
  {
   "cell_type": "code",
   "execution_count": 16,
   "id": "b2310b52",
   "metadata": {
    "pycharm": {
     "name": "#%%\n"
    }
   },
   "outputs": [],
   "source": [
    "# Function to compute the metric\n",
    "def compute_metrics(eval_pred):\n",
    "    metric = evaluate.load(\"accuracy\")\n",
    "    logits, labels = eval_pred\n",
    "    predictions = np.argmax(logits, axis=1)\n",
    "    return metric.compute(predictions=predictions, references=labels)"
   ]
  },
  {
   "cell_type": "code",
   "execution_count": null,
   "id": "d7f60d60",
   "metadata": {
    "pycharm": {
     "name": "#%%\n",
     "is_executing": true
    }
   },
   "outputs": [
    {
     "name": "stderr",
     "output_type": "stream",
     "text": [
      "/home/alexa/miniconda3/envs/tf/lib/python3.9/site-packages/transformers/optimization.py:391: FutureWarning: This implementation of AdamW is deprecated and will be removed in a future version. Use the PyTorch implementation torch.optim.AdamW instead, or set `no_deprecation_warning=True` to disable this warning\n",
      "  warnings.warn(\n"
     ]
    },
    {
     "data": {
      "text/plain": "<IPython.core.display.HTML object>",
      "text/html": "\n    <div>\n      \n      <progress value='2' max='10350' style='width:300px; height:20px; vertical-align: middle;'></progress>\n      [    2/10350 : < :, Epoch 0.00/10]\n    </div>\n    <table border=\"1\" class=\"dataframe\">\n  <thead>\n <tr style=\"text-align: left;\">\n      <th>Epoch</th>\n      <th>Training Loss</th>\n      <th>Validation Loss</th>\n    </tr>\n  </thead>\n  <tbody>\n  </tbody>\n</table><p>"
     },
     "metadata": {},
     "output_type": "display_data"
    }
   ],
   "source": [
    "from transformers import DataCollatorForLanguageModeling\n",
    "\n",
    "data_collator = DataCollatorForLanguageModeling(tokenizer, mlm=False)\n",
    "\n",
    "trainer = Trainer(\n",
    "    model=model,\n",
    "    args=training_args,\n",
    "    train_dataset=dataset_train,\n",
    "    eval_dataset=dataset_test,\n",
    "    compute_metrics=compute_metrics,\n",
    "    callbacks=[EarlyStoppingCallback(early_stopping_patience=1)]\n",
    ")\n",
    "\n",
    "trainer.train()"
   ]
  },
  {
   "cell_type": "code",
   "execution_count": null,
   "id": "d4d7e407",
   "metadata": {
    "pycharm": {
     "name": "#%%\n",
     "is_executing": true
    }
   },
   "outputs": [],
   "source": [
    "y_test_predict = trainer.predict(dataset_test)\n",
    "\n",
    "# Take a look at the predictions\n",
    "y_test_predict"
   ]
  },
  {
   "cell_type": "code",
   "execution_count": null,
   "id": "73072691",
   "metadata": {
    "pycharm": {
     "name": "#%%\n",
     "is_executing": true
    }
   },
   "outputs": [],
   "source": []
  },
  {
   "cell_type": "code",
   "execution_count": null,
   "id": "e91d3ec5",
   "metadata": {
    "pycharm": {
     "name": "#%%\n",
     "is_executing": true
    }
   },
   "outputs": [],
   "source": []
  },
  {
   "cell_type": "code",
   "execution_count": null,
   "id": "eae6226b",
   "metadata": {
    "pycharm": {
     "name": "#%%\n",
     "is_executing": true
    }
   },
   "outputs": [],
   "source": []
  },
  {
   "cell_type": "code",
   "execution_count": null,
   "id": "0dd713ac",
   "metadata": {
    "pycharm": {
     "name": "#%%\n",
     "is_executing": true
    }
   },
   "outputs": [],
   "source": []
  },
  {
   "cell_type": "code",
   "execution_count": null,
   "id": "ce27088c",
   "metadata": {
    "pycharm": {
     "name": "#%%\n",
     "is_executing": true
    }
   },
   "outputs": [],
   "source": []
  }
 ],
 "metadata": {
  "kernelspec": {
   "display_name": "Python 3 (ipykernel)",
   "language": "python",
   "name": "python3"
  },
  "language_info": {
   "codemirror_mode": {
    "name": "ipython",
    "version": 3
   },
   "file_extension": ".py",
   "mimetype": "text/x-python",
   "name": "python",
   "nbconvert_exporter": "python",
   "pygments_lexer": "ipython3",
   "version": "3.9.16"
  }
 },
 "nbformat": 4,
 "nbformat_minor": 5
}