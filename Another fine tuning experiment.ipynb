{
 "cells": [
  {
   "cell_type": "code",
   "execution_count": 57,
   "id": "0c0ebc99",
   "metadata": {
    "pycharm": {
     "name": "#%%\n"
    }
   },
   "outputs": [
    {
     "name": "stdout",
     "output_type": "stream",
     "text": [
      "huggingface/tokenizers: The current process just got forked, after parallelism has already been used. Disabling parallelism to avoid deadlocks...\n",
      "To disable this warning, you can either:\n",
      "\t- Avoid using `tokenizers` before the fork if possible\n",
      "\t- Explicitly set the environment variable TOKENIZERS_PARALLELISM=(true | false)\n",
      "Requirement already satisfied: datasets in /home/alexa/miniconda3/envs/tf/lib/python3.9/site-packages (2.12.0)\r\n",
      "Requirement already satisfied: evaluate in /home/alexa/miniconda3/envs/tf/lib/python3.9/site-packages (0.4.0)\r\n",
      "Requirement already satisfied: transformers in /home/alexa/miniconda3/envs/tf/lib/python3.9/site-packages (4.20.1)\r\n",
      "Requirement already satisfied: aiohttp in /home/alexa/miniconda3/envs/tf/lib/python3.9/site-packages (from datasets) (3.8.4)\r\n",
      "Requirement already satisfied: pyarrow>=8.0.0 in /home/alexa/miniconda3/envs/tf/lib/python3.9/site-packages (from datasets) (12.0.0)\r\n",
      "Requirement already satisfied: tqdm>=4.62.1 in /home/alexa/miniconda3/envs/tf/lib/python3.9/site-packages (from datasets) (4.65.0)\r\n",
      "Requirement already satisfied: pandas in /home/alexa/miniconda3/envs/tf/lib/python3.9/site-packages (from datasets) (2.0.1)\r\n",
      "Requirement already satisfied: xxhash in /home/alexa/miniconda3/envs/tf/lib/python3.9/site-packages (from datasets) (3.2.0)\r\n",
      "Requirement already satisfied: fsspec[http]>=2021.11.1 in /home/alexa/miniconda3/envs/tf/lib/python3.9/site-packages (from datasets) (2023.5.0)\r\n",
      "Requirement already satisfied: dill<0.3.7,>=0.3.0 in /home/alexa/miniconda3/envs/tf/lib/python3.9/site-packages (from datasets) (0.3.6)\r\n",
      "Requirement already satisfied: responses<0.19 in /home/alexa/miniconda3/envs/tf/lib/python3.9/site-packages (from datasets) (0.18.0)\r\n",
      "Requirement already satisfied: huggingface-hub<1.0.0,>=0.11.0 in /home/alexa/miniconda3/envs/tf/lib/python3.9/site-packages (from datasets) (0.14.1)\r\n",
      "Requirement already satisfied: pyyaml>=5.1 in /home/alexa/miniconda3/envs/tf/lib/python3.9/site-packages (from datasets) (6.0)\r\n",
      "Requirement already satisfied: requests>=2.19.0 in /home/alexa/miniconda3/envs/tf/lib/python3.9/site-packages (from datasets) (2.30.0)\r\n",
      "Requirement already satisfied: multiprocess in /home/alexa/miniconda3/envs/tf/lib/python3.9/site-packages (from datasets) (0.70.14)\r\n",
      "Requirement already satisfied: packaging in /home/alexa/miniconda3/envs/tf/lib/python3.9/site-packages (from datasets) (23.1)\r\n",
      "Requirement already satisfied: numpy>=1.17 in /home/alexa/miniconda3/envs/tf/lib/python3.9/site-packages (from datasets) (1.24.3)\r\n",
      "Requirement already satisfied: tokenizers!=0.11.3,<0.13,>=0.11.1 in /home/alexa/miniconda3/envs/tf/lib/python3.9/site-packages (from transformers) (0.12.1)\r\n",
      "Requirement already satisfied: filelock in /home/alexa/miniconda3/envs/tf/lib/python3.9/site-packages (from transformers) (3.12.0)\r\n",
      "Requirement already satisfied: regex!=2019.12.17 in /home/alexa/miniconda3/envs/tf/lib/python3.9/site-packages (from transformers) (2023.5.5)\r\n",
      "Requirement already satisfied: yarl<2.0,>=1.0 in /home/alexa/miniconda3/envs/tf/lib/python3.9/site-packages (from aiohttp->datasets) (1.9.2)\r\n",
      "Requirement already satisfied: frozenlist>=1.1.1 in /home/alexa/miniconda3/envs/tf/lib/python3.9/site-packages (from aiohttp->datasets) (1.3.3)\r\n",
      "Requirement already satisfied: charset-normalizer<4.0,>=2.0 in /home/alexa/miniconda3/envs/tf/lib/python3.9/site-packages (from aiohttp->datasets) (3.1.0)\r\n",
      "Requirement already satisfied: multidict<7.0,>=4.5 in /home/alexa/miniconda3/envs/tf/lib/python3.9/site-packages (from aiohttp->datasets) (6.0.4)\r\n",
      "Requirement already satisfied: attrs>=17.3.0 in /home/alexa/miniconda3/envs/tf/lib/python3.9/site-packages (from aiohttp->datasets) (23.1.0)\r\n",
      "Requirement already satisfied: async-timeout<5.0,>=4.0.0a3 in /home/alexa/miniconda3/envs/tf/lib/python3.9/site-packages (from aiohttp->datasets) (4.0.2)\r\n",
      "Requirement already satisfied: aiosignal>=1.1.2 in /home/alexa/miniconda3/envs/tf/lib/python3.9/site-packages (from aiohttp->datasets) (1.3.1)\r\n",
      "Requirement already satisfied: typing-extensions>=3.7.4.3 in /home/alexa/miniconda3/envs/tf/lib/python3.9/site-packages (from huggingface-hub<1.0.0,>=0.11.0->datasets) (4.5.0)\r\n",
      "Requirement already satisfied: idna<4,>=2.5 in /home/alexa/miniconda3/envs/tf/lib/python3.9/site-packages (from requests>=2.19.0->datasets) (3.4)\r\n",
      "Requirement already satisfied: urllib3<3,>=1.21.1 in /home/alexa/miniconda3/envs/tf/lib/python3.9/site-packages (from requests>=2.19.0->datasets) (2.0.2)\r\n",
      "Requirement already satisfied: certifi>=2017.4.17 in /home/alexa/miniconda3/envs/tf/lib/python3.9/site-packages (from requests>=2.19.0->datasets) (2023.5.7)\r\n",
      "Requirement already satisfied: pytz>=2020.1 in /home/alexa/miniconda3/envs/tf/lib/python3.9/site-packages (from pandas->datasets) (2023.3)\r\n",
      "Requirement already satisfied: tzdata>=2022.1 in /home/alexa/miniconda3/envs/tf/lib/python3.9/site-packages (from pandas->datasets) (2023.3)\r\n",
      "Requirement already satisfied: python-dateutil>=2.8.2 in /home/alexa/miniconda3/envs/tf/lib/python3.9/site-packages (from pandas->datasets) (2.8.2)\r\n",
      "Requirement already satisfied: six>=1.5 in /home/alexa/miniconda3/envs/tf/lib/python3.9/site-packages (from python-dateutil>=2.8.2->pandas->datasets) (1.16.0)\r\n"
     ]
    }
   ],
   "source": [
    "!pip install datasets evaluate transformers"
   ]
  },
  {
   "cell_type": "code",
   "execution_count": 58,
   "id": "e9f2dd14",
   "metadata": {
    "pycharm": {
     "name": "#%%\n"
    }
   },
   "outputs": [],
   "source": [
    "import os\n",
    "\n",
    "# Data processing\n",
    "import pandas as pd\n",
    "import numpy as np\n",
    "\n",
    "# Modeling\n",
    "import tensorflow as tf\n",
    "from transformers import AutoTokenizer, AutoModelForSequenceClassification, TrainingArguments, Trainer, EarlyStoppingCallback\n",
    "\n",
    "# Hugging Face Dataset\n",
    "from datasets import Dataset\n",
    "\n",
    "# Model performance evaluation\n",
    "import evaluate"
   ]
  },
  {
   "cell_type": "code",
   "execution_count": 59,
   "id": "5f35c27a",
   "metadata": {
    "pycharm": {
     "name": "#%%\n"
    }
   },
   "outputs": [
    {
     "name": "stdout",
     "output_type": "stream",
     "text": [
      "<class 'pandas.core.frame.DataFrame'>\n",
      "Index: 18447 entries, 0 to 668\n",
      "Data columns (total 8 columns):\n",
      " #   Column              Non-Null Count  Dtype  \n",
      "---  ------              --------------  -----  \n",
      " 0   Unnamed: 0          18447 non-null  int64  \n",
      " 1   Дата                10873 non-null  object \n",
      " 2   Время               10873 non-null  object \n",
      " 3   Цена до             10873 non-null  float64\n",
      " 4   Цена после          10873 non-null  float64\n",
      " 5   Разница в долларах  10873 non-null  float64\n",
      " 6   Дельта в процентах  10873 non-null  float64\n",
      " 7   Текст новости       10873 non-null  object \n",
      "dtypes: float64(4), int64(1), object(3)\n",
      "memory usage: 1.3+ MB\n"
     ]
    }
   ],
   "source": [
    "df = pd.read_csv(\"data/amazon.csv\")\n",
    "\n",
    "for root, _, files in os.walk(\"data\"):\n",
    "    for filename in files:\n",
    "        temp_df = pd.read_csv(os.path.join(root, filename))\n",
    "        df = pd.concat([df, temp_df], axis=0, sort=False)\n",
    "\n",
    "df.info()"
   ]
  },
  {
   "cell_type": "code",
   "execution_count": 60,
   "id": "83010446",
   "metadata": {
    "pycharm": {
     "name": "#%%\n"
    }
   },
   "outputs": [
    {
     "data": {
      "text/plain": "                                           news_text  label\n0         Check Out What Whales Are Doing With NOC\\n      0\n1  What 7 Analyst Ratings Have To Say About North...      0\n2  7 Analysts Have This to Say About Northrop Gru...      0\n3  Benzinga's Top Ratings Upgrades, Downgrades Fo...      0\n5  Looking Into Northrop Grumman's Recent Short I...      1",
      "text/html": "<div>\n<style scoped>\n    .dataframe tbody tr th:only-of-type {\n        vertical-align: middle;\n    }\n\n    .dataframe tbody tr th {\n        vertical-align: top;\n    }\n\n    .dataframe thead th {\n        text-align: right;\n    }\n</style>\n<table border=\"1\" class=\"dataframe\">\n  <thead>\n    <tr style=\"text-align: right;\">\n      <th></th>\n      <th>news_text</th>\n      <th>label</th>\n    </tr>\n  </thead>\n  <tbody>\n    <tr>\n      <th>0</th>\n      <td>Check Out What Whales Are Doing With NOC\\n</td>\n      <td>0</td>\n    </tr>\n    <tr>\n      <th>1</th>\n      <td>What 7 Analyst Ratings Have To Say About North...</td>\n      <td>0</td>\n    </tr>\n    <tr>\n      <th>2</th>\n      <td>7 Analysts Have This to Say About Northrop Gru...</td>\n      <td>0</td>\n    </tr>\n    <tr>\n      <th>3</th>\n      <td>Benzinga's Top Ratings Upgrades, Downgrades Fo...</td>\n      <td>0</td>\n    </tr>\n    <tr>\n      <th>5</th>\n      <td>Looking Into Northrop Grumman's Recent Short I...</td>\n      <td>1</td>\n    </tr>\n  </tbody>\n</table>\n</div>"
     },
     "execution_count": 60,
     "metadata": {},
     "output_type": "execute_result"
    }
   ],
   "source": [
    "df = df.drop_duplicates(subset=[\"Текст новости\"], keep=False)\n",
    "df.drop(columns=[df.columns[0], \"Разница в долларах\", \"Дельта в процентах\"], axis=1, inplace=True)\n",
    "df.rename(columns={\"Цена до\": \"price_before\", \"Цена после\": \"price_after\", \"Дата\": \"date\", \"Время\": \"Time\", \"Текст новости\": \"news_text\"}, inplace=True)\n",
    "\n",
    "df[\"absolute_price_difference\"] = df[\"price_after\"] - df[\"price_before\"]\n",
    "df[\"percentage_price_difference\"] = df[\"absolute_price_difference\"] / df[\"price_before\"] * 100\n",
    "df[\"label\"] = np.where(df[\"absolute_price_difference\"] > 0, 1, 0)\n",
    "df = df[[\"news_text\", \"label\"]].copy()\n",
    "df.head()"
   ]
  },
  {
   "cell_type": "code",
   "execution_count": 61,
   "outputs": [
    {
     "name": "stdout",
     "output_type": "stream",
     "text": [
      "<class 'pandas.core.frame.DataFrame'>\n",
      "Index: 3593 entries, 0 to 667\n",
      "Data columns (total 2 columns):\n",
      " #   Column     Non-Null Count  Dtype \n",
      "---  ------     --------------  ----- \n",
      " 0   news_text  3593 non-null   object\n",
      " 1   label      3593 non-null   int64 \n",
      "dtypes: int64(1), object(1)\n",
      "memory usage: 84.2+ KB\n"
     ]
    }
   ],
   "source": [
    "df.info()"
   ],
   "metadata": {
    "collapsed": false,
    "pycharm": {
     "name": "#%%\n"
    }
   }
  },
  {
   "cell_type": "code",
   "execution_count": 62,
   "id": "4eaf0b52",
   "metadata": {
    "pycharm": {
     "name": "#%%\n"
    }
   },
   "outputs": [
    {
     "name": "stdout",
     "output_type": "stream",
     "text": [
      "The training dataset has 2874 records.\n",
      "The testing dataset has 54 records.\n"
     ]
    }
   ],
   "source": [
    "train_data = df.sample(frac=0.8, random_state=42)\n",
    "\n",
    "# Testing dataset\n",
    "test_data = df.drop(train_data.index)\n",
    "\n",
    "# Check the number of records in training and testing dataset.\n",
    "print(f'The training dataset has {len(train_data)} records.')\n",
    "print(f'The testing dataset has {len(test_data)} records.')"
   ]
  },
  {
   "cell_type": "code",
   "execution_count": 63,
   "outputs": [
    {
     "data": {
      "text/plain": "[\"Will Chart Analysts Notice Bad Omen on Netflix's Chart\\n\",\n \"Tuesday's Market Minute: Goodbye, January\\n\",\n 'Mid-Afternoon Market Update: Nasdaq Tumbles 300 Points; Neuronetics Shares Spike Higher\\n',\n 'Why This Pfizer Analyst Is Sidelined After Beat-And-Raise Q1\\n',\n \"Benzinga's Top Upgrades, Downgrades For October 28, 2020\\n\",\n 'YouTube To Delete Videos On Vaccine Misinformation\\n',\n 'CEO Eyes Breakthrough Year as DroneUp Ramps Up Walmart Delivery Pilot\\n',\n 'RTFKT, Owned By Nike, Permits Commercial Rights To NFTs For CloneX Holders\\n',\n 'Mid-Morning Market Update: Markets Open Lower; Pfizer To Acquire Arena Pharmaceuticals\\n',\n \"Health Canada Approves Moderna's COVID-19 Vaccine For Kids Aged 6-11 Years\\n\",\n \"60 Stocks Moving In Friday's Mid-Day Session\\n\",\n \"Online Backlash Percolates Over Elon Musk's 'SNL' Hosting Gig\\n\",\n '300M Dogecoin Moved In One Go As Market Enthusiasm Sends Whales Into Frenzy\\n',\n 'Is Apple Headed To $173 Next? What To Expect As The Stock Breaks Bullishly From This Pattern\\n',\n 'This Analyst Sees 32% Upside In Netflix - Read Why?\\n',\n 'Apple Whale Trades For January 05\\n',\n 'Stock Wars: American Airlines Vs. United Airlines\\n',\n '5 Simple Things Everyone Can Know To Understand NFTs Better\\n',\n \"38 Stocks Moving In Friday's Mid-Day Session\\n\",\n \"Disney Plans Live-Action Remake Of 'The Aristocats'\\n\",\n \"Why Is It Moving? Looking Into Why Moderna's Stock is Trading Higher Today\\n\",\n 'Genius Brands Announces Buyout Of ChizComm\\n',\n 'NY Times Questions How Elon Musk Was Shaped By Childhood In Apartheid South Africa: What You Need To Know\\n',\n 'AMD Completes Xilinx Acquisition: All You Need To Know\\n',\n 'Walt Disney Whale Trades For December 08\\n',\n 'Mid-Day Market Update: Gold Rises 1.7%; Lightspeed Commerce Shares Plunge\\n',\n \"Lockheed Martin's Sikorsky Bags H-60 Black Hawk Helicopter Contract From US Army\\n\",\n 'Apple Watch With Pride Bands Could Hit Stores This Week\\n',\n 'Citigroup Looks To Hire Over 4K Tech Specialists To Tap Pandemic Induced Digital Boom\\n',\n 'Twitter Boots Trump, Stock Falls: What Investors Need To Know\\n',\n \"Boeing, FuelCell And Sunrun Stocks Defy S&P 500, Move Higher: What's Next?\\n\",\n \"Here's How Much You Would Have Made Owning AMD Stock In The Last 5 Years\\n\",\n 'Analysis: Do Language Clues Point To Early Friction Between Elon Musk And Twitter?\\n',\n 'Lockheed Martin Corporation (LMT): The Winning Streak Continues\\n',\n 'Advanced Micro Devices Whale Trades For July 01\\n',\n 'SoftBank Reports Robust Q3; Uber, DoorDash Drive Vision Fund Investment Value\\n',\n 'Alphabet, Twitter Top Online Media Recovery Stocks For 2021: BofA\\n',\n \"Is Putin Darth Vader? Luke Skywalker Helps Ukraine Use The Force Against 'The Evil Empire'\\n\",\n 'Boeing Whale Trades For September 20\\n',\n 'Elon Musk Says Twitter Poll Had No Impact On Tesla Stock Sale\\n',\n 'Truman Makes First Televised Presidential Address: This Day In Market History\\n',\n \"Christmas Week's Earnings Repertoire\\n\",\n 'Citi Upgrades AMD To Neutral, Increased Price Target Implies 8.5% Upside\\n',\n \"Intel's $20B Capex Plans Could Affect Q1 Results: WSJ\\n\",\n \"Neutral Video Platform Rumble Going Public Via SPAC: What Investors Should Know And It's Connection To Donald Trump\\n\",\n 'Nike Whale Trades For June 14\\n',\n 'Is Monkeypox Outbreak Cooling? Health Officials Says Virus Transmission Has Slowed\\n',\n 'Why Texas Instruments Shares Are Diving Lower Tuesday\\n',\n 'Pfizer, Moderna Vaccines, Gilead Treatment In Focus As Health Firms Report Q3 Earnings\\n',\n 'Disney CEO Warns Of Production Delays, Stock Falls\\n',\n \"Why Carnival Shares Are Trading Lower By 19%, Here Are 49 Stocks Moving In Friday's Mid-Day Session\\n\",\n 'Pfizer-BioNTech Reveals Updated Longer-Term Data On COVID-19 Shot In Adolescents\\n',\n 'Trending On Twitter: #ElonsProblems Inspires Anger And Empathy For Elon Musk\\n',\n \"Analyzing Moderna Inc's Short Interest\\n\",\n \"Qualcomm Opposes Nvidia's $40B Arm Deal: CNBC\\n\",\n \"'Halftime Report' Final Trades Of The Day: PayPal, Disney And Jumia\\n\",\n 'Why This Investor Keeps Buying Moderna Shares As The Stock Falls\\n',\n 'Twitter Whale Trades For September 06\\n',\n \"AMC, IMAX Tout Pumped Up Box Office Thanks To Disney's 'Shang-Chi And The Legend Of The Ten Rings'\\n\",\n \"EXCLUSIVE: Michael Crawford On What's Next For Hall of Fame Resort & Entertainment Company\\n\",\n \"Boeing's 787 Certification Documents Incomplete Reveals FAA: Report\\n\",\n 'Pfizer Files For FDA Emergency Use Nod For Its COVID-19 Antiviral Pill\\n',\n 'Harold Hamm Purchases $20 Million Worth Of Continental Resources\\n',\n \"Johnson & Johnson's COVID-19 Vaccine Less Effective Against Hospitalization, French Study Shows\\n\",\n \"9 Consumer Discretionary Stocks With Whale Alerts In Today's Session\\n\",\n 'Moderna Gets Full Approval Of COVID-19 Vaccine In Canada (Ahead Of US)\\n',\n 'Pfizer Resumes Dosing In Phase 3 Hemophilia Gene Therapy Trial Six Months After FDA Lifts Clinical Hold\\n',\n \"Pfizer's Paxlovid Scores FDA Approval, First Oral Antiviral For COVID-19 In US\\n\",\n \"Top Kelly Blue Book Executive On Why Tesla's Market Share Will Plummet Next 5 Years\\n\",\n \"Twitter Analysts React To Earnings Beat: 'Ad Ramp Is Just Getting Started'\\n\",\n \"'It's Not Been This Cheap Ever Before': Why Pete Najarian Bought Nvidia Stock Ahead Of Earnings\\n\",\n \"Disney Ignores Scandal With Armie Hammer For 'Death On The Nile' Marketing Campaign\\n\",\n \"Searches for 'Buy Netflix Stock' Explode 931% Following Share Price Plummet For Streaming Giant\\n\",\n 'Two Doses Pfizer-BioNTech COVID-19 Vaccine Necessary To Generate Immune Response Against Variants, UK Study Show: Reuters\\n',\n 'Cramer Shares His Thoughts On CVS Health, T-Mobile, More\\n',\n \"Vitalik Buterin 'Full Of S***': Martin Shkreli Bashes Ethereum Founder, NFTs In Latest Crypto Talk\\n\",\n 'Microsoft Prepares To Win Unconditional EU Approval For Nuance Deal\\n',\n 'Short Seller Spruce Point Is Betting Against Billionaire Tesla Bull Ron Baron On This Stock\\n',\n \"Apple's Bet On This Chinese Company Cost It $800M, But There's A Lesson To Learn, Gene Munster Says\\n\",\n \"Why Cowen Is Bullish On Boeing: '2022-24 Look Brighter'\\n\",\n 'MLB Drops Topps After 70 Years, Trading Card SPAC Deal Terminated\\n',\n \"Alfi's Facial Recognition Technology Protects Users, Transforms Brands\\n\",\n 'Moderna Analyst Questions Whether COVID-19 Opportunity Can Support Valuation\\n',\n \"How Wirex Expanded And What The Future Holds For Crypto As 'An Everyday Utility'\\n\",\n 'Michael Burry Puts His Money Where His Mouth Is For Market Crash Prediction: But Did He Sell Too Soon?\\n',\n \"Why Is The 2016 'Ghostbusters' Excluded From The Franchise's New Box Set Collection?\\n\",\n 'Disney Heir Comes Out As Transgender, Faults Legislation Aimed At Trans Youth\\n',\n \"What's Happening With AMD Stock, Ford Stock And Lizhi Stock On Tuesday?\\n\",\n 'Why Netflix Stock Could Plummet Unless Bulls Step In Following Q4 Earnings\\n',\n \"Intel's Autonomous Car Driving Unit Confidentially Files For US IPO\\n\",\n \"'Halftime Report' Final Trades: Boeing, Navient And More\\n\",\n 'Comic-Con Cancels For Second Straight Year, Plans Smaller Show For November\\n',\n 'UK Labour Politician Slammed For Quoting Ayn Rand\\n',\n \"44 Stocks Moving In Wednesday's Mid-Day Session\\n\",\n \"A Superstitious Reed Hastings Celebrates 200M Netflix Subscribers With Denny's Meal\\n\",\n 'Barclays Sees Apple Vulnerable To TAC Pressure From Google\\n',\n 'Is It Time To Buy Netflix Stock?\\n',\n \"What's The Deal With #CashAppForHotties And Megan Thee Stallion?\\n\",\n \"Here's Why Northland Sees Huge Upside In Luminar Tech\\n\",\n 'TSM To Build Chip Factory In Taiwan, Specialty Technology Fab In Japan\\n',\n \"30 Stocks Moving In Friday's Mid-Day Session\\n\",\n 'This Are The 5 Largest European Stocks\\n',\n \"What's Going On With Apple Stock?\\n\",\n 'Notable Twitter Insider Makes $270K Sale\\n',\n \"What's Going On With Palantir Technologies Stock?\\n\",\n 'Jon Najarian Sees Unusual Options Activity In T-Mobile And Twitter\\n',\n 'Shorts Get Slammed After Square Stock Skyrockets On Q2 Earnings, Afterpay Acquisition\\n',\n 'Netflix Stock Plummets 20%: A Technical Analysis\\n',\n 'Stock Wars: Ford Vs. Tesla\\n',\n \"Too Hot: Jobs Growth Near Estimates, But Still Too Strong for the Market's Liking\\n\",\n 'Why Boeing Stock Could See A Pennant Pattern Breakout In The Coming Weeks\\n',\n 'Mid-Day Market Update: Crude Oil Down 1%; Xeris Biopharma Shares Jump\\n',\n 'Google, Microsoft Search Engine Users Fall Prey To Malvertising\\n',\n \"Here's Why Jon Najarian Is Holding GameStop Call Options Through Earnings\\n\",\n \"Here's How Much $1000 Invested In Twitter 5 Years Ago Would Be Worth Today\\n\",\n 'Why Moderna, uniQure And Novavax Are Moving Today\\n',\n \"A Preview Of Pfizer's Earnings\\n\",\n 'Weibo Plays With the Big Boys in Numbers, But Investors Still Worry\\n',\n 'Why Meta Platforms, Boeing, Canopy Growth Look Set For Continuation And How To Trade The Move\\n',\n 'Why Global Travel Trends Are Turning This Boeing Analyst Bullish\\n',\n \"Jim's Bargain Bin: Why Cramer Just Bought Disney And This Year's Worst-Performing Dow Jones Stock\\n\",\n \"A Preview Of Northrop Grumman's Earnings\\n\",\n 'As Global Recession Looms, These 3 Dividend Kings Are Primed To Benefit From The Sale Of Necessities\\n',\n \"AMC CEO Taunts Short Sellers As 'Thor' Leads Hot Weekend Box Office\\n\",\n 'Tesla Agrees To Recall 134,951 Model S, X Vehicles After Regulator Finds Issues With Touch Screen Display\\n',\n \"Apple's At Home Repair Places Obstacles To Ensure Control: Right To Repair Activist\\n\",\n 'Costco Down After Earnings as Analysts Fret About Company Facing Higher Costs\\n',\n 'How Is Nvidia Trying To Win The Arm Deal?\\n',\n 'Lululemon Launches Footwear Collection: What Investors Should Know\\n',\n 'Under Armour Posts Q3 Beat, Sells MyFitnessPal: What Investors Need To Know\\n',\n 'Foghorn Therapeutics Shares Surge\\n',\n \"What's Going On With Boeing Stock Today?\\n\",\n \"Benzinga's Top Ratings Upgrades, Downgrades For February 25, 2021\\n\",\n 'Oscar Telecast Sells Out Advertising Slots Despite Historically Low Award Show Ratings\\n',\n \"Why Elon Musk's Tesla Is Down Over 10% Since Wednesday\\n\",\n 'Pfizer, Moderna Opt Out Of White House Vaccine Summit: Report\\n',\n 'American Idol NFTs Are Coming: Here Are The Details And How You Can Win Prizes During The Competition\\n',\n \"Tuesday's Market Minute: First Trading Day of 2022\\n\",\n \"Why Is Conagra Brands Dropping By More Than 8%? 43 Stocks Moving In Thursday's Mid-Day Session\\n\",\n \"Mid-Afternoon Market Update: Honest Co Falls After Q2 Results; Pilgrim's Pride Shares Jump\\n\",\n 'Pete Najarian Sees Unusual Options Activity In Nike And Vale\\n',\n 'SpiderOak, Lockheed Martin Enter Space Cybersecurity + Blockchain Collaboration\\n',\n 'From Mars To Your Hands: KULR Is Making Electronics Cooler And Safer\\n',\n 'Citi Recommends Nvidia, Marvell To Seek Refuge Amid Semiconductor Downturn\\n',\n \"Michael Pollan's 'How To Change Your Mind' Now On Netflix, Here Are Reactions From Experts\\n\",\n \"Disney Gets CNBC's Fast Money Call Of The Day With These Final Trades\\n\",\n 'BZ Chart Of The Day: Where Will The AMD Bloodbath End?\\n',\n 'Why Jim Cramer Is Buying More Disney Stock Today\\n',\n 'A Surprising Collaboration for Walmart вЂ” Great Quarter, Guy\\n',\n \"BMO Capital Maintains Outperform Rating for Target: Here's What You Need To Know\\n\",\n 'Will AMD Recover And Hit New All-Time High Following Q4 Results? This Analyst Thinks So\\n',\n 'A Look At Tesla As The Stock Charges Into AI Day 2022\\n',\n 'NVIDIA Whale Trades For December 13\\n',\n 'Pfizer Whale Trades For December 17\\n',\n 'Moderna Whale Trades For December 06\\n',\n 'More Analysts Re-Rate Netflix Ahead Of Q1 Earnings\\n',\n \"Here's How Much $1000 Invested In Walt Disney 20 Years Ago Would Be Worth Today\\n\",\n 'Canadian Passenger Airline WestJet To Launch Freighter Division\\n',\n 'US Jury Finds Pharmacy Chains Did Not Monitor Opioid Usage, Thus Fueling Epidemic: Reuters\\n',\n 'ROCE Insights For Twitter\\n',\n 'Why Roku And Nvidia Are Trading Higher Today\\n',\n 'How To Navigate The Ukraine Crisis-Induced Market Chaos\\n',\n '2 Dividend Stocks The Activist Investor Behind Disney Has Also Been Buying\\n',\n 'Why BioNTech Shares Are Trading Higher Today\\n',\n 'Why Nvidia Stock Analysts Are Bullish After Q2 Earnings\\n',\n 'Novavax Shares Surge On Vaccine Supply Deal With Japan\\n',\n 'Mark Pincus, Reid Hoffman Launch Third SPAC: What You Need To Know\\n',\n \"Benzinga's Top Ratings Upgrades, Downgrades For January 14, 2022\\n\",\n 'Holiday Heroes: Shipt is Ready for Last-Minute Needs\\n',\n \"If You Invested $1,000 In Pfizer Stock At Its Pandemic Low, Here's How Much You'd Have Now\\n\",\n \"Endo Launches Generic Version Of Pfizer's Smoking Cessation Pill\\n\",\n 'China Cuts Quarantine Times In Half For International Visitors\\n',\n \"Elon Musk's 6-Day Silence On Twitter Unlikely To Be About Tesla, Analyst Says\\n\",\n \"Semiconductor Chip Crisis Continues to Stimulate Chipmakers' Revenue: CNBC\\n\",\n \"Zipline's Drone Delivery Of Pharmaceuticals Earns $2.75B Valuation\\n\",\n 'Twitter Suspends Conservative Talk Show Host Charlie Kirk Over Rachel Levine Tweet\\n',\n 'Lower Than Expected Housing Starts and Building Permits Could Be Problems for Homebuilders\\n',\n \"You May Have To Wait Longer For Your New iPhone. Why That's Good For Apple\\n\",\n \"If You Invested $1,000 In Nvidia At Its IPO, Here's How Much You'd Have Now\\n\",\n \"Is Netflix Headed Back To $300? Here's Why Wells Fargo, BMO Say Yes\\n\",\n 'Is Tesla Stock Fair Priced? This Analyst Thinks So\\n',\n 'Why Rotation Out Of Chinese Tech Stocks Bodes Well For Apple, Microsoft And US Tech Stocks\\n',\n 'This Analyst Previews Texas Instruments, Intel Ahead Of Quarterly Results\\n',\n \"Twitter Has Not Responded To Russia's Request: Reuters\\n\",\n \"Civil Rights Leader Urges Twitter To Reject Elon Musk's Takeover Offer: What You Need To Know\\n\",\n 'BZ Chart Of The Day: Apple Tests Critical Support\\n',\n \"12 Consumer Discretionary Stocks Moving In Wednesday's Intraday Session\\n\",\n 'Boeing 777 Experiences Engine Problem Again, This Time Over Russia\\n',\n '4 Analysts Have This to Say About Pfizer\\n',\n \"12 Industrials Stocks Moving In Tuesday's Intraday Session\\n\",\n \"'Fast Money Halftime Report' Picks For May 20\\n\",\n 'Contingency Planning Guides Pfizer Vaccine Distribution Flow\\n',\n 'S&P 500 Circles New 2022 Lows Following Latest Fed Rate Hike: Is A Recession Inevitable?\\n',\n \"How Netflix's 'The Crown' Benefited From Prince Harry, Meghan Markle Interview\\n\",\n 'Expert Ratings for Advanced Micro Devices\\n',\n \"'Deadpool' Screenwriters Promise Disney Will Not Soften Their Next Film\\n\",\n \"Germany Acknowledges Colonial-Era 'Genocide' In Namibia And Offers $1.3B In Atonement\\n\",\n 'Investors Cheer Gridlock Potential That Could Prevent Tax, Tech, Health Care Overhauls\\n',\n \"Funko To Launch 'Popsies' Greeting Displays Exclusively At Walmart\\n\",\n \"(TWTR) - Analyzing Twitter Inc's Short Interest\\n\",\n \"Boeing's Stock Is Entering Do-Or-Die Time\\n\",\n 'Fyllo Raises $40M In Series C Round Led By Eminence Capital, Will Fund New Hires & Acquisitions\\n',\n \"Todos Medical CEO to Appear on Yahoo Finance Live! at 12:10PM EST with Akiko Fujita to Talk Pfizer's Paxlovid Approval, Tollovirв„ў Phase 2 & COVID Testin2021-12-22 14:30:58 59.750000  59.240002  -0.5 -0.8 Why Pete Najarian Thinks Pfizer Has 'A Lot More Room To The Upside'\\n\",\n 'Merck Cashes Out Direct Investment In Moderna After 600% Year-To-Date Stock Gain\\n',\n 'Analyst Ratings for Boeing\\n',\n 'What To Make Of SNAP As Stock Slips On Poor Earnings\\n',\n 'Pfizer Inc.: The Winning Streak Continues\\n',\n 'Why This Apple, Qualcomm Analyst Says The Stocks Are Vulnerable To Shift In Consumer Spending\\n',\n \"Northrop Grumman's Q1 Bottom-Line Beats Street View; Reaffirms FY22 Guidance\\n\",\n 'Lockheed Martin Corporation (LMT) Climbs to Annual-High Share Price\\n',\n 'Stripe To Allow USDC Stablecoin Payments вЂ” Including To Twitter Content Creators вЂ” On The Polygon Blockch\\n',\n \"3 AMD Analysts Dissect Chipmaker's Q4 Earnings, Guidance Beat\\n\",\n 'Why This Investor Is Buying More Nike, Stitch Fix And Verizon Stock\\n',\n 'Why Nvidia Stock Must Hold This Key Level To Recover\\n',\n 'A Look At Tesla Stock As Investors Await Post-Labor Day Market Shift\\n',\n \"Read Raymond James' Take On AT&T Ahead Of Its 2Q Results\\n\",\n \"What's Next After Moderna Sees Good Earnings And Pushes Higher?\\n\",\n 'Why AMD Stock Is Rising Today\\n',\n 'Why Arbutus Shares Are Soaring Today\\n',\n 'This SPAC Is Helping Brew New Beer For Goose Island: What Investors Should Know\\n',\n 'Pfizer, AstraZeneca or J&J COVID-19 Shots Boost Sinovac Regime, Brazilian Study Shows\\n',\n \"Elon Musk Says 'D**k Move' On Bill Gates' Part Over Allegations Of Backing 'Dark Money Fund'\\n\",\n 'A Movie About Something: Jerry Seinfeld Bringing Pop-Tarts Origin Story To Netflix\\n',\n 'Academy Awards Telecast Ratings Crash To Historic Low\\n',\n 'This Apple Co-Founder Sold His Stake For $800: How Much Would It Be Worth Now?\\n',\n 'Wells Fargo Cuts Lockheed Martin Price Target By ~18%\\n',\n 'How David Green Traded Moderna For A Big Profit On Monday Morning\\n',\n \"Tesla Removes About 80 Miles Of Customer's Available Battery Capacity Via Software Restriction\\n\",\n \"Britain Approves Moderna's COVID-19 Vaccine For Kids Aged 6-11 Years\\n\",\n 'Morgan Stanley Makes Tesla Prediction For 2023, Cuts Price Target As Production Headwinds Linger\\n',\n 'NVIDIA Whale Trades For May 27\\n',\n \"Disney Debuts Trailer For LGBTQ Rom-Com 'Fire Island'\\n\",\n \"Here's When You Can Enjoy The Super Mario Kart Ride At An US Theme Park\\n\",\n 'You Ask, We Analyze: Why Apple Stock May Remain Volatile Heading Into Fed Meeting, Monthly Opex\\n',\n 'General Electric Announces Plans to Split Up into Three Companies\\n',\n \"Joe Rogan Takes Potshot At Kamala Harris Over Brittney Griner 'Hypocrisy' - But Is He Correct?\\n\",\n 'Hypebeast SPAC Deal: Inside The Company Tom Brady, Kevin Durant And Others Are Investing In\\n',\n \"'Halftime Report' Final Trades Of The Day: Disney, CDW\\n\",\n 'Stock Index Futures Point to a Higher Open as Equities Cling to a 5-Week Win Streak\\n',\n 'Shaq Launches NFT Collection, Shows Growing Interest By Adding Shaq.ETH to Portfolio And Twitter Bio\\n',\n 'Mid-Day Market Update: Welbilt Surges Following Acquisition News; Unique Fabricating Shares Plummet\\n',\n 'Could Joe Rogan Leave Spotify For Rumble?\\n',\n 'COVID-19 Booster Shots Coming In September: Stocks To Watch\\n',\n 'Why Intel Shares Are Moving Today\\n',\n \"Benzinga's Top Ratings Upgrades, Downgrades For February 9, 2022\\n\",\n 'Why This Netflix Analyst Is Turning Bearish\\n',\n 'Why Boeing Shares Are Getting Hammered\\n',\n 'Check Out What Whales Are Doing With Lockheed Martin\\n',\n \"Benzinga's Top Upgrades, Downgrades For January 4, 2021\\n\",\n 'Is Now The Time To Buy BA Stock, CLSK Stock Or PARR Stock?\\n',\n 'Wall Street Crime And Punishment: Robert Vesco Takes The Money And Runs\\n',\n 'Facebook Apps Can Make People Lonelier, Internal Research Says\\n',\n \"So What's Up With Amazon And Moderna Today?\\n\",\n 'A Bullish Sign For Apple, Meta Platforms And PayPal Stocks: What The Charts Are Saying\\n',\n \"Stock Indices Struggling to Build on Tuesday's Record Highs\\n\",\n \"Rosenblatt Maintains Neutral Rating for Netflix: Here's What You Need To Know\\n\",\n \"Technical Analysis: Why Nvidia Stock Looks Like It's Reversing\\n\",\n 'Dow Tumbles 450 Points; JPMorgan Shares Drop Following Earnings Miss\\n',\n 'You Ask, We Analyze: Why Advanced Micro Devices May Be Set To Bounce\\n',\n \"Peering Into Walmart's Recent Short Interest\\n\",\n \"Netflix's Next Big Hit May Come From Serious Pedigree: Game Of Thrones\\n\",\n 'Jamf Analysts Find Apple As A Significant Competitive Advantage; Hail Its Growth Alongside Players Like Microsoft\\n',\n 'Should You Buy The Dip In Boeing Today?\\n',\n 'Qualcomm Claims Unabated Growth Without Apple Which Aims Towards Self Sufficiency By 2023\\n',\n '3 Bed Bath & Beyond Analysts On Kroger Partnership, Stock Buyback And More\\n',\n 'How Is The Market Feeling About Lockheed Martin Corporation?\\n',\n \"Fed Minutes Later Today Loom Large As Investors Seek Insight Into FOMC's Next Steps\\n\",\n 'Boeing, NASA Delay CST-100 Starliner Takeoff, Relaunch Date Unknown\\n',\n 'Why Stephanie Link Says These Two Growth Stocks Are A Better Bet Than Microsoft\\n',\n \"Why Luminar Shares Are Rising Today and What's Its Connection To Apple Car?\\n\",\n 'Return On Capital Employed Overview: NVIDIA\\n',\n 'Analysts Bump Up Qualcomm Price Target Post Q4 Beat\\n',\n \"Tesla Denies Report Of Legal Chief's Departure, Triggering A Clap Back From Elon Musk's Mom On Twitter\\n\",\n \"If You Invested $1,000 In Nvidia Stock When Jim Cramer Named His Dog After Tech Giant, Here's How Much You'd Have\\n\",\n \"Benzinga's Top Ratings Upgrades, Downgrades For October 12, 2021\\n\",\n \"What To Know About Twitter Fleets And How It's Like Snapchat, Instagram Stories\\n\",\n 'Moderna Shares Hit Fresh Record Highs Amid Continuing COVID-19 Vaccine News\\n',\n \"Here's How Much $1000 Invested In Lockheed Martin 20 Years Ago Would Be Worth Today\\n\",\n \"6 Industrials Stocks Showing Unusual Options Activity In Today's Session\\n\",\n 'Shares Of NVIDIA Corporation (NVDA) Rise Above Previous 52-Week High\\n',\n 'Pfizer Inc. Climbs to Annual-High Share Price\\n',\n 'Pharma Heavyweights, Including Pfizer And JNJ Trying To Push Global Tax Deal Amid COVID-19 Role: WSJ\\n',\n 'Expert Ratings For Pfizer\\n',\n 'Into Marathon\\n',\n 'Emirates Delivers First COVID-19 Vaccines To UAE\\n',\n 'Apple Insider Trades $3.7M In Company Stock\\n',\n \"Cboe's Weekly Market Recap: May 16th to May 20th\\n\",\n \"Benzinga's Top Ratings Upgrades, Downgrades For December 9, 2021\\n\",\n '5 Stocks Insiders Are Selling: Alphabet, Moderna And More\\n',\n 'Analyst Ratings For Lockheed Martin\\n',\n 'Where Walmart Stands With Analysts\\n',\n 'EXCLUSIVE From Bitcoin 2022: How To Increase Liquidity, Efficiency In Cryptocurrency Markets\\n',\n 'Mid-Morning Market Update: Markets Open Lower; Target Posts Upbeat Earnings\\n',\n 'Bill Ackman May Have Dumped Netflix, But Here Are 3 Dividend Stocks Pershing Square Is Still Holding\\n',\n \"Pfizer's Unusual Options Spotted\\n\",\n \"Meet LinaBell, The Most Popular Disney Character You've Never Seen (Unless You're In China)\\n\",\n 'Boeing Delivers 95 Aircraft In Q1\\n',\n \"What's Going On With Netflix Shares Falling Today?\\n\",\n \"If You Invested $1,000 In Advanced Micro Devices Stock At Its COVID-19 Pandemic Low, Here's How Much You'd Have Now\\n\",\n 'Etsy, Lululemon, Moderna Form Bullish Patterns: What To Watch\\n',\n \"Big Regret: How Bill Gates' Microsoft Missed Out On $159B By Selling Apple Stock WAY Too Early\\n\",\n '$1000 Invested In Nike 5 Years Ago, Would Be Worth This Much\\n',\n \"12 Health Care Stocks Moving In Thursday's Intraday Session\\n\",\n \"A Poop Emoji And A 'Call' To Action: Elon Musk's Advice For Twitter CEO On Fixing Spam\\n\",\n \"Disney+ Presents Streaming Debut Of Original 'Muppet Show'\\n\",\n \"Joe Terranova Is Buying This Stock: Wednesday's CNBC 'Fast Money' Final Trades\\n\",\n 'Mid-Morning Market Update: Markets Mostly Higher; Dow Rises 100 Points\\n',\n 'Advanced Micro Devices Whale Trades For October 18\\n',\n 'Price To Earnings Ratio Insights For NVIDIA\\n',\n 'Moderna Scraps mRNA-Based Antibody Program Targeting Chikungunya Virus\\n',\n 'Microsoft Looks To Use 5G Wireless To Make Cloud Faster\\n',\n 'Cramer Gives His Opinion On Enphase Energy, Advanced Micro Devices, More\\n',\n 'Why Comcast Could Be Ready To Cash In On Hulu Stake Sale With Disney\\n',\n \"Frank Oz: Disney 'Doesn't Want Me' For New Muppet Projects\\n\",\n 'NVIDIA Whale Trades For May 04\\n',\n \"Beyond Meat CEO Says Making Plant-Based Foods Indistinguishable From Animal Protein Remains 'Holy Grail'\\n\",\n \"Monday's Market Minute: From Non-Farm Payrolls To Inflation Figures\\n\",\n \"Here's Why AMD Shares Are Falling\\n\",\n \"This CEO Explains How Shiba Inu Can Reach $0.01 'Through Entertainment'\\n\",\n \"Tesla, AbbVie Are CNBC 'Fast Money' Mentions; Steve Weiss Is Shorting This ETF\\n\",\n 'Benzinga Asks: Are You Buying Crypto Or NFTs As Gifts For The Holidays? Here Are The Results\\n',\n 'Is Luka Doncic A Legitimate Top 5 Player? Will LA Choke Again? Answers Tonight In Clippers-Mavericks Game 6\\n',\n 'Trading Ideas For Nvidia Stock Before And After Q2 Earnings\\n',\n 'Disney Reaches Deal With Florida Unions On Employee Vaccinations\\n',\n 'Deere Earnings Greeted With Cheer As Company Cites Improved Equipment Demand\\n',\n 'How Is The Market Feeling About Walmart?\\n',\n 'Amazon, Alphabet Earnings Pack A Wallop, Helping Drive Early Market Strength\\n',\n 'Expert Ratings for Twitter\\n',\n \"Why Netflix's Video Game Launch Is Critical For Streaming Platform: Matthew Ball\\n\",\n 'Target: 5 Analysts Cut Price Target After The Retailer Lowers Guidance\\n',\n 'We\\'re \"Buyers Of NVDA\" Amid Gaming Trough, Bullish Analyst Touts Ahead of Earnings\\n',\n \"'Fast Money Halftime Report' Picks For July 8\\n\",\n \"Psyched: Seattle Decriminalizes Psychedelics, Psilocybin Increases Emotions From Music, Novamind's Palliative Care Program\\n\",\n 'Thinking About Buying Stock In Tesla, Boeing, Nio Or Plug Power?\\n',\n 'Report Indicates Apple Inc. May Launch Autonomous Car by 2025\\n',\n \"Facebook Joins TikTok: What Does The Move Mean For Meta's Growth?\\n\",\n \"Biden's Set To Sign Executive Order To Chip Shortages, Supply-Chain Crisis: WSJ\\n\",\n '6 Passengers On Royal Caribbean Cruise Test Positive For COVID-19\\n',\n \"What Big 'Squid Game' Profits Mean For Netflix\\n\",\n 'What 6 Analyst Ratings Have To Say About Boeing\\n',\n \"Here's Why This Analyst Initiated Coverage On Applovin, ironSource, Unity Software\\n\",\n '4 Stocks To Watch With Connections To Donald Trump\\n',\n 'Cramer Says General Electric Has A Portfolio Made For Biden\\n',\n '$1000 Invested In Apple 10 Years Ago Would Be Worth This Much Today\\n',\n \"Trade Options Like A Pro вЂ” Check Nike's Big Money Trade\\n\",\n 'Earnings Triple Crown After Close As Facebook, Apple, Tesla Prepare To Report\\n',\n '3 Stay-At-Home Stocks Are Here To Stay, Cramer Says\\n',\n \"Why Virios Therapeutics Is Trading Lower By Over 71%, Here Are 55 Stocks Moving In Monday's Mid-Day Session\\n\",\n 'Tigress Financial Is Bullish On Apple - Read Why\\n',\n 'Apple Whale Trades For October 11\\n',\n 'Why Nvidia Stock Is Trading Higher Today\\n',\n 'Read How Ryanair Performed In Q1 Amid Fragile Industry Recovery\\n',\n 'American Express, Intel Get CNBC Fast Money Mentions, With This Stock Jumping 1.8% In Seconds\\n',\n \"Why Dick's Sporting Goods Shares Are Rising Today\\n\",\n 'Why Jim Cramer Added To His AMD Position\\n',\n \"Hot Stocks: Tickers Moved By Traders on 'Fast Money: Halftime Report'\\n\",\n \"What's Next For The SPY: Run Up Into Tech Earnings Or Will Government Policy Continue To Hamper Markets?\\n\",\n \"Nike Stock Is Rising Today: What's Going On?\\n\",\n 'New Quarter Feels Familiar As Stocks Wobble Amid Lack Of Momentum Ahead Of Jobs Data\\n',\n 'Pfizer Posts Vupanorsen Data From Mid-Stage Cardiovascular Disease Trial\\n',\n 'Funding Secured For Possible Elon Musk Twitter Takeover\\n',\n '10 Worst Stocks To Buy During A Recession\\n',\n \"Shares Of Apple Are Up Today: Here's Why\\n\",\n 'KeyBanc Upgrades Twitter On Product Catalysts\\n',\n 'These Options Traders Think Nvidia Stock Is Going Higher\\n',\n \"Jim Cramer Warns Young Investors About 'Joke Cryptos' And The 'Invest By Anger' Method\\n\",\n \"Why Is Disney CEO Bob Chapek Silent On Florida's 'Don't Say Gay' Controversy?\\n\",\n 'KeyBanc Recommended Owning Apple - Read Why\\n',\n \"BZ Chart Of The Day: Reversal In Apple's Stock\\n\",\n 'ARWR: New Pulmonary Programs AnnouncedвЂ2022-02-11 12:35:57 50.660000  50.625000  -0.0 -0.0 Menstrual Irregularities Cases After mRNA COVID-19 Vaccine - EMA Reviews Cases\\n',\n 'Remote Work Had Several Implications For Dropbox Eanings\\n',\n 'Read Why Oppenheimer Bumped Up AppLovin Price Target By 27%\\n',\n 'Why This Investor Is Building A Position In AMD\\n',\n \"Disney's 20th Television Signs Monica Lewinsky To First-Look Producing Deal\\n\",\n \"Is Twitter's Stock Overvalued Or Undervalued?\\n\",\n \"Morgan Stanley Sees Surprise Upside In Apple's iPhone Production\\n\",\n \"Disney's Q2 Earnings Price Action Sends These Signals About The Stock\\n\",\n \"What's Going On With Meta Platforms Stock?\\n\",\n \"Does Elon Musk's About-Face On Twitter Portend 'Game Of Thrones' Battle Ahead?\\n\",\n 'Why Shares Of NIKE And Lululemon Are Trading Higher Today\\n',\n 'Twitter Stock Sinks After Q3 Earnings: 5 Analysts React To Impact Of iOS Privacy Changes\\n',\n \"China Gives OK For Theatrical Release Of 'The Batman'\\n\",\n \"Here's Why AMD And Marathon Oil Are Moving Today\\n\",\n 'Chart Wars: Between Lululemon And Nike, Which Stock Looks Set To Jump Higher, Faster?\\n',\n 'Can Drones Be The Aspirin For Pharma Supply Chain Headaches?\\n',\n 'Madea Is Back And Netflix Has Got Her\\n',\n 'Mid-Day Market Update: Crude Oil Jumps 9%; GoodRx Holdings Shares Plunge\\n',\n 'BlueWalker 3 Successfully Reaches Orbit On SpaceX Launch: Why AST SpaceMobile Stock Is Rocketing Higher\\n',\n 'Senators Demand Netflix Reduce Scenes With Smoking, Vaping\\n',\n 'Inflation Or Deflation, Crypto Boom Or Bust?\\n',\n 'Michael Burry Deletes Twitter Account Following Online Spat With Elon Musk\\n',\n \"Disney Debuts Trailer For Animated 'Diary Of A Wimpy Kid'\\n\",\n 'These 5 Experts See A Market Crash Ahead: What Do BZ Readers Think?\\n',\n \"Dennis Dick On Virgin Galactic's Stock: 'What Do We Have To Look Forward To?'\\n\",\n \"Here's Why Affirm Stock Is Falling Alongside Walmart And Shopify Today\\n\",\n \"How Bad Are Twitter's Earnings? | Return On Capital Employed\\n\",\n \"Here's Why JPMorgan Trimmed Apple's Earnings Outlook\\n\",\n 'Analyst Ratings For Advanced Micro Devices\\n',\n \"Spirit AeroSystems Analyst Turns Bullish, Sees 'Broader Aerospace Recovery'\\n\",\n 'Bavarian Nordic Launches COVID-19 Booster Study To Compare Against Pfizer/BioNTech Shot\\n',\n 'Why The Best Outcome For Intel Shareholders Is To Break Up The Chipmaker\\n',\n 'George Lucas Is Getting His Own Star Wars Stormtrooper Action Figure: Here Are The Details\\n',\n \"UK Preps Up For 'Mix & Match' COVID-19 Booster Program: FT\\n\",\n 'ICU Medical Pulls Amino Acid IV Products After Foreign Substances Found In Batch\\n',\n \"Here's How Morgan Stanley Previews Apple Ahead Of Q2\\n\",\n 'Earnings Season Still Days Away, but KB Home Reports Later, Providing Housing Market Insight\\n',\n \"An Airbag For Avis: In Case We (and Bank of America) Are Wrong About The Rental Car Company's Prospects\\n\",\n 'This Beauty Product Store Has A Better One-Year Return Than Facebook, Apple, Disney And PayPal\\n',\n \"Why These CNBC Traders Are Bullish On Disney's Stock\\n\",\n \"Why Matterport Is Trading Higher By Around 25%, Here Are 73 Stocks Moving In Thursday's Mid-Day Session\\n\",\n \"New Book Shows Donald Trump Treated White House Like Movie Or TV Gig: 'Before I Did The Presidency'\\n\",\n 'What Are The Investors Doing With Boeing\\n',\n 'Why Nvidia Stock Is Falling\\n',\n 'Lawmakers Question Apple, FBI Over NSO Group Spyware\\n',\n \"Russia Slows Twitter's Speed Following Protests, Threatens Complete Suspension: Reuters\\n\",\n 'Cinedigm Expands Into Horror Genre With Screambox Acquisition\\n',\n '$100 Invested In This Stock 15 Years Ago Would Be Worth $600 Today\\n',\n \"Michael Pollan's 'How To Change Your Mind' Coming Soon To Netflix: Documentary Based On Psychedelics Best Seller\\n\",\n 'GlobalFoundries Is At The Right Place, At The Right Time, BofA Says\\n',\n \"Why Bitcoin- And Ethereum-Related Stocks MicroStrategy Incorporated And Coinbase Are Trading Lower Friday Following Tesla's Crypto Update\\n\",\n \"'Halftime Report' Final Trades: Goldman Sachs, Best Buy And More\\n\",\n 'Goldman On Hardline Retail: Top Ideas, New Ideas, Out Of Consensus Ideas, And More\\n',\n 'Warren Buffett Turns 92: A Highlight For Each Decade Of His Life\\n',\n \"JPMorgan Says Verizon's Growth Will 'Pick Up' Next Year\\n\",\n \"Sony's New Virtual Reality Headset Gets A Debut Update: What Investors Should Know\\n\",\n \"EXCLUSIVE: Greg (Yes, That Guy On Twitter) Is Launching NFTs, Here's Why And What You Should Know\\n\",\n \"Cowen Analyst Comments Netflix's New Password Sharing Experiments\\n\",\n 'Switzerland Approves First Next-Generation Bivalent COVID-19 Booster Vaccine\\n',\n 'Certain European Countries Order 40M Additional J&J COVID-19 Jabs: Reuters\\n',\n 'Twitter Insider Trades $760K In Company Stock\\n',\n 'Why Boeing Shares Are Moving Today\\n',\n 'Apple Analysts See Production Issues As Transitory, Recommend Buying On Weakness Following Q2 Results\\n',\n 'Disneyland Ticket Website Overwhelmed Ahead Of April 30 Reopening\\n',\n 'Is AMC Entertainment Pulling A Fast One On The APEs?\\n',\n 'DeSantis, Florida GOP Are Keeping Disney Campaign Donations: Report\\n',\n 'Walmart Marketplace Launches New-Seller Savings Program\\n',\n \"A Bullish Sign Appears On Twitter's Chart\\n\",\n 'Thinking About Buying Stock In Coinbase, Moderna Or Sunnova Energy?\\n',\n \"'Astronaut Snoopy' To Be Part Of NASA's Artemis I Mission\\n\",\n \"Elon Musk Takes A Dig At Biden? 'Age Limit For Running For Political Office Should Be Just Below 70'\\n\",\n 'Global Regulators Continue To Penalize Big Tech Over Antitrust Concerns\\n',\n 'Why Apple Stock Is Trading Higher Today\\n',\n 'Disney To Launch Animation Facility In Vancouver And Expand In California\\n',\n 'Northrop Grumman Whale Trades Spotted\\n',\n 'Did General Motors CEO Mary Barra Tap The Brakes On Plan To Pass Tesla In EVs By 2025?\\n',\n 'Long-Haul Narrowbody, Supersonic Jets Could Threaten Air Cargo\\n',\n \"Snap Stock Is Rising Today: What's Happening?\\n\",\n \"What's Going On With Netflix Shares?\\n\",\n \"Here's Why Cowen Sees Notable Upside In AMD\\n\",\n \"Chevy Teams With Disney To Reveal New Bolt EUV On Valentine's Day\\n\",\n \"'Halftime Repor' Final Trades: AMD, Vale And More\\n\",\n 'If Tesla Stock Hits This Price, Cathie Wood Could Sell Her Position\\n',\n \"Pfizer's COVID-19 Pill Benefited Only Older Adults, New Israel-Based Study Shows\\n\",\n 'Why Twitter Shares Are Tumbling Today\\n',\n \"Wireless Customers At Canada's Rogers Communications Report Service Outages\\n\",\n 'Why Globalstar Shares Are Volatile Thursday After Apple News\\n',\n \"What's Going On With Snap Stock?\\n\",\n \"Boosters Are Coming For Dangerous Omicron COVID-19 Variant. Here's Who May Be Rolling Them Out\\n\",\n 'Twitter Users Face Outage On Website and App\\n',\n 'Is The Energy Ready To Rebound?\\n',\n 'Apple, GameStop And Costco Stocks Continue In This Pattern: What To Watch\\n',\n '$1000 Invested In Tesla 5 Years Ago Would Be Worth This Much Today\\n',\n \"Thursday's Market Minute: Earnings Are Strong As Ever\\n\",\n \"Target Stock Pops On Upgrade, But These Investors Believe Analyst Has Missed The Mark: Here's Why\\n\",\n 'Meta and Qualcomm MissвЂ” Will Tech Investors Shrug Off These Reports Too2022-07-27 15:09:02 154.699997 158.770004  4.0  2.6 This Is What Whales Are Betting On Moderna\\n',\n \"What's Moving The Market Thursday?\\n\",\n \"Wednesday's Market Minute: Wall Street Buys A Ticket To The Bitcoin Lotto\\n\",\n \"4 AMD Analysts Boost Price Targets Following Chipmaker's Stellar Q4, Predict Continued Share Gains\\n\",\n 'Nvidia Stock Splits, Forms Bullish Pattern\\n',\n 'Disney Sets April 11 Vaccine Mandate Deadline For Anaheim Park Employees\\n',\n 'Why Investing In Stocks Makes You Better At Cryptos: Part 2\\n',\n \"Gap, Macy's, Nike And More Face UPS Delivery Delays Due To Soaring Cyber Monday Demand\\n\",\n 'United Airlines Adds New Transpacific Destination - Guess Where?\\n',\n \"Monday's Market Minute: A Busy Week On Wall Street\\n\",\n \"Neptune's Sprout Organics Enters Walmart With CoComelon Collaboration - Launch Of First Co-Branded Products\\n\",\n 'ByteDance CFO Shou Zi Chew Appointed As TikTok Chief: WSJ\\n',\n \"Options Trading: Boeing's Smart Money Trades For September 13\\n\",\n \"Why Is It Moving? Analyzing The Upward Movement in Moderna's Stock Today\\n\",\n 'Microsoft Eases Restrictions On Windows 11: CNBC\\n',\n 'Why Boeing Shares Are Falling Today\\n',\n \"Companies Froze Dividends In Covid-Stricken 2020: A Few Didn't Bring Them Back. Here's When They Might.\\n\",\n \"Elon Musk Weighs In On Gun Control, 'Homicide Insurance' Following Uvalde School Mass Shooting\\n\",\n \"Tesla Stock Quiets As Investors Wait Out Musk-Twitter Drama: Here's Where The Break Will Come\\n\",\n '$100 Invested In This Stock 10 Years Ago Would Be Worth $2,100 Today\\n',\n 'Mid-Afternoon Market Update: Dow Surges 180 Points; Big 5 Sporting Goods Shares Spike Higher\\n',\n 'Write A Prescription For This Pharma ETF\\n',\n 'Apple Whale Trades For May 03\\n',\n 'Why Moderna Stock Is Moving Today\\n',\n 'Why Boeing Shares Are Rising\\n',\n 'Recursion, Bayer Expand Fibrosis Pact To Include Inferential Search Capabilities\\n',\n \"Apple's Next Hit? Here's How The Next Product Could Look\\n\",\n 'Why Snap Shares Are Falling\\n',\n '6 Advanced Micro Devices Analysts React To Earnings Beat, Guidance Miss, Market Share Gains\\n',\n 'Elon Musk Is OK Going To Hell: But Does He Believe in God?\\n',\n \"McDonald's Reopening In Ukraine: 'Small But Important Sense Of Normalcy'\\n\",\n \"5 Snap Analysts React To Restructuring Plan: 'Attractive Opportunity For Long-Term Holders'\\n\",\n 'Unusal Whales Unveils New Options Calculator For Traders\\n',\n 'Why Netflix Stock Is Shooting Up Today\\n',\n 'Jon Najarian Sees Unusual Option Activity In Twitter\\n',\n \"Benchmark Sees Minimal Impact From Netflix's Operations Suspension In Russia\\n\",\n 'What To Watch For At The B Word Bitcoin Conference Today\\n',\n \"Looking Into Moderna's Recent Short Interest\\n\",\n 'Stryve Foods Stock Pops On Broadened Distribution Deal With Costco, Walmart\\n',\n '$1000 Invested In This Stock 15 Years Ago Would Be Worth This Much\\n',\n \"Coinbase Stock Jumps 20% On 'Huge Validation' From BlackRock: What Investors Need To Know\\n\",\n 'ASL Orders Up To 20 Additional 737-800 Boeing Converted Freighters\\n',\n 'Global Dividend Payouts Rise In 2021 As Apple, Microsoft, Exxon Mobil And AT&T Lead The Way\\n',\n 'Why Netflix, Roblox, Roku And Snap Shares Are Falling Today\\n',\n 'Love Hemp Group Shakes Up Management Team\\n',\n \"Wednesday's Market Minute: Commence A Battle For The Nasdaq's Soul\\n\",\n 'Bryce Hall: Why I Started A Financial Podcast\\n',\n 'Why This Investor Is Betting Against Donald Trump, Cathie Wood And Elon Musk Right Now\\n',\n \"If You Invested $1,000 In Twitter Stock One Year Ago, Here's How Much You'd Have Now\\n\",\n 'A Fake, X-Rated Donald Trump Christmas Card Is Trending On Twitter\\n',\n 'Moderna Whale Trades For February 02\\n',\n 'Dow 30,000: What To Do If The Next Stop Is Down\\n',\n \"Revlon, Kellogg's, Tesla, ASOS: Why are these 4 stocks trending?\\n\",\n \"Facebook Oversight Board To Issue Final Decision On Donald Trump's Ban On May 5: Reuters\\n\",\n 'Trump Considers Starting A Social Media Site; Twitter, Facebook Weigh Allowing Trump Back\\n',\n \"Merck/Eisai's Keytruda-Lenvima Combo Tops Standard Of Care In Late-Stage Kidney Cancer Study\\n\",\n 'Why This Netflix Analyst Just Cut Their Price Target By 20%\\n',\n 'Harmony Plunges As Horizon Ethereum Bridge Falls To Hacker Attack: What Cryptos Were Stolen?\\n',\n 'What To Watch For On Advanced Micro Devices Stock As It Continues In This Trend\\n',\n 'Why AMD Stock Is Soaring Higher Today\\n',\n 'Wayne Gretzky Joining Turner Sports NHL Coverage, Spurns ESPN\\n',\n 'What Does The Recent String Of Tesla Price Target Cuts Suggest?\\n',\n \"Bitstamp Delays SHIB Listing Due To 'Technical Problems'\\n\",\n 'Wedbush Adds Alphabet Stock To Best Ideas List: What You Need To Know\\n',\n \"Why Advanced Micro Devices's Stock is Down During Today's Session\\n\",\n \"14 Stocks Moved By Traders On 'Fast Money: Halftime Report'\\n\",\n \"Elon Musk Spoke With Vladimir Putin In The Last 18 Months, Here's What They Talked About\\n\",\n \"Gay Days Returns To Disney's Orlando Venues\\n\",\n '#FollowFriday, Tokyo Olympics Edition: Top Athletes And Accounts To Follow On Twitter\\n',\n 'Nike Earnings Preview\\n',\n 'Target Whale Trades For October 17\\n',\n 'Tesla Shares Near Record Territory Ahead Of Q4 Earnings Report\\n',\n 'The Tech Earnings Barrage: Earnings Beats By Apple, Facebook; More Big Tech Companies Report Next Week\\n',\n 'Lockheed Martin, Intel To Advance 5G-Ready Communications For US, Allied Defense Systems\\n',\n 'Mid-Day Market Update: Obalon Therapeutics Jumps On Merger News; Document Security Systems Shares Slide\\n',\n \"It's Time To Buy Quarantine Stocks, According To Jim Cramer\\n\",\n 'Why AMC Entertainment Shares Are Climbing Today\\n',\n 'TuSimple Paves The Way For Its Truck Technology Commercialization\\n',\n \"'Halftime Report' Final Trades: Salesforce, Moderna And More\\n\",\n 'Disneyland Resort Offers Discounted Summer Tickets To California Residents\\n',\n \"Why Ari Wald Likes Apple's Stock\\n\",\n 'Apple Introduces Apple Watch Series 8, Watch SE And New Ultra Edition\\n',\n 'Are Sensor Companies Set To Make An Outsized Difference In The Autonomous Vehicle Industry?\\n',\n 'FAANGs\\' Final Fling: Amazon, Alphabet Wrap Up Earnings Season For \"Mega-Caps\" Later Today\\n',\n 'U.S. Stocks Trade Mixed; Dow Rises 75 Points\\n',\n 'What 8 Analyst Ratings Have To Say About Twitter\\n',\n 'Twitter Whale Trades For October 07\\n',\n 'SoundHound Inks Long-Term Partnership With Hyundai\\n',\n 'FDA Approves Another COVID-19 Antiviral Pill, This Time From Merck\\n',\n 'Check Out What Whales Are Doing With NOC\\n',\n \"Harrison Ford To Star In Apple TV+ Series: Here's Why It's A Big Deal For The Hollywood Legend\\n\",\n 'Mid-Day Market Update: Avis Budget Surges After Q3 Results; Chegg Shares Plunge\\n',\n 'Samsung Weighs Massive US Ambitions As CHIPS Bill Gathers Momentum\\n',\n \"Pfizer's COVID-19 Oral Therapy To Be Tested In Hospitalized COVID-19 Patients In UK: Reuters\\n\",\n \"How To Not Get Crushed: Investing Cautiously Ahead Of The Fed's Rate Tightening.\\n\",\n \"What's Going On With AMD Shares\\n\",\n 'Twitter Announces Broader Rollout Of Tipping Feature (And Even Includes Bitcoin)\\n',\n 'Moderna Hires Harvard Stem Cell Researcher Jonathan Hoggatt as Director of Hematology: What You Need to Know\\n',\n \"Amazon Snaps 'SmartLess' Podcast For $60M-$80M: Bloomberg\\n\",\n 'Marjorie Taylor Greene Suspended By Twitter; Could Other Social Media Platforms Get A Lift?\\n',\n 'Upcoming U.S. FDA Decision A Potentially Major De-Risk Event For Revive Therapeutics\\n',\n \"Boeing Analyst: CFO Faces 'No Shortage Of Challenges' In New Role\\n\",\n 'BZ Chart Of The Day: AMD Tests Critical Support\\n',\n 'How Mainstream Industries Can Adapt To The New Web 3.0 Reality\\n',\n \"Wednesday's Market Minute: Wild Wednesday\\n\",\n 'Cristiano Ronaldo Announces Exclusive NFT Deal With Binance: Here Are The Details\\n',\n \"7 Communication Services Stocks With Unusual Options Alerts In Today's Session\\n\",\n 'Netflix, Humana And Some Other Big Stocks Moving Higher On Thursday\\n',\n \"Wynn, Marriott Start The Week's Earnings Parade, With Disney Waiting in Wings\\n\",\n \"AMD: What The Street Is Saying Ahead Of Chipmaker's Q4 Print\\n\",\n \"Dogecoin Co-Founder Asks Jack Dorsey To 'Do Something' About Shiba Inu Promoters On Twitter\\n\",\n \"Benzinga's Top Ratings Upgrades, Downgrades For January 29, 2021\\n\",\n \"This Studio's Games Have Over A Billion Views On YouTube\\n\",\n \"Disney Debuts Trailer For 'The Bob's Burgers Movie'\\n\",\n 'Stephen Curry, Lebron James And Other NBA Superstars Have Invested In These Companies\\n',\n 'Artificial Intelligence Doctor App Ada Health Closes $90M Funding Led By Bayer, Samsung\\n',\n 'Walt Disney World Loosens Mask Criteria For Adults\\n',\n \"iPhone Pioneer Shares Interesting Model From Steve Jobs Era That Didn't See Daylight\\n\",\n \"This Week Will Be About More Than Amazon's Prime Day Sales\\n\",\n \"Investors Digest the Fed's No-Surprises July Minutes\\n\",\n 'UK Becomes First To Give Nod To Omicron-Targeted COVID-19 Shot\\n',\n 'DroneUp Acquires Airspace Traffic Management Company AirMap\\n',\n 'Goodbye, Choco Taco. Hello, Expensive Household Goods - How Unilver Is Handling Inflation\\n',\n 'Rehearsal Exposes Gaps In COVID Vaccine Delivery\\n',\n 'Cramer Thinks Credit Card Stocks Could Be Winners Of Economic Reopening\\n',\n \"Elon Musk, You're Cordially Invited To The Benzinga Cannabis Capital Conference In Chicago, No Need To RSVP, See You There?\\n\",\n 'Is AMD Becoming The New WallStreetBets Darling?\\n',\n 'Steven Spielberg Hooks Up With Netflix Through Amblin Partners\\n',\n 'Kawhi Leonard Out For Game 5, Possibly Rest Of Series: What Does This Mean For The Los Angeles Clippers?\\n',\n 'Bristol Myers Touts 5-Year Kidney Cancer Data For Opdivo-Yervoy Combo Therapy\\n',\n 'Latest Sonos Acquisition Suggests Headphone Launch Could Be Imminent\\n',\n 'The Battle Of The Bill: Why DeFi Will Clean Up The Finance Industry Regardless\\n',\n 'Inflation Day. Feds Have More Work To Do\\n',\n \"Why Is Facebook Parent Meta's Stock Trading Lower Today?\\n\",\n 'Oil Trading Higher On Hurricane Supply Woes, Stronger Demand\\n',\n 'Apple Enters BNPL Sector, Unveils Apple Pay Later\\n',\n 'AMD Analyst Slashes Price Target By 32% On Dismal Q3 Numbers\\n',\n \"T-Mobile US' Pricing Power Of 5G Is A Pivot Point, Analyst Says\\n\",\n \"Here's How Many Vehicles Lucid Group Produced, Delivered In Q3 вЂ” And How It Stacks Up To Rival EV Maker\\n\",\n 'South African Study Shows Omicron Variant Could Escape Pfizer/BioNTech COVID-19 Vaccine Protection\\n',\n \"Here's How Apple Looks To Reduce Carbon Footprint While Manufacturing iPhone SE\\n\",\n \"Blac Chyna's $100M Lawsuit Against The Kardashians Begins: Report\\n\",\n 'Moderna Whale Trades For January 21\\n',\n \"If You Invested $1,000 In Walt Disney Stock One Year Ago, Here's How Much You'd Have Now\\n\",\n \"Nvidia Stock Is Falling Today: Here's Why\\n\",\n \"Netflix Buys Roald Dahl Catalog, The Streaming Company's Largest IP Acquisition\\n\",\n 'Apple Eyes 30% Increase In iPhone Shipments In First Quarter 2022 With Full-Year Goal Of 300M Unit Sales: Report\\n',\n 'Mid-Afternoon Market Update: Dow Jumps 400 Points; CorMedix Shares Slide\\n',\n \"Disney Teams With Air Canada For 'Turning Red' Marketing Promotion\\n\",\n 'Pfizer/BioNTech or AstraZeneca COVID-19 Vaccine Effective Against Variant Found in India: CNBC\\n',\n 'Twitter Whale Trades For September 15\\n',\n 'Exclusive: Roundhill MVP First Pure-Play Sports ETF Offers Growth, SPACs, Exposure To NFTs\\n',\n 'The Growth Of Remote Workflow Stocks In A Year Unlike Any Other\\n',\n 'XPON: Energy Storage Gets An Upgrade\\n',\n \"The Daily Biotech Pulse: CHMP Backs AstraZeneca's Breast Cancer Therapies, Ipsen Buys Epizyme, FDA Holds For Nuvation Bio, Astellas Studies\\n\",\n 'Trump SPAC Deal Will Never Get Approved By SEC, Short Seller Says: What Investors Should Know\\n',\n '5 Dow Jones Stocks With Earnings To Watch This Week\\n',\n \"Benzinga's Top Ratings Upgrades, Downgrades For January 6, 2022\\n\",\n \"Google Takes Dig At Apple At Fall 2022 Event: Thank You For Choosing To 'Follow Our Lead'\\n\",\n 'Twitter Did More Than Just Bounce Back From COVID-19\\n',\n \"AMD's 5nm Desktop Ryzen 7000 Launch Would Help It Gain Market Share, Analysts Say\\n\",\n 'Disney Cited In Anaheim Corruption Probe: Report\\n',\n 'Mid-Afternoon Market Update: Kymera Therapeutics Drops After Q1 Results; Belite Bio Shares Spike Higher\\n',\n 'London Bridge: BoE Again Intervenes in Bond Market, Raising Stability Concerns\\n',\n \"See Why COVAX, African Union Refuse To Buy More Moderna's COVID-19 Vaccine\\n\",\n 'Apple Analyst Explains Why Cupertino Is Tracking Ahead Of Expectations In December Quarter\\n',\n 'Alphabet, Facebook Shares Decline On Citi Rating Downgrade Over Ad Revenue Growth Concerns: Bloomberg\\n',\n 'This Is How Netflix Could Lose High-Profile Comics From Releasing Their New Specials With Them\\n',\n \"Mark Zuckerberg's Latest NFT Play: Will It Be A Hit, Or A Swing And A Miss?\\n\",\n 'Facebook, Instagram And Related App Users Report Worldwide Outage\\n',\n 'Apple Introduces Next Generation AirPods Pro\\n',\n \"Will Chart Analysts Notice Bad Omen on Apple's Chart\\n\",\n \"AMC Has More Free NFTs Coming For Its Investors: Here Are The Details And How 'There Is Gold In Them Thar Hills'\\n\",\n 'Tesla Whale Trades For July 29\\n',\n 'Can Antiretroviral Treatment With Protease Inhibitor In HIV Patients Lower COVID-19 Risk?\\n',\n 'Trending On Twitter: UFO Sightings Over San Diego\\n',\n 'Earnings Season On PreMarket Prep: Airbnb, AMD Find Support After Q1 Reports\\n',\n 'Ed Yardeni Sees Opportunity In Tech, Not A Bubble\\n',\n 'Honda, LG Energy Solution Join Forces To Setup $4.4B Battery Plant In Ohio\\n',\n \"Uber, NextEra Are CNBC 'Fast Money' Mentions, And This Struggling Sector Is Tuesday's Call Of The Day\\n\",\n 'Watch for Continued Gains in Shares of Apple Inc.\\n',\n 'Green Light: Squid Game 2 Gets Teaser From Netflix, Director Shares Details\\n',\n 'Should Apple Try To Acquire Netflix Or Peloton In 2021?\\n',\n 'Blockchain Meets HR: Just How Big Could This Market Be?\\n',\n 'NFL Teams With Clubhouse App For Pre-Draft Programming\\n',\n 'Expert Ratings for Pfizer\\n',\n 'Want to Buy Pfizer (PFE) Stock? See This First.\\n',\n 'Apple Analyst: Apple Car Team Dissolved For Now, With Quick Reorganization Critical To Meet 2025 Deadline\\n',\n \"Nvidia Soars Into Earnings: What's Next?\\n\",\n '$1000 Invested In NVIDIA 15 Years Ago Would Be Worth This Much\\n',\n 'Mid-Morning Market Update: Markets Mixed; Moderna Lowers Covid-19 Vaccine Sales Outlook\\n',\n 'Airbus Delivers 49 Commercial Aircraft In February\\n',\n 'Cruise Line Stocks Rally On Report From Carnival\\n',\n 'How The Younger Generation Reshaped The E-Commerce Rulebook\\n',\n 'Why Nike Shares Are Nosediving Today\\n',\n \"PreMarket Prep Stock Of The Day: Why This Analyst Says Snap May Be Worth 'Buying The Dip'\\n\",\n \"Northrop Grumman's Return on Invested Capital Insights\\n\",\n \"'Don't Say Gay' Signed Into Law, Disney Vows To See It 'Struck Down'\\n\",\n 'Apple Hunts Locations For Its Hollywood Entertainment Hub: WSJ\\n',\n 'A Big Earnings Week Ahead\\n',\n \"Nvidia, Salesforce, Snowflake Report Earnings After The Bell: 2 Of Them Will Be Featured On 'Mad Money' With Jim Cramer Tonight\\n\",\n 'YouTube TV Warns Subscribers They Could Lose Disney Channels This Week\\n',\n \"Nigeria Suspends Twitter Operations Two Days After Twitter Blocked President Muhammadu's Post: Reuters\\n\",\n 'Comcast Notes Double Digit Ad Rate Surge For Fall TV Season: Reuters\\n',\n 'Nvidia Quietly Looks To Dump Its Arm Ambitions\\n',\n 'Iconic Comic Book Company Announces NFT Collection: Here Are The Details\\n',\n 'Top News In Fintech And Beyond For May 18, 2022\\n',\n 'MDA Partners With Lockheed Martin, General Motors On Lunar Rover Development\\n',\n 'Moderna Bolsters Its Pipeline With Two New mRNA-Based Vaccine Programs\\n',\n \"EMA Offers Early Access To Pfizer's COVID-19 Pill Paxlovid\\n\",\n 'Why Are Meta Shares Rising Today?\\n',\n \"Apple's Investment, Strategic Partnership In UnitedMasters: What You Need to Know\\n\",\n \"Morgan Stanley Bets On Boeing's Prospects Despite Market Pull-Back\\n\",\n 'Return on Capital Employed Overview: Netflix\\n',\n 'The End Of An Era: BlackBerry Ends Support For Legacy Devices\\n',\n 'BZ Chart Of The Day: Is Tesla About To Break Out?\\n',\n \"Netflix Gives First Look At Live-Action 'Cowboy Bebop' Series\\n\",\n \"Why Tesla Shares Are Rising After CEO Elon Musk's Milestone Announcement\\n\",\n \"Pfizer's Ex-Dividend Date Is Thursday, Here's What You Need To Know\\n\",\n 'How Is The Market Feeling About Advanced Micro Devices Inc?\\n',\n 'Blood Clot Risk After First AstraZeneca COVID-19 Shot Very Small - UK Study Shows\\n',\n \"People Are Surprisingly Nostalgic For RadioShack: Here's Why\\n\",\n \"Why This Investor Says The Selloff In Nike Stock Is 'Absurd'\\n\",\n \"Omicron Casts a Shadow Over Salesforce's Better-Than-Expected Q3 Results\\n\",\n 'Why Netflix Stock Looks Set To Bounce Higher Despite Weakening Revenues, Job Cuts\\n',\n \"Analyzing Micron Technology's Unusual Options Activity\\n\",\n \"Disney CEO Bob Chapek On Reorganization Shift: 'Catalyze Growth Even Further'\\n\",\n 'What to expect with SQ stock earnings report\\n',\n \"Benzinga's Top Upgrades, Downgrades For January 13, 2021\\n\",\n 'Netflix Dives Deeper In Gaming With Latest Acquisition\\n',\n 'Why This Moderna Analyst Downgraded Biopharma Despite Positive COVID-19 Vaccine News\\n',\n \"Big Tech Analyst Sees Choppy Waters Ahead, But Says You Can Buy Apple, Meta Right Now: 'TikTok Eventually Is Going To Get Banned'\\n\",\n 'Oil Tanker Collides With Tanker Off Chinese Coast, Spilling Contents Into Yellow Sea\\n',\n \"Bored Ape Yacht Club Hard Seltzer Coming: Here Is Who's Behind New Drink\\n\",\n \"Jim Cramer: 'FAANG Owns The Future'\\n\",\n \"Here's How Much You Would Have Made Owning NVIDIA Stock In The Last 15 Years\\n\",\n 'Cloud Equity Group Successfully Scales Small And Mid-Sized Businesses\\n',\n 'iPhone Ownership Among Teenagers Has Increased Over Two-Fold Since 2012, Says Survey\\n',\n \"This Tesla Model Is Rated 'Most Efficient EV' In The US\\n\",\n 'United Airlines Has Analyst Concerned With Increased CAPEX, Large Airplane Orders вЂ” And What About That Balance Sheet',\n 'Qualcomm Separates Snapdragon Brand\\n',\n \"Intel Shares Hit 6-Month High As Chipmaker Replaces CEO Bob Swan With VMware's Gelsinger\\n\",\n \"Nike's Fourth Quarter 'Not As Bad As Feared': Why 3 Analysts Are Lowering Price Targets\\n\",\n 'Abbot Labs and Biogen Outshine Novavax in the Health Care Sector\\n',\n 'Rising Oil Prices Could Threaten Positive Inflation Outlook\\n',\n 'SoFi Merging With Palihapitiya-Backed IPOE SPAC\\n',\n 'Why Pfizer Stock Is Rising Today\\n',\n 'Credit Suisse Bumps Up Matterport Price Target By 36%, Thanks To Apple\\n',\n 'COVID-19 Measures In Vietnam Pummel An Already Bruised Supply Chain\\n',\n \"What's On With Yandex Shares Today\\n\",\n 'BZ Chart Of The Day: Is AMD About To Break Out?\\n',\n 'Can Netflix Return To Mid-To-High Teens Revenue Growth? These 2 Tests Will Tell Us\\n',\n 'T-Mobile Collaborates With Apple In Its Bid To Extend Consumer Benefits\\n',\n 'Unprecedented Numbers Of Residential Homebuyers Bailing On Offers\\n',\n \"11 Communication Services Stocks Moving In Friday's Intraday Session\\n\",\n \"James Caan, Versatile Actor Of 'Godfather' And 'Misery' Fame, Dies At 82\\n\",\n 'Southwest Airlines Finds A Bottom, Options Traders Bet On Bounce\\n',\n 'This Chinese EV Maker Has A Better 1-Year Return Than Twitter, Square, Zoom And PayPal\\n',\n 'Twitter Whale Trades For July 25\\n',\n 'Reddit Plans To Tokenize Karma Points, Add 500M New Crypto Users\\n',\n 'China Blocks Oscar Telecast For Second Straight Year\\n',\n 'AMD Options Traders Put Chips At The Center Of The Table\\n',\n 'What We Know About The New COVID-19 Variant Spreading In South Africa\\n',\n 'Doge Devs Share New Weapon Against Dogecoin FUD\\n',\n \"The Storyline Of This Week's Earnings Reports\\n\",\n \"Disney To Commemorate Original 'Beauty and the Beast' With Live TV Special\\n\",\n 'Why Cruise Line Stocks Are Riding A Wave Higher Today\\n',\n 'Trending On Twitter: Soaring Inflation Sparks Angst In Some, Calm From Others\\n',\n \"FDA Approves ViiV Healthcare's Cabenuva For Virologically Suppressed Adolescents With HIV\\n\",\n 'Twitter Earnings Preview\\n',\n 'Nike Stock Technical Levels To Watch After Analyst Upgrade\\n',\n 'RBC Capital Initiates Coverage On Several Aerospace & Defense Companies\\n',\n \"Why Netflix's Stock is Trading Higher Today\\n\",\n 'Nike Whale Trades For August 24\\n',\n 'Thinking About Buying Stock In Tesla, Zoom, Nike, Bank Of America Or Airbnb?\\n',\n \"Here's How Disney Stock Is Showing Signs The Bottom May Be In\\n\",\n 'Leveling Off: Market Takes a Breath After Sharp Rally as Inflation Data Loom\\n',\n \"Why This Target Analyst Says Retail Stocks Could Experience 'Upward Bias' In Months Ahead\\n\",\n 'Netflix Goes Aggressive On Mobile Gaming, Interacts With Roku, Comcast Regarding Ad-Supported Service Tier\\n',\n 'What Is The Smart Money Doing With NVIDIA?\\n',\n \"Sorrento's COVID-19 Main Protease Inhibitor Neutralizes Omicron\\n\",\n 'Jim Cramer Thinks More Acquisitions From Pfizer Are Coming, Reveals What Similar Type Of Stocks To Watch\\n',\n \"Why This Investor Thinks Qualcomm Shares Are Headed 'Well Above $200'\\n\",\n 'CanвЂЊ вЂЊDecentralizationвЂЊ вЂЊGiveвЂЊ вЂЊInternetвЂЊ вЂЊUsersвЂЊ вЂЊMoreвЂЊ вЂЊPri\\n',\n 'TD Ameritrade Clients Bought Tesla, Nio, And DraftKings Ahead Of The Election\\n',\n 'Watch: Tesla Engulfed In Flames, Driver Escapes Through Window In Time\\n',\n \"Here's Why Boeing And Bloom Energy Are Moving\\n\",\n \"Cathie Wood's Confidence In Tesla 'Couldn't Be Higher,' Says Elon Musk-Led Automaker Sits In 'Driver's Seat' Of EV Boom\\n\",\n 'Are Dog Tokens Losing Ground? Data Shows Declining Social Interest In Shiba Inu, Dogecoin\\n',\n 'Why Genius Brands Stock Plummeted Today\\n',\n \"Are Disney's Best Days Ahead? Why This Investor Says Buy It And Forget It\\n\",\n \"Benzinga's Top Upgrades, Downgrades For December 11, 2020\\n\",\n '5 Things You Might Not Know About Dogecoin Co-Creator Billy Markus\\n',\n \"'Halftime Report' Final Trades: Boeing, Fortuna Silver Mines And More\\n\",\n 'If Cathie Wood Is Correct, A $1,000 Bet On Roku Will Produce An 817% Gain By 2026\\n',\n \"'Soap Opera Ends': Analysts React To Musk's Twitter Buyout\\n\",\n 'Shares Of Datadog Are Rising Up: This Is Why\\n',\n 'Why Disney Shares Are Popping Off\\n',\n \"'Halftime Report' Traders Give Their Calls Of The Day: Intel, Under Armour\\n\",\n 'Deutsche Bank Becomes First Major Bank To Predict Recession\\n',\n \"As Nvidia Stock Hovers Around 52-Week Lows, These Investors Remain Confident: Here's Why\\n\",\n 'Tesla In Talks To Source Camera Modules From Samsung Subsidiary\\n',\n \"What's Driving Disney Shares Higher Today?\\n\",\n 'Mike Khouw Sees Unusual Options Activity In Disney\\n',\n \"Looking Into Boeing's Unusual Options Activity\\n\",\n 'Boeing Earnings Preview\\n',\n \"Elon Musk: I Compose Half Of My Tweets On 'A Porcelain Throne'\\n\",\n 'Why Nvidia Stock Is Moving Today\\n',\n \"Here's Why Apple Shares Are Rising Today\\n\",\n 'What Elon Musk Wants, Elon Musk Gets: A Twitter Edit Button May Soon Be A Reality\\n',\n 'Bored Ape Yacht Club: What To Know About The Hottest NFT Project Around\\n',\n 'A Weaker U.S. Dollar Helps Strengthen Stocks\\n',\n \"Tuesday's Market Minute: What To Know About Musk & Twitter\\n\",\n \"What's Up With Activision, Netflix And Snap Stock Today?\\n\",\n \"Why Hindenburg Research Is Shorting Twitter: 'Musk Holds All The Cards'\\n\",\n 'Watch Out Tesla And Waymo! Lyft Debuts Self-Driving Vehicle In Las Vegas\\n',\n \"Chinese Analyst Provokes Country To Attack Elon Musk's Popular Starlink Satellite Service\\n\",\n \"Entering Final 'Run into Earnings' Wave...\\n\",\n 'EU Penalized $266M To WhatsApp For GDPR Violation\\n',\n \"Apple Is Running 'The Greatest Business In The History Of Planet Earth,' But Is Its Stock Overvalued?\\n\",\n \"Tesla Stock Is Volatile Wednesday: What's Happening?\\n\",\n 'BrightDrop Secures Orders From FedEx Express, Walmart, as EV Business Accelerates\\n',\n 'Recalled Heartburn Pill Zantac Sets Fire To Glaxo and Sanofi Shares As Billions In Market Value Goes Up In Smoke\\n',\n 'Why Nikola Shares Are Rising\\n',\n 'BofA Downgrades Hibbett On Lower Stimulus, Inventory Challenges\\n',\n \"Jim Cramer Highlights The Missing Piece In PayPal CFO's Departure\\n\",\n 'Why Netflix Shares Are Making New All-Time Highs Today\\n',\n \"Benzinga's Top Upgrades, Downgrades For November 12, 2020\\n\",\n \"If You Invested Your 3 Stimulus Checks In Bitcoin, Dogecoin And Ethereum, Here's How Much You'd Have Now\\n\",\n \"Why Is It Moving? Looking At Walt Disney's Price Action Today\\n\",\n 'Why Nvidia And Micron Shares Are Rising Today\\n',\n 'Mid-Morning Market Update: Markets Mixed; Dow Jumps 250 Points\\n',\n \"Boeing CEO: We Should've Passed On Trump Air Force One Deal\\n\",\n 'Boeing CEO David Calhoun Talks About 737 Max 10 Orders, Supply Chain Constraints And Dealing With The US Congress\\n',\n 'Netflix Finally Shifts Focus To Mass Entertainers\\n',\n '5 Things You Might Not Know About Twitter CEO Parag Agrawal\\n',\n 'This Famed Company Is Working On A Potential Monkeypox Vaccine\\n',\n \"Baxter To Offer Fill/Finish Services To Moderna's COVID-19 Vaccine In US\\n\",\n 'Citi Is Bullish On Apple, Comments On Dividend, New Products and Market Value\\n',\n 'Columbia Sportswear Analyst Downgrades Retailer On Supply Chain Woes\\n',\n 'Virgin Galactic Unveils Its Imagine Spaceship\\n',\n \"Zoltan Poszar On Bretton Woods III: The Credit Suisse Wonderkind Talks About The New World Evolving In The Wake Of Russia's Invasion Of Ukraine\\n\",\n \"A Look Into Pfizer's Price Over Earnings\\n\",\n 'Stock Wars: Aerojet Rocketdyne Vs. Maxar\\n',\n \"Pinterest Analyst Says Elliott Management's Impact 'Could Be Limited': What Investors Should Know\\n\",\n 'ROCE Insights For Walt Disney\\n',\n \"11 Stocks Moved By Traders on 'Fast Money: Halftime Report'\\n\",\n \"Shiba Inu Promoted By Newegg On America's Largest Outdoor Billboard\\n\",\n \"'Halftime Report' Final Trades Of The Day: CVS, Nvidia And More\\n\",\n \"Happy Birthday Mom And Dad, Here's A Tesla AI Robot To Clean And Mow The Yard\\n\",\n 'Polestar 3 SUV Premiere Coming This Year: What Investors Should Know\\n',\n \"Leatherface Slashes The Ethereum Blockchain With New 'Texas Chainsaw Massacre' NFTs\\n\",\n 'Options Trading Reflects Bullish Bet On This Social Media Stock\\n',\n \"If You Invested $1000 In This Stock 10 Years Ago, Here's How Much You Would Have Today\\n\",\n 'Pfizer Whale Trades For September 07\\n',\n 'SoftBank Proposes Long-Term Collaboration With Samsung During Seoul Visit: Report\\n',\n 'Why Digital World Acquisition Shares Are Falling After Ongoing Twitter Takeover Talks\\n',\n \"Is Now The Time To Buy Apple Stock? Kevin O'Leary Thinks So\\n\",\n \"Looking Into Moderna's Return On Capital Employed\\n\",\n 'Did Disney Dis Trump In Hall Of Presidents Placement?\\n',\n \"Benzinga's Top Ratings Upgrades, Downgrades For February 28, 2022\\n\",\n '4 Companies That Reported Stronger-Than-Expected Q1 Earnings: ASUR, TTD, SQSP, ZETA\\n',\n \"Guggenheim Maintains Buy Rating for Walmart: Here's What You Need To Know\\n\",\n \"Efficacy Of Pfizer's Paxlovid COVID Drug Crashes, According To New NIH-Funded Study\\n\",\n '$1000 Invested In Advanced Micro Devices 20 Years Ago Would Be Worth This Much Today\\n',\n \"A Look Into Walmart's Debt\\n\",\n \"If You Invested $1,000 In Disney Stock When Disney+ Launched, Here's How Much You'd Have Now\\n\",\n 'Zoom Pounded Despite Strong Quarterly Results While Salesforce Is Set To Report Later Today\\n',\n 'The Next Jordan Brand? Under Armour Doubles Down On Steph Curry\\n',\n 'US Indices Are At Support: Will Price Bounce Or Break Through?\\n',\n \"'Fast & Furious 10' Release Date Set For 2023\\n\",\n \"Ellie Kemper's 1999 Reign As Secret Society Ball Queen Sparks Twitter Brouhaha\\n\",\n 'Micro Today Ahead Of Macro Tomorrow\\n',\n \"Benzinga's Top Ratings Upgrades, Downgrades For January 24, 2022\\n\",\n \"Move Over Disney+: Why Theme Parks Could Be Disney's Real Growth Driver In 2022\\n\",\n 'Twitter, Zoom Video And Some Other Big Stocks Moving Lower On Tuesday\\n',\n \"3 Vaccine Plays That Aren't Biotech Companies, According To Cramer\\n\",\n \"These 3 Dividend Yielding Stocks Are Warren Buffett's Top-Owned Positions In Berkshire\\n\",\n 'Why Are Netflix Shares Down 30% In 2022?\\n',\n 'Disney Abruptly Fires Veteran Content Executive - All You Need To Know\\n',\n \"A Preview Of Apple's Earnings\\n\",\n \"NVIDIA Bets On Miners, Promises Top Cards Won't Limit Ethereum Hashrate\\n\",\n \"These 7 Analysts Have Very Different Takeaways From Alphabet's Q2 Print\\n\",\n 'COVID-19 Oral Antiviral Drug From Pfizer Could Be Available By 2021, Says CEO: CNBC\\n',\n \"Sanofi's Amcenestrant Combo Therapy Shows ORR of 34% In Breast Cancer Patients\\n\",\n \"Meta and Qualcomm MissвЂ” Will Tech Investors Shrug Off These Reports Too2022-07-28 10:37:48 50.380001  51.014999   0.6  1.2 Daily Biotech Pulse: GSK's Kidney Disease Drug Approved For Children, Tonix Pharma To Launch Monkeypox Vaccine Study In Kenya, Positive Effect Of Cyclerion's Schizophrenia Candidate\\n\",\n 'Pfizer Earnings Preview\\n',\n 'Ten Biggest Weed Stories Of 2021: Big Pharma, Delta-8, Tech, Silicon Valley, MSOs, Politics And More\\n',\n 'Walt Disney: Debt Overview\\n',\n 'Anti-Semitic Pamphlets Targeting Disney Executives Dropped At Homes Across Florida: Report\\n',\n 'TuSimple Looks to Decouple From China. Others to Follow?\\n',\n '$100 Invested In This Stock 10 Years Ago Would Be Worth $1,600 Today\\n',\n 'This Is What Smart Money Is Betting On Moderna\\n',\n \"Here's How Much You Would Have Made Owning Boeing Stock In The Last 20 Years\\n\",\n \"Here's How Much You Would Have Made Owning Netflix Stock In The Last 10 Years\\n\",\n \"Here's How Much $100 Invested In Apple 20 Years Ago Would Be Worth Today\\n\",\n \"Double Trouble Ahead: 'The Bachelorette' To Have Two Women Handing Out Roses\\n\",\n 'Capvision Tempts Investors With Fast Growth, Fat Margins In Hong Kong IPO\\n',\n 'These 3 Companies Did Well On Singles Day, Cramer Says\\n',\n 'Why Shares Of The Boeing Company Are Trading Lower\\n',\n 'Mid-Morning Market Update: Markets Down; Schlumberger Earnings Top Views\\n',\n \"Dogecoin Creator Condemns Promoting Floki Inu: Advertising 'It'll Make You Rich' Is 'Slimy AF'\\n\",\n 'Mid-Day Market Update: Markets Mixed; Nasdaq Drops Over 100 Points\\n',\n \"Donald Trump Lashes Out At Media Companies For Dropping OAN News: Here's The Latest\\n\",\n \"FDA To Miss Action Dates For AbbVie's Upadacitinib Application For Psoriatic Arthritis, Ankylosing Spondylitis\\n\",\n \"What's Going On With Donald Trump-Related Stock Digital World Acquisition?\\n\",\n 'Why Skechers Stock Is Falling Today\\n',\n \"Why This Investor Just Bought Nvidia Stock And Will Be 'Adding To It Over Time'\\n\",\n \"Is Netflix Ready To Break Out? Here's How High This Trader Says It Can Go\\n\",\n \"That iPhone May Not Cost You $1,000: A 'Sticky Ecosystem' Is A Boon For Cell Phone Carriers\\n\",\n 'BZ Chart Of The Day: Is Apple Rolling Over?\\n',\n 'Moderna, Thermo Fisher Join Forces To Manufacture COVID-19 Vaccine, Other Drugs\\n',\n \"Peering Into Nike Inc's Recent Short Interest\\n\",\n 'Moderna Says COVID-19 Booster To Be Ready By August, But Dicey If Omicron-Specific Needed: Reuters\\n',\n \"Royal Caribbean Group Shares Are Moving Lower: What's Happening?\\n\",\n 'Boeing Earnings Ahead: Eyeing Workforce Cuts, Aerospace Spending, And The Newly \"Ungrounded\" 737 MAX\\n',\n 'Opendoor and Beazer Give the Housing Market a Boost\\n',\n \"Tesla Model Y, Model 3 Leave Other Cars' Sales In the Dust In California: Report\\n\",\n 'Why Disney Shares Are Diving Today\\n',\n 'This Big Data Analytics Stock Has A Better One-Year Return Than Disney, Apple, Tesla And Microsoft\\n',\n \"Analysis: Has The Failed Fed Nomination Of Sarah Bloom Raskin Made 'Climate Change' A Political Dirty Word?\\n\",\n 'Why Boeing Stock Is Flying Today\\n',\n \"'Fast Money Halftime Report' Picks For May 25\\n\",\n 'Why Jon Najarian Is Buying Disney Calls Ahead Of Earnings\\n',\n 'Cannabis Movers & Shakers: Clairvoyant Therapeutics, Eaze, Leafly, Chalice Brands\\n',\n 'EU Mandates Standard Charger For Apple iPhones And Other Devices\\n',\n '3 Growth Stocks Dan Flax Says Are Positioned For Long-Term Success\\n',\n \"Benzinga's Top Ratings Upgrades, Downgrades For December 13, 2021\\n\",\n \"Here's The New Acronym From Jim Cramer Replacing FAANG\\n\",\n \"Target's Ripple Effect On Retail: Why Macy's Stock Is Moving Lower\\n\",\n 'Revenue And Regulatory Risk: Facebook Prepares To Open The Books On Q4\\n',\n 'Mid-Afternoon Market Update: Dow Rises 50 Points; Nutriband Shares Spike Higher\\n',\n 'BofA Lifts Disney Price Target After Investor Day, Says Direct-To-Consumer Audience Could Hit 350M\\n',\n \"Cramer Says It's 'Inconceivable' US Won't Have Better Relationship With China\\n\",\n 'Fisker Eyes Indian Market - Seeks To Stay Ahead In EV Race\\n',\n 'Why Nvidia Shares Are Ripping Higher\\n',\n 'Trump-Linked SPAC Has Traders Also Focused On These 6 Stocks\\n',\n 'Pfizer Inc.: 52-Week High Recently Eclipsed (PFE)\\n',\n 'Read Why Goldman Sachs Turned Bullish On Jabil\\n',\n \"Here's Why Apple And Microsoft Shares Are Rising Today\\n\",\n 'Nike Whale Trades For May 06\\n',\n 'Thinking About Buying Stock In Disney, DoorDash, Airbnb Or SoFi?\\n',\n \"United Cargo's March Schedule Dented By Removal Of Boeing 777s\\n\",\n 'Moderna Finalizes European Supply Deal For Up To 160M COVID-19 Vaccine Doses\\n',\n 'Ryanair CEO Thinks Boeing Management Needs A Reboot: CNBC\\n',\n \"38 Stocks Moving In Tuesday's Mid-Day Session\\n\",\n 'Mid-Morning Market Update: Markets Open Lower; Apple Reports Upbeat Q1 Results\\n',\n \"Mid-Morning Market Update: Markets Open Higher; Moderna's COVID-19 Vaccine Shows 95% Efficacy In Phase 3 Trial\\n\",\n 'Is Moderna About To Bounce?\\n',\n \"As AMD Trades In Record Territory, Here's A Look At The Chipmaker's Run To $100B Market Cap\\n\",\n \"Goldman's Semiconductor Pair Trade: Buy AMD, Sell Intel\\n\",\n \"Technology Stocks вЂ” What's Going On And Some Ways To Short-Term Trade Them In 202\\n\",\n 'Report\\n',\n 'Nasdaq Falls 75 Points; Ventyx Biosciences Shares Spike Higher\\n',\n \"Benzinga's Top Ratings Upgrades, Downgrades For March 5, 2021\\n\",\n 'Pinterest Rolls Out Creator Code Guidelines, Moderation Tools, Creator Fund For Platform Sanctity\\n',\n 'Ford Plans To Cut 3,000 Jobs: Reuters\\n',\n 'Advanced Micro Devices Whale Trades For March 15\\n',\n 'A Picture Is Worth 1000 Tweets: Elon Musk On Journalistic Integrity\\n',\n \"Benzinga's Top Upgrades, Downgrades For December 17, 2020\\n\",\n 'Why This Investor Just Swapped GM Stock For Nvidia\\n',\n 'Tech Sector Leads Tuesday Market Sell-Off: What You Need To Know\\n',\n 'Moderna Shares Gain Amid R&D Day Presentations: What You Need To Know\\n',\n \"Benzinga's Top Ratings Upgrades, Downgrades For July 29, 2022\\n\",\n 'BofA Turns Bullish On Frontier Group Amid Airline Ratings Shake-Up\\n',\n 'Gap Plans To Eliminate 500 Jobs: WSJ\\n',\n \"Apple TV+ Bringing More Content From This Multi-Oscar Winner: Here's What Viewers Can Expect\\n\",\n '10 Biggest Price Target Changes For Monday\\n',\n 'Big Week Ahead For Retail, With Walmart, Target, Home Depot Earnings Due\\n',\n 'Mike Khouw Sees Unusual Options Activity In Nvidia\\n',\n \"Argus Research Maintains Buy Rating for Moderna: Here's What You Need To Know\\n\",\n 'NFL Star JJ Watt Trolls DraftKings Over Stock Price, How The Internet Responded\\n',\n \"Disney Stock Is Rising Today: Here's Why\\n\",\n \"Newell's NUK Launches Sustainable Baby Products\\n\",\n \"Thursday's Market Minute: Retailers on A Roll\\n\",\n \"Fox Cancels Times Square Telecast For New Year's Eve, CBS And NBC Move Their Shows Out Of Town\\n\",\n 'Pfizer Insider Sold Over $7.5M In Company Stock\\n',\n 'Nasdaq, S&P 500 Reverse Earlier Gains As European Energy Crisis Looms Large\\n',\n 'TikTok Is Eating Into Ad Growth For Snapchat, Instagram And More: Here Are The Numbers\\n',\n 'Top 5 Most Popular Stocks Hedge Funds Are Buying\\n',\n 'Moderna Analysts On Positive Coronavirus Vaccine Data, Revenue Potential\\n',\n \"Why This Investor Thinks Qualcomm Should Be Trading At $210 'Right Now'\\n\",\n 'Which PC Companies Defied The Downturn In Global Shipments In Q3?\\n',\n \"12 Information Technology Stocks Moving In Thursday's Intraday Session\\n\",\n 'No Dry Ice Shortage, FedEx And UPS Say\\n',\n \"Life After The iPhone: Why Apple's 'Next Big Thing' Could Be A $420B Business\\n\",\n 'Mid-Afternoon Market Update: Nasdaq Climbs Over 200 Points; Twitter Shares Spike Higher\\n',\n 'Pfizer Is Ready, Even For Covid-19 Variants\\n',\n 'Why Nike Stock Could Climb More Than 5% After Earnings Release\\n',\n 'Stock Wars: Chevron Vs. ExxonMobil\\n',\n 'Can Advanced Micro Devices Bust Up Through This Pattern? A Technical Analysis\\n',\n 'Notable Boeing Insider Makes $220K Sale\\n',\n 'Netflix Flashes Caution Light For Investors In These Stocks\\n',\n 'Poolsuite NFT: Is This The First NFT To Get Apple Wallet Integration?\\n',\n 'Belarus Diversion Of Ryanair Flight Sparks Memories Of 2013 Pursuit Of Edward Snowden\\n',\n 'Comedy That Launched Ukraine President Zelensky Into Stardom Being Remade In Poland\\n',\n \"Google's Latest Foray Sparks More Bad News For Intel, AMD\\n\",\n 'Earnings Preview for Walt Disney\\n',\n 'How Fast is the Virtual Reality Market Growing? VAIL VR Wants to Forge Ahead\\n',\n 'Northrop Grumman Stock Slips After Mixed Q3 Results, Weak FY21 Revenue Outlook\\n',\n 'Netflix Publishes Diversity Study, Commits $100M To Diversity Representation\\n',\n 'Northrop Grumman Whale Trades For March 29\\n',\n 'Moderna At Annual J.P. Morgan Healthcare Conference, Inks Oncology Pact With Carisma Therapeutics\\n',\n 'IBM Designs New Quantum Chip - All You Need To Know\\n',\n \"Disney Reopens Hong Kong Theme Park, Remains Silent On Shanghai Properties' Status\\n\",\n 'Morgan Stanley Sees Disney Suffer From Confidence Crisis; Cuts Price Target By 12%\\n',\n '5 Fun Facts You Might Not Know About NBA Star Steph Curry\\n',\n \"If You Invested $1,000 In Walmart Stock At Its IPO, Here's How Much You'd Have Now\\n\",\n \"Lululemon Signs First Golfer And You Won't Believe Who It Is\\n\",\n \"Benzinga's Top Ratings Upgrades, Downgrades For January 14, 2021\\n\",\n 'How Nike Stock Looks Heading Into The Q4 Earnings Print\\n',\n 'Disney Inks Streaming Deal With WWE For Indonesia Market: Will More Markets Follow?\\n',\n 'Real Brands To Acquire CBD Manufacturer Boulder Botanical\\n',\n \"Boeing's PTO Forecasts Demand For 2.1M New Commercial Aviation Personnel\\n\",\n 'Triumph Secures Contract Extension For 787 Cargo Door Actuation System\\n',\n \"Can't Find Anything To Stream On Your Phone? Netflix Will Help You Chill\\n\",\n 'Nvidia Analyst Hikes Price Target By 30% On $10B Opportunity Presented By The Metaverse\\n',\n 'The Happiest Place On Earth? Brawl At Disney World Leads To Arrests, Hospitalizations And Lifetime Bans\\n',\n \"Tesla's Stockpile Of New 4680 Battery Packs Is Increasing\\n\",\n 'Is Advanced Micro Devices Headed For Gap Fill Or Will This Bearish Pattern Dominate?\\n',\n 'Meta Pulls Down China Based Network Exploiting US Midterms\\n',\n \"Nvidia's Comprehensive Involvement In Gaming Market Continues Strong Demand: Rosenblatt\\n\",\n 'This Tesla Feature May Have Saved Driver From Road Rage Attack (Video)\\n',\n \"Five-Year Follow-Up Data Show Pfizer's Tafamidis Cuts Risk of Mortality by 41% In Cardiomyopathy Patients\\n\",\n 'NVIDIA Unveiled NVIDIA DGX SuperPOD Cloud-Native AI Supercomputer\\n',\n 'Mid-Day Market Update: Dow Tumbles Over 800 Points; DLocal Shares Surge\\n',\n \"'Halftime Report' Final Trades: Apple, Nvidia And More\\n\",\n \"Disney Announces Premiere Date For 'Home Alone' Reboot\\n\",\n \"Here's Why Shares Of Nvidia Are Popping Off Today\\n\",\n 'DoorDash Implements AI Robots For Smarter, Safer Workplace\\n',\n \"Twitter Buoyed By Elon Musk's Acquisition Plans: Here's What Lies Ahead For The Stock\\n\",\n 'Why Moderna, Avrobio, And More Are Moving Today\\n',\n 'Disney Fined $12K After Employee Breaks Both Arms In Workplace Accident\\n',\n 'Who Needs TV Commercials? Tesla China Shows Off Camp Mode In New Video On Social Media\\n',\n 'Netflix Whale Trades For December 29\\n',\n \"Dwayne 'The Rock' Johnson Talks Unprecedented Growth Of His Teremana Tequila Brand\\n\",\n ...]"
     },
     "execution_count": 63,
     "metadata": {},
     "output_type": "execute_result"
    }
   ],
   "source": [
    "train_data[\"news_text\"].tolist()"
   ],
   "metadata": {
    "collapsed": false,
    "pycharm": {
     "name": "#%%\n"
    }
   }
  },
  {
   "cell_type": "code",
   "execution_count": 64,
   "id": "e035fd03",
   "metadata": {
    "pycharm": {
     "name": "#%%\n"
    }
   },
   "outputs": [],
   "source": [
    "hg_train_data = Dataset.from_pandas(train_data)\n",
    "hg_test_data = Dataset.from_pandas(test_data)"
   ]
  },
  {
   "cell_type": "code",
   "execution_count": 65,
   "id": "4237e38f",
   "metadata": {
    "pycharm": {
     "name": "#%%\n"
    }
   },
   "outputs": [
    {
     "name": "stdout",
     "output_type": "stream",
     "text": [
      "The length of hg_train_data is 2874.\n",
      "\n"
     ]
    },
    {
     "data": {
      "text/plain": "{'news_text': \"Will Chart Analysts Notice Bad Omen on Netflix's Chart\\n\",\n 'label': 0,\n '__index_level_0__': 426}"
     },
     "execution_count": 65,
     "metadata": {},
     "output_type": "execute_result"
    }
   ],
   "source": [
    "print(f'The length of hg_train_data is {len(hg_train_data)}.\\n')\n",
    "\n",
    "# Check one review\n",
    "hg_train_data[0]"
   ]
  },
  {
   "cell_type": "code",
   "execution_count": 66,
   "id": "8ce0c89d",
   "metadata": {
    "pycharm": {
     "name": "#%%\n"
    }
   },
   "outputs": [
    {
     "name": "stderr",
     "output_type": "stream",
     "text": [
      "loading configuration file https://huggingface.co/bert-base-cased/resolve/main/config.json from cache at /home/alexa/.cache/huggingface/transformers/a803e0468a8fe090683bdc453f4fac622804f49de86d7cecaee92365d4a0f829.a64a22196690e0e82ead56f388a3ef3a50de93335926ccfa20610217db589307\n",
      "Model config BertConfig {\n",
      "  \"_name_or_path\": \"bert-base-cased\",\n",
      "  \"architectures\": [\n",
      "    \"BertForMaskedLM\"\n",
      "  ],\n",
      "  \"attention_probs_dropout_prob\": 0.1,\n",
      "  \"classifier_dropout\": null,\n",
      "  \"gradient_checkpointing\": false,\n",
      "  \"hidden_act\": \"gelu\",\n",
      "  \"hidden_dropout_prob\": 0.1,\n",
      "  \"hidden_size\": 768,\n",
      "  \"initializer_range\": 0.02,\n",
      "  \"intermediate_size\": 3072,\n",
      "  \"layer_norm_eps\": 1e-12,\n",
      "  \"max_position_embeddings\": 512,\n",
      "  \"model_type\": \"bert\",\n",
      "  \"num_attention_heads\": 12,\n",
      "  \"num_hidden_layers\": 12,\n",
      "  \"pad_token_id\": 0,\n",
      "  \"position_embedding_type\": \"absolute\",\n",
      "  \"transformers_version\": \"4.20.1\",\n",
      "  \"type_vocab_size\": 2,\n",
      "  \"use_cache\": true,\n",
      "  \"vocab_size\": 28996\n",
      "}\n",
      "\n",
      "loading file https://huggingface.co/bert-base-cased/resolve/main/vocab.txt from cache at /home/alexa/.cache/huggingface/transformers/6508e60ab3c1200bffa26c95f4b58ac6b6d95fba4db1f195f632fa3cd7bc64cc.437aa611e89f6fc6675a049d2b5545390adbc617e7d655286421c191d2be2791\n",
      "loading file https://huggingface.co/bert-base-cased/resolve/main/tokenizer.json from cache at /home/alexa/.cache/huggingface/transformers/226a307193a9f4344264cdc76a12988448a25345ba172f2c7421f3b6810fddad.3dab63143af66769bbb35e3811f75f7e16b2320e12b7935e216bd6159ce6d9a6\n",
      "loading file https://huggingface.co/bert-base-cased/resolve/main/added_tokens.json from cache at None\n",
      "loading file https://huggingface.co/bert-base-cased/resolve/main/special_tokens_map.json from cache at None\n",
      "loading file https://huggingface.co/bert-base-cased/resolve/main/tokenizer_config.json from cache at /home/alexa/.cache/huggingface/transformers/ec84e86ee39bfe112543192cf981deebf7e6cbe8c91b8f7f8f63c9be44366158.ec5c189f89475aac7d8cbd243960a0655cfadc3d0474da8ff2ed0bf1699c2a5f\n",
      "loading configuration file https://huggingface.co/bert-base-cased/resolve/main/config.json from cache at /home/alexa/.cache/huggingface/transformers/a803e0468a8fe090683bdc453f4fac622804f49de86d7cecaee92365d4a0f829.a64a22196690e0e82ead56f388a3ef3a50de93335926ccfa20610217db589307\n",
      "Model config BertConfig {\n",
      "  \"_name_or_path\": \"bert-base-cased\",\n",
      "  \"architectures\": [\n",
      "    \"BertForMaskedLM\"\n",
      "  ],\n",
      "  \"attention_probs_dropout_prob\": 0.1,\n",
      "  \"classifier_dropout\": null,\n",
      "  \"gradient_checkpointing\": false,\n",
      "  \"hidden_act\": \"gelu\",\n",
      "  \"hidden_dropout_prob\": 0.1,\n",
      "  \"hidden_size\": 768,\n",
      "  \"initializer_range\": 0.02,\n",
      "  \"intermediate_size\": 3072,\n",
      "  \"layer_norm_eps\": 1e-12,\n",
      "  \"max_position_embeddings\": 512,\n",
      "  \"model_type\": \"bert\",\n",
      "  \"num_attention_heads\": 12,\n",
      "  \"num_hidden_layers\": 12,\n",
      "  \"pad_token_id\": 0,\n",
      "  \"position_embedding_type\": \"absolute\",\n",
      "  \"transformers_version\": \"4.20.1\",\n",
      "  \"type_vocab_size\": 2,\n",
      "  \"use_cache\": true,\n",
      "  \"vocab_size\": 28996\n",
      "}\n",
      "\n"
     ]
    },
    {
     "data": {
      "text/plain": "PreTrainedTokenizerFast(name_or_path='bert-base-cased', vocab_size=28996, model_max_len=512, is_fast=True, padding_side='right', truncation_side='right', special_tokens={'unk_token': '[UNK]', 'sep_token': '[SEP]', 'pad_token': '[PAD]', 'cls_token': '[CLS]', 'mask_token': '[MASK]'})"
     },
     "execution_count": 66,
     "metadata": {},
     "output_type": "execute_result"
    }
   ],
   "source": [
    "# Tokenizer from a pretrained model\n",
    "tokenizer = AutoTokenizer.from_pretrained(\"bert-base-cased\")\n",
    "\n",
    "# Take a look at the tokenizer\n",
    "tokenizer"
   ]
  },
  {
   "cell_type": "code",
   "execution_count": 67,
   "outputs": [
    {
     "name": "stdout",
     "output_type": "stream",
     "text": [
      "The unknown token is [UNK] and the ID for the unkown token is 100.\n",
      "The seperator token is [SEP] and the ID for the seperator token is 102.\n",
      "The pad token is [PAD] and the ID for the pad token is 0.\n",
      "The sentence level classification token is [CLS] and the ID for the classification token is 101.\n",
      "The mask token is [MASK] and the ID for the mask token is 103.\n"
     ]
    }
   ],
   "source": [
    "# Mapping between special tokens and their IDs.\n",
    "print(f'The unknown token is {tokenizer.unk_token} and the ID for the unkown token is {tokenizer.unk_token_id}.')\n",
    "print(f'The seperator token is {tokenizer.sep_token} and the ID for the seperator token is {tokenizer.sep_token_id}.')\n",
    "print(f'The pad token is {tokenizer.pad_token} and the ID for the pad token is {tokenizer.pad_token_id}.')\n",
    "print(f'The sentence level classification token is {tokenizer.cls_token} and the ID for the classification token is {tokenizer.cls_token_id}.')\n",
    "print(f'The mask token is {tokenizer.mask_token} and the ID for the mask token is {tokenizer.mask_token_id}.')"
   ],
   "metadata": {
    "collapsed": false,
    "pycharm": {
     "name": "#%%\n"
    }
   }
  },
  {
   "cell_type": "code",
   "execution_count": 68,
   "id": "b54c897a",
   "metadata": {
    "pycharm": {
     "name": "#%%\n"
    }
   },
   "outputs": [
    {
     "data": {
      "text/plain": "Map:   0%|          | 0/2874 [00:00<?, ? examples/s]",
      "application/vnd.jupyter.widget-view+json": {
       "version_major": 2,
       "version_minor": 0,
       "model_id": "66bc6cad30ca41d488e89f6a14434cec"
      }
     },
     "metadata": {},
     "output_type": "display_data"
    },
    {
     "data": {
      "text/plain": "Map:   0%|          | 0/54 [00:00<?, ? examples/s]",
      "application/vnd.jupyter.widget-view+json": {
       "version_major": 2,
       "version_minor": 0,
       "model_id": "95a59e78b5c04fc3a60532233cb6f8b0"
      }
     },
     "metadata": {},
     "output_type": "display_data"
    }
   ],
   "source": [
    "# Funtion to tokenize data\n",
    "def tokenize_dataset(data):\n",
    "    return tokenizer(data[\"news_text\"], \n",
    "                     max_length=32,\n",
    "                     truncation=True, \n",
    "                     padding=\"max_length\")\n",
    "\n",
    "# Tokenize the dataset\n",
    "dataset_train = hg_train_data.map(tokenize_dataset)\n",
    "dataset_test = hg_test_data.map(tokenize_dataset)"
   ]
  },
  {
   "cell_type": "code",
   "execution_count": 69,
   "id": "7ac00778",
   "metadata": {
    "pycharm": {
     "name": "#%%\n"
    }
   },
   "outputs": [
    {
     "name": "stdout",
     "output_type": "stream",
     "text": [
      "Dataset({\n",
      "    features: ['news_text', 'label', '__index_level_0__', 'input_ids', 'token_type_ids', 'attention_mask'],\n",
      "    num_rows: 2874\n",
      "})\n",
      "Dataset({\n",
      "    features: ['news_text', 'label', '__index_level_0__', 'input_ids', 'token_type_ids', 'attention_mask'],\n",
      "    num_rows: 54\n",
      "})\n"
     ]
    }
   ],
   "source": [
    "# Take a look at the data\n",
    "print(dataset_train)\n",
    "print(dataset_test)"
   ]
  },
  {
   "cell_type": "code",
   "execution_count": 70,
   "id": "d4aff089",
   "metadata": {
    "pycharm": {
     "name": "#%%\n"
    }
   },
   "outputs": [
    {
     "name": "stderr",
     "output_type": "stream",
     "text": [
      "loading configuration file https://huggingface.co/bert-base-uncased/resolve/main/config.json from cache at /home/alexa/.cache/huggingface/transformers/3c61d016573b14f7f008c02c4e51a366c67ab274726fe2910691e2a761acf43e.37395cee442ab11005bcd270f3c34464dc1704b715b5d7d52b1a461abe3b9e4e\n",
      "Model config BertConfig {\n",
      "  \"_name_or_path\": \"bert-base-uncased\",\n",
      "  \"architectures\": [\n",
      "    \"BertForMaskedLM\"\n",
      "  ],\n",
      "  \"attention_probs_dropout_prob\": 0.1,\n",
      "  \"classifier_dropout\": null,\n",
      "  \"gradient_checkpointing\": false,\n",
      "  \"hidden_act\": \"gelu\",\n",
      "  \"hidden_dropout_prob\": 0.1,\n",
      "  \"hidden_size\": 768,\n",
      "  \"initializer_range\": 0.02,\n",
      "  \"intermediate_size\": 3072,\n",
      "  \"layer_norm_eps\": 1e-12,\n",
      "  \"max_position_embeddings\": 512,\n",
      "  \"model_type\": \"bert\",\n",
      "  \"num_attention_heads\": 12,\n",
      "  \"num_hidden_layers\": 12,\n",
      "  \"pad_token_id\": 0,\n",
      "  \"position_embedding_type\": \"absolute\",\n",
      "  \"transformers_version\": \"4.20.1\",\n",
      "  \"type_vocab_size\": 2,\n",
      "  \"use_cache\": true,\n",
      "  \"vocab_size\": 30522\n",
      "}\n",
      "\n",
      "loading weights file https://huggingface.co/bert-base-uncased/resolve/main/pytorch_model.bin from cache at /home/alexa/.cache/huggingface/transformers/a8041bf617d7f94ea26d15e218abd04afc2004805632abc0ed2066aa16d50d04.faf6ea826ae9c5867d12b22257f9877e6b8367890837bd60f7c54a29633f7f2f\n",
      "Some weights of the model checkpoint at bert-base-uncased were not used when initializing BertForSequenceClassification: ['cls.seq_relationship.weight', 'cls.predictions.transform.LayerNorm.bias', 'cls.predictions.transform.LayerNorm.weight', 'cls.predictions.transform.dense.bias', 'cls.predictions.bias', 'cls.predictions.decoder.weight', 'cls.predictions.transform.dense.weight', 'cls.seq_relationship.bias']\n",
      "- This IS expected if you are initializing BertForSequenceClassification from the checkpoint of a model trained on another task or with another architecture (e.g. initializing a BertForSequenceClassification model from a BertForPreTraining model).\n",
      "- This IS NOT expected if you are initializing BertForSequenceClassification from the checkpoint of a model that you expect to be exactly identical (initializing a BertForSequenceClassification model from a BertForSequenceClassification model).\n",
      "Some weights of BertForSequenceClassification were not initialized from the model checkpoint at bert-base-uncased and are newly initialized: ['classifier.bias', 'classifier.weight']\n",
      "You should probably TRAIN this model on a down-stream task to be able to use it for predictions and inference.\n"
     ]
    }
   ],
   "source": [
    "\n",
    "model = AutoModelForSequenceClassification.from_pretrained(\"bert-base-uncased\", num_labels=2)\n"
   ]
  },
  {
   "cell_type": "code",
   "execution_count": 92,
   "id": "90992613",
   "metadata": {
    "pycharm": {
     "name": "#%%\n"
    }
   },
   "outputs": [
    {
     "name": "stderr",
     "output_type": "stream",
     "text": [
      "PyTorch: setting up devices\n",
      "The default value for the training argument `--report_to` will change in v5 (from all installed integrations to none). In v5, you will need to use `--report_to all` to get the same behavior as now. You should start updating your code and make this info disappear :-).\n"
     ]
    }
   ],
   "source": [
    "training_args = TrainingArguments(\n",
    "    output_dir=\"./sentiment_transfer_learning_transformer/\",          \n",
    "    logging_dir='./sentiment_transfer_learning_transformer/logs',            \n",
    "    logging_strategy='epoch',\n",
    "    logging_steps=100,    \n",
    "    num_train_epochs=20,\n",
    "    per_device_train_batch_size=4,\n",
    "    per_device_eval_batch_size=4,\n",
    "    learning_rate=5e-6,\n",
    "    seed=42,\n",
    "    save_strategy='epoch',\n",
    "    save_steps=100,\n",
    "    evaluation_strategy='epoch',\n",
    "    eval_steps=100,\n",
    "    load_best_model_at_end=True\n",
    ")"
   ]
  },
  {
   "cell_type": "code",
   "execution_count": 72,
   "id": "e40fc6ab",
   "metadata": {
    "pycharm": {
     "name": "#%%\n"
    }
   },
   "outputs": [
    {
     "name": "stdout",
     "output_type": "stream",
     "text": [
      "There are 157 evaluation models in Hugging Face.\n",
      "\n"
     ]
    },
    {
     "data": {
      "text/plain": "['lvwerra/test',\n 'precision',\n 'code_eval',\n 'roc_auc',\n 'cuad',\n 'xnli',\n 'rouge',\n 'pearsonr',\n 'mse',\n 'super_glue',\n 'comet',\n 'cer',\n 'sacrebleu',\n 'mahalanobis',\n 'wer',\n 'competition_math',\n 'f1',\n 'recall',\n 'coval',\n 'mauve',\n 'xtreme_s',\n 'bleurt',\n 'ter',\n 'accuracy',\n 'exact_match',\n 'indic_glue',\n 'spearmanr',\n 'mae',\n 'squad',\n 'chrf',\n 'glue',\n 'perplexity',\n 'mean_iou',\n 'squad_v2',\n 'meteor',\n 'bleu',\n 'wiki_split',\n 'sari',\n 'frugalscore',\n 'google_bleu',\n 'bertscore',\n 'matthews_correlation',\n 'seqeval',\n 'trec_eval',\n 'rl_reliability',\n 'jordyvl/ece',\n 'angelina-wang/directional_bias_amplification',\n 'cpllab/syntaxgym',\n 'lvwerra/bary_score',\n 'kaggle/amex',\n 'kaggle/ai4code',\n 'hack/test_metric',\n 'yzha/ctc_eval',\n 'codeparrot/apps_metric',\n 'mfumanelli/geometric_mean',\n 'daiyizheng/valid',\n 'poseval',\n 'erntkn/dice_coefficient',\n 'mgfrantz/roc_auc_macro',\n 'Vlasta/pr_auc',\n 'gorkaartola/metric_for_tp_fp_samples',\n 'idsedykh/metric',\n 'idsedykh/codebleu2',\n 'idsedykh/codebleu',\n 'idsedykh/megaglue',\n 'cakiki/ndcg',\n 'brier_score',\n 'Vertaix/vendiscore',\n 'GMFTBY/dailydialogevaluate',\n 'GMFTBY/dailydialog_evaluate',\n 'jzm-mailchimp/joshs_second_test_metric',\n 'ola13/precision_at_k',\n 'yulong-me/yl_metric',\n 'abidlabs/mean_iou',\n 'abidlabs/mean_iou2',\n 'KevinSpaghetti/accuracyk',\n 'NimaBoscarino/weat',\n 'ronaldahmed/nwentfaithfulness',\n 'Viona/infolm',\n 'kyokote/my_metric2',\n 'kashif/mape',\n 'Ochiroo/rouge_mn',\n 'giulio98/code_eval_outputs',\n 'leslyarun/fbeta_score',\n 'giulio98/codebleu',\n 'anz2/iliauniiccocrevaluation',\n 'zbeloki/m2',\n 'xu1998hz/sescore',\n 'mase',\n 'mape',\n 'smape',\n 'dvitel/codebleu',\n 'NCSOFT/harim_plus',\n 'JP-SystemsX/nDCG',\n 'sportlosos/sescore',\n 'Drunper/metrica_tesi',\n 'jpxkqx/peak_signal_to_noise_ratio',\n 'jpxkqx/signal_to_reconstrution_error',\n 'hpi-dhc/FairEval',\n 'nist_mt',\n 'lvwerra/accuracy_score',\n 'character',\n 'charcut_mt',\n 'ybelkada/cocoevaluate',\n 'harshhpareek/bertscore',\n 'posicube/mean_reciprocal_rank',\n 'bstrai/classification_report',\n 'omidf/squad_precision_recall',\n 'Josh98/nl2bash_m',\n 'BucketHeadP65/confusion_matrix',\n 'BucketHeadP65/roc_curve',\n 'yonting/average_precision_score',\n 'transZ/test_parascore',\n 'transZ/sbert_cosine',\n 'hynky/sklearn_proxy',\n 'xu1998hz/sescore_english_mt',\n 'xu1998hz/sescore_german_mt',\n 'xu1998hz/sescore_english_coco',\n 'xu1998hz/sescore_english_webnlg',\n 'unnati/kendall_tau_distance',\n 'r_squared',\n 'Viona/fuzzy_reordering',\n 'Viona/kendall_tau',\n 'lhy/hamming_loss',\n 'lhy/ranking_loss',\n 'Muennighoff/code_eval',\n 'yuyijiong/quad_match_score',\n 'Splend1dchan/cosine_similarity',\n 'Yeshwant123/mcc',\n 'transformersegmentation/segmentation_scores',\n 'sma2023/wil',\n 'chanelcolgate/average_precision',\n 'ckb/unigram',\n 'Felipehonorato/eer',\n 'manueldeprada/beer',\n 'tialaeMceryu/unigram',\n 'shunzh/apps_metric',\n 'hxw15/sari_metric',\n 'mcnemar',\n 'exact_match',\n 'wilcoxon',\n 'ncoop57/levenshtein_distance',\n 'kaleidophon/almost_stochastic_order',\n 'word_length',\n 'lvwerra/element_count',\n 'word_count',\n 'text_duplicates',\n 'perplexity',\n 'label_distribution',\n 'toxicity',\n 'prb977/cooccurrence_count',\n 'regard',\n 'honest',\n 'NimaBoscarino/pseudo_perplexity',\n 'ybelkada/toxicity',\n 'ronaldahmed/ccl_win',\n 'meg/perplexity']"
     },
     "execution_count": 72,
     "metadata": {},
     "output_type": "execute_result"
    }
   ],
   "source": [
    "print(f'There are {len(evaluate.list_evaluation_modules())} evaluation models in Hugging Face.\\n')\n",
    "\n",
    "# List all evaluation metrics\n",
    "evaluate.list_evaluation_modules()"
   ]
  },
  {
   "cell_type": "code",
   "execution_count": 73,
   "id": "b2310b52",
   "metadata": {
    "pycharm": {
     "name": "#%%\n"
    }
   },
   "outputs": [],
   "source": [
    "# Function to compute the metric\n",
    "def compute_metrics(eval_pred):\n",
    "    metric = evaluate.load(\"accuracy\")\n",
    "    logits, labels = eval_pred\n",
    "    predictions = np.argmax(logits, axis=1)\n",
    "    return metric.compute(predictions=predictions, references=labels)"
   ]
  },
  {
   "cell_type": "code",
   "execution_count": 93,
   "id": "d7f60d60",
   "metadata": {
    "pycharm": {
     "name": "#%%\n"
    }
   },
   "outputs": [
    {
     "name": "stderr",
     "output_type": "stream",
     "text": [
      "The following columns in the training set don't have a corresponding argument in `BertForSequenceClassification.forward` and have been ignored: __index_level_0__, news_text. If __index_level_0__, news_text are not expected by `BertForSequenceClassification.forward`,  you can safely ignore this message.\n",
      "/home/alexa/miniconda3/envs/tf/lib/python3.9/site-packages/transformers/optimization.py:306: FutureWarning: This implementation of AdamW is deprecated and will be removed in a future version. Use the PyTorch implementation torch.optim.AdamW instead, or set `no_deprecation_warning=True` to disable this warning\n",
      "  warnings.warn(\n",
      "***** Running training *****\n",
      "  Num examples = 2874\n",
      "  Num Epochs = 20\n",
      "  Instantaneous batch size per device = 4\n",
      "  Total train batch size (w. parallel, distributed & accumulation) = 4\n",
      "  Gradient Accumulation steps = 1\n",
      "  Total optimization steps = 14380\n"
     ]
    },
    {
     "data": {
      "text/plain": "<IPython.core.display.HTML object>",
      "text/html": "\n    <div>\n      \n      <progress value='2' max='14380' style='width:300px; height:20px; vertical-align: middle;'></progress>\n      [    2/14380 : < :, Epoch 0.00/20]\n    </div>\n    <table border=\"1\" class=\"dataframe\">\n  <thead>\n <tr style=\"text-align: left;\">\n      <th>Epoch</th>\n      <th>Training Loss</th>\n      <th>Validation Loss</th>\n    </tr>\n  </thead>\n  <tbody>\n  </tbody>\n</table><p>"
     },
     "metadata": {},
     "output_type": "display_data"
    },
    {
     "name": "stderr",
     "output_type": "stream",
     "text": [
      "The following columns in the evaluation set don't have a corresponding argument in `BertForSequenceClassification.forward` and have been ignored: __index_level_0__, news_text. If __index_level_0__, news_text are not expected by `BertForSequenceClassification.forward`,  you can safely ignore this message.\n",
      "***** Running Evaluation *****\n",
      "  Num examples = 54\n",
      "  Batch size = 4\n",
      "Saving model checkpoint to ./sentiment_transfer_learning_transformer/checkpoint-719\n",
      "Configuration saved in ./sentiment_transfer_learning_transformer/checkpoint-719/config.json\n",
      "Model weights saved in ./sentiment_transfer_learning_transformer/checkpoint-719/pytorch_model.bin\n",
      "The following columns in the evaluation set don't have a corresponding argument in `BertForSequenceClassification.forward` and have been ignored: __index_level_0__, news_text. If __index_level_0__, news_text are not expected by `BertForSequenceClassification.forward`,  you can safely ignore this message.\n",
      "***** Running Evaluation *****\n",
      "  Num examples = 54\n",
      "  Batch size = 4\n",
      "Saving model checkpoint to ./sentiment_transfer_learning_transformer/checkpoint-1438\n",
      "Configuration saved in ./sentiment_transfer_learning_transformer/checkpoint-1438/config.json\n",
      "Model weights saved in ./sentiment_transfer_learning_transformer/checkpoint-1438/pytorch_model.bin\n",
      "\n",
      "\n",
      "Training completed. Do not forget to share your model on huggingface.co/models =)\n",
      "\n",
      "\n",
      "Loading best model from ./sentiment_transfer_learning_transformer/checkpoint-719 (score: 2.5461621284484863).\n"
     ]
    },
    {
     "data": {
      "text/plain": "TrainOutput(global_step=1438, training_loss=0.25818890822281926, metrics={'train_runtime': 147.8863, 'train_samples_per_second': 388.677, 'train_steps_per_second': 97.237, 'total_flos': 94522646638080.0, 'train_loss': 0.25818890822281926, 'epoch': 2.0})"
     },
     "execution_count": 93,
     "metadata": {},
     "output_type": "execute_result"
    }
   ],
   "source": [
    "from transformers import DataCollatorForLanguageModeling\n",
    "\n",
    "data_collator = DataCollatorForLanguageModeling(tokenizer, mlm=False)\n",
    "\n",
    "trainer = Trainer(\n",
    "    model=model,\n",
    "    args=training_args,\n",
    "    train_dataset=dataset_train,\n",
    "    eval_dataset=dataset_test,\n",
    "    compute_metrics=compute_metrics,\n",
    "    callbacks=[EarlyStoppingCallback(early_stopping_patience=1)]\n",
    ")\n",
    "\n",
    "trainer.train()"
   ]
  },
  {
   "cell_type": "code",
   "execution_count": 94,
   "id": "d4d7e407",
   "metadata": {
    "pycharm": {
     "name": "#%%\n"
    }
   },
   "outputs": [
    {
     "name": "stderr",
     "output_type": "stream",
     "text": [
      "The following columns in the test set don't have a corresponding argument in `BertForSequenceClassification.forward` and have been ignored: __index_level_0__, news_text. If __index_level_0__, news_text are not expected by `BertForSequenceClassification.forward`,  you can safely ignore this message.\n",
      "***** Running Prediction *****\n",
      "  Num examples = 54\n",
      "  Batch size = 4\n"
     ]
    },
    {
     "data": {
      "text/plain": "<IPython.core.display.HTML object>",
      "text/html": "\n    <div>\n      \n      <progress value='1' max='14' style='width:300px; height:20px; vertical-align: middle;'></progress>\n      [ 1/14 : < :]\n    </div>\n    "
     },
     "metadata": {},
     "output_type": "display_data"
    },
    {
     "data": {
      "text/plain": "PredictionOutput(predictions=array([[-3.3516743 ,  3.8316574 ],\n       [-3.8557315 ,  4.489566  ],\n       [-2.242092  ,  2.7173576 ],\n       [ 2.4116144 , -2.6358116 ],\n       [ 3.076421  , -4.103788  ],\n       [ 3.3855612 , -4.204203  ],\n       [ 3.5259123 , -4.2156367 ],\n       [-3.8095613 ,  4.4856167 ],\n       [-2.8397956 ,  3.1818435 ],\n       [ 2.989258  , -3.9587328 ],\n       [-0.20726822,  0.13903147],\n       [-3.822425  ,  4.5614123 ],\n       [ 3.8006265 , -4.498038  ],\n       [ 3.3516002 , -4.081126  ],\n       [ 2.636251  , -2.8871162 ],\n       [ 3.3738399 , -3.9633384 ],\n       [ 1.7367955 , -2.3856862 ],\n       [-1.159985  ,  1.654037  ],\n       [-3.4666836 ,  3.9035947 ],\n       [-3.4884396 ,  4.0015063 ],\n       [ 3.2989392 , -4.065156  ],\n       [-2.9920397 ,  3.746995  ],\n       [ 2.432497  , -3.4390755 ],\n       [ 3.3325574 , -4.117629  ],\n       [-3.3811824 ,  3.8985913 ],\n       [-1.359944  ,  1.6617783 ],\n       [-3.017413  ,  3.533588  ],\n       [ 3.199379  , -3.8921304 ],\n       [-3.5951025 ,  4.206395  ],\n       [-3.5428414 ,  4.0223236 ],\n       [-3.728641  ,  4.401799  ],\n       [-3.7734146 ,  4.418664  ],\n       [-1.5702201 ,  1.7019364 ],\n       [-3.6796494 ,  4.2045302 ],\n       [ 3.0992503 , -3.7839966 ],\n       [-1.9732192 ,  2.4680526 ],\n       [ 3.1152382 , -3.7574267 ],\n       [ 3.6487956 , -4.3857975 ],\n       [-3.178626  ,  3.485362  ],\n       [ 1.5054159 , -1.8719985 ],\n       [-3.1512825 ,  3.5874994 ],\n       [-2.7540183 ,  3.2369058 ],\n       [-2.9901786 ,  3.4380229 ],\n       [-3.3650746 ,  3.7339857 ],\n       [ 3.7701027 , -4.5425086 ],\n       [-3.751404  ,  4.536295  ],\n       [ 3.6210806 , -4.320999  ],\n       [ 3.31858   , -3.9480283 ],\n       [ 0.57839435, -0.9710117 ],\n       [ 2.3027623 , -2.9101958 ],\n       [-3.6388087 ,  4.4510036 ],\n       [ 2.0006282 , -2.7772355 ],\n       [ 0.6356811 , -0.98744583],\n       [-3.782173  ,  4.3680763 ]], dtype=float32), label_ids=array([0, 0, 1, 1, 0, 0, 1, 0, 0, 1, 1, 0, 0, 0, 0, 1, 1, 1, 1, 1, 0, 1,\n       0, 1, 1, 1, 1, 0, 0, 1, 0, 1, 0, 0, 1, 1, 0, 0, 0, 0, 1, 1, 1, 1,\n       0, 1, 0, 1, 1, 1, 1, 1, 0, 1]), metrics={'test_loss': 2.5461621284484863, 'test_accuracy': 0.6111111111111112, 'test_runtime': 1.4361, 'test_samples_per_second': 37.601, 'test_steps_per_second': 9.748})"
     },
     "execution_count": 94,
     "metadata": {},
     "output_type": "execute_result"
    }
   ],
   "source": [
    "y_test_predict = trainer.predict(dataset_test)\n",
    "\n",
    "# Take a look at the predictions\n",
    "y_test_predict"
   ]
  },
  {
   "cell_type": "code",
   "execution_count": 74,
   "id": "73072691",
   "metadata": {
    "pycharm": {
     "name": "#%%\n"
    }
   },
   "outputs": [],
   "source": []
  },
  {
   "cell_type": "code",
   "execution_count": 74,
   "id": "e91d3ec5",
   "metadata": {
    "pycharm": {
     "name": "#%%\n"
    }
   },
   "outputs": [],
   "source": []
  },
  {
   "cell_type": "code",
   "execution_count": 74,
   "id": "eae6226b",
   "metadata": {
    "pycharm": {
     "name": "#%%\n"
    }
   },
   "outputs": [],
   "source": []
  },
  {
   "cell_type": "code",
   "execution_count": 74,
   "id": "0dd713ac",
   "metadata": {
    "pycharm": {
     "name": "#%%\n"
    }
   },
   "outputs": [],
   "source": []
  },
  {
   "cell_type": "code",
   "execution_count": 74,
   "id": "ce27088c",
   "metadata": {
    "pycharm": {
     "name": "#%%\n"
    }
   },
   "outputs": [],
   "source": []
  }
 ],
 "metadata": {
  "kernelspec": {
   "display_name": "Python 3 (ipykernel)",
   "language": "python",
   "name": "python3"
  },
  "language_info": {
   "codemirror_mode": {
    "name": "ipython",
    "version": 3
   },
   "file_extension": ".py",
   "mimetype": "text/x-python",
   "name": "python",
   "nbconvert_exporter": "python",
   "pygments_lexer": "ipython3",
   "version": "3.9.16"
  }
 },
 "nbformat": 4,
 "nbformat_minor": 5
}