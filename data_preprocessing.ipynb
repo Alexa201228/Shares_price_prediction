{
 "cells": [
  {
   "cell_type": "code",
   "execution_count": 32,
   "metadata": {
    "collapsed": true,
    "pycharm": {
     "name": "#%%\n"
    }
   },
   "outputs": [],
   "source": [
    "import os\n",
    "import pandas as pd\n",
    "import numpy as np"
   ]
  },
  {
   "cell_type": "code",
   "execution_count": 33,
   "outputs": [
    {
     "name": "stdout",
     "output_type": "stream",
     "text": [
      "<class 'pandas.core.frame.DataFrame'>\n",
      "Int64Index: 24484 entries, 0 to 1497\n",
      "Data columns (total 11 columns):\n",
      " #   Column         Non-Null Count  Dtype  \n",
      "---  ------         --------------  -----  \n",
      " 0   Время          16445 non-null  object \n",
      " 1   Цена до        16445 non-null  float64\n",
      " 2   Цена после     16445 non-null  float64\n",
      " 3   Текст новости  16445 non-null  object \n",
      " 4   Аннотация      4780 non-null   object \n",
      " 5   Дата           11488 non-null  object \n",
      " 6   Unnamed: 1     842 non-null    object \n",
      " 7   Unnamed: 2     842 non-null    float64\n",
      " 8   Unnamed: 3     842 non-null    float64\n",
      " 9   Unnamed: 4     842 non-null    object \n",
      " 10  Unnamed: 5     834 non-null    object \n",
      "dtypes: float64(4), object(7)\n",
      "memory usage: 2.2+ MB\n"
     ]
    }
   ],
   "source": [
    "df = pd.DataFrame()\n",
    "for root, _, files in os.walk(\"data\"):\n",
    "    for filename in files:\n",
    "        temp_df = pd.read_excel(os.path.join(root, filename), \"Sheet1\")\n",
    "        temp_df.drop(columns=[temp_df.columns[0], \"Разница в долларах\", \"Дельта в процентах\"], axis=1, inplace=True, errors=\"ignore\")\n",
    "        df = pd.concat([df, temp_df], axis=0, sort=False)\n",
    "df.info()"
   ],
   "metadata": {
    "collapsed": false,
    "pycharm": {
     "name": "#%%\n"
    }
   }
  },
  {
   "cell_type": "code",
   "execution_count": 36,
   "outputs": [
    {
     "data": {
      "text/plain": "                                           news_text  label\n0  Spirit AeroSystems Slides On Q1 Earnings Miss ...      1\n1  Boeing Unusual Options Activity For May 01. So...      0\n2  If You Invested $1000 In This Stock 20 Years A...      0\n4  Crude Oil Down 3%; Boeing Reports Better-Than-...      0\n5  US Stocks Rise, Aided By Tech Earnings, But Th...      0",
      "text/html": "<div>\n<style scoped>\n    .dataframe tbody tr th:only-of-type {\n        vertical-align: middle;\n    }\n\n    .dataframe tbody tr th {\n        vertical-align: top;\n    }\n\n    .dataframe thead th {\n        text-align: right;\n    }\n</style>\n<table border=\"1\" class=\"dataframe\">\n  <thead>\n    <tr style=\"text-align: right;\">\n      <th></th>\n      <th>news_text</th>\n      <th>label</th>\n    </tr>\n  </thead>\n  <tbody>\n    <tr>\n      <th>0</th>\n      <td>Spirit AeroSystems Slides On Q1 Earnings Miss ...</td>\n      <td>1</td>\n    </tr>\n    <tr>\n      <th>1</th>\n      <td>Boeing Unusual Options Activity For May 01. So...</td>\n      <td>0</td>\n    </tr>\n    <tr>\n      <th>2</th>\n      <td>If You Invested $1000 In This Stock 20 Years A...</td>\n      <td>0</td>\n    </tr>\n    <tr>\n      <th>4</th>\n      <td>Crude Oil Down 3%; Boeing Reports Better-Than-...</td>\n      <td>0</td>\n    </tr>\n    <tr>\n      <th>5</th>\n      <td>US Stocks Rise, Aided By Tech Earnings, But Th...</td>\n      <td>0</td>\n    </tr>\n  </tbody>\n</table>\n</div>"
     },
     "execution_count": 36,
     "metadata": {},
     "output_type": "execute_result"
    }
   ],
   "source": [
    "df = df.drop_duplicates(subset=[\"Текст новости\"], keep=False)\n",
    "df.rename(columns={\"Цена до\": \"price_before\", \"Цена после\": \"price_after\", \"Дата\": \"date\", \"Время\": \"Time\", \"Текст новости\": \"news_text\", \"Аннотация\": \"annotation\"}, inplace=True)\n",
    "\n",
    "df[\"absolute_price_difference\"] = df[\"price_after\"] - df[\"price_before\"]\n",
    "df[\"news_text\"] = df[\"news_text\"] + \". \" + df[\"annotation\"].fillna(\"\")\n",
    "df[\"label\"] = np.where(df[\"absolute_price_difference\"] > 0, 1, 0)\n",
    "df = df[[\"news_text\", \"label\"]].copy()\n",
    "df.head()"
   ],
   "metadata": {
    "collapsed": false,
    "pycharm": {
     "name": "#%%\n"
    }
   }
  },
  {
   "cell_type": "code",
   "execution_count": 39,
   "outputs": [
    {
     "name": "stdout",
     "output_type": "stream",
     "text": [
      "<class 'pandas.core.frame.DataFrame'>\n",
      "Int64Index: 6112 entries, 0 to 1009\n",
      "Data columns (total 2 columns):\n",
      " #   Column     Non-Null Count  Dtype \n",
      "---  ------     --------------  ----- \n",
      " 0   news_text  6112 non-null   object\n",
      " 1   label      6112 non-null   int64 \n",
      "dtypes: int64(1), object(1)\n",
      "memory usage: 143.2+ KB\n"
     ]
    }
   ],
   "source": [
    "df.info()"
   ],
   "metadata": {
    "collapsed": false,
    "pycharm": {
     "name": "#%%\n"
    }
   }
  },
  {
   "cell_type": "code",
   "execution_count": 38,
   "outputs": [],
   "source": [
    "data = pd.read_excel(\"data/amazon.xlsx\", \"Sheet1\", index_col=None)\n",
    "data.to_csv(\"data/amazon.csv\", encoding=\"utf-8\", index=False)"
   ],
   "metadata": {
    "collapsed": false,
    "pycharm": {
     "name": "#%%\n"
    }
   }
  }
 ],
 "metadata": {
  "kernelspec": {
   "display_name": "Python 3",
   "language": "python",
   "name": "python3"
  },
  "language_info": {
   "codemirror_mode": {
    "name": "ipython",
    "version": 2
   },
   "file_extension": ".py",
   "mimetype": "text/x-python",
   "name": "python",
   "nbconvert_exporter": "python",
   "pygments_lexer": "ipython2",
   "version": "2.7.6"
  }
 },
 "nbformat": 4,
 "nbformat_minor": 0
}