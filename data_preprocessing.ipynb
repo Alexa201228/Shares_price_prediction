{
 "cells": [
  {
   "cell_type": "code",
   "execution_count": 18,
   "metadata": {
    "collapsed": true,
    "pycharm": {
     "name": "#%%\n"
    }
   },
   "outputs": [],
   "source": [
    "import os\n",
    "import pandas as pd\n",
    "import numpy as np"
   ]
  },
  {
   "cell_type": "code",
   "execution_count": 23,
   "metadata": {
    "collapsed": false,
    "pycharm": {
     "name": "#%%\n"
    }
   },
   "outputs": [
    {
     "name": "stdout",
     "output_type": "stream",
     "text": [
      "<class 'pandas.core.frame.DataFrame'>\n",
      "Index: 43169 entries, 0 to 1497\n",
      "Data columns (total 10 columns):\n",
      " #   Column         Non-Null Count  Dtype  \n",
      "---  ------         --------------  -----  \n",
      " 0   Дата           22976 non-null  object \n",
      " 1   Время          22976 non-null  object \n",
      " 2   Цена до        22976 non-null  float64\n",
      " 3   Цена после     22976 non-null  float64\n",
      " 4   Текст новости  22976 non-null  object \n",
      " 5   Unnamed: 1     5799 non-null   object \n",
      " 6   Unnamed: 2     5799 non-null   float64\n",
      " 7   Unnamed: 3     5799 non-null   float64\n",
      " 8   Unnamed: 4     5799 non-null   object \n",
      " 9   Unnamed: 5     5614 non-null   object \n",
      "dtypes: float64(4), object(6)\n",
      "memory usage: 3.6+ MB\n"
     ]
    }
   ],
   "source": [
    "df = pd.DataFrame()\n",
    "for root, _, files in os.walk(\"raw_data\"):\n",
    "    for filename in files:\n",
    "        temp_df = pd.read_excel(os.path.join(root, filename), \"Sheet1\")\n",
    "        temp_df.drop(columns=[temp_df.columns[0], \"Разница в долларах\", \"Дельта в процентах\"], axis=1, inplace=True, errors=\"ignore\")\n",
    "        df = pd.concat([df, temp_df], axis=0, sort=False)\n",
    "        \n",
    "df.info()"
   ]
  },
  {
   "cell_type": "code",
   "execution_count": 24,
   "metadata": {},
   "outputs": [
    {
     "data": {
      "text/html": [
       "<div>\n",
       "<style scoped>\n",
       "    .dataframe tbody tr th:only-of-type {\n",
       "        vertical-align: middle;\n",
       "    }\n",
       "\n",
       "    .dataframe tbody tr th {\n",
       "        vertical-align: top;\n",
       "    }\n",
       "\n",
       "    .dataframe thead th {\n",
       "        text-align: right;\n",
       "    }\n",
       "</style>\n",
       "<table border=\"1\" class=\"dataframe\">\n",
       "  <thead>\n",
       "    <tr style=\"text-align: right;\">\n",
       "      <th></th>\n",
       "      <th>Дата</th>\n",
       "      <th>Время</th>\n",
       "      <th>Цена до</th>\n",
       "      <th>Цена после</th>\n",
       "      <th>Текст новости</th>\n",
       "      <th>Unnamed: 1</th>\n",
       "      <th>Unnamed: 2</th>\n",
       "      <th>Unnamed: 3</th>\n",
       "      <th>Unnamed: 4</th>\n",
       "      <th>Unnamed: 5</th>\n",
       "    </tr>\n",
       "  </thead>\n",
       "  <tbody>\n",
       "    <tr>\n",
       "      <th>0</th>\n",
       "      <td>2022-10-10</td>\n",
       "      <td>14:01:25</td>\n",
       "      <td>50.560001</td>\n",
       "      <td>50.445000</td>\n",
       "      <td>Another 'Yuge' Setback For Donald Trump's SPAC...</td>\n",
       "      <td>NaN</td>\n",
       "      <td>NaN</td>\n",
       "      <td>NaN</td>\n",
       "      <td>NaN</td>\n",
       "      <td>NaN</td>\n",
       "    </tr>\n",
       "    <tr>\n",
       "      <th>1</th>\n",
       "      <td>2022-10-07</td>\n",
       "      <td>14:02:08</td>\n",
       "      <td>49.410000</td>\n",
       "      <td>49.130001</td>\n",
       "      <td>Twitter Whale Trades For October 07\\n</td>\n",
       "      <td>NaN</td>\n",
       "      <td>NaN</td>\n",
       "      <td>NaN</td>\n",
       "      <td>NaN</td>\n",
       "      <td>NaN</td>\n",
       "    </tr>\n",
       "    <tr>\n",
       "      <th>2</th>\n",
       "      <td>2022-10-06</td>\n",
       "      <td>15:10:35</td>\n",
       "      <td>50.430000</td>\n",
       "      <td>50.435001</td>\n",
       "      <td>'A Suicide Bomb': NBC Reporter Details How Mus...</td>\n",
       "      <td>NaN</td>\n",
       "      <td>NaN</td>\n",
       "      <td>NaN</td>\n",
       "      <td>NaN</td>\n",
       "      <td>NaN</td>\n",
       "    </tr>\n",
       "    <tr>\n",
       "      <th>3</th>\n",
       "      <td>2022-10-06</td>\n",
       "      <td>13:35:35</td>\n",
       "      <td>50.720001</td>\n",
       "      <td>50.430000</td>\n",
       "      <td>Selling Tesla Shares To Buy Twitter Is 'Giving...</td>\n",
       "      <td>NaN</td>\n",
       "      <td>NaN</td>\n",
       "      <td>NaN</td>\n",
       "      <td>NaN</td>\n",
       "      <td>NaN</td>\n",
       "    </tr>\n",
       "    <tr>\n",
       "      <th>4</th>\n",
       "      <td>2022-10-06</td>\n",
       "      <td>11:26:44</td>\n",
       "      <td>50.950100</td>\n",
       "      <td>51.040001</td>\n",
       "      <td>New Book Shows Donald Trump Treated White Hous...</td>\n",
       "      <td>NaN</td>\n",
       "      <td>NaN</td>\n",
       "      <td>NaN</td>\n",
       "      <td>NaN</td>\n",
       "      <td>NaN</td>\n",
       "    </tr>\n",
       "  </tbody>\n",
       "</table>\n",
       "</div>"
      ],
      "text/plain": [
       "         Дата     Время    Цена до  Цена после  \\\n",
       "0  2022-10-10  14:01:25  50.560001   50.445000   \n",
       "1  2022-10-07  14:02:08  49.410000   49.130001   \n",
       "2  2022-10-06  15:10:35  50.430000   50.435001   \n",
       "3  2022-10-06  13:35:35  50.720001   50.430000   \n",
       "4  2022-10-06  11:26:44  50.950100   51.040001   \n",
       "\n",
       "                                       Текст новости Unnamed: 1  Unnamed: 2  \\\n",
       "0  Another 'Yuge' Setback For Donald Trump's SPAC...        NaN         NaN   \n",
       "1              Twitter Whale Trades For October 07\\n        NaN         NaN   \n",
       "2  'A Suicide Bomb': NBC Reporter Details How Mus...        NaN         NaN   \n",
       "3  Selling Tesla Shares To Buy Twitter Is 'Giving...        NaN         NaN   \n",
       "4  New Book Shows Donald Trump Treated White Hous...        NaN         NaN   \n",
       "\n",
       "   Unnamed: 3 Unnamed: 4 Unnamed: 5  \n",
       "0         NaN        NaN        NaN  \n",
       "1         NaN        NaN        NaN  \n",
       "2         NaN        NaN        NaN  \n",
       "3         NaN        NaN        NaN  \n",
       "4         NaN        NaN        NaN  "
      ]
     },
     "execution_count": 24,
     "metadata": {},
     "output_type": "execute_result"
    }
   ],
   "source": [
    "df.head(5)"
   ]
  },
  {
   "cell_type": "code",
   "execution_count": 27,
   "metadata": {},
   "outputs": [
    {
     "data": {
      "text/html": [
       "<div>\n",
       "<style scoped>\n",
       "    .dataframe tbody tr th:only-of-type {\n",
       "        vertical-align: middle;\n",
       "    }\n",
       "\n",
       "    .dataframe tbody tr th {\n",
       "        vertical-align: top;\n",
       "    }\n",
       "\n",
       "    .dataframe thead th {\n",
       "        text-align: right;\n",
       "    }\n",
       "</style>\n",
       "<table border=\"1\" class=\"dataframe\">\n",
       "  <thead>\n",
       "    <tr style=\"text-align: right;\">\n",
       "      <th></th>\n",
       "      <th>Дата</th>\n",
       "      <th>Время</th>\n",
       "      <th>Цена до</th>\n",
       "      <th>Цена после</th>\n",
       "      <th>Текст новости</th>\n",
       "    </tr>\n",
       "  </thead>\n",
       "  <tbody>\n",
       "    <tr>\n",
       "      <th>0</th>\n",
       "      <td>2022-10-10</td>\n",
       "      <td>14:01:25</td>\n",
       "      <td>50.560001</td>\n",
       "      <td>50.445000</td>\n",
       "      <td>Another 'Yuge' Setback For Donald Trump's SPAC...</td>\n",
       "    </tr>\n",
       "    <tr>\n",
       "      <th>1</th>\n",
       "      <td>2022-10-07</td>\n",
       "      <td>14:02:08</td>\n",
       "      <td>49.410000</td>\n",
       "      <td>49.130001</td>\n",
       "      <td>Twitter Whale Trades For October 07\\n</td>\n",
       "    </tr>\n",
       "    <tr>\n",
       "      <th>2</th>\n",
       "      <td>2022-10-06</td>\n",
       "      <td>15:10:35</td>\n",
       "      <td>50.430000</td>\n",
       "      <td>50.435001</td>\n",
       "      <td>'A Suicide Bomb': NBC Reporter Details How Mus...</td>\n",
       "    </tr>\n",
       "    <tr>\n",
       "      <th>3</th>\n",
       "      <td>2022-10-06</td>\n",
       "      <td>13:35:35</td>\n",
       "      <td>50.720001</td>\n",
       "      <td>50.430000</td>\n",
       "      <td>Selling Tesla Shares To Buy Twitter Is 'Giving...</td>\n",
       "    </tr>\n",
       "    <tr>\n",
       "      <th>4</th>\n",
       "      <td>2022-10-06</td>\n",
       "      <td>11:26:44</td>\n",
       "      <td>50.950100</td>\n",
       "      <td>51.040001</td>\n",
       "      <td>New Book Shows Donald Trump Treated White Hous...</td>\n",
       "    </tr>\n",
       "  </tbody>\n",
       "</table>\n",
       "</div>"
      ],
      "text/plain": [
       "         Дата     Время    Цена до  Цена после  \\\n",
       "0  2022-10-10  14:01:25  50.560001   50.445000   \n",
       "1  2022-10-07  14:02:08  49.410000   49.130001   \n",
       "2  2022-10-06  15:10:35  50.430000   50.435001   \n",
       "3  2022-10-06  13:35:35  50.720001   50.430000   \n",
       "4  2022-10-06  11:26:44  50.950100   51.040001   \n",
       "\n",
       "                                       Текст новости  \n",
       "0  Another 'Yuge' Setback For Donald Trump's SPAC...  \n",
       "1              Twitter Whale Trades For October 07\\n  \n",
       "2  'A Suicide Bomb': NBC Reporter Details How Mus...  \n",
       "3  Selling Tesla Shares To Buy Twitter Is 'Giving...  \n",
       "4  New Book Shows Donald Trump Treated White Hous...  "
      ]
     },
     "execution_count": 27,
     "metadata": {},
     "output_type": "execute_result"
    }
   ],
   "source": [
    "df = df.loc[:, ~df.columns.str.contains('^Unnamed')]\n",
    "df.head()"
   ]
  },
  {
   "cell_type": "code",
   "execution_count": 39,
   "metadata": {
    "collapsed": false,
    "pycharm": {
     "name": "#%%\n"
    }
   },
   "outputs": [
    {
     "data": {
      "text/html": [
       "<div>\n",
       "<style scoped>\n",
       "    .dataframe tbody tr th:only-of-type {\n",
       "        vertical-align: middle;\n",
       "    }\n",
       "\n",
       "    .dataframe tbody tr th {\n",
       "        vertical-align: top;\n",
       "    }\n",
       "\n",
       "    .dataframe thead th {\n",
       "        text-align: right;\n",
       "    }\n",
       "</style>\n",
       "<table border=\"1\" class=\"dataframe\">\n",
       "  <thead>\n",
       "    <tr style=\"text-align: right;\">\n",
       "      <th></th>\n",
       "      <th>news_text</th>\n",
       "      <th>label</th>\n",
       "    </tr>\n",
       "  </thead>\n",
       "  <tbody>\n",
       "    <tr>\n",
       "      <th>0</th>\n",
       "      <td>Another 'Yuge' Setback For Donald Trump's SPAC...</td>\n",
       "      <td>0</td>\n",
       "    </tr>\n",
       "    <tr>\n",
       "      <th>1</th>\n",
       "      <td>Twitter Whale Trades For October 07\\n</td>\n",
       "      <td>0</td>\n",
       "    </tr>\n",
       "    <tr>\n",
       "      <th>2</th>\n",
       "      <td>'A Suicide Bomb': NBC Reporter Details How Mus...</td>\n",
       "      <td>1</td>\n",
       "    </tr>\n",
       "    <tr>\n",
       "      <th>3</th>\n",
       "      <td>Selling Tesla Shares To Buy Twitter Is 'Giving...</td>\n",
       "      <td>0</td>\n",
       "    </tr>\n",
       "    <tr>\n",
       "      <th>4</th>\n",
       "      <td>New Book Shows Donald Trump Treated White Hous...</td>\n",
       "      <td>1</td>\n",
       "    </tr>\n",
       "  </tbody>\n",
       "</table>\n",
       "</div>"
      ],
      "text/plain": [
       "                                           news_text  label\n",
       "0  Another 'Yuge' Setback For Donald Trump's SPAC...      0\n",
       "1              Twitter Whale Trades For October 07\\n      0\n",
       "2  'A Suicide Bomb': NBC Reporter Details How Mus...      1\n",
       "3  Selling Tesla Shares To Buy Twitter Is 'Giving...      0\n",
       "4  New Book Shows Donald Trump Treated White Hous...      1"
      ]
     },
     "execution_count": 39,
     "metadata": {},
     "output_type": "execute_result"
    }
   ],
   "source": [
    "temp_df = df.drop_duplicates(subset=[\"Текст новости\"])\n",
    "temp_df = temp_df.rename(columns={\"Цена до\": \"price_before\", \"Цена после\": \"price_after\", \"Дата\": \"date\", \"Время\": \"Time\", \"Текст новости\": \"news_text\"})\n",
    "\n",
    "temp_df[\"absolute_price_difference\"] = temp_df[\"price_after\"] - temp_df[\"price_before\"]\n",
    "temp_df[\"news_text\"] = temp_df[\"news_text\"]\n",
    "temp_df[\"label\"] = np.where(temp_df[\"absolute_price_difference\"] > 0, 1, 0)\n",
    "temp_df = temp_df[[\"news_text\", \"label\"]].copy()\n",
    "df = temp_df\n",
    "df.head()"
   ]
  },
  {
   "cell_type": "code",
   "execution_count": 40,
   "metadata": {
    "collapsed": false,
    "pycharm": {
     "name": "#%%\n"
    }
   },
   "outputs": [
    {
     "name": "stdout",
     "output_type": "stream",
     "text": [
      "<class 'pandas.core.frame.DataFrame'>\n",
      "Index: 5535 entries, 0 to 667\n",
      "Data columns (total 2 columns):\n",
      " #   Column     Non-Null Count  Dtype \n",
      "---  ------     --------------  ----- \n",
      " 0   news_text  5534 non-null   object\n",
      " 1   label      5535 non-null   int64 \n",
      "dtypes: int64(1), object(1)\n",
      "memory usage: 129.7+ KB\n"
     ]
    }
   ],
   "source": [
    "df.info()"
   ]
  },
  {
   "cell_type": "code",
   "execution_count": 41,
   "metadata": {},
   "outputs": [
    {
     "data": {
      "text/html": [
       "<div>\n",
       "<style scoped>\n",
       "    .dataframe tbody tr th:only-of-type {\n",
       "        vertical-align: middle;\n",
       "    }\n",
       "\n",
       "    .dataframe tbody tr th {\n",
       "        vertical-align: top;\n",
       "    }\n",
       "\n",
       "    .dataframe thead th {\n",
       "        text-align: right;\n",
       "    }\n",
       "</style>\n",
       "<table border=\"1\" class=\"dataframe\">\n",
       "  <thead>\n",
       "    <tr style=\"text-align: right;\">\n",
       "      <th></th>\n",
       "      <th>news_text</th>\n",
       "      <th>label</th>\n",
       "    </tr>\n",
       "  </thead>\n",
       "  <tbody>\n",
       "    <tr>\n",
       "      <th>0</th>\n",
       "      <td>Another 'Yuge' Setback For Donald Trump's SPAC...</td>\n",
       "      <td>0</td>\n",
       "    </tr>\n",
       "    <tr>\n",
       "      <th>1</th>\n",
       "      <td>Twitter Whale Trades For October 07\\n</td>\n",
       "      <td>0</td>\n",
       "    </tr>\n",
       "    <tr>\n",
       "      <th>2</th>\n",
       "      <td>'A Suicide Bomb': NBC Reporter Details How Mus...</td>\n",
       "      <td>1</td>\n",
       "    </tr>\n",
       "    <tr>\n",
       "      <th>3</th>\n",
       "      <td>Selling Tesla Shares To Buy Twitter Is 'Giving...</td>\n",
       "      <td>0</td>\n",
       "    </tr>\n",
       "    <tr>\n",
       "      <th>4</th>\n",
       "      <td>New Book Shows Donald Trump Treated White Hous...</td>\n",
       "      <td>1</td>\n",
       "    </tr>\n",
       "  </tbody>\n",
       "</table>\n",
       "</div>"
      ],
      "text/plain": [
       "                                           news_text  label\n",
       "0  Another 'Yuge' Setback For Donald Trump's SPAC...      0\n",
       "1              Twitter Whale Trades For October 07\\n      0\n",
       "2  'A Suicide Bomb': NBC Reporter Details How Mus...      1\n",
       "3  Selling Tesla Shares To Buy Twitter Is 'Giving...      0\n",
       "4  New Book Shows Donald Trump Treated White Hous...      1"
      ]
     },
     "execution_count": 41,
     "metadata": {},
     "output_type": "execute_result"
    }
   ],
   "source": [
    "df.head()"
   ]
  },
  {
   "cell_type": "code",
   "execution_count": 43,
   "metadata": {
    "collapsed": false,
    "pycharm": {
     "name": "#%%\n"
    }
   },
   "outputs": [],
   "source": [
    "# make dir for whole data\n",
    "\n",
    "import os\n",
    "\n",
    "if not os.path.exists(\"data\"):\n",
    "    os.mkdir(\"data\")\n",
    "\n",
    "df.to_csv(\"data/preprocessed_data.csv\", sep=\";\")"
   ]
  }
 ],
 "metadata": {
  "kernelspec": {
   "display_name": "Python 3",
   "language": "python",
   "name": "python3"
  },
  "language_info": {
   "codemirror_mode": {
    "name": "ipython",
    "version": 3
   },
   "file_extension": ".py",
   "mimetype": "text/x-python",
   "name": "python",
   "nbconvert_exporter": "python",
   "pygments_lexer": "ipython3",
   "version": "3.10.13"
  }
 },
 "nbformat": 4,
 "nbformat_minor": 0
}
