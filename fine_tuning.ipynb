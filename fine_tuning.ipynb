{
 "cells": [
  {
   "cell_type": "code",
   "execution_count": 3,
   "outputs": [
    {
     "name": "stdout",
     "output_type": "stream",
     "text": [
      "Defaulting to user installation because normal site-packages is not writeable\r\n",
      "Requirement already satisfied: datasets in /home/alexa/.local/lib/python3.10/site-packages (2.12.0)\r\n",
      "Requirement already satisfied: evaluate in /home/alexa/.local/lib/python3.10/site-packages (0.4.0)\r\n",
      "Requirement already satisfied: transformers in /home/alexa/.local/lib/python3.10/site-packages (4.28.0)\r\n",
      "Requirement already satisfied: dill<0.3.7,>=0.3.0 in /home/alexa/.local/lib/python3.10/site-packages (from datasets) (0.3.6)\r\n",
      "Requirement already satisfied: fsspec[http]>=2021.11.1 in /home/alexa/.local/lib/python3.10/site-packages (from datasets) (2023.5.0)\r\n",
      "Requirement already satisfied: packaging in /home/alexa/.local/lib/python3.10/site-packages (from datasets) (21.3)\r\n",
      "Requirement already satisfied: aiohttp in /home/alexa/.local/lib/python3.10/site-packages (from datasets) (3.8.4)\r\n",
      "Requirement already satisfied: huggingface-hub<1.0.0,>=0.11.0 in /home/alexa/.local/lib/python3.10/site-packages (from datasets) (0.14.1)\r\n",
      "Requirement already satisfied: pandas in /home/alexa/.local/lib/python3.10/site-packages (from datasets) (2.0.1)\r\n",
      "Requirement already satisfied: tqdm>=4.62.1 in /home/alexa/.local/lib/python3.10/site-packages (from datasets) (4.65.0)\r\n",
      "Requirement already satisfied: pyarrow>=8.0.0 in /home/alexa/.local/lib/python3.10/site-packages (from datasets) (12.0.0)\r\n",
      "Requirement already satisfied: pyyaml>=5.1 in /usr/lib/python3/dist-packages (from datasets) (5.4.1)\r\n",
      "Requirement already satisfied: multiprocess in /home/alexa/.local/lib/python3.10/site-packages (from datasets) (0.70.14)\r\n",
      "Requirement already satisfied: requests>=2.19.0 in /usr/lib/python3/dist-packages (from datasets) (2.25.1)\r\n",
      "Requirement already satisfied: xxhash in /home/alexa/.local/lib/python3.10/site-packages (from datasets) (3.2.0)\r\n",
      "Requirement already satisfied: responses<0.19 in /home/alexa/.local/lib/python3.10/site-packages (from datasets) (0.18.0)\r\n",
      "Requirement already satisfied: numpy>=1.17 in /home/alexa/.local/lib/python3.10/site-packages (from datasets) (1.24.3)\r\n",
      "Requirement already satisfied: regex!=2019.12.17 in /home/alexa/.local/lib/python3.10/site-packages (from transformers) (2023.5.5)\r\n",
      "Requirement already satisfied: tokenizers!=0.11.3,<0.14,>=0.11.1 in /home/alexa/.local/lib/python3.10/site-packages (from transformers) (0.13.3)\r\n",
      "Requirement already satisfied: filelock in /home/alexa/.local/lib/python3.10/site-packages (from transformers) (3.12.0)\r\n",
      "Requirement already satisfied: attrs>=17.3.0 in /home/alexa/.local/lib/python3.10/site-packages (from aiohttp->datasets) (22.1.0)\r\n",
      "Requirement already satisfied: async-timeout<5.0,>=4.0.0a3 in /home/alexa/.local/lib/python3.10/site-packages (from aiohttp->datasets) (4.0.2)\r\n",
      "Requirement already satisfied: frozenlist>=1.1.1 in /home/alexa/.local/lib/python3.10/site-packages (from aiohttp->datasets) (1.3.3)\r\n",
      "Requirement already satisfied: charset-normalizer<4.0,>=2.0 in /home/alexa/.local/lib/python3.10/site-packages (from aiohttp->datasets) (3.1.0)\r\n",
      "Requirement already satisfied: multidict<7.0,>=4.5 in /home/alexa/.local/lib/python3.10/site-packages (from aiohttp->datasets) (6.0.4)\r\n",
      "Requirement already satisfied: yarl<2.0,>=1.0 in /home/alexa/.local/lib/python3.10/site-packages (from aiohttp->datasets) (1.9.2)\r\n",
      "Requirement already satisfied: aiosignal>=1.1.2 in /home/alexa/.local/lib/python3.10/site-packages (from aiohttp->datasets) (1.3.1)\r\n",
      "Requirement already satisfied: typing-extensions>=3.7.4.3 in /home/alexa/.local/lib/python3.10/site-packages (from huggingface-hub<1.0.0,>=0.11.0->datasets) (4.6.1)\r\n",
      "Requirement already satisfied: pyparsing!=3.0.5,>=2.0.2 in /home/alexa/.local/lib/python3.10/site-packages (from packaging->datasets) (3.0.9)\r\n",
      "Requirement already satisfied: urllib3>=1.25.10 in /usr/lib/python3/dist-packages (from responses<0.19->datasets) (1.26.5)\r\n",
      "Requirement already satisfied: tzdata>=2022.1 in /home/alexa/.local/lib/python3.10/site-packages (from pandas->datasets) (2023.3)\r\n",
      "Requirement already satisfied: python-dateutil>=2.8.2 in /home/alexa/.local/lib/python3.10/site-packages (from pandas->datasets) (2.8.2)\r\n",
      "Requirement already satisfied: pytz>=2020.1 in /usr/lib/python3/dist-packages (from pandas->datasets) (2022.1)\r\n",
      "Requirement already satisfied: six>=1.5 in /usr/lib/python3/dist-packages (from python-dateutil>=2.8.2->pandas->datasets) (1.16.0)\r\n",
      "Requirement already satisfied: idna>=2.0 in /usr/lib/python3/dist-packages (from yarl<2.0,>=1.0->aiohttp->datasets) (3.3)\r\n"
     ]
    }
   ],
   "source": [
    "import sys\n",
    "!{sys.executable} -m pip install datasets evaluate transformers"
   ],
   "metadata": {
    "collapsed": false,
    "pycharm": {
     "name": "#%%\n"
    }
   }
  },
  {
   "cell_type": "code",
   "execution_count": 4,
   "outputs": [
    {
     "name": "stderr",
     "output_type": "stream",
     "text": [
      "/home/alexa/.local/lib/python3.10/site-packages/tqdm/auto.py:21: TqdmWarning: IProgress not found. Please update jupyter and ipywidgets. See https://ipywidgets.readthedocs.io/en/stable/user_install.html\n",
      "  from .autonotebook import tqdm as notebook_tqdm\n"
     ]
    }
   ],
   "source": [
    "import os\n",
    "\n",
    "# Data processing\n",
    "import pandas as pd\n",
    "import numpy as np\n",
    "\n",
    "# Modeling\n",
    "from transformers import AutoTokenizer, AutoModelForSequenceClassification, TrainingArguments, Trainer, EarlyStoppingCallback\n",
    "\n",
    "# Hugging Face Dataset\n",
    "from datasets import Dataset\n",
    "\n",
    "# Model performance evaluation\n",
    "import evaluate"
   ],
   "metadata": {
    "collapsed": false,
    "pycharm": {
     "name": "#%%\n"
    }
   }
  },
  {
   "cell_type": "code",
   "execution_count": 5,
   "outputs": [
    {
     "name": "stdout",
     "output_type": "stream",
     "text": [
      "<class 'pandas.core.frame.DataFrame'>\n",
      "Index: 24484 entries, 0 to 1497\n",
      "Data columns (total 11 columns):\n",
      " #   Column         Non-Null Count  Dtype  \n",
      "---  ------         --------------  -----  \n",
      " 0   Время          16445 non-null  object \n",
      " 1   Цена до        16445 non-null  float64\n",
      " 2   Цена после     16445 non-null  float64\n",
      " 3   Текст новости  16445 non-null  object \n",
      " 4   Аннотация      4780 non-null   object \n",
      " 5   Дата           11488 non-null  object \n",
      " 6   Unnamed: 1     842 non-null    object \n",
      " 7   Unnamed: 2     842 non-null    float64\n",
      " 8   Unnamed: 3     842 non-null    float64\n",
      " 9   Unnamed: 4     842 non-null    object \n",
      " 10  Unnamed: 5     834 non-null    object \n",
      "dtypes: float64(4), object(7)\n",
      "memory usage: 2.2+ MB\n"
     ]
    }
   ],
   "source": [
    "df = pd.DataFrame()\n",
    "for root, _, files in os.walk(\"data\"):\n",
    "    for filename in files:\n",
    "        temp_df = pd.read_excel(os.path.join(root, filename), \"Sheet1\")\n",
    "        temp_df.drop(columns=[temp_df.columns[0], \"Разница в долларах\", \"Дельта в процентах\"], axis=1, inplace=True, errors=\"ignore\")\n",
    "        df = pd.concat([df, temp_df], axis=0, sort=False)\n",
    "df.info()"
   ],
   "metadata": {
    "collapsed": false,
    "pycharm": {
     "name": "#%%\n"
    }
   }
  },
  {
   "cell_type": "code",
   "execution_count": 6,
   "outputs": [
    {
     "data": {
      "text/plain": "                                           news_text  label\n0  Spirit AeroSystems Slides On Q1 Earnings Miss ...      1\n1         Boeing Unusual Options Activity For May 01      0\n2  If You Invested $1000 In This Stock 20 Years A...      0\n4  Crude Oil Down 3%; Boeing Reports Better-Than-...      0\n5  US Stocks Rise, Aided By Tech Earnings, But Th...      0",
      "text/html": "<div>\n<style scoped>\n    .dataframe tbody tr th:only-of-type {\n        vertical-align: middle;\n    }\n\n    .dataframe tbody tr th {\n        vertical-align: top;\n    }\n\n    .dataframe thead th {\n        text-align: right;\n    }\n</style>\n<table border=\"1\" class=\"dataframe\">\n  <thead>\n    <tr style=\"text-align: right;\">\n      <th></th>\n      <th>news_text</th>\n      <th>label</th>\n    </tr>\n  </thead>\n  <tbody>\n    <tr>\n      <th>0</th>\n      <td>Spirit AeroSystems Slides On Q1 Earnings Miss ...</td>\n      <td>1</td>\n    </tr>\n    <tr>\n      <th>1</th>\n      <td>Boeing Unusual Options Activity For May 01</td>\n      <td>0</td>\n    </tr>\n    <tr>\n      <th>2</th>\n      <td>If You Invested $1000 In This Stock 20 Years A...</td>\n      <td>0</td>\n    </tr>\n    <tr>\n      <th>4</th>\n      <td>Crude Oil Down 3%; Boeing Reports Better-Than-...</td>\n      <td>0</td>\n    </tr>\n    <tr>\n      <th>5</th>\n      <td>US Stocks Rise, Aided By Tech Earnings, But Th...</td>\n      <td>0</td>\n    </tr>\n  </tbody>\n</table>\n</div>"
     },
     "execution_count": 6,
     "metadata": {},
     "output_type": "execute_result"
    }
   ],
   "source": [
    "df = df.drop_duplicates(subset=[\"Текст новости\"], keep=False)\n",
    "df.rename(columns={\"Цена до\": \"price_before\", \"Цена после\": \"price_after\", \"Дата\": \"date\", \"Время\": \"Time\", \"Текст новости\": \"news_text\"}, inplace=True)\n",
    "\n",
    "df[\"absolute_price_difference\"] = df[\"price_after\"] - df[\"price_before\"]\n",
    "df[\"percentage_price_difference\"] = df[\"absolute_price_difference\"] / df[\"price_before\"] * 100\n",
    "df[\"label\"] = np.where(df[\"absolute_price_difference\"] > 0, 1, 0)\n",
    "df = df[[\"news_text\", \"label\"]].copy()\n",
    "df.head()"
   ],
   "metadata": {
    "collapsed": false,
    "pycharm": {
     "name": "#%%\n"
    }
   }
  },
  {
   "cell_type": "code",
   "execution_count": 7,
   "outputs": [
    {
     "name": "stdout",
     "output_type": "stream",
     "text": [
      "<class 'pandas.core.frame.DataFrame'>\n",
      "Index: 6112 entries, 0 to 1009\n",
      "Data columns (total 2 columns):\n",
      " #   Column     Non-Null Count  Dtype \n",
      "---  ------     --------------  ----- \n",
      " 0   news_text  6112 non-null   object\n",
      " 1   label      6112 non-null   int64 \n",
      "dtypes: int64(1), object(1)\n",
      "memory usage: 143.2+ KB\n"
     ]
    }
   ],
   "source": [
    "df.info()"
   ],
   "metadata": {
    "collapsed": false,
    "pycharm": {
     "name": "#%%\n"
    }
   }
  },
  {
   "cell_type": "code",
   "execution_count": 8,
   "outputs": [
    {
     "name": "stdout",
     "output_type": "stream",
     "text": [
      "The training dataset has 4890 records.\n",
      "The testing dataset has 43 records.\n"
     ]
    }
   ],
   "source": [
    "train_data = df.sample(frac=0.8, random_state=42)\n",
    "\n",
    "# Testing dataset\n",
    "test_data = df.drop(train_data.index)\n",
    "\n",
    "# Check the number of records in training and testing dataset.\n",
    "print(f'The training dataset has {len(train_data)} records.')\n",
    "print(f'The testing dataset has {len(test_data)} records.')"
   ],
   "metadata": {
    "collapsed": false,
    "pycharm": {
     "name": "#%%\n"
    }
   }
  },
  {
   "cell_type": "code",
   "execution_count": 9,
   "outputs": [
    {
     "data": {
      "text/plain": "[\"What's Going On With NVIDIA Stock Today?\\n\",\n 'Bitcoin Rally Continues As Google Launch A Blockchain Division\\n',\n 'If You Invested $1000 In This Stock 20 Years Ago, You Would Have $640 Thousand Today',\n 'Walt Disney Whale Trades For December 08\\n',\n \"All The Stocks That Moved From Thursday's CNBC's 'Fast Money: Halftime Report'\",\n 'Cher At 75: New Hollywood Biopic Planned For Decades-Spanning Superstar\\n',\n '$1000 Invested In Apple 10 Years Ago Would Be Worth This Much Today',\n \"10 Stocks Moved By Traders On Thursday's CNBC's 'Fast Money: Halftime Report'\",\n '3 Most Popular Startups To Invest in on StartEngine This Week',\n 'Alphabet, Facebook Shares Decline On Citi Rating Downgrade Over Ad Revenue Growth Concerns: Bloomberg\\n',\n 'Chaos Erupts At Apple Plant In China Due To Strict Lockdown',\n \"Why Is Dave Chappelle's Stand-Up Not Included In Netflix's Upcoming Comedy Specials?\\n\",\n 'Is Ford Planning To Sell Its Rivian Stake? Jim Cramer Weighs In\\n',\n 'Pixar Employees Accuse Disney Brass Of Censoring LGBTQ Content: Report\\n',\n 'Amazon Leads Investment In Superplastic, Developing Janky & Guggimon Show: Here Are The Details And Other Investors',\n 'How This Trader Is Playing AMD Following The Breakout\\n',\n \"Biohaven's ALS Drug Fails To Meet Study Endpoint, Second Therapy To Fail Trials In Recent Months\\n\",\n 'Merger Arbitrage Mondays вЂ“ Thoma Bravo Adds SailPoint Technologies To Its Portfolio And Approaches Twitte\\n',\n 'Warren Buffett Turns 92: A Highlight For Each Decade Of His Life',\n \"Boeing Stock Sees A Fake Breakout: What's Next?\",\n 'Moderna Shares Hit Fresh Record Highs Amid Continuing COVID-19 Vaccine News\\n',\n \"Louisiana Rep. Johnson Pushes For Industrial Hemp Development, Says It Could Lead To 'A New Type Of Workforce'\\n\",\n 'Meta Launches Next-Gen AI Supercomputer: All You Need To Know\\n',\n 'Why Comcast Could Be Ready To Cash In On Hulu Stake Sale With Disney\\n',\n \"Tuesday's Market Minute: Costco Announces $10/Share Special Dividend\\n\",\n 'Nebula Brands Emerges as Star to Watch in Global Constellation of Amazon Aggregators\\n',\n 'Tesla Vs. Rivian Vs. Lucid Vs. Fisker Vs. Lordstown Vs. Canoo: How BofA Says The EV Makers Stack Up\\n',\n \"What's Going On With Disney Stock Today\\n\",\n 'What Does The Sarah Lawrence College Sex Cult List And Wall Street Have In Common?',\n 'BZ Chart Of The Day: Is Apple Rolling Over?\\n',\n 'Long-Range Lookout: AEye Sensor Gives TuSimple 3,280-Foot View',\n 'UK Study Answers Question If Two Doses Of COVID-19 Vaccines Can Be Mix-Matched?',\n 'Forget Big Recession-proof Stocks in Favor of Recession-slashed Small Ones',\n 'This Is What Whales Are Betting On Northrop Grumman\\n',\n \"Key Takeaways From Baidu's First EV Launch\",\n '8 Trading Themes To Watch In 2022\\n',\n \"What's Going On With GameStop Stock?\\n\",\n \"One Analyst Cuts Disney Price Target, Another Reiterates Buy Rating: Who's Right?\",\n 'Who Will Be The Next To Stock Split After Amazon.com?',\n \"Peloton's Q4 Highlights: 28% Decline In Revenue, Focus On Restructuring, Inventory Reduction & More\",\n 'PayPal Enables Secure Login Via Cryptographic Key Pairs',\n 'Mid-Morning Market Update: Markets Mixed; Moderna Lowers Covid-19 Vaccine Sales Outlook',\n \"This Hedge Fund Scored Big Off Amazon's Whole Foods Deal: Check Out Its 2 Dividend Stocks\",\n \"Benzinga's Top Ratings Upgrades, Downgrades For March 16, 2023\",\n \"Netflix Adding Movies From 'Squid Game' Director: Could This Speed Up Series Sequel?\\n\",\n 'BofA Downgrades This Defense Contractor, Cuts Price Target By ~15%\\n',\n \"Benzinga's Top Ratings Upgrades, Downgrades For December 6, 2021\\n\",\n 'June Job Openings Fall, Showing Potential Signs Of Economic Slowdown',\n \"Apple Expert Warns About 'Troll Account' Pushing 'Fake' iOS 17 Stories: 'Surprised At Reputable Sites Covering It'\",\n \"Nike Stock Is Rising Today: What's Going On?\\n\",\n 'Disney Sued By Starz Over Trademark Infringement In Latin America\\n',\n \"Moderna's COVID-19 Vaccine Scores Canadian Approval For Kids Below 5 Years\\n\",\n 'BZ Chart Of The Day: Apple Tests Critical Support\\n',\n 'Why Jon Najarian Is Buying Disney Calls Ahead Of Earnings\\n',\n \"Did DIS's Open Theme Parks Bring The Magic Back To Earnings?\",\n 'Barclays Slashes Netflix Price Target: Why This Investor Says Disney Stock Is The Better Bet',\n \"55 Stocks Moving In Thursday's Mid-Day Session\",\n \"EXCLUSIVE: 'I Don't Want To Be Elon Musk' Or The Tesla Of Weed, Says Tilray CEO\",\n \"Analysis: Why Is Disney Releasing 'Turning Red' In Just One Hollywood Movie Theater?\",\n 'Big Earnings Week Ahead Led By Big Tech\\n',\n 'Amazon Halts Construction on Second Headquarters in Virginia As Part Of Restructuring Amid Macro Uncertainties',\n \"If You Invested $1,000 In SPY Stock The Day Russia Invaded Ukraine, Here's How Much You'd Have Now\",\n 'Apple Expands Nudity-Blurring Child Safety Feature To Outside US',\n 'Citi Upgrades AMD To Neutral, Increased Price Target Implies 8.5% Upside\\n',\n 'Walt Disney: Debt Overview\\n',\n 'Home Prices Down, Sales Up',\n 'Price To Earnings Ratio Insights For Lockheed Martin',\n \"Boeing Stock Sees A Fake Breakout: What's Next?\\n\",\n 'Amazon Explores Service That Could Reduce Its Capex',\n \"12 Health Care Stocks Moving In Wednesday's Intraday Session\",\n 'Starbucks Taps Online Ordering Market Via iOS, Android Devices By Extending Collaboration With DoorDash',\n 'Smart For Life Stock Jumps After Launch Of Its Products On Amazon Singapore',\n 'Analyst Ratings For Advanced Micro Devices\\n',\n 'Holiday Streaming Wars: ViacomCBS, Spotify Impress In December, While Disney And Netflix Downloads Drop',\n 'Bad Bunny Signed To Play El Muerto In Marvel Movie',\n \"Alphabet (Google) Earnings Release Tuesday: Will Elon Musk's Alleged Affair With Sergey Brin's Wife Affect Tesla Or Alphabet Stocks?\\n\",\n \"Biden Vs. Bezos: Who's Right In Their Spat Over Inflation?\\n\",\n 'Pfizer Seeks Complete Approval For Paxlovid For High Risk COVID-19 Patients\\n',\n \"Disney Debuts Trailer For LGBTQ Rom-Com 'Fire Island'\\n\",\n \"42 Stocks Moving In Tuesday's Mid-Day Session\",\n 'Apple Whale Trades For July 26',\n 'Lockheed Martin Whale Trades For May 02\\n',\n 'Investors Shunning Bonds Despite 3-day Losing Streak Suggests',\n \"25% Return In A Year? iPhone 14 Launch Key To Apple's 'Demand Story,' Analyst Says\",\n 'Europe Purchases Additional 150M Doses Of Moderna COVID-19 Vaccine\\n',\n 'Jim Cramer Buys The Dip In Salesforce, Marvell And This Health Stock\\n',\n 'How DoorDash Is Taking On Amazon And Walmart With This Newly Announced Partnership',\n \"Why Luminar Shares Are Rising Today and What's Its Connection To Apple Car?\\n\",\n \"Target's Debt Overview\\n\",\n 'A Bullish Nvidia Technical Analysis\\n',\n 'Why Spirit AeroSystems Stock Is Trading Higher Today\\n',\n 'Is Following Elon Musk A Viable Investment Strategy?\\n',\n 'Disneyland Resort Offers Discounted Summer Tickets To California Residents\\n',\n 'Using Apple AirTag To Track Your Dog? Dangers May Outweigh Benefits',\n 'Facebook Stock Heats Up As Other Companies Report Good Earnings\\n',\n 'US Court Favors Moderna In COVID-19 Vaccine Patent Infringement Case With Arbutus Biopharma',\n 'Target, Meta Get CNBC Fast Money Mentions: What Stephanie Link Is Buying',\n 'AMD Likely To Introduce Radeon RX 6600 XT, Non-XT On Aug 11: Fudzilla\\n',\n \"Why Ontrak Shares Are Trading Higher By Over 100%? Here Are Other Stocks Moving In Wednesday's Mid-Day Session\",\n \"What We Know About Trump's SPAC Deal, TMTG & DWAC\\n\",\n \"Benzinga's Top Upgrades, Downgrades For November 12, 2020\\n\",\n \"Peering Into Walmart's Recent Short Interest\\n\",\n 'Read How Ryanair Performed In Q1 Amid Fragile Industry Recovery',\n '3 Growth Stocks Dan Flax Says Are Positioned For Long-Term Success\\n',\n 'Northrop Grumman: Dividend Insights',\n 'Bernstein Sees 13% Downside In Apple - Read Why\\n',\n 'Mid-Morning Market Update: Nasdaq Jumps 100 Points As Amazon Profit Tops Estimates',\n 'End Of An Era: Twitch CEO Emmett Shear Steps Down After 16 Years',\n \"Twitter Is Complying With Russia's Content Ban Directive, Albeit With Delay: Reuters\\n\",\n \"Terra's Mirror Protocol Suffers Another $2M Exploit\\n\",\n \"Boeing's PTO Forecasts Demand For 2.1M New Commercial Aviation Personnel\",\n \"Not Wrong About Nvidia: We Told You We Were Bullish On It In July, But Presented A Hedge In Case We Were Wrong. We weren't. We're Bullish On It Again Now.\\n\",\n \"Apple Announces 'Self Service Repair' For Customers: What You Need To Know\\n\",\n 'Why Tesla Shares Are Falling',\n 'Wednesday Market Update',\n 'Moderna Cracks Below Support, Is A Recovery In Sight?',\n 'Meta Platforms Still Suffers Apple iOS Privacy Challenges, Analyst Says While Chopping Stock Price Forecast 20%',\n 'NTSB & FAA Probe String Of Recent Runway Incidents: Report',\n 'Jon Najarian Sees Unusual Options Activity In AMD And Marathon Digital Holdings\\n',\n 'Netflix Stock Dropped After The Last 5 Quarters Of Results: What Are Netflix Earnings Expectations?',\n 'These 2 Household Names Are Giving Away More Money — Despite Consumer Budgets Contracting',\n 'Mid-Day Market Update: Dow Dips 500 Points; GTY Technology Holdings Shares Jump',\n 'Why Apple Shares Are Diving',\n \"If You Invested $100 In This Stock 20 Years Ago, Here's How Much You Would Have Today\",\n 'Why Rotation Out Of Chinese Tech Stocks Bodes Well For Apple, Microsoft And US Tech Stocks\\n',\n 'Ethereum Trading Volume On Coinbase Outpaces Bitcoin In Q3\\n',\n 'Moderna Whale Trades For December 31\\n',\n \"Tesla Stock Is Rising Tuesday: What's Happening?\\n\",\n 'Hypebeast SPAC Deal: Inside The Company Tom Brady, Kevin Durant And Others Are Investing In\\n',\n \"Palantir Q4 Earnings Preview: Will The Data Software Company Deliver On CEO Expectations For A 'Strong Finish To The Year'?\",\n \"If You're Selling Nvidia Stock Because Of Arm Deal Developments, Jim Cramer Thinks 'You're A Fool'\\n\",\n 'Trump SPAC Deal Will Never Get Approved By SEC, Short Seller Says: What Investors Should Know\\n',\n 'Tesla Video Game Features About To Get A Huge Upgrade: Here Are The Details\\n',\n 'Citi Is Bullish On Apple, Comments On Dividend, New Products and Market Value\\n',\n 'This Is How Netflix Could Lose High-Profile Comics From Releasing Their New Specials With Them\\n',\n 'David Letterman Tells Kevin Durant What Happened When He Smoked Weed Years Ago At A Yankees-Angels Game\\n',\n \"Boeing, FuelCell And Sunrun Stocks Defy S&P 500, Move Higher: What's Next?\\n\",\n 'Novavax Vs. Pfizer Vs. Moderna: How COVID-19 Vaccines Stack Up',\n \"A Look Into Amazon.com's Debt\",\n \"A Preview Of Lockheed Martin's Earnings\",\n \"Animators And Media Figures Criticize Disney For 'Don't Say Gay' Silence\\n\",\n 'Economic Growth Slows, Inflation Persists, Stocks Rally',\n 'Pfizer, Moderna Vaccines, Gilead Treatment In Focus As Health Firms Report Q3 Earnings\\n',\n 'Analyst: Sell This Stock Ahead Of California Gas Mower Ban\\n',\n \"Benzinga's Top Ratings Upgrades, Downgrades For January 10, 2023\",\n 'Apple Whale Trades For January 05\\n',\n 'Could Alphabet Cuts Spell a Potentially Tough Year Ahead for Tech?',\n 'Moderna Analyst: COVID-19 Vaccine Value Largely Reflected In Stock\\n',\n \"Amazon's UK 50p Per Hour Pay Boost Infuriates Union, Proposes New Course Of Action\",\n 'Which Publicly Listed Companies Are Dipping Their Toes In NFTs?\\n',\n \"Tesla Wins Court Case To Use 'Autopilot' And 'Full Self-Driving' For Marketing In Germany\\n\",\n 'Is Now The Time To Buy Alibaba, Snap, Intel Or Nano Dimension Stock?\\n',\n \"Benzinga's Top Ratings Upgrades, Downgrades For October 12, 2021\",\n \"Apple Will Have Minimal Impact From China's Lockdown According To This Analyst\\n\",\n \"Stephanie Link Exits Amazon Position: Here's Why\\n\",\n \"Trade Options Like A Pro вЂ” Check Advanced Micro Devices's Big Money Trade\\n\",\n \"Exiting MicroStrategy CEO Michael Saylor Is 'Full Speed Ahead' When It Comes To Bitcoin, Despite $1B Loss\",\n \"Disney Stock Holds Strong Amid Market Weakness: What's Next?\\n\",\n \"Sony Releases Trailer For 'Spider-Man: No Way Home'\\n\",\n \"China's IQIYI Revealed Latest Metaverse Offering\",\n 'After Sweden, Denmark Now Finland Stops Use of Moderna COVID-19 Jab In Young People: Report',\n 'Is Brittney Griner Receiving Her WNBA Salary Now That Her Second Job In Russia Is Kaput?\\n',\n 'Twitter Relaunches Verification Process\\n',\n 'Why This Pfizer, Regeneron Analyst Has Contrasting Recommendations For The COVID Stock Plays\\n',\n \"Why 'Amazon of Argentina' MercadoLibre Stock Looks Set To Bounce\",\n \"'Hold Netflix Accountable': 'Inventing Anna' Series Prompts Defamation Lawsuit From Anna Delvey's Ex-Friend\",\n 'Mid-Morning Market Update: Markets Mostly Higher; Nasdaq Jumps 1%\\n',\n \"Analyst Expectations for Lockheed Martin's Future\",\n 'Apple Watch With Pride Bands Could Hit Stores This Week\\n',\n 'Mullen Shares Pop On Cargo Van Deal With Amazon Delivery Services Partner DelPack',\n 'May Outlook: Tone Could Be Set In First Week As Apple Reports, Fed Meets, And Jobs Report Looms',\n \"What's Happening With BA Stock, GNUS Stock And SOS Stock?\\n\",\n 'Read Why Triumph Shares Are Trading Higher Today',\n 'You Ask, We Analyze: Why Array Technologies Stock Looks Set For New Highs\\n',\n 'Netflix Unusual Options Activity For April 11',\n \"Benzinga's Top Ratings Upgrades, Downgrades For January 22, 2021\\n\",\n \"Twitter Analyst Reacts To Elon Musk Dodging 'Game Of Thrones' Court Battle: 'Writing Was On The Wall'\\n\",\n \"China Won't Be Making As Many Apple iPhones Anymore. Here's Who Will And If You Can Invest\",\n 'This Is What Whales Are Betting On Lockheed Martin\\n',\n \"Pfizer's Abrocitinib Beats Dupixent Late-stage Eczema Trial\\n\",\n 'Crypto Exchange BitMEX Launches Its Own Token\\n',\n \"Traders' Picks For CNBC's 2022 Stock Draft, 'Fast Money: Halftime Report'\",\n 'New Vehicle Prices Hit Record High In June: Report\\n',\n 'Mostly Quiet, Except For Tesla...',\n \"Project Veritas Founder James O'Keefe Files Defamation Suit Over Twitter Ban\\n\",\n 'Cryptocurrency Internet Computer Rises More Than 25% In 24 hours\\n',\n 'Roku Reaches Out To Nielsen To Track Viewership As More Consumers Shift To Streaming\\n',\n \"Benzinga's Top Ratings Upgrades, Downgrades For January 25, 2022\\n\",\n \"All The Stocks That Moved Tuesday From CNBC's 'Fast Money: Halftime Report'\",\n 'Ford, Atlassian, Amazon And Other Big Stocks Moving Lower On Friday',\n \"Elon Musk's First Official Tweet Came Before Twitter And Tesla IPOs: Here's What The Tesla CEO Said\\n\",\n \"Disney's Q2 Earnings Price Action Sends These Signals About The Stock\\n\",\n 'Moderna Whale Trades For August 23\\n',\n \"Benzinga's Top Ratings Upgrades, Downgrades For March 13, 2023\",\n 'How Is The Market Feeling About Advanced Micro Devices Inc?\\n',\n \"Here's Why Warner Bros. Discovery Shares Are Seeing Blue Skies Friday\",\n 'Loki Charms? Disney Cross-Promotes New Series With Lucky Charms Cereal\\n',\n \"Jim Cramer Makes The Case For Disney Stock: 'It's Time To Retire The Obsession With Netflix'\",\n 'Top News In Fintech And Beyond For May 18, 2022\\n',\n 'Will The New iPhone 14 Drive Apple Stock To New Highs?',\n 'Nike Shares Fall After Company Misses Q1 Revenue, Slashes FY22 Outlook',\n \"Analyzing Moderna Inc's Short Interest\\n\",\n 'RBC Capital Cuts Rivian Price Target By 17%',\n 'Moderna Whale Trades For January 21\\n',\n '$1000 Invested In Apple 10 Years Ago Would Be Worth This Much\\n',\n \"Benzinga's Top Ratings Upgrades, Downgrades For January 29, 2021\\n\",\n \"Northrop Grumman's Q1 Bottom-Line Beats Street View; Reaffirms FY22 Guidance\",\n \"FDA Adds Rare Bleeding Risk To Johnson & Johnson's COVID-19 Vaccine Fact Sheet\\n\",\n \"Andy Cohen Defends His Drunken New Year's Eve Broadcast\\n\",\n \"(AMZN) - Amazon's Short Interest Up 10%\\n\",\n 'Queen Elizabeth II Dies At Age 96: Looking At The Legacy Of Longest-Reigning British Monarch, Her Wealth, Family And Succession',\n \"Advanced Micro Devices's Earnings: A Preview\\n\",\n 'Why Boeing Stock Is Flying Today',\n \"Mixed Earnings Reports From Lowe's And Target Keep Retailers In The Forefront\\n\",\n \"Here's How Much $1000 Invested In Lockheed Martin 20 Years Ago Would Be Worth Today\\n\",\n 'Evercore ISI Sees 44% Upside In Netflix, Reiterates Rating\\n',\n 'Earnings Preview For Lockheed Martin',\n 'Google Layoffs Only The Latest In Tech Sector Bloodbath',\n \"Why This Investor Thinks Qualcomm Should Be Trading At $210 'Right Now'\\n\",\n \"Did You Buy Nvidia Stock On The Sell-Off? Why Jon Najarian Says It's 'The Buy Of The Year'\\n\",\n 'RBC Shares Its Insight On Fintechs, Apple Buy Now Pay Later, Ultimate Winners',\n 'Why Amazon Stock Looks Set To Skyrocket Back To All-Time Highs',\n \"'Just Don't Do It': Analysts Slash Nike Price Targets Citing Inventory, China Concerns\",\n \"Looking Into Nike Inc's Recent Short Interest\\n\",\n \"Here's How Much $1000 Invested In Northrop Grumman 20 Years Ago Would Be Worth Today\\n\",\n \"New Tools In Troika's Toolbox? Converge Acquisition Could Lower Customer Acquisition Costs\\n\",\n \"Netflix Has 'Several Bullish Catalysts' Ahead In 2023, Analyst Says: Here They Are\",\n 'Goldman On Hardline Retail: Top Ideas, New Ideas, Out Of Consensus Ideas, And More\\n',\n 'How Fintech Soon Lets You Protect Your Cash Flow And Better Spend Investment Gains\\n',\n 'ESG Stocks And ETFs To Watch As SEC Weighs Greenhouse Gas Disclosure Requirement',\n 'Want to Buy Pfizer (PFE) Stock? See This First.\\n',\n 'Moderna Announces Expanded Supply Agreement With Canada, Initiation Of mRNA Therapeutic Study For Inherited Disorder',\n 'Lockheed Martin Whale Trades For March 24\\n',\n 'Why Spirit AeroSystems Stock Is Trading Higher Today',\n 'UK Labour Politician Slammed For Quoting Ayn Rand\\n',\n 'Abbott Lays Off Around 400 Employees As COVID-19 Test Demand Evaporates',\n \"Firm Results from Disney, Cisco Help Market Back After Thursday's Slide\\n\",\n '10 Best Performing S&P 500 Stocks Of 2021',\n \"Cowen & Co. Maintains Outperform Rating for Nike: Here's What You Need To Know\",\n 'CrowdStreet Launches An Industrial Development Fund With A 17% Target Annualized Return\\n',\n \"Why AMC's Stock Is Trading Lower Today\\n\",\n \"Why Cowen Is Bullish On Boeing: '2022-24 Look Brighter'\",\n \"Analysis: Why Did 'Minions: The Rise Of Gru' Break Box Office Records While 'Lightyear' Fizzled?\\n\",\n \"UK Antitrust Watchdog Launches Probe On Facebook's $400M Giphy Acquisition: Report\\n\",\n 'Costco Down After Earnings as Analysts Fret About Company Facing Higher Costs',\n \"T-Mobile US' Pricing Power Of 5G Is A Pivot Point, Analyst Says\\n\",\n 'Is Boeing Ready For Takeoff? Why This Investor Bought More Stock\\n',\n 'UPS Orders 19 Boeing 767 Freighters',\n 'Is Now The Time To Buy Stock Or Options In Netflix Or IBM?',\n 'How Is Nvidia Trying To Win The Arm Deal?\\n',\n 'Deutsche Bank Sees Netflix In Line With 2.5M Subscriber Guidance\\n',\n 'Walmart Opens New Health Centers In Florida\\n',\n 'Why Moderna Shares Are Rising Again Today',\n \"Facebook Analysts Break Down Q3 Earnings: 'Big Investments For A Big Vision'\\n\",\n 'Fast-Food Industry Takes Aim At Children With $5B Advertising Spending: Report\\n',\n \"'Path to $1 Trillion Club Evident'\\n\",\n 'Jon Najarian Sees Unusual Option Activity In TLT ETF, PagSeguro And Nike\\n',\n 'Vice Stocks: A Sin Not To Have In Your Portfolio\\n',\n \"Here's Why Pete Najarian Says Disney Stock Can 'Go A Lot Higher'\\n\",\n 'After Workplace Safety, Pay And Unionization Concerns, A Study Claims Amazon Is Hiring Hazardous Trucking Companies',\n 'Dow Tumbles 450 Points; JPMorgan Shares Drop Following Earnings Miss\\n',\n 'This Restaurant Chain Has A Better 1-Year Return Than Peloton, Facebook, Disney And Zoom\\n',\n 'Apple Analysts See Production Issues As Transitory, Recommend Buying On Weakness Following Q2 Results\\n',\n 'Mid-Day Market Update: Dow Tumbles Over 800 Points; DLocal Shares Surge\\n',\n \"Investors Moved These 8 Stocks On Thursday's CNBC's 'Fast Money: Halftime Report'\",\n \"Microsoft's Gloomy Guidance, Boeing's Surprise Q4 Loss Pulls Market Lower\",\n 'Google Jumps The Crypto Bandwagon To Win Cloud Market From Alibaba, Amazon, Microsoft',\n \"Benzinga's Top Upgrades, Downgrades For December 14, 2020\\n\",\n 'Is Luka Doncic A Legitimate Top 5 Player? Will LA Choke Again? Answers Tonight In Clippers-Mavericks Game 6\\n',\n \"11 Stocks Moved By Traders on 'Fast Money: Halftime Report'\\n\",\n 'Boeing Is Entering A Critical Time In The Pattern The Stock Trades In\\n',\n 'Boeing Is Entering A Critical Time In The Pattern The Stock Trades In',\n 'Vultures Circling: These 2 Retailers Set To Gain Most From Bed Bath & Beyond Bankruptcy',\n 'Apple, GameStop And Costco Stocks Continue In This Pattern: What To Watch',\n 'Amazon, Alphabet Earnings Pack A Wallop, Helping Drive Early Market Strength\\n',\n \"Cathie Wood To Elon Musk: Blockchain Technology Will 'Bend The Curve' On Inflation\\n\",\n \"Benzinga's Top Ratings Upgrades, Downgrades For December 16, 2021\\n\",\n \"Apple Earmarks $450M For iPhone 14's Satellite Emergency SOS\",\n \"McDonald's Super Fan Celebrates Eating Bic Macs Every Day For 50 Years\\n\",\n 'Is The Energy Ready To Rebound?',\n 'Nvidia Analyst Hikes Price Target By 30% On $10B Opportunity Presented By The Metaverse\\n',\n 'Fyllo Raises $40M In Series C Round Led By Eminence Capital, Will Fund New Hires & Acquisitions\\n',\n \"Apple, Dollar General Are CNBC 'Fast Money' Mentions, With This Stock Popping 1% After Being Named\\n\",\n \"63 Stocks Moving In Monday's Mid-Day Session\\n\",\n \"Analysts See Softened Timelines For CRISPR Therapeutics' Sickle Cell Candidate In US\\n\",\n 'EU Introduces Regulatory Fee For Big Online Platforms\\n',\n \"Frank Oz: Disney 'Doesn't Want Me' For New Muppet Projects\\n\",\n 'Arcturus Shares Shoot Higher After Additional Data From COVID-19 Vaccine Programs\\n',\n \"Elon Musk Goes After SEC (Again): Accuses Regulator Of Harassment With Its 'Unrelenting Investigation'\\n\",\n 'Budweiser Buys $25,000 NFT Rocket: What You Should Know About Tom Sachs Rocket Factory\\n',\n \"The Cudos Network Announces Mainnet Launch This February — Is Web3's Future Coming Sooner Than Expected?\",\n \"Wall Street Crime And Punishment: The Blood On Elizabeth Holmes' Fingers\\n\",\n 'Walgreens Continues Pushing Into Healthcare Despite Fierce Competition',\n \"Sorrento's COVID-19 Main Protease Inhibitor Neutralizes Omicron\\n\",\n 'Notable Netflix Insider Trades $6.1M In Company Stock\\n',\n 'Pressure Biosciences Secures Partnership With Dr. Denese SkinScience, A 20-Year Leader In Cosmeceuticals With Over $500 Million In Sales',\n \"Homebuilders Hammer Away After Tuesday's Rally As Yields Tick Lower\",\n \"Morgan Stanley Bats For Nike's Outlook Cut Due To Unfavorable Environment\",\n \"12 Stocks Moved By Traders On 'Fast Money: Halftime Report'\",\n \"30 Stocks Moving In Friday's Mid-Day Session\\n\",\n 'Why BioNTech Shares Are Falling Today\\n',\n \"Goodbye, Gap. Adiós, Adidas. Kanye's Billionaire Status Goes Kaput\",\n \"Twitter Sues To Halt Texas AG's Probe Of Trump Ban\\n\",\n 'Deutsche Bank Still Finds Big Tech Attractive - Read Why\\n',\n \"Read How Children's Place Fared In Q1\\n\",\n \"Apple's Investment, Strategic Partnership In UnitedMasters: What You Need to Know\\n\",\n \"What's Going On With Meta Platforms Stock?\\n\",\n \"46 Stocks Moving In Monday's Mid-Day Session\\n\",\n \"Twitter's India Head Relocates To New Role In US: TechCrunch\\n\",\n \"Overstock.com's Market Share Erosion Triggers Downgrade By This Analyst\",\n 'Turkey Believes It Can Finally Export A Luxury Brand, Can EVs Transform The Country?\\n',\n \"Analyzing Tesla's Short Interest\\n\",\n 'Walmart Goes Alibaba and Amazon Way To Boost Sales',\n 'Why This Investor Just Bought Disney Shares\\n',\n 'Nike Just Did It Despite Supply Chain Constraints\\n',\n 'New Apple iPhone 14 Is Out, With New Emergency SOS Via Satellite. And No More Sim Trays',\n 'Northrop Grumman Stock Slips After Mixed Q3 Results, Weak FY21 Revenue Outlook\\n',\n 'Holiday Heroes: Shipt is Ready for Last-Minute Needs\\n',\n 'Amazon.com Whale Trades For June 03\\n',\n 'Amazon Has Different Take On AI, Invites Applications From Global Generative AI Startups',\n 'Meghan Markle Bringing Animated Series To Netflix\\n',\n 'Why NFT Sneakers Could Be Coming Soon From Nike\\n',\n 'CrowdStreet Launches An Industrial Development Fund With A 17% Target Annualized Return',\n '10 Of The Highest Volume Options Contracts On Tuesday',\n \"Cramer Says It's 'Inconceivable' US Won't Have Better Relationship With China\\n\",\n 'China Presses Alibaba To Design Chips\\n',\n 'Which Vaccine Stock Will Benefit Most From FDA\\'s \"Mix And Match\" Approval?',\n 'Netflix Producing New Series About The Launch Of Spotify: What You Need To Know\\n',\n '5 Things You Might Not Know About US Gymnast Simone Biles',\n \"If You Invested $1,000 In Twitter's Stock One Year Ago, Here's How Much You'd Have Now\\n\",\n \"Nvidia's Comprehensive Involvement In Gaming Market Continues Strong Demand: Rosenblatt\\n\",\n 'Arrived Homes Shatters Funding Record With 6 Rental Properties Fully Funded In 8 Minutes',\n 'Travel Returns To Pre-Pandemic Levels, But Some Airlines, Other Industry-Related Companies Struggle',\n \"Awkward: Apple's At-Home Repair Kit Could Actually Cost You More Than Paying The iPhone Maker To Carry Out Repairs\\n\",\n \"Benzinga's Top Ratings Upgrades, Downgrades For August 11, 2022\\n\",\n \"(TWTR) - Analyzing Twitter Inc's Short Interest\\n\",\n 'T-Mobile US Analysts Cheer Its Preliminary Q4 Subscriber Numbers',\n 'Cathie Wood Adds UFC Parent Endeavor To ETF: What Investors Should Know\\n',\n 'AMD Unveils High Performance Gaming Graphics Card\\n',\n 'Apple, Disney, American Express, Microsoft Rally As Dow Jones Index Recovers Losses\\n',\n \"If You Invested $1,000 In Walt Disney Stock One Year Ago, Here's How Much You'd Have Now\\n\",\n 'Sapphire Rapids Based New Chips Aim To Regain Lost Market Share, Intel Executive Say',\n '$100 Invested In This Stock 5 Years Ago Would Be Worth $200 Today\\n',\n \"Peering Into Amazon.com's Recent Short Interest\",\n \"Cowen & Co. Maintains Outperform Rating for Nike: Here's What You Need To Know\\n\",\n \"Pfizer CEO Has 'Message Of Hope' On Coronavirus Pandemic Anniversary\\n\",\n 'Is Netflix Overpriced? Analyst Suggests Limited Room For Upside Despite Ad-Tier Opportunities',\n 'Moderna CEO Sells Shares, Deletes Social Media: What You Need To Know',\n \"Health Canada Approves Moderna's COVID-19 Vaccine For Kids Aged 6-11 Years\",\n \"Why Moderna Shares Are Trading Lower Following Novavax's Earnings Report\\n\",\n 'Investors Ditching Safe Havens In Favor Of Small-Cap Stocks',\n \"CanSino's Covid Vaccine Gets WHO Nod. But Is It Too Little, Too Late?\",\n 'New Coalition Hopes to Create Demand Drivers for Sustainable Solutions\\n',\n 'Amid Rising Infection Cases, Israel To Offer Third Pfizer-BioNTech COVID-19 Shot: CNBC\\n',\n 'This Pizza Stock Has A Better 1-Year Return Than Amazon, Snap, Plug Power And Starbucks',\n \"52 Stocks Moving In Tuesday's Mid-Day Session\\n\",\n \"Jon Najarian Says These 2 Vaccine Manufacturers Haven't Been Talked About Enough\\n\",\n 'Pfizer Slapped With Additional Patent Infringement Lawsuit Over Its Famed COVID-19 Shots',\n \"Apple TV+ Bringing More Content From This Multi-Oscar Winner: Here's What Viewers Can Expect\\n\",\n 'Two More Directors Depart from SoftBank Group: FT\\n',\n \"FDA Expands Emergency Use Of Pfizer/BioNTech's COVID-19 Booster To 16 Years & Older\\n\",\n 'Fosun Pharma Hopes Covid Vaccine Can Cure Its Ailing Margins\\n',\n \"Kobe Bryant's Legacy Lives On With Metaverse Push, New Products\\n\",\n 'Elon Musk To Pump NFTs Next? NFT Creator Beeple Acknowledged By Tesla CEO\\n',\n 'BioNTech And Matinas BioPharma Announce Exclusive Research Collaboration To Evaluate Novel Delivery Technology For mRNA-based Vaccines\\n',\n \"Tesla Leads Automobile Stocks to be Among Wednesday's Top Performers\\n\",\n \"Looking Into Boeing's Unusual Options Activity\",\n 'Pfizer Whale Trades For December 17\\n',\n \"Is Netflix's Stock Overvalued Or Undervalued?\\n\",\n \"TSMC's Revenue From Leading Client Apple Sees Significant Rise\\n\",\n 'EXCLUSIVE: Tilray CEO Discusses Key Markets, Strategy, News And Stock Catalysts',\n 'If You Invested $1000 In This Stock 20 Years Ago, You Would Have $180,000 Today',\n 'After Elon Musk Supports Ukraine With Starlink, New Report Questions Recent Outages\\n',\n 'Are Psychedelics A Threat To Alcohol And Tobacco Industries? A Glance At Thriving Advances',\n \"Here's How Many People Have Visited NIKELAND In Roblox\",\n 'What Are Whales Doing With Tesla\\n',\n 'Twitter Targets Appointment Of First African Engineering Team, Product\\n',\n 'This Analyst Says US Government Buying More COVID-19 Vaccines At Higher Prices\\n',\n 'TriMas Aerospace Bags Boeing T-7A Defense Contract',\n \"EXCLUSIVE: Michelle Krebs Of Cox Automotive Says 'If An Economic Recession Hits The US, Vehicle Sales Are Not Going To Be Affected Much'\\n\",\n \"Why Twitter's Stock Is Trading Higher Today\\n\",\n 'Why This Investor Is Betting Against Donald Trump, Cathie Wood And Elon Musk Right Now\\n',\n 'Amazon To $175? Plus JP Morgan Cuts Price Target On Meta Platforms\\n',\n 'Why Netflix Stock Looks Set To Bounce Higher Despite Weakening Revenues, Job Cuts\\n',\n \"Apple's Bet On This Chinese Company Cost It $800M, But There's A Lesson To Learn, Gene Munster Says\",\n \"Luminar & Nvidia Stocks Soar On Partnership News: What's Next?\\n\",\n 'Icannex Taps Ex Pfizer, FDA & Regulatory Affairs Expert\\n',\n \"Bill Gates Has Big Plans for the Future of Healthcare – From an HIV Vaccine to Eradicating Malaria, Here's How the Billionaire Is Reshaping Healthcare\",\n 'P/E Ratio Insights for Advanced Micro Devices\\n',\n 'Lululemon Launches Footwear Collection: What Investors Should Know',\n 'Opendoor and Beazer Give the Housing Market a Boost\\n',\n \"Apple's AR Headset To Come With Hand Gesture, Object Control: Report\\n\",\n 'Disney Cruise Line To Require COVID-19 Vaccinations For Kids Ages 5 And Up\\n',\n \"Apple Sidesteps Feds On Weed As Health App Doesn't Discriminate On Legality\",\n 'Watch for Continued Gains in Shares of Nike Inc.\\n',\n 'Moderna To Set Up mRNA Vaccine Manufacturing Facility In Kenya\\n',\n 'Two Doses Pfizer-BioNTech COVID-19 Vaccine Necessary To Generate Immune Response Against Variants, UK Study Show: Reuters\\n',\n 'This Pizza Stock Has Better 10-Year Return Than Apple, Netflix And Microsoft',\n 'Analysts Bump Up Lockheed Martin Price Target After Solid Q4 Results',\n \"What's Going On With Apple And Microsoft Shares\",\n \"Netflix's Next Big Hit May Come From Serious Pedigree: Game Of Thrones\\n\",\n 'BZ Chart Of The Day: Apple Drops To Critical Support',\n \"Oakmark's Win Murray Likes Netflix Stock At Current Levels\\n\",\n \"Amazon Surges On Inflation Optimism, Shows Comparative Strength To Tesla: What's Going On?\",\n 'Why These Apple Analysts Have Reduced Their Price Targets Ahead Of Results',\n 'KeyBanc Warns Against Heavily Constrained Apple iPhone 13 Supply\\n',\n '10 Of The Funniest Fintwit Personalities Help Brighten Up The Markets\\n',\n 'Why Moderna Stock Is Moving Lower Today',\n 'A Republican Senator On The Missile Defense Committee Just Sold Lockheed Stock Worth Up To $100K\\n',\n \"As Tim Cook Heads To India For Store Launches, Analyst Flags Big Opportunity To Add Country To The 'Apple Ecosystem'\",\n 'Virgin Orbit Nears SPAC Merger: What Investors Should Know',\n \"CNBC 'Fast Money' Favorites: Visa, Costco, And A Top Performer In The S&P 500 Today\",\n \"Walmart Analysts Break Down Q3 Earnings: 'Well-Positioned To Gain Market Share'\\n\",\n 'Green Hygienics Holdings To Raise $100M Via Green Bond Offering\\n',\n \"'Fast Money Halftime Report' Picks For June 2\\n\",\n \"Netflix's Earnings: A Preview\",\n 'Snowflake Remains The Strongest Overall Data Platform, Analyst Says After Call With Expert\\n',\n 'Why Apple Shares Are Falling Today\\n',\n \"Enterprise Software Firms Like Coursera, Five9, Teladoc Health And More Will 'Bake Looming Macro Slowdown Into Guidance,' Cautions This Analyst\",\n \"Facebook App, Messenger Slated For Updates: What's In Store?\",\n \"Benzinga's Top Upgrades, Downgrades For December 17, 2020\\n\",\n 'RBC Capital Cuts Boeing Price Target By 9%',\n 'Pasithea and Evotec Team Up вЂ” Attempt to Make Headway on Brain Disorder2021-11-01 11:01:37 43.500000  43.705002   0.2  0.4 Goldman Sachs Says 2022 Could Be the Year of Stock Buybacks\\n',\n 'Snap Ramps Up International Expansion Capitalizing On Cleaner Image\\n',\n \"Preview: Nike's Earnings\\n\",\n 'A Big Earnings Week Ahead',\n \"44 Stocks Moving In Wednesday's Mid-Day Session\\n\",\n \"13 Best Wendy's Roasts In Honor Of National Roast Day: 'Top Drink Of Choice For When You Hate Yourself'\\n\",\n 'Why This Investor Just Compared Moderna To Amazon, Sees 500% Upside',\n 'Disney Sets April 11 Vaccine Mandate Deadline For Anaheim Park Employees\\n',\n 'Boeing Tests Suppliers On 787 Output Hikes: Reuters',\n 'Netflix Could Expand Into Video Games: Report',\n \"Why Okta Is Trading Lower By Over 32%, Here Are 58 Stocks Moving In Thursday's Mid-Day Session\",\n 'Leveling Off: Market Takes a Breath After Sharp Rally as Inflation Data Loom',\n 'Oscar Mayer Wienermobile Heads To The Metaverse Along With NFTs: Here Are The Details',\n 'Watch for Continued Gains in Shares of Broadcom Inc.\\n',\n 'Did Jeff Bezos Ask Tom Hanks To Pay $28M For A Blue Origin Space Flight?\\n',\n 'Benzinga Asks: Which Company Could Join The $1-Trillion Market Cap Club Next? Did NVDA, TSM, BRKA Or TCEHY Win?',\n \"Amazon Leads The Market Lower, Flashes Warning Sign The Bears Remain In Control: What's Next?\",\n \"Ford CEO Jim Farley Sees These 2 Companies As Rivals In EV Race (Hint: GM Isn't Among Them)\\n\",\n 'Jen Psaki In Talks To Join MSNBC: Report',\n 'Downgrades On Economy And Pandemic Pharmaceuticals',\n '$1000 Invested In This Stock 10 Years Ago Would Be Worth $3,600 Today',\n 'Reported Omicron-Induced Surge in Stay-at-Home Stocks May Have Helped Propel Digital Health Investments Past $14 Billion\\n',\n 'Follow What Smart Money Traders Are Doing With Moderna',\n 'Top US Drugmakers Exploit US Patent System To Keep Generic Competition At Bay: Report\\n',\n 'Golden Cross Appears Before Netflix Investors',\n 'Dollar Weakness, Easing Of Supply Constraints Likely To Add To Better Margins For Apple, Analyst Says',\n 'Novavax Shares Surge On Vaccine Supply Deal With Japan',\n 'The Only Reason Dan Ives Remains Bullish On Rivian Is...',\n 'Apple Introduces Apple Watch Series 8, Watch SE And New Ultra Edition',\n \"CNBC's Final Trades: Costco, Moderna And These Plays On Travel Recovery\\n\",\n \"Sky Isn't Falling At FedEx Ground, Two Contractors Say\",\n \"What's Up With Square's Stock Following Dorsey News?\\n\",\n \"Read Needham's Take On Disney in Brief\\n\",\n 'Why Disney Shares Are Falling\\n',\n \"Analyzing Northrop Grumman Corporation's Short Interest\\n\",\n \"What To Do Now If You're Long Moderna\\n\",\n \"Federal Court Declines Carole Baskin Effort To Halt Netflix's 'Tiger King 2'\\n\",\n \"Tesla Model 3 Sets New Record In 1,000 KM Challenge: Here's Why It's Important\\n\",\n \"Benzinga's Top Ratings Upgrades, Downgrades For November 18, 2021\",\n 'Senators Demand Netflix Reduce Scenes With Smoking, Vaping\\n',\n \"BioNTech's COVID-19 Vaccine Becomes First Foreign Shot To Be Available In Chinese Market\",\n 'Ryanair Resumes Talks With Boeing For Fleet Upgrade: Report',\n 'Moderna To Supply Additional COVID-19 Vaccine Doses To COVAX Alliance',\n 'Sean Penn Is In Ukraine Making A Documentary: Here Are The Details',\n \"Why Boeing Is Investing In Richard Branson-Owned Virgin Orbit's $3.2B SPAC Deal\",\n '$1000 Invested In This Stock 15 Years Ago Would Be Worth $5,400 Today',\n \"What's Going On With Nvidia And Micron Stock Today?\\n\",\n 'Amazon Will Eliminate 9,000 More Jobs In Coming Weeks: The Details',\n \"Nancy Pelosi Lost Money On 75% Of Recent Trades: Here's Where It Went Wrong\\n\",\n 'Check Out What Whales Are Doing With Disney\\n',\n \"Will iPad Sales Normalize In 2024? Why This Apple Category Is In 'Structural Decline'\",\n 'AMC Entertainment Crashes Movie Ticket Sites Thanks To Spider-Man Demand And NFTs: What Investors Should Know\\n',\n 'If You Invested $1000 In This Stock 20 Years Ago, You Would Have $180,000 Today\\n',\n \"Alibaba Tech VP Mocks China's Covid Policies; Clarifies Not Resigning\\n\",\n \"FAANG No More? Facebook, Netflix 'Fracturing' Away From Elite Tech Group, Says Gene Munster\",\n \"What's The Risk Of Blood Clots After Getting A COVID-19 Vaccination? This Study Shows Encouraging Data\\n\",\n \"Apple's Stock Climbs Higher In This Key Pattern: How To Enter The Trade\\n\",\n \"Octopus for Breakfast: Insight Into Jeff Bezos's Bizarre Investing Strategy\",\n \"AMD's Products and Results Light Everyone Up\\n\",\n 'Touchlight Inks Patent License Agreement With Pfizer\\n',\n \"Netflix Expands Animated Film Licensing Deal With Comcast's Universal\\n\",\n 'Warner Bros. Discovery Analyst Slashes 3Q Estimates Citing FX Headwinds, Tougher Comps',\n 'Amazon.com Unusual Options Activity For November 21',\n \"Neuberger Analyst Expects Strong Q4 Results For Apple, Amazon, Google: Why He Would Buy The Stocks 'Right Now'\",\n \"Apple's VR Headset Might Be Its Biggest Flop in Decades — Here's Who the Real Winners Will Be\",\n 'Pfizer Inc.: 52-Week High Recently Eclipsed (PFE)\\n',\n 'Amidst Turmoil In Semiconductor Chip Space, Analyst Picks 3 Stocks That Can Survive The Storm',\n '$100 Invested In This Stock 15 Years Ago Would Be Worth $300 Today\\n',\n 'How Is The Market Feeling About Boeing?',\n 'On Tap: Earnings from Disney, Powell Speech as Market Digests Blockbuster Jobs Data',\n 'Earnings Preview: Walt Disney\\n',\n \"Mark Cuban Sounds Alarm On ChatGPT: 'We're Just In The First Inning Of What's Going To Happen'\",\n \"Talking His Generation: The Who's Pete Townshend On NFTs, Joe Rogan And Spotify\\n\",\n 'Peloton Pedals to Growth Outside Homes',\n \"Walt Disney World Removes Br'er Rabbit Statue, Further Erasing 'Song Of The South' From Public View\\n\",\n 'AMC Surges As #APESNOTLEAVING Trends On Twitter\\n',\n 'Investors Ditching Safe Havens In Favor Of Small-Cap Stocks\\n',\n 'Can Web3 Enter The Mainstream With The Help Of Starbucks And Nike?',\n 'Novibet Extends Global Partnership With Nuvei\\n',\n \"Pfizer's Ex-Dividend Date Is Thursday, Here's What You Need To Know\\n\",\n '$1000 Invested In This Stock 20 Years Ago Would Be Worth $22,000 Today',\n 'Why Stephanie Link Keeps Adding To Her Apple Position On Weakness\\n',\n 'Boeing Will Be Flying to the Metaverse With Improved Engineering\\n',\n 'What Will It Take For Netflix Stock To Break From This Pattern?',\n 'Amazon, Google Analyst Reduces FY23 Revenue Growth Forecasts As Sales Channel Indicators Point Towards Challenged Cloud Outlook',\n \"Analyst Upgrades Arrowhead Pharma Citing 'Attractive Risk/Reward'\",\n \"Here's Why Affirm Stock Is Falling Alongside Walmart And Shopify Today\\n\",\n \"Netflix Releases 'Unseen' Teaser: South African Crime Thriller On Housekeeper's Search For Missing Husband Generating Buzz\",\n 'Intel To Showcase Crypto-Mining Chip In February: Report\\n',\n \"US Stocks Limp As Tech Earnings, Key Economic Data Loom: Analyst Sees Equity Market Struggling In 'Weeks, Months Ahead'\",\n 'The 3 Top Features Tesla Model Y Owners Want In Their EVs\\n',\n 'An American Success Story, Cannabis Mogul Boris Jordan Of Curaleaf: Meet Our Keynote Speakers\\n',\n 'Boeing 737 Max Returns To Skies With American Airlines, 2 Years After Deadly Crashes\\n',\n \"Benzinga's Top Ratings Upgrades, Downgrades For September 22, 2022\",\n 'Netflix Inc.: 52-Week High Recently Eclipsed',\n \"What Recession? Why Kevin O'Leary Says 'You're All Wrong' About The Economy\",\n \"Why Amazon's 20-For-1 Split Is 'Much More Important Than A Typical Tech Company Stock Split'\",\n \"35 Stocks Moving In Monday's Mid-Day Session\",\n \"Can Marvel Films Profit Without Playing In China? Here's What Disney CEO Bob Chapek Says\\n\",\n \"Netflix Confirms Details On The Obamas' First Scripted Series From Higher Ground Productions\",\n \"Jim Lebenthal Is Looking For A Pop After The Bell: 'This Is The Company That Beats This Earnings Season'\",\n 'Morgan Stanley Makes Tesla Prediction For 2023, Cuts Price Target As Production Headwinds Linger\\n',\n 'Analysts Bump Up Price Targets On Affirm Post Q1 Top-Line Beat, Amazon Deal\\n',\n \"A Preview Of Netflix's Earnings\",\n 'Is LeBron James Heading To The Metaverse?',\n 'Netflix, Humana And Some Other Big Stocks Moving Higher On Thursday',\n 'Nike Whale Trades For May 06\\n',\n \"Netflix Employees Aren't Chillin', They're Making Bank: Six-Figure Salaries Of Managers, Directors And Engineers\",\n 'Nike Unusual Options Activity For March 17',\n 'Foot Locker Makes Nice With Nike: Analyst Turns Bullish, Upgrades Shoe Retailer',\n 'YouTube To Explore NFT Features For Video Creators: Report\\n',\n 'Is A Rivian Electric Bike On The Horizon? What Investors Should Know About New Trademark\\n',\n 'Chris Rock Fans Are Forking Over A Ton Of Money For Standup Tour After Will Smith Slap At The Oscars\\n',\n 'Jim Cramer Likes Nike More Than Under Armour\\n',\n \"Why Universal Electronics Shares Are Trading Lower By 30%? Here Are Other Stocks Moving In Friday's Mid-Day Session\",\n 'NanoViricides Patents Its Antiviral Nanotechnology for COVID-19, Continuing Its Development of Potentially Broad-Spectrum Drugs That Are Expected To Be Effective Even Against Emerging Variants',\n 'Moderna Begins Late-Stage COVID-19 Vaccine Study In Adolescents: What You Need to Know\\n',\n 'Expert Ratings For Amazon.com\\n',\n \"Oklahoma Theater Tries, And Fails, To Censor Same-Sex Kiss Scene In Disney's 'Lightyear'\\n\",\n \"Wednesday's Market Minute: Sector Breakdown for 2021\\n\",\n 'Cramer Weighs In On Johnson & Johnson, ViacomCBS And More',\n 'Nasdaq Jumps Over 100 Points; U.S. Jobless Claims Rise To This Level\\n',\n \"'Uncharted' Fans Complain Of Nathan Fillion Not Being Cast In New Film Version As Nathan Drake\\n\",\n 'Pfizer Resumes Dosing In Phase 3 Hemophilia Gene Therapy Trial Six Months After FDA Lifts Clinical Hold\\n',\n 'PreMarket Prep Stock Of The Day: Twitter\\n',\n 'A Republican Senator On The Missile Defense Committee Just Sold Lockheed Stock Worth Up To $100K',\n 'CrowdStrike, Okta And Zscaler Likely To Post Upbeat Quarterly Results, Analyst Says',\n \"Pfizer-BioNTech's COVID-19 Booster Study Shows Robust Efficacy\\n\",\n 'Embark Trucks Tallies 14,200 Prelaunch Reservations for Driverless Software\\n',\n \"If You Invested $1,000 In Netflix Stock At Its Pandemic Low, Here's How Much You'd Have Now\\n\",\n 'NFT, Metaverse Opportunity Extraordinary For Disney, But Bob Iger Cautions On Copyright Issues With OpenSea\\n',\n 'Why This Netflix Analyst Just Cut Their Price Target By 20%\\n',\n \"Boeing's Stock Is Entering Do-Or-Die Time\",\n \"(WMT) - Analyzing Walmart Inc's Short Interest\\n\",\n \"Beginning Investor? Here's How To Protect Your Portfolio In 2021\\n\",\n 'Mid-Day Market Update: Nasdaq Jumps 200 Points; AutoWeb Shares Slide\\n',\n \"AMD: What The Street Is Saying Ahead Of Chipmaker's Q4 Print\\n\",\n 'What 8 Analyst Ratings Have To Say About Advanced Micro Devices\\n',\n 'What 8 Analyst Ratings Have To Say About Lockheed Martin',\n 'Virgin Orbit Nears SPAC Merger: What Investors Should Know\\n',\n 'This Oil Stock Has A Better 1-Year Return Than Amazon, GoPro, Bank Of America And GE',\n 'This Energy Company Earned More Than Apple, Meta, Microsoft And Tesla Combined In Q2',\n \"John Cena's Apology For Calling Taiwan A 'Country' Sparks Harsh Backlash\\n\",\n \"Roku Dips Further: What's Next For The Stock?\",\n \"Fans Rejoice: HBO's 'The Last of Us' Confirms Season 2, Amazon Taps Fleabag Creator To Helm Tomb Raider, See Seth Rogen 'Pummel' Super Mario\",\n \"Uber, NextEra Are CNBC 'Fast Money' Mentions, And This Struggling Sector Is Tuesday's Call Of The Day\",\n 'Cenntro Automotive Bags Order For Metro Electric Commercial Vehicles in Japan\\n',\n 'FDA Plans Quick Review of Pfizer/BioNTech COVID-19 Booster For All Adults: NYT\\n',\n \"Why NVIDIA's Stock is Trading Lower Today\\n\",\n 'Morgan Stanley Sees Disney Suffer From Confidence Crisis; Cuts Price Target By 12%\\n',\n 'Why Nvidia Could Be Helped By Meta Platforms Building The Metaverse\\n',\n \"What's Happening With Boeing Stock Today?\\n\",\n 'Short Seller Spruce Point Is Betting Against Billionaire Tesla Bull Ron Baron On This Stock\\n',\n \"Qualcomm Finds Way To JPMorgan's Analyst Focus List\\n\",\n 'Jeff Bezos Receives Backlash For Backing A Company Buying Up Single-Family Homes',\n \"50 Stocks Moving In Wednesday's Mid-Day Session\\n\",\n 'Why Rivian Automotive Shares Are Trading Lower Today',\n 'Wall Street Loves AI: Goldman Expects A Shocking $7 Trillion Boost In Global GDP And Raises Targets For MSFT, CRM, ADBE',\n \"EXCLUSIVE: Super League Gaming CEO Ann Hand On Debunking 'The Myth Of Who A Gamer Is'\\n\",\n 'Moderna Gets Full Approval Of COVID-19 Vaccine In Canada (Ahead Of US)\\n',\n 'Return on Capital Employed Overview: Boeing\\n',\n 'Aviation Services Provider AAR Purchases Nine 757-200 Aircraft From American Airlines',\n 'Why This Moderna Analyst Downgraded Biopharma Despite Positive COVID-19 Vaccine News\\n',\n \"Apple App Store Sales Are Dropping, But Here's Why Morgan Stanley Remains Bullish\",\n \"Does Apple's New iPhone Repair Kit Really Weigh More Than A Truck Tire?\\n\",\n 'Lower Than Expected Housing Starts and Building Permits Could Be Problems for Homebuilders',\n \"Stocks Rise On Strong Earnings, Expectation Of Fed Rate Hikes Ending: Analyst Says 'No Earnings Recession In Cards Yet'\",\n \"This Korean Remake Of Hit Netflix Series 'Money Heist' Is Topping The Charts: What Investors Should Know\\n\",\n \"Why This Analyst Thinks Netflix Can't Win Streaming Wars With Its Current Strategy\",\n \"Why Apple's Stock May Be Headed For A New All-Time High\\n\",\n \"BMO Capital Maintains Outperform Rating for Target: Here's What You Need To Know\\n\",\n \"52 Stocks Moving In Thursday's Mid-Day Session\\n\",\n \"Apple, Microsoft And Other Information Technology Stocks From Benzinga's Most Accurate Analysts\",\n 'Why AMC Shares Are Rising\\n',\n 'Is The Sell-Off In Disney, Intel And Microsoft Over?\\n',\n 'Peloton Pedals to Growth Outside Homes\\n',\n 'What 14 Analyst Ratings Have To Say About Nike\\n',\n \"CHMP Recommends Pfizer's Paxlovid For Use In Adults With COVID-19\\n\",\n 'Trans-Atlantic Rivalry Brews Over Airbus A321 Converted Freighter\\n',\n \"Netflix Stock Confirms A Head And Shoulders Pattern: What's Next?\",\n 'Spotlight Growth Shares 2 Small-Cap Stocks that could be Resilient for 2023',\n 'DroneUp Acquires Airspace Traffic Management Company AirMap\\n',\n \"Trump SPAC Merger Deal Includes Provisions For 'Material Disruptive Events' Like A Presidential Run And Prison Time\",\n 'Thinking About Buying Stock Or Options In Airbnb, GM, Bed Bath & Beyond Or Nike?',\n 'What 9 Analyst Ratings Have To Say About Netflix',\n 'Bill Gates Thinks Donald Trump Should Be Allowed Back On Twitter\\n',\n 'The Force Is Strong With Obi-Wan Kenobi: Streaming Series Breaks Disney+ Records',\n 'Boeing Earnings Ahead: Eyeing Workforce Cuts, Aerospace Spending, And The Newly \"Ungrounded\" 737 MAX\\n',\n 'Tesla Surpasses 10,000 Supercharger Stalls Available in Europe As Demand Rises\\n',\n \"Why NCR Is Trading Lower By Around 23%, Here Are 42 Stocks Moving In Friday's Mid-Day Session\",\n \"Southwest Airlines To Face The Heat Of Boeing's 737 MAX Manufacturing Fault: Report\",\n \"So What's Going On With Moderna Shares Rising Today?\",\n \"What's Going On With Xilinx, Broadcom And Applied Materials Today?\\n\",\n 'Mastercard VP Draws Parallels Between Mass Crypto Adoption And Evolution Of Internet For Amazon To Work\\n',\n \"Here's How Much $1000 Invested In Lockheed Martin 10 Years Ago Would Be Worth Today\\n\",\n \"Tuesday's Market Minute: Investors Attempt to Grapple With Severity of Omicron\",\n \"Arbutus' Hepatitis B Candidate Shows Encouraging Antiviral Activity\",\n 'Facebook, Twitter, YouTube Face Senate Enquiry Over Algorithms: Bloomberg\\n',\n 'Goldman Sachs Says 2022 Could Be the Year of Stock Buybacks',\n '$1000 Invested In This Stock 15 Years Ago Would Be Worth This Much\\n',\n \"Apple Co-Founder Wozniak Turns 72: A Look At His 'Cream Soda' Computer That Was His Inspiration\",\n 'Twitter Insider Trades $990K In Company Stock\\n',\n \"Monday's Market Minute: Earnings Season Heats Up With Eco Data On Tap\",\n 'B. Riley Believes Now Is An Excellent Time To Buy Globalstar, Thanks To Apple, Qualcomm\\n',\n \"Will Investors Notice Exciting Sign On Boeing's Chart?\",\n 'Why This Investor Is Building A Position In AMD\\n',\n 'Google Rejects Donald Trump: Why Truth Social Is Not Approved For Google Play Store',\n 'Apple Melts Up Into Blue Skies: Is The Stock Headed For $200?\\n',\n 'Earnings Preview for Walt Disney\\n',\n 'Mid-Day Market Update: Obalon Therapeutics Jumps On Merger News; Document Security Systems Shares Slide\\n',\n \"These 12 Nonprofits Got Millions Donated From MacKenzie Scott, Jeff Bezos' Ex-Wife: 'Helping Any of Us Can Help Us All'\",\n 'Why BofA Remains A Disney Bull Despite Disappointing Q4 Outlook\\n',\n \"3 AMD Analysts Dissect Chipmaker's Q4 Earnings, Guidance Beat\\n\",\n 'United Airlines Plans To Begin New Service To Lagos, Nigeria\\n',\n 'Why Boeing Shares Are Getting Hammered',\n 'Shares of Netflix Inc. Exceed 52-Week High',\n \"Netflix Testing Theatrical Model With 'Army Of The Dead'\",\n 'European Demand For US Drones, Missiles Increases After Russian Invasion: Reuters',\n \"Warner Bros. Discovery's Restructuring Attempts Differ From Its Peers Like Netflix, Disney - Read How\",\n \"Could Hit Television Show 'The Office' Be Headed To The Courtroom? Inside A Lawsuit Over Dunder Mifflin Trademark\\n\",\n 'Alex Jones Files For Bankruptcy Protection: What You Need To Know\\n',\n \"4 Experts On What The 8.2% CPI Print Means For The Fed & The Markets: Could 'Supersize' Rate Hike Spark 'Rude Awakening'?\",\n \"Monday's Market Minute: Three Things To Watch This Week\",\n \"If You Invested $1,000 In Moderna Stock At Its Pandemic Low, Here's How Much You'd Have Now\",\n 'Mid-Day Market Update: Dow Jumps 100 Points; Spero Therapeutics Shares Plunge\\n',\n 'RBC Shares Its Insight On Fintechs, Apple Buy Now Pay Later, Ultimate Winners\\n',\n 'Moderna Attempts To Bounce Off Key Support Level: Technical Analysis\\n',\n \"Netflix In Court Over 'The Queen's Gambit': What You Need To Know\",\n \"AMD Analysts Confident of Continued Share Gains, Execution Following Chipmaker's Q1 Beat\\n\",\n 'Why Netflix Shares Are Moving After Microsoft News Update\\n',\n 'Could Apple Stock Be In for A Bumpy Ride Later in 2022?\\n',\n 'Mid-Morning Market Update: US Markets Open Lower Amid Russian Military Action In Ukraine',\n 'Micro Today Ahead Of Macro Tomorrow\\n',\n 'Moderna Sees Single-Dose COVID-19 Vaccine Launch In India In 2022',\n 'Why Moderna Shares Dipped On Tuesday\\n',\n 'Switzerland Approves First Next-Generation Bivalent COVID-19 Booster Vaccine\\n',\n 'Apple Unusual Options Activity For December 01',\n 'Sweden, Denmark Pause Use Of Moderna COVID-19 Shot In Younger Individuals: What You Need To Know',\n 'Analysis: Why Is It So Difficult To Obtain COVID-19 Monoclonal Antibody Treatments?\\n',\n 'Why AMD Shares Are Rising',\n 'Why This Investor Bought Shares Of Boeing\\n',\n 'Tech Sector Leads Tuesday Market Sell-Off: What You Need To Know',\n 'Check Out What Whales Are Doing With WMT\\n',\n 'Disney Adds Joe Biden Audio-Animatron To Hall Of Presidents Exhibit\\n',\n 'Netflix Stock Plummets 20%: A Technical Analysis',\n \"DeSantis: Disney 'Crossed The Line' In Seeking Overturn Of 'Don't Say Gay' Law\\n\",\n 'Why 2023 Could Be A Huge Year For Amazon\\n',\n \"US Consumer Sentiment Drops To Lowest Level Since Pandemic's Onset\\n\",\n 'Analyst Increasingly Confident In Disney As A Big Reopening Beneficiary\\n',\n \"38 Stocks Moving In Tuesday's Mid-Day Session\",\n 'Why Rivian Shares Are Falling Today',\n \"Twitter CEO Parag Agrawal Takes 'A Few Weeks' Off For Paternity Leave\\n\",\n 'Dominion Energy, Under Armour, And Expedia Among Another Slew Of Earnings Reports\\n',\n \"Why Luminar's Stock Is Trading Higher Today\\n\",\n 'Nike Whale Trades For August 24',\n 'Kawhi Leonard Out For Game 5, Possibly Rest Of Series: What Does This Mean For The Los Angeles Clippers?\\n',\n 'Boeing Whale Trades For March 16\\n',\n 'Netflix Is Not Giving Up The Throne',\n \"Snap Stock Is Rising Today: What's Happening?\\n\",\n \"What's Going On With Affirm And PayPal Shares After Amazon's Earnings Report\",\n 'Billionaire John Whittaker To Enter Cannabis Industry Via Plans For $136M Facility On The Isle Of Man\\n',\n 'Amazon Goes The Alibaba Way To Drive Sales Growth',\n \"Was WWE's WrestleMania 38 Bigger Than Super Bowl LVI? Here's What Social Media Data Says\\n\",\n 'Chart Wars: Is Disney Or SeaWorld Stock Headed For All-Time Highs First?\\n',\n 'Could Earnings Mean Full Stream Ahead For Netflix Stock?',\n 'Mid-Day Market Update: Dow Rises 100 Points; Lyft Shares Plummet',\n 'Former PerkinElmer Executive Joins Moderna As Finance Chief',\n 'Thinking About Buying Stock Or Options In GE, Zillow Or Boeing?\\n',\n '5 Nike Analysts Praise Q3 Earnings Beat, Booming North American Sales Growth',\n 'Jobless Claims Jump, Signaling Softening Labor Market: What You Need To Know',\n 'The Latest Analyst Ratings for Nike',\n \"Elon Musk Is Tired Of 'Make Money Through Audible' YouTube Ads — But Is He Missing Out On A Lucrative Cash-Making Opportunity?\",\n 'Lions Gate Entertainment Mulling Possible Starz Spinoff: Report',\n \"New Tools In Troika's Toolbox? Converge Acquisition Could Lower Customer Acquisition Costs\",\n 'Is Brittney Griner Receiving Her WNBA Salary Now That Her Second Job In Russia Is Kaput?',\n 'Animal Spirits: Nasdaq Up 19% Off June Lows',\n \"Move Over Disney+: Why Theme Parks Could Be Disney's Real Growth Driver In 2022\\n\",\n \"'Can I Purchase A Robot': NBA Hall of Famer Wants A Tesla Bot, Will Elon Musk Help Him Out?\\n\",\n \"It's Getting Very Quiet Ahead Of Next Week\",\n \"How Wirex Expanded And What The Future Holds For Crypto As 'An Everyday Utility'\",\n \"Looking Into Twitter Inc's Recent Short Interest\\n\",\n \"If You Invested $1,000 In BioNTech Stock One Year Ago, Here's How Much You'd Have Now\\n\",\n \"Here's Why Apple Is Liable To Pay Regulatory Fine Of в‚¬5\\n\",\n \"Apple Earnings 'Not A Slam Dunk': 4 Analyst Takes On Tech Giant's Mixed Report\",\n '$100 Invested In This Stock 15 Years Ago Would Be Worth $400 Today',\n 'Oscars TV Ratings Up Significantly From Last Year, But Still Far From Peak\\n',\n \"Benchmark Sees Minimal Impact From Netflix's Operations Suspension In Russia\",\n \"WHO's Technical Body Says Updated COVID-19 Vaccines Needed To Combat Omicron: Reuters\",\n 'Amazon.com Unusual Options Activity For November 30',\n \"If You Invested $1,000 In The ARK Innovation ETF At Its COVID-19 Pandemic Low, Here's How Much You'd Have Now\\n\",\n \"Amazon's Deep Pocketed Bid For Signify Will Drive Up Acquisition Prices, Says This Analyst\",\n \"Is Amazon A Death Trap For The Bears? Why Jim Cramer Is Calling It The 'Most Dangerous Short'\",\n \"What's Going On With Social Media Stocks Today?\\n\",\n \"Pfizer Gains Outside US Rights To Biohaven's Migraine Treatment For $500M\\n\",\n \"'No Money Down' Real Estate Investing Might Not Work, But $100 Can Get You There\\n\",\n 'Stock Wars: Aerojet Rocketdyne Vs. Maxar',\n 'Why AstraZeneca And Pfizer Shares Are Moving Today\\n',\n 'Boeing Whale Trades For August 01\\n',\n 'Why Amazon Shares Are Falling Following Key Economic Data Today',\n 'Pinduoduo Finds Early Success in U.S. E-Commerce. Now Comes the Hard Part',\n \"Find Out Why This Bear Thinks The S&P 500 Is Headed To 3,000; What He's Buying During The Downturn\",\n \"'SportsCenter' Anchor Sage Steele Sues ESPN And Disney: Here's Why\\n\",\n 'Equities Retreat As Yields And The Dollar Advance\\n',\n \"Gina Sanchez: This Airline Stock Is 'Slightly Overvalued'\\n\",\n 'Analyst Downgrades Texas Instruments And Skyworks, Upgrades These 2 Semi Stocks',\n \"Yankees' Aaron Judge Hits A Home Run That Creates A Lifelong Friendship: How It Happened\",\n \"Last Week's Earnings Recap\",\n 'United Airlines Has Analyst Concerned With Increased CAPEX, Large Airplane Orders вЂ” And What About That Balance Sheet',\n 'Nvidia Reports Record Quarterly Sales\\n',\n \"Benzinga's Top Ratings Upgrades, Downgrades For January 28, 2021\\n\",\n 'Moderna Says No Link Between COVID-19 Jab And Heart Inflammation',\n \"32 Stocks Moving In Thursday's Mid-Day Session\\n\",\n 'Why Netflix Stock Is Shooting Up Today',\n 'US Jury Finds Pharmacy Chains Did Not Monitor Opioid Usage, Thus Fueling Epidemic: Reuters\\n',\n 'Accenture, Rivian, and Jabil Rally in Premarket Trading on Better-Than-Expected Earnings',\n \"Is Nike's Stock Still A Buy At All-Time Highs? The Street Debates\\n\",\n 'FDA Revises Pfizer, Moderna COVID-19 Vaccine Sheets With Rare Heart Inflammation Warning',\n 'Who Is The Ghost Of Kyiv?\\n',\n 'You Ask, We Analyze: What To Watch For With Naked Brand Stock\\n',\n 'Mid-Morning Market Update: Markets Down; Schlumberger Earnings Top Views\\n',\n 'Pharma Firm SIGA Cashes In On Monkeypox Scare\\n',\n \"Jim's Bargain Bin: Why Cramer Just Bought Disney And This Year's Worst-Performing Dow Jones Stock\\n\",\n 'Is Invesco S&P 500 Equal Weight Consumer Discretionary ETF (RCD) a Strong ETF Right Now?',\n 'Roku Targets Over 50 Original Shows In Next 2 Years\\n',\n \"9 Consumer Discretionary Stocks With Whale Alerts In Today's Session\\n\",\n 'Hollywood Films That Stumbled At US Box Office Are Popular In China',\n \"Ben & Jerry's Urges Senate To Improve Country's 'Half Baked' Approach To Cannabis Justice\",\n 'Apple Inc. Climbs to Annual-High Share Price\\n',\n \"EXCLUSIVE: Benzinga's 2022 NFT Investments Listmakers Made Significant Contributions To The NFT Space\",\n \"Here's Why BofA Calls Roblox 'Category Leader' In The Emerging Metaverse Media Category\",\n \"Searches for 'Buy Netflix Stock' Explode 931% Following Share Price Plummet For Streaming Giant\",\n \"If You Invested $1000 In This Stock 10 Years Ago, Here's How Much You Would Have Today\\n\",\n \"If You Invested $1,000 In Berkshire Hathaway When Warren Buffett Did, Here's How Much You'd Have Now\",\n 'CDC Says Heart Inflammation Risk Higher After COVID-19 Infection Than mRNA Vaccines: CNBC',\n \"Want To Stream Saturday Night Live, Law & Order? You'll Soon Have To Switch From Hulu To This Platform\\n\",\n \"This Vaccine Stock's 3-Month Return Makes Bitcoin, Ethereum And Dogecoin Look Trifling\\n\",\n 'Hoping to Rein in Big Tech, Congress May Kill Small Business Instead\\n',\n \"Gene Munster: 'Apple Is A $250 Stock' Longer Term, But This FAANG Name Offers Near-Term Upside\\n\",\n 'Historic S&P 500 Comeback Runs Out Of Steam: What Are The Market Catalysts Ahead?\\n',\n \"Here's Why Pfizer And Novavax Shares Are Rising On Monday\\n\",\n 'IAVI, Moderna Kickstart HIV Vaccine Antigens Trial Delivered Through mRNA Technology\\n',\n \"This Investor Prefers Meta Stock Over Amazon And Microsoft: Here's Why\\n\",\n \"A Preview Of Apple's Earnings\",\n 'Pfizer Builds Case For COVID-19 Booster As Protection Wanes Over Time\\n',\n 'Thursday Is Your Last Chance To Buy Apple Before The Dividend Payout',\n \"Lululemon Signs First Golfer And You Won't Believe Who It Is\\n\",\n 'Walmart Plans To Hire 5,000+ Tech Workers This Year, Picks New Locations\\n',\n \"Bitstamp Delays SHIB Listing Due To 'Technical Problems'\\n\",\n 'Nvidia Stock Splits, Forms Bullish Pattern\\n',\n 'Why Jim Lebenthal Thinks This Upcoming Catalyst (Not Earnings) Could Move Disney\\n',\n \"This Week's Earnings Spotlight: Tesla, Netflix, IBM, American Express, Snap And More\",\n \"Macy's, Twitter And This Stock That Reports Earnings Will Be Featured On 'Mad Money' Tonight\\n\",\n \"Netflix's New Self-Help Series Shows Viewers 'How To Get Rich' - Here Are The Details\",\n 'Moderna Posts Data From Early mRNA Flu Vaccine Study, Pivotal Trial On Its Way\\n',\n \"The Oscars Are Bringing In Big Acts With BeyoncГ© And 'Encanto' Performances: Will It Increase Viewership?\\n\",\n \"Twitter Stock Looks Ready To Bust Through This Key Level: What's Next?\\n\",\n \"EXCLUSIVE: Michael Crawford On What's Next For Hall of Fame Resort & Entertainment Company\\n\",\n \"Here's How Much $1000 Invested In NVIDIA 10 Years Ago Would Be Worth Today\\n\",\n 'Top 10 NFTs By Weekly Sales Volume: CloneX Knocks Axie Infinity From Top Spot, Adidas Originals Joins The List\\n',\n 'Dennis Rodman NFTs Are Coming—And Yes, They Will Feature Colorful Hair',\n 'Here Are Our Favorite Super Bowl LVI Commercials: Do You Agree?\\n',\n \"Why This Stock That's Up 110% YTD Is Cheaper Now Than It Was To Start The Year\",\n 'Triumph Secures Contract Extension For 787 Cargo Door Actuation System',\n \"8 Stocks Moved By Traders On 'Fast Money: Halftime Report'\",\n 'IDC Highlights Weak PC Market, Apple Being The Only Exception',\n 'XPON: Energy Storage Gets An Upgrade\\n',\n 'These 5 Experts See A Market Crash Ahead: What Do BZ Readers Think?',\n 'Dow Surges 300 Points; US Current Account Deficit Narrows In Third Quarter',\n 'Short Volatility Alert: Lockheed Martin Corporation',\n 'Twitter Did More Than Just Bounce Back From COVID-19\\n',\n 'Blink Charging Shifting Revenue With Multiple Business Model And Channel Checks Keeps Analyst At Sidelines',\n 'How Is The Market Feeling About Lockheed Martin Corporation?',\n \"Efficacy Of Pfizer's Paxlovid COVID Drug Crashes, According To New NIH-Funded Study\\n\",\n 'House Of The Dragon Or Lord Of The Rings: The Rings Of Power — Which Do Benzinga Followers Prefer?',\n \"Amazon's Encrypted Chat App Faces Charges Of Child Abuse\",\n 'Boeing Suspends Purchase Of Titanium From Russia: Report',\n 'Why Nvidia News Is Sending Applied Materials Stock Lower\\n',\n \"Technical Analysis: Why Nvidia Stock Looks Like It's Reversing\\n\",\n 'The COVID-19 Vaccine Front Runner Updates\\n',\n 'Why This L3Harris Technologies Analyst Is Turning Bullish',\n 'Apple Analyst Calls For A December Quarter Earnings Miss, Shaves Off Another 3M From iPhone Shipment Forecast',\n 'Moderna Inks Deal For Updated COVID Shots For Low Income Countries',\n 'Disney Fined $12K After Employee Breaks Both Arms In Workplace Accident\\n',\n 'Why Cruise Line Stocks Are Riding A Wave Higher Today\\n',\n 'Why Velodyne Lidar Shares Are Soaring Today\\n',\n \"TSMC's Plans For Kaohsiung Chip Factory Expansion Remains Intact, Says Taiwan Economy Minister\",\n 'An iPhone App To Track Psychedelics & Cannabis Microdosing? Houston Lands On iOS\\n',\n 'DVD Rental Company Redbox Going Public Again In SPAC Merger: What Investors Should Know',\n 'Historic CBS Studio Center In Los Angeles Sells For $1.8B: Report\\n',\n \"Is Netflix Ready To Break Out? Here's How High This Trader Says It Can Go\",\n 'What 20 Analyst Ratings Have To Say About Netflix',\n 'Nike Unusual Options Activity For February 27',\n 'Warner Music Appoints YouTube, Netflix Veteran As New CEO',\n \"Wednesday's Market Minute: The Fed is Right to Sink the Stock Market\",\n 'Mid-Morning Market Update: Markets Mixed; Dow Jumps 250 Points',\n 'Why This Investor Recently Bought Disney And Netflix',\n 'BTS Tweet Condemning Anti-Asian Violence Named Top Retweeted Message Of 2021\\n',\n \"Biden Administration Pushes 'Cancer Moonshot' Initiative: Report\\n\",\n 'Why Meta Platforms, Boeing, Canopy Growth Look Set For Continuation And How To Trade The Move\\n',\n 'Global Supply Shortages Have Exposed Weaknesses Inherent in This Critical Industry — Is There Another Way?',\n \"Amazon Seeks To Raise $7B Via 2022's Second Bond Offering\",\n \"Here's How Jon Najarian Is Playing AMD Following Piper Sandler Downgrade\",\n '5 Things You Might Not Know About Kabosu, The Good Boy That Inspired Dogecoin And Shiba Inu\\n',\n \"4 Stocks To Watch When Apple Launches New iPhone At 'Far Out' Event\",\n 'Apple Charts Big Plans For Apple TV+, Including Taking On Netflix, Disney+ and Amazon Prime',\n 'Moderna Scraps mRNA-Based Antibody Program Targeting Chikungunya Virus\\n',\n 'Parker-Hannifin Set To Gain EU Antitrust Approval For Meggitt Deal: Reuters',\n \"What's Going On With NKE Stock And JNJ Stock Today?\\n\",\n \"What To Know About Twitter Fleets And How It's Like Snapchat, Instagram Stories\\n\",\n 'Retail Week On Earnings Row: Walmart, Target, Foot Locker Among Companies Reporting',\n \"A Preview Of Apple's Earnings\\n\",\n 'Trump-Linked SPAC Has Traders Also Focused On These 6 Stocks\\n',\n \"Netflix Gives First Look At Live-Action 'Cowboy Bebop' Series\",\n 'SpiderOak, Lockheed Martin Enter Space Cybersecurity + Blockchain Collaboration',\n 'Under Armour Posts Q3 Beat, Sells MyFitnessPal: What Investors Need To Know\\n',\n 'What 7 Analyst Ratings Have To Say About Northrop Grumman\\n',\n 'General Electric Announces Plans to Split Up into Three Companies\\n',\n 'Facebook Soundbites Will Expand Audio Components Within Platform\\n',\n 'Tesla Option Traders Are Betting Bullish But Recognize Downside Risk\\n',\n 'The Crisis At Disney: Part 4, Can Disney Conquer NFTs And The Metaverse?',\n 'Lockheed Martin Whale Trades For May 02',\n 'Triumph Interiors Bags Contract From Mammoth Freighters\\n',\n 'Analysis: Do Language Clues Point To Early Friction Between Elon Musk And Twitter?\\n',\n 'Liquid Media Shares Are Trading Higher On Distribution Agreement With Atari\\n',\n \"'Halftime Report' Final Trades: CVS, Moderna And More\\n\",\n \"What To Know About Deutsche Bank's Upgrade of Moderna\\n\",\n \"Disney Slammed By Scarlett Johansson's Talent Agency Over Response To 'Black Widow' Lawsuit\\n\",\n \"What You Need To Know About Twitter's $809.5M Settlement Agreement\\n\",\n 'George Lucas Is Getting His Own Star Wars Stormtrooper Action Figure: Here Are The Details\\n',\n 'American Express, Intel Get CNBC Fast Money Mentions, With This Stock Jumping 1.8% In Seconds\\n',\n 'Pfizer/BioNTech Initiates COVID-19 Vaccine Trial In Children Below 12 Years: Reuters',\n 'Why This Investor Is Buying More Nike, Stitch Fix And Verizon Stock',\n 'Mike Khouw Sees Unusual Options Activity In Netflix',\n 'Pfizer Beefs Up Its RSV Antiviral Portfolio With $525M ReViral Acquisition\\n',\n 'Germany To Buy 35 Lockheed F-35 Fighter Jets: Reuters',\n 'Amazon Prepares To Shut DPReview, The Camera Review Community Website After 25 Years',\n \"12 Health Care Stocks Moving In Friday's Intraday Session\",\n 'Apple Snaps This British Fintech In $150M Deal\\n',\n \"Wynn, Marriott Start The Week's Earnings Parade, With Disney Waiting in Wings\\n\",\n 'Wall Street Journal Creates A Pitch In Favor Of Royalty Pharma\\n',\n 'Have Recent Market Projections Impacted Cannabis Industry Optimism?',\n 'Phony Press Release About Tesla M&A Causes Penny Stock To Surge 200%\\n',\n '3 Stay-At-Home Stocks Are Here To Stay, Cramer Says\\n',\n 'Amazon.com Unusual Options Activity For January 04',\n 'The Battle Of The Bill: Why DeFi Will Clean Up The Finance Industry Regardless\\n',\n \"Cowen Analyst Comments Netflix's New Password Sharing Experiments\\n\",\n 'Meet Everyrealm, The Virtual Land Company Backed By Coinbase, Dapper Labs, Will Smith, The Weeknd And Even More Celebrities\\n',\n \"'Don't Look Up' Breaks A Netflix Record: Here's How It Happened\\n\",\n 'Doge Devs Share New Weapon Against Dogecoin FUD\\n',\n \"Finland Picks Lockheed Martin's F-35 Lightning II As Next Fighter\\n\",\n 'Snap Stock Is Soaring Higher Thursday: Read Why\\n',\n \"Voice Of Siri Didn't Know Apple Would Use Her: The Unlikely Story Of Woman Heard On 2.2 Billion Devices\",\n \"Apple TV+ Orders Series Based On 1927 Sci-Fi Classic 'Metropolis'\\n\",\n \"Analysts See Meta Connect Shows Progress With Partnerships, Admire Mark Zuckerberg's Vision\",\n 'Planet 13 To Open Cannabis Dispensary In Jacksonville Suburb, Orange Park, FL; More Stores To Follow\\n',\n 'US Big Tech Continue To Raise Global Regulatory Concerns',\n \"Tesla: Who Saw This Coming. Tesla's Vehicle Delivery Numbers Surprised Wall Street Analysts. They Didn't Surprise This Social Data Firm.\\n\",\n \"Amazon 'Doubling Down' On Rivian IPO: What Investors Need To Know\\n\",\n \"Tesla Short Sellers Take $1B Hit, 'Short Squeeze Hell' Could Be Coming\",\n '10 SPAC Accounts To Follow On Twitter\\n',\n 'Walmart Fires Another Shot At Amazon: How The Discount Wars Are Heating Up, This Time With 50% Off',\n 'Pfizer CEO Confident In Existing Antiviral, Can Deliver New Vaccine In Less Than 100 Days If Needed\\n',\n 'Apple Working On iPhone Features To Detect Car Accidents: WSJ\\n',\n 'Duped By Disney Stock? Why This Investor Is Waving Goodbye\\n',\n \"Looking Into Northrop Grumman's Recent Short Interest\\n\",\n 'Famous Nikola Rolling Down The Hill Video Will Be Part Of Trevor Milton Trial\\n',\n 'Amazon Invests $150M In Venture Funds To Boost Entrepreneurs From Minority Backgrounds',\n 'Is Genius Brands Stock Set For A Multi-Day Short Squeeze? A Technical Analysis\\n',\n 'Mastercard Launches Biometric Payments Program In Stores To Compete With Amazon; Explores Using Metaverse, AR Headsets For Purchases',\n '4 Companies That Reported Stronger-Than-Expected Q1 Earnings: ASUR, TTD, SQSP, ZETA\\n',\n 'Why Is Graybug Vision Stock Plunging Today?\\n',\n \"What To Know About B of A Securities's Downgrade of Target\\n\",\n \"31 Stocks Moving In Monday's Mid-Day Session\\n\",\n 'Deere Earnings Greeted With Cheer As Company Cites Improved Equipment Demand\\n',\n 'White House Says Currently No Plans To Share COVID-19 Shots With North Korea Battling Outbreak',\n 'BBAM Goes Bananas For Boeing 737-800 Freighter',\n \"If You Invested $100 In Walmart 5 Years Ago, Here's How Much You Would Have Today\\n\",\n 'Ethiopian Airlines Expands Its All-Boeing Freighter Fleet\\n',\n 'Microsoft Brings Down Curtains On LinkedIn China\\n',\n \"Apple Watch 'Saved My Life:' English Woman Credits Gadget For Identifying Heart Condition\",\n 'Could Warehouse Automation Increase Truck Capacity By 30%?\\n',\n 'DeSantis, Florida GOP Are Keeping Disney Campaign Donations: Report\\n',\n \"Why Bitcoin- And Ethereum-Related Stocks MicroStrategy Incorporated And Coinbase Are Trading Lower Friday Following Tesla's Crypto Update\\n\",\n \"Looking At Amazon's Recent Whale Trades\\n\",\n 'Overview Of Value Stocks In The Healthcare Sector\\n',\n 'Why Airplane Ticket Prices Are Flying High, While Your Wallet Might Be Grounded',\n 'Harold Hamm Purchases $20 Million Worth Of Continental Resources\\n',\n 'This Beauty Product Store Has A Better One-Year Return Than Facebook, Apple, Disney And PayPal\\n',\n 'Restaurants And Bars Could Be A Good Place To Pick Up Potential Investments',\n \"Rotterdam To Dismantle Historic Bridge For Jeff Bezos' XL-Sized Yacht\",\n 'Another China Lockdown Jeopardizes Electronics, Auto Supply Chains\\n',\n 'Traders Get More Bearish On Amazon Ahead Of Q4 Results\\n',\n \"'Halftime Report' Traders On Nvidia, Amazon\\n\",\n \"Disney+ Presents Streaming Debut Of Original 'Muppet Show'\\n\",\n 'Lockheed Martin Earnings Perspective: Return On Capital Employed\\n',\n \"Sanofi's Amcenestrant Combo Therapy Shows ORR of 34% In Breast Cancer Patients\\n\",\n \"Disney+ Censors 'Simpsons' Episode From Hong Kong Service Citing Tiananmen Square Massacre\\n\",\n \"Benzinga's Top Ratings Upgrades, Downgrades For January 6, 2022\\n\",\n \"Why This Investor Thinks Amazon's Stock Is Well Positioned Ahead Of Earnings\",\n 'Looking To Trade The Retail Sector Bullishly Following Target Earnings? This Fund Offers 3X Leverage',\n \"Amazon Shows Weakness To General Market: Here's A Look At What's Happening\",\n 'Lawmakers Question Apple, FBI Over NSO Group Spyware\\n',\n \"Northrop Grumman's Ex-Dividend Date Is Friday, Here's What You Need To Know\\n\",\n 'Moderna Nears Finish Line For Enrollment In Phase 3 Coronavirus Vaccine Study\\n',\n 'Wells Fargo Expresses Caution Over Qualcomm - Read To Know',\n 'Trading Strategies For Amazon Stock Before And After Q1 Earnings',\n 'Facebook, Instagram And Related App Users Report Worldwide Outage\\n',\n \"What's Going On With Novavax Shares Today?\\n\",\n 'Pete Najarian Sees Unusual Options Activity In Nike And Vale\\n',\n \"Why Virios Therapeutics Is Trading Lower By Over 71%, Here Are 55 Stocks Moving In Monday's Mid-Day Session\",\n 'You Ask, We Analyze: The Bull And Bear Case For Amazon As Stock Surges Higher',\n \"Disney Gets CNBC's Fast Money Call Of The Day With These Final Trades\\n\",\n 'Investors Hammer Rivian Stock After Amazon, Stellantis Deal',\n 'Ryanair CEO Thinks Boeing Management Needs A Reboot: CNBC',\n '4 Companies That Reported Stronger-Than-Expected Q1 Earnings: ASUR, TTD, SQSP, ZETA',\n \"Benzinga's Top Ratings Upgrades, Downgrades For February 3, 2023\",\n 'The Happiest Place On Earth? Brawl At Disney World Leads To Arrests, Hospitalizations And Lifetime Bans\\n',\n 'Pfizer, AstraZeneca or J&J COVID-19 Shots Boost Sinovac Regime, Brazilian Study Shows\\n',\n 'Jamf Analysts Find Apple As A Significant Competitive Advantage; Hail Its Growth Alongside Players Like Microsoft',\n 'Will Netflix Follow Amazon And Break Out Of Its Trading Range?',\n \"Google Takes Dig At Apple At Fall 2022 Event: Thank You For Choosing To 'Follow Our Lead'\",\n 'Like It Hot? Netflix Gets Rare NC-17 Rating On Marilyn Monroe Biopic\\n',\n \"Mizuho Expects EV Stocks Like Nio, Tesla, Rivian Set To Gain - Here's How\",\n \"Why Is It Moving? Looking Into Why Twitter's Stock is Trading Higher Today\\n\",\n 'Southwest Knowingly Flew Unsafe Planes With Untrained Pilots, Lawsuit Claims, Could Result In Compensation For 270 Million Passengers',\n 'EU Regulator Weighing Mix-And-Match, Boosters For COVID-19 Shots',\n \"Why Lottery.com Shares Are Trading Lower By 59%? 54 Stocks Moving In Friday's Mid-Day Session\",\n '$1000 Invested In This Stock 15 Years Ago Would Be Worth $27,000 Today',\n 'Atlas Air Extends Long-Term Agreement With SF Group\\n',\n \"US Lidar Maker Luminar Prepares To Tap China's Growing Thirst For Smart Vehicles\",\n 'This Tesla Model Y Has Gone 100K Miles In 22 Months: How Is The Battery Holding Up?\\n',\n \"Looking At Netflix's Smart Money Trades\",\n 'Why Pfizer And BioNTech Shares Are Moving Higher Today\\n',\n '9 Best 401(k) Stocks To Buy Right Now',\n 'November Growth Moderates After Strong October For Cloud Stocks, Analyst Checks Indicate',\n \"Obesity Is Hurting Military Recruiting. Could Disney's Marvel Heroes Animate Demand?\\n\",\n \"CBOE's Weekly Market Recap: August 1 To August 5\\n\",\n \"12 Health Care Stocks Moving In Wednesday's Intraday Session\\n\",\n \"Why Carnival Shares Are Trading Lower By 19%, Here Are 49 Stocks Moving In Friday's Mid-Day Session\\n\",\n \"Disney Seeks Confidential Arbitration For Settling Scarlett Johansson's 'Black Widow' Salary Lawsuit\\n\",\n \"Lockheed Martin's Sikorsky Bags H-60 Black Hawk Helicopter Contract From US Army\\n\",\n 'RBC Capital Initiates Coverage On Several Aerospace & Defense Companies',\n \"If You Invested $1,000 In Globalstar Stock One Year Ago, Here's How Much You'd Have Now\\n\",\n 'Bilibili Lets Go Of 30% Staff As Slowdown Hurts Operations',\n 'AI Chatbot Crackdown: Microsoft & Co. Face Regulatory Heat In Europe as ChatGPT Reignites Debate',\n 'Pfizer Is Ready, Even For Covid-19 Variants\\n',\n 'Why Disney Shares Are Falling Today\\n',\n \"Joe Biden Tests Positive For COVID-19: Here's The Drug He's Taking To Fight Symptoms\\n\",\n \"Why This Media Expert Is Cautious Ahead Of Disney's Earnings Report\",\n 'Mid-Day Market Update: Gold Rises 1%; Cassava Sciences Shares Plunge\\n',\n 'Why Amazon Shares Are Volatile Today',\n 'Sony Showcases Latest PlayStation VR Headset\\n',\n \"Could Bumble's Latest Acquisition Help Attract Gen Z Users?\\n\",\n 'AstraZeneca Drops Moderna-Partnered, Phase 2 Heart Disease Drug Candidate\\n',\n 'CNBC Fast Money Favorites: OXY, KAI, And This Top Performer In The Dow Jones Today',\n 'Amazon Confidentially Scooped Veeqo In November',\n 'Arclight Cinemas And Pacific Theatres Chains Shut Down: How Does This Impact The Movie Business?\\n',\n 'Clover Health Trades Higher With Other WallStreetBets Stocks, But Still Could Use A Good Bounce\\n',\n 'How Tesla Looks As Stock Rests Under This Key Bull, Bear Cycle Indicator\\n',\n 'Moderna Reviews Contamination In Vaccine Lot Distributed In Japan',\n 'How Nike Stock Looks Heading Into The Q4 Earnings Print',\n \"Joe Terranova Is Buying This Stock: Wednesday's CNBC 'Fast Money' Final Trades\\n\",\n 'Boeing Whale Trades For August 23',\n 'Chief Executive Officer Of Moderna Makes $7.3M Sale',\n 'This Shoe Company Has A Better 5-Year Return Than Apple, Netflix And Microsoft\\n',\n 'Can Netflix Return To Mid-To-High Teens Revenue Growth? These 2 Tests Will Tell Us',\n 'Facebook Parent Meta Employees Seek Greener Pastures Post Stock Meltdown',\n \"If You Invested $1,000 In Amazon When It Launched The First Prime Day, Here's How Much You'd Have Now\",\n 'Target Looks Like It Might Break Out Of A Bullish Pattern\\n',\n 'What Is The Best Video Game Of The Year? These Are The Nominees For The Game Awards 2022, Up For The Top Award Of The Industry',\n \"50 Stocks Moving In Monday's Mid-Day Session\",\n \"Netflix Co-CEO Blasts Employee Anger On Dave Chappelle's 'The Closer,' Claiming Jokes Don't Create Violence Against LGBTQ People\",\n 'Netflix Pulls Back, But Could Fly Into Earnings\\n',\n \"Amazon's Twitch: Cannabis-Themed Usernames Allowed Under New Policy\\n\",\n \"Amazon Stock Pulls Back Into This Bullish Pattern: Here's How To Trade It\",\n \"Looking Into Netflix Inc's Recent Short Interest\\n\",\n 'Twitter To Raise $1B Via Private Placement Debt Offering\\n',\n \"Raymond James Remains Bullish On Nike's FY24 Margin Setup Despite Likely Mixed Q3\",\n ...]"
     },
     "execution_count": 9,
     "metadata": {},
     "output_type": "execute_result"
    }
   ],
   "source": [
    "train_data[\"news_text\"].tolist()"
   ],
   "metadata": {
    "collapsed": false,
    "pycharm": {
     "name": "#%%\n"
    }
   }
  },
  {
   "cell_type": "code",
   "execution_count": 10,
   "outputs": [],
   "source": [
    "hg_train_data = Dataset.from_pandas(train_data)\n",
    "hg_test_data = Dataset.from_pandas(test_data)"
   ],
   "metadata": {
    "collapsed": false,
    "pycharm": {
     "name": "#%%\n"
    }
   }
  },
  {
   "cell_type": "code",
   "execution_count": 11,
   "outputs": [
    {
     "name": "stdout",
     "output_type": "stream",
     "text": [
      "The length of hg_train_data is 4890.\n",
      "\n"
     ]
    },
    {
     "data": {
      "text/plain": "{'news_text': \"What's Going On With NVIDIA Stock Today?\\n\",\n 'label': 0,\n '__index_level_0__': 711}"
     },
     "execution_count": 11,
     "metadata": {},
     "output_type": "execute_result"
    }
   ],
   "source": [
    "print(f'The length of hg_train_data is {len(hg_train_data)}.\\n')\n",
    "\n",
    "# Check one review\n",
    "hg_train_data[0]"
   ],
   "metadata": {
    "collapsed": false,
    "pycharm": {
     "name": "#%%\n"
    }
   }
  },
  {
   "cell_type": "code",
   "execution_count": 12,
   "outputs": [
    {
     "name": "stderr",
     "output_type": "stream",
     "text": [
      "Downloading (…)okenizer_config.json: 100%|██████████| 28.0/28.0 [00:00<00:00, 59.7kB/s]\n",
      "Downloading (…)lve/main/config.json: 100%|██████████| 451/451 [00:00<00:00, 1.01MB/s]\n",
      "Downloading (…)solve/main/vocab.txt: 100%|██████████| 232k/232k [00:00<00:00, 1.11MB/s]\n",
      "Downloading (…)/main/tokenizer.json: 100%|██████████| 466k/466k [00:00<00:00, 2.01MB/s]\n"
     ]
    },
    {
     "data": {
      "text/plain": "DistilBertTokenizerFast(name_or_path='distilbert-base-uncased-distilled-squad', vocab_size=30522, model_max_length=512, is_fast=True, padding_side='right', truncation_side='right', special_tokens={'unk_token': '[UNK]', 'sep_token': '[SEP]', 'pad_token': '[PAD]', 'cls_token': '[CLS]', 'mask_token': '[MASK]'}, clean_up_tokenization_spaces=True)"
     },
     "execution_count": 12,
     "metadata": {},
     "output_type": "execute_result"
    }
   ],
   "source": [
    "# Tokenizer from a pretrained model\n",
    "tokenizer = AutoTokenizer.from_pretrained(\"distilbert-base-uncased-distilled-squad\")\n",
    "\n",
    "# Take a look at the tokenizer\n",
    "tokenizer"
   ],
   "metadata": {
    "collapsed": false,
    "pycharm": {
     "name": "#%%\n"
    }
   }
  },
  {
   "cell_type": "code",
   "execution_count": 13,
   "outputs": [
    {
     "name": "stderr",
     "output_type": "stream",
     "text": [
      "                                                                 \r"
     ]
    }
   ],
   "source": [
    "# Funtion to tokenize data\n",
    "def tokenize_dataset(data):\n",
    "    return tokenizer(data[\"news_text\"],\n",
    "                     max_length=32,\n",
    "                     truncation=True,\n",
    "                     padding=\"max_length\")\n",
    "\n",
    "# Tokenize the dataset\n",
    "dataset_train = hg_train_data.map(tokenize_dataset)\n",
    "dataset_test = hg_test_data.map(tokenize_dataset)"
   ],
   "metadata": {
    "collapsed": false,
    "pycharm": {
     "name": "#%%\n"
    }
   }
  },
  {
   "cell_type": "code",
   "execution_count": 14,
   "outputs": [
    {
     "name": "stdout",
     "output_type": "stream",
     "text": [
      "Dataset({\n",
      "    features: ['news_text', 'label', '__index_level_0__', 'input_ids', 'attention_mask'],\n",
      "    num_rows: 4890\n",
      "})\n",
      "Dataset({\n",
      "    features: ['news_text', 'label', '__index_level_0__', 'input_ids', 'attention_mask'],\n",
      "    num_rows: 43\n",
      "})\n"
     ]
    }
   ],
   "source": [
    "# Take a look at the data\n",
    "print(dataset_train)\n",
    "print(dataset_test)"
   ],
   "metadata": {
    "collapsed": false,
    "pycharm": {
     "name": "#%%\n"
    }
   }
  },
  {
   "cell_type": "code",
   "execution_count": 15,
   "outputs": [
    {
     "name": "stderr",
     "output_type": "stream",
     "text": [
      "Downloading pytorch_model.bin: 100%|██████████| 265M/265M [01:07<00:00, 3.92MB/s] \n",
      "Some weights of the model checkpoint at distilbert-base-uncased-distilled-squad were not used when initializing DistilBertForSequenceClassification: ['qa_outputs.weight', 'qa_outputs.bias']\n",
      "- This IS expected if you are initializing DistilBertForSequenceClassification from the checkpoint of a model trained on another task or with another architecture (e.g. initializing a BertForSequenceClassification model from a BertForPreTraining model).\n",
      "- This IS NOT expected if you are initializing DistilBertForSequenceClassification from the checkpoint of a model that you expect to be exactly identical (initializing a BertForSequenceClassification model from a BertForSequenceClassification model).\n",
      "Some weights of DistilBertForSequenceClassification were not initialized from the model checkpoint at distilbert-base-uncased-distilled-squad and are newly initialized: ['classifier.bias', 'pre_classifier.weight', 'classifier.weight', 'pre_classifier.bias']\n",
      "You should probably TRAIN this model on a down-stream task to be able to use it for predictions and inference.\n"
     ]
    }
   ],
   "source": [
    "\n",
    "model = AutoModelForSequenceClassification.from_pretrained(\"distilbert-base-uncased-distilled-squad\", num_labels=2)\n"
   ],
   "metadata": {
    "collapsed": false,
    "pycharm": {
     "name": "#%%\n"
    }
   }
  },
  {
   "cell_type": "code",
   "execution_count": 16,
   "outputs": [],
   "source": [
    "training_args = TrainingArguments(\n",
    "    output_dir=\"./sentiment_transfer_learning_transformer/\",\n",
    "    logging_dir='./sentiment_transfer_learning_transformer/logs',\n",
    "    logging_strategy='epoch',\n",
    "    logging_steps=100,\n",
    "    num_train_epochs=10,\n",
    "    per_device_train_batch_size=4,\n",
    "    per_device_eval_batch_size=4,\n",
    "    learning_rate=5e-7,\n",
    "    seed=42,\n",
    "    save_strategy='epoch',\n",
    "    save_steps=100,\n",
    "    evaluation_strategy='epoch',\n",
    "    eval_steps=100,\n",
    "    load_best_model_at_end=True\n",
    ")"
   ],
   "metadata": {
    "collapsed": false,
    "pycharm": {
     "name": "#%%\n"
    }
   }
  },
  {
   "cell_type": "code",
   "execution_count": 17,
   "outputs": [
    {
     "name": "stdout",
     "output_type": "stream",
     "text": [
      "There are 159 evaluation models in Hugging Face.\n",
      "\n"
     ]
    },
    {
     "data": {
      "text/plain": "['lvwerra/test',\n 'precision',\n 'code_eval',\n 'roc_auc',\n 'cuad',\n 'xnli',\n 'rouge',\n 'pearsonr',\n 'mse',\n 'super_glue',\n 'comet',\n 'cer',\n 'sacrebleu',\n 'mahalanobis',\n 'wer',\n 'competition_math',\n 'f1',\n 'recall',\n 'coval',\n 'mauve',\n 'xtreme_s',\n 'bleurt',\n 'ter',\n 'accuracy',\n 'exact_match',\n 'indic_glue',\n 'spearmanr',\n 'mae',\n 'squad',\n 'chrf',\n 'glue',\n 'perplexity',\n 'mean_iou',\n 'squad_v2',\n 'meteor',\n 'bleu',\n 'wiki_split',\n 'sari',\n 'frugalscore',\n 'google_bleu',\n 'bertscore',\n 'matthews_correlation',\n 'seqeval',\n 'trec_eval',\n 'rl_reliability',\n 'jordyvl/ece',\n 'angelina-wang/directional_bias_amplification',\n 'cpllab/syntaxgym',\n 'lvwerra/bary_score',\n 'kaggle/amex',\n 'kaggle/ai4code',\n 'hack/test_metric',\n 'yzha/ctc_eval',\n 'codeparrot/apps_metric',\n 'mfumanelli/geometric_mean',\n 'daiyizheng/valid',\n 'poseval',\n 'erntkn/dice_coefficient',\n 'mgfrantz/roc_auc_macro',\n 'Vlasta/pr_auc',\n 'gorkaartola/metric_for_tp_fp_samples',\n 'idsedykh/metric',\n 'idsedykh/codebleu2',\n 'idsedykh/codebleu',\n 'idsedykh/megaglue',\n 'cakiki/ndcg',\n 'brier_score',\n 'Vertaix/vendiscore',\n 'GMFTBY/dailydialogevaluate',\n 'GMFTBY/dailydialog_evaluate',\n 'jzm-mailchimp/joshs_second_test_metric',\n 'ola13/precision_at_k',\n 'yulong-me/yl_metric',\n 'abidlabs/mean_iou',\n 'abidlabs/mean_iou2',\n 'KevinSpaghetti/accuracyk',\n 'NimaBoscarino/weat',\n 'ronaldahmed/nwentfaithfulness',\n 'Viona/infolm',\n 'kyokote/my_metric2',\n 'kashif/mape',\n 'Ochiroo/rouge_mn',\n 'giulio98/code_eval_outputs',\n 'leslyarun/fbeta_score',\n 'giulio98/codebleu',\n 'anz2/iliauniiccocrevaluation',\n 'zbeloki/m2',\n 'xu1998hz/sescore',\n 'mase',\n 'mape',\n 'smape',\n 'dvitel/codebleu',\n 'NCSOFT/harim_plus',\n 'JP-SystemsX/nDCG',\n 'sportlosos/sescore',\n 'Drunper/metrica_tesi',\n 'jpxkqx/peak_signal_to_noise_ratio',\n 'jpxkqx/signal_to_reconstrution_error',\n 'hpi-dhc/FairEval',\n 'nist_mt',\n 'lvwerra/accuracy_score',\n 'character',\n 'charcut_mt',\n 'ybelkada/cocoevaluate',\n 'harshhpareek/bertscore',\n 'posicube/mean_reciprocal_rank',\n 'bstrai/classification_report',\n 'omidf/squad_precision_recall',\n 'Josh98/nl2bash_m',\n 'BucketHeadP65/confusion_matrix',\n 'BucketHeadP65/roc_curve',\n 'yonting/average_precision_score',\n 'transZ/test_parascore',\n 'transZ/sbert_cosine',\n 'hynky/sklearn_proxy',\n 'xu1998hz/sescore_english_mt',\n 'xu1998hz/sescore_german_mt',\n 'xu1998hz/sescore_english_coco',\n 'xu1998hz/sescore_english_webnlg',\n 'unnati/kendall_tau_distance',\n 'r_squared',\n 'Viona/fuzzy_reordering',\n 'Viona/kendall_tau',\n 'lhy/hamming_loss',\n 'lhy/ranking_loss',\n 'Muennighoff/code_eval',\n 'yuyijiong/quad_match_score',\n 'Splend1dchan/cosine_similarity',\n 'Yeshwant123/mcc',\n 'transformersegmentation/segmentation_scores',\n 'sma2023/wil',\n 'chanelcolgate/average_precision',\n 'ckb/unigram',\n 'Felipehonorato/eer',\n 'manueldeprada/beer',\n 'tialaeMceryu/unigram',\n 'shunzh/apps_metric',\n 'He-Xingwei/sari_metric',\n 'langdonholmes/cohen_weighted_kappa',\n 'fschlatt/ner_eval',\n 'mcnemar',\n 'exact_match',\n 'wilcoxon',\n 'ncoop57/levenshtein_distance',\n 'kaleidophon/almost_stochastic_order',\n 'word_length',\n 'lvwerra/element_count',\n 'word_count',\n 'text_duplicates',\n 'perplexity',\n 'label_distribution',\n 'toxicity',\n 'prb977/cooccurrence_count',\n 'regard',\n 'honest',\n 'NimaBoscarino/pseudo_perplexity',\n 'ybelkada/toxicity',\n 'ronaldahmed/ccl_win',\n 'meg/perplexity']"
     },
     "execution_count": 17,
     "metadata": {},
     "output_type": "execute_result"
    }
   ],
   "source": [
    "print(f'There are {len(evaluate.list_evaluation_modules())} evaluation models in Hugging Face.\\n')\n",
    "\n",
    "# List all evaluation metrics\n",
    "evaluate.list_evaluation_modules()"
   ],
   "metadata": {
    "collapsed": false,
    "pycharm": {
     "name": "#%%\n"
    }
   }
  },
  {
   "cell_type": "code",
   "execution_count": 18,
   "outputs": [],
   "source": [
    "# Function to compute the metric\n",
    "def compute_metrics(eval_pred):\n",
    "    metric = evaluate.load(\"accuracy\")\n",
    "    logits, labels = eval_pred\n",
    "    predictions = np.argmax(logits, axis=1)\n",
    "    return metric.compute(predictions=predictions, references=labels)"
   ],
   "metadata": {
    "collapsed": false,
    "pycharm": {
     "name": "#%%\n"
    }
   }
  },
  {
   "cell_type": "code",
   "execution_count": 19,
   "outputs": [
    {
     "name": "stderr",
     "output_type": "stream",
     "text": [
      "/home/alexa/.local/lib/python3.10/site-packages/transformers/optimization.py:391: FutureWarning: This implementation of AdamW is deprecated and will be removed in a future version. Use the PyTorch implementation torch.optim.AdamW instead, or set `no_deprecation_warning=True` to disable this warning\n",
      "  warnings.warn(\n"
     ]
    },
    {
     "data": {
      "text/plain": "<IPython.core.display.HTML object>",
      "text/html": "\n    <div>\n      \n      <progress value='2' max='12230' style='width:300px; height:20px; vertical-align: middle;'></progress>\n      [    2/12230 : < :, Epoch 0.00/10]\n    </div>\n    <table border=\"1\" class=\"dataframe\">\n  <thead>\n <tr style=\"text-align: left;\">\n      <th>Epoch</th>\n      <th>Training Loss</th>\n      <th>Validation Loss</th>\n    </tr>\n  </thead>\n  <tbody>\n  </tbody>\n</table><p>"
     },
     "metadata": {},
     "output_type": "display_data"
    },
    {
     "data": {
      "text/plain": "TrainOutput(global_step=2446, training_loss=0.6944197048832916, metrics={'train_runtime': 79.9353, 'train_samples_per_second': 611.745, 'train_steps_per_second': 152.999, 'total_flos': 80970697428480.0, 'train_loss': 0.6944197048832916, 'epoch': 2.0})"
     },
     "execution_count": 19,
     "metadata": {},
     "output_type": "execute_result"
    }
   ],
   "source": [
    "from transformers import DataCollatorForLanguageModeling\n",
    "\n",
    "data_collator = DataCollatorForLanguageModeling(tokenizer, mlm=False)\n",
    "\n",
    "trainer = Trainer(\n",
    "    model=model,\n",
    "    args=training_args,\n",
    "    train_dataset=dataset_train,\n",
    "    eval_dataset=dataset_test,\n",
    "    compute_metrics=compute_metrics,\n",
    "    callbacks=[EarlyStoppingCallback(early_stopping_patience=1)]\n",
    ")\n",
    "\n",
    "trainer.train()"
   ],
   "metadata": {
    "collapsed": false,
    "pycharm": {
     "name": "#%%\n"
    }
   }
  },
  {
   "cell_type": "code",
   "execution_count": 20,
   "outputs": [
    {
     "data": {
      "text/plain": "<IPython.core.display.HTML object>",
      "text/html": "\n    <div>\n      \n      <progress value='1' max='11' style='width:300px; height:20px; vertical-align: middle;'></progress>\n      [ 1/11 : < :]\n    </div>\n    "
     },
     "metadata": {},
     "output_type": "display_data"
    },
    {
     "data": {
      "text/plain": "PredictionOutput(predictions=array([[-0.14651422, -0.02656186],\n       [-0.01435217, -0.17684273],\n       [-0.05827999, -0.14387673],\n       [-0.07445429, -0.09145605],\n       [-0.08446365, -0.13341103],\n       [-0.01883118, -0.11244381],\n       [-0.00853827, -0.08725955],\n       [-0.121534  ,  0.03929546],\n       [-0.14962137, -0.02842832],\n       [-0.02357537, -0.05938287],\n       [-0.1273139 , -0.03408107],\n       [ 0.01421725, -0.09632891],\n       [-0.03844813, -0.12107057],\n       [-0.09428611, -0.03583232],\n       [-0.09340044, -0.07478787],\n       [-0.10596628, -0.12071005],\n       [-0.11335356, -0.05761638],\n       [-0.01505647, -0.14491756],\n       [-0.08978271, -0.00795708],\n       [-0.14723212, -0.04856132],\n       [ 0.01131136, -0.11004572],\n       [-0.06977075, -0.0430489 ],\n       [-0.01843527, -0.13264164],\n       [-0.01622443, -0.18924184],\n       [-0.03894333, -0.0459111 ],\n       [-0.08025022,  0.05287984],\n       [ 0.01153569, -0.10462063],\n       [-0.05093184, -0.11786728],\n       [-0.14206287,  0.00151557],\n       [-0.03453439, -0.14224479],\n       [-0.04632009, -0.06886259],\n       [-0.01959985, -0.17765704],\n       [-0.12284267, -0.1127376 ],\n       [-0.13129668, -0.01395218],\n       [ 0.00298603, -0.13676025],\n       [-0.17687194, -0.01060548],\n       [-0.10712755,  0.00933826],\n       [-0.07747376, -0.03773499],\n       [-0.08206703, -0.14290474],\n       [-0.03423546, -0.10438883],\n       [-0.02588525, -0.06795485],\n       [ 0.06127378, -0.11547467],\n       [-0.05764842, -0.08692911]], dtype=float32), label_ids=array([1, 0, 0, 0, 1, 0, 0, 1, 1, 1, 0, 1, 1, 1, 0, 0, 1, 1, 0, 1, 1, 0,\n       1, 1, 0, 0, 1, 0, 0, 0, 0, 1, 0, 0, 0, 1, 1, 0, 1, 1, 1, 0, 1]), metrics={'test_loss': 0.6954531073570251, 'test_accuracy': 0.46511627906976744, 'test_runtime': 1.7102, 'test_samples_per_second': 25.144, 'test_steps_per_second': 6.432})"
     },
     "execution_count": 20,
     "metadata": {},
     "output_type": "execute_result"
    }
   ],
   "source": [
    "y_test_predict = trainer.predict(dataset_test)\n",
    "\n",
    "# Take a look at the predictions\n",
    "y_test_predict"
   ],
   "metadata": {
    "collapsed": false,
    "pycharm": {
     "name": "#%%\n"
    }
   }
  },
  {
   "cell_type": "code",
   "execution_count": 20,
   "outputs": [],
   "source": [],
   "metadata": {
    "collapsed": false,
    "pycharm": {
     "name": "#%%\n"
    }
   }
  },
  {
   "cell_type": "code",
   "execution_count": 20,
   "outputs": [],
   "source": [],
   "metadata": {
    "collapsed": false,
    "pycharm": {
     "name": "#%%\n"
    }
   }
  },
  {
   "cell_type": "code",
   "execution_count": 20,
   "outputs": [],
   "source": [],
   "metadata": {
    "collapsed": false,
    "pycharm": {
     "name": "#%%\n"
    }
   }
  },
  {
   "cell_type": "code",
   "execution_count": 20,
   "outputs": [],
   "source": [],
   "metadata": {
    "collapsed": false,
    "pycharm": {
     "name": "#%%\n"
    }
   }
  },
  {
   "cell_type": "code",
   "execution_count": 20,
   "outputs": [],
   "source": [],
   "metadata": {
    "collapsed": false,
    "pycharm": {
     "name": "#%%\n"
    }
   }
  }
 ],
 "metadata": {
  "kernelspec": {
   "display_name": "Python 3 (ipykernel)",
   "language": "python",
   "name": "python3"
  },
  "language_info": {
   "codemirror_mode": {
    "name": "ipython",
    "version": 3
   },
   "file_extension": ".py",
   "mimetype": "text/x-python",
   "name": "python",
   "nbconvert_exporter": "python",
   "pygments_lexer": "ipython3",
   "version": "3.9.16"
  }
 },
 "nbformat": 4,
 "nbformat_minor": 1
}