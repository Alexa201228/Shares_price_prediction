{
 "cells": [
  {
   "cell_type": "code",
   "execution_count": 1,
   "outputs": [
    {
     "name": "stdout",
     "output_type": "stream",
     "text": [
      "Defaulting to user installation because normal site-packages is not writeable\r\n",
      "Requirement already satisfied: pandas in /home/alexa/.local/lib/python3.10/site-packages (2.0.1)\r\n",
      "Requirement already satisfied: scikit-learn in /home/alexa/.local/lib/python3.10/site-packages (1.2.2)\r\n",
      "Requirement already satisfied: tensorflow in /home/alexa/.local/lib/python3.10/site-packages (2.12.0)\r\n",
      "Requirement already satisfied: keras in /home/alexa/.local/lib/python3.10/site-packages (2.12.0)\r\n",
      "Requirement already satisfied: nltk in /home/alexa/.local/lib/python3.10/site-packages (3.8.1)\r\n",
      "Requirement already satisfied: gensim in /home/alexa/.local/lib/python3.10/site-packages (4.3.1)\r\n",
      "Requirement already satisfied: transformers in /home/alexa/.local/lib/python3.10/site-packages (4.28.1)\r\n",
      "Requirement already satisfied: evaluate in /home/alexa/.local/lib/python3.10/site-packages (0.4.0)\r\n",
      "Requirement already satisfied: python-dateutil>=2.8.2 in /usr/local/lib/python3.10/dist-packages (from pandas) (2.8.2)\r\n",
      "Requirement already satisfied: pytz>=2020.1 in /usr/lib/python3/dist-packages (from pandas) (2022.1)\r\n",
      "Requirement already satisfied: tzdata>=2022.1 in /home/alexa/.local/lib/python3.10/site-packages (from pandas) (2023.3)\r\n",
      "Requirement already satisfied: numpy>=1.21.0 in /home/alexa/.local/lib/python3.10/site-packages (from pandas) (1.23.5)\r\n",
      "Requirement already satisfied: scipy>=1.3.2 in /usr/lib/python3/dist-packages (from scikit-learn) (1.8.0)\r\n",
      "Requirement already satisfied: joblib>=1.1.1 in /home/alexa/.local/lib/python3.10/site-packages (from scikit-learn) (1.2.0)\r\n",
      "Requirement already satisfied: threadpoolctl>=2.0.0 in /home/alexa/.local/lib/python3.10/site-packages (from scikit-learn) (3.1.0)\r\n",
      "Requirement already satisfied: absl-py>=1.0.0 in /home/alexa/.local/lib/python3.10/site-packages (from tensorflow) (1.4.0)\r\n",
      "Requirement already satisfied: astunparse>=1.6.0 in /home/alexa/.local/lib/python3.10/site-packages (from tensorflow) (1.6.3)\r\n",
      "Requirement already satisfied: flatbuffers>=2.0 in /home/alexa/.local/lib/python3.10/site-packages (from tensorflow) (23.3.3)\r\n",
      "Requirement already satisfied: gast<=0.4.0,>=0.2.1 in /home/alexa/.local/lib/python3.10/site-packages (from tensorflow) (0.4.0)\r\n",
      "Requirement already satisfied: google-pasta>=0.1.1 in /home/alexa/.local/lib/python3.10/site-packages (from tensorflow) (0.2.0)\r\n",
      "Requirement already satisfied: grpcio<2.0,>=1.24.3 in /home/alexa/.local/lib/python3.10/site-packages (from tensorflow) (1.54.0)\r\n",
      "Requirement already satisfied: h5py>=2.9.0 in /home/alexa/.local/lib/python3.10/site-packages (from tensorflow) (3.8.0)\r\n",
      "Requirement already satisfied: jax>=0.3.15 in /home/alexa/.local/lib/python3.10/site-packages (from tensorflow) (0.4.8)\r\n",
      "Requirement already satisfied: libclang>=13.0.0 in /home/alexa/.local/lib/python3.10/site-packages (from tensorflow) (16.0.0)\r\n",
      "Requirement already satisfied: opt-einsum>=2.3.2 in /home/alexa/.local/lib/python3.10/site-packages (from tensorflow) (3.3.0)\r\n",
      "Requirement already satisfied: packaging in /usr/lib/python3/dist-packages (from tensorflow) (21.3)\r\n",
      "Requirement already satisfied: protobuf!=4.21.0,!=4.21.1,!=4.21.2,!=4.21.3,!=4.21.4,!=4.21.5,<5.0.0dev,>=3.20.3 in /home/alexa/.local/lib/python3.10/site-packages (from tensorflow) (4.22.4)\r\n",
      "Requirement already satisfied: setuptools in /usr/local/lib/python3.10/dist-packages (from tensorflow) (67.7.2)\r\n",
      "Requirement already satisfied: six>=1.12.0 in /usr/lib/python3/dist-packages (from tensorflow) (1.16.0)\r\n",
      "Requirement already satisfied: tensorboard<2.13,>=2.12 in /home/alexa/.local/lib/python3.10/site-packages (from tensorflow) (2.12.3)\r\n",
      "Requirement already satisfied: tensorflow-estimator<2.13,>=2.12.0 in /home/alexa/.local/lib/python3.10/site-packages (from tensorflow) (2.12.0)\r\n",
      "Requirement already satisfied: termcolor>=1.1.0 in /home/alexa/.local/lib/python3.10/site-packages (from tensorflow) (2.3.0)\r\n",
      "Requirement already satisfied: typing-extensions>=3.6.6 in /usr/local/lib/python3.10/dist-packages (from tensorflow) (4.5.0)\r\n",
      "Requirement already satisfied: wrapt<1.15,>=1.11.0 in /home/alexa/.local/lib/python3.10/site-packages (from tensorflow) (1.14.1)\r\n",
      "Requirement already satisfied: tensorflow-io-gcs-filesystem>=0.23.1 in /home/alexa/.local/lib/python3.10/site-packages (from tensorflow) (0.32.0)\r\n",
      "Requirement already satisfied: click in /usr/lib/python3/dist-packages (from nltk) (8.0.3)\r\n",
      "Requirement already satisfied: regex>=2021.8.3 in /usr/lib/python3/dist-packages (from nltk) (2021.11.10)\r\n",
      "Requirement already satisfied: tqdm in /home/alexa/.local/lib/python3.10/site-packages (from nltk) (4.65.0)\r\n",
      "Requirement already satisfied: smart-open>=1.8.1 in /home/alexa/.local/lib/python3.10/site-packages (from gensim) (6.3.0)\r\n",
      "Requirement already satisfied: filelock in /home/alexa/.local/lib/python3.10/site-packages (from transformers) (3.12.0)\r\n",
      "Requirement already satisfied: huggingface-hub<1.0,>=0.11.0 in /home/alexa/.local/lib/python3.10/site-packages (from transformers) (0.14.1)\r\n",
      "Requirement already satisfied: pyyaml>=5.1 in /usr/lib/python3/dist-packages (from transformers) (5.4.1)\r\n",
      "Requirement already satisfied: requests in /usr/lib/python3/dist-packages (from transformers) (2.25.1)\r\n",
      "Requirement already satisfied: tokenizers!=0.11.3,<0.14,>=0.11.1 in /home/alexa/.local/lib/python3.10/site-packages (from transformers) (0.13.3)\r\n",
      "Requirement already satisfied: datasets>=2.0.0 in /home/alexa/.local/lib/python3.10/site-packages (from evaluate) (2.12.0)\r\n",
      "Requirement already satisfied: dill in /home/alexa/.local/lib/python3.10/site-packages (from evaluate) (0.3.6)\r\n",
      "Requirement already satisfied: xxhash in /home/alexa/.local/lib/python3.10/site-packages (from evaluate) (3.2.0)\r\n",
      "Requirement already satisfied: multiprocess in /home/alexa/.local/lib/python3.10/site-packages (from evaluate) (0.70.14)\r\n",
      "Requirement already satisfied: fsspec[http]>=2021.05.0 in /home/alexa/.local/lib/python3.10/site-packages (from evaluate) (2023.5.0)\r\n",
      "Requirement already satisfied: responses<0.19 in /home/alexa/.local/lib/python3.10/site-packages (from evaluate) (0.18.0)\r\n",
      "Requirement already satisfied: wheel<1.0,>=0.23.0 in /home/alexa/.local/lib/python3.10/site-packages (from astunparse>=1.6.0->tensorflow) (0.40.0)\r\n",
      "Requirement already satisfied: pyarrow>=8.0.0 in /home/alexa/.local/lib/python3.10/site-packages (from datasets>=2.0.0->evaluate) (12.0.0)\r\n",
      "Requirement already satisfied: aiohttp in /home/alexa/.local/lib/python3.10/site-packages (from datasets>=2.0.0->evaluate) (3.8.4)\r\n",
      "Requirement already satisfied: ml-dtypes>=0.0.3 in /home/alexa/.local/lib/python3.10/site-packages (from jax>=0.3.15->tensorflow) (0.1.0)\r\n",
      "Requirement already satisfied: urllib3>=1.25.10 in /usr/lib/python3/dist-packages (from responses<0.19->evaluate) (1.26.5)\r\n",
      "Requirement already satisfied: google-auth<3,>=1.6.3 in /home/alexa/.local/lib/python3.10/site-packages (from tensorboard<2.13,>=2.12->tensorflow) (2.17.3)\r\n",
      "Requirement already satisfied: google-auth-oauthlib<1.1,>=0.5 in /home/alexa/.local/lib/python3.10/site-packages (from tensorboard<2.13,>=2.12->tensorflow) (1.0.0)\r\n",
      "Requirement already satisfied: markdown>=2.6.8 in /usr/lib/python3/dist-packages (from tensorboard<2.13,>=2.12->tensorflow) (3.3.6)\r\n",
      "Requirement already satisfied: tensorboard-data-server<0.8.0,>=0.7.0 in /home/alexa/.local/lib/python3.10/site-packages (from tensorboard<2.13,>=2.12->tensorflow) (0.7.0)\r\n",
      "Requirement already satisfied: werkzeug>=1.0.1 in /home/alexa/.local/lib/python3.10/site-packages (from tensorboard<2.13,>=2.12->tensorflow) (2.3.3)\r\n",
      "Requirement already satisfied: attrs>=17.3.0 in /usr/lib/python3/dist-packages (from aiohttp->datasets>=2.0.0->evaluate) (21.2.0)\r\n",
      "Requirement already satisfied: charset-normalizer<4.0,>=2.0 in /home/alexa/.local/lib/python3.10/site-packages (from aiohttp->datasets>=2.0.0->evaluate) (3.1.0)\r\n",
      "Requirement already satisfied: multidict<7.0,>=4.5 in /home/alexa/.local/lib/python3.10/site-packages (from aiohttp->datasets>=2.0.0->evaluate) (6.0.4)\r\n",
      "Requirement already satisfied: async-timeout<5.0,>=4.0.0a3 in /home/alexa/.local/lib/python3.10/site-packages (from aiohttp->datasets>=2.0.0->evaluate) (4.0.2)\r\n",
      "Requirement already satisfied: yarl<2.0,>=1.0 in /home/alexa/.local/lib/python3.10/site-packages (from aiohttp->datasets>=2.0.0->evaluate) (1.9.2)\r\n",
      "Requirement already satisfied: frozenlist>=1.1.1 in /home/alexa/.local/lib/python3.10/site-packages (from aiohttp->datasets>=2.0.0->evaluate) (1.3.3)\r\n",
      "Requirement already satisfied: aiosignal>=1.1.2 in /home/alexa/.local/lib/python3.10/site-packages (from aiohttp->datasets>=2.0.0->evaluate) (1.3.1)\r\n",
      "Requirement already satisfied: cachetools<6.0,>=2.0.0 in /home/alexa/.local/lib/python3.10/site-packages (from google-auth<3,>=1.6.3->tensorboard<2.13,>=2.12->tensorflow) (5.3.0)\r\n",
      "Requirement already satisfied: pyasn1-modules>=0.2.1 in /home/alexa/.local/lib/python3.10/site-packages (from google-auth<3,>=1.6.3->tensorboard<2.13,>=2.12->tensorflow) (0.3.0)\r\n",
      "Requirement already satisfied: rsa<5,>=3.1.4 in /home/alexa/.local/lib/python3.10/site-packages (from google-auth<3,>=1.6.3->tensorboard<2.13,>=2.12->tensorflow) (4.9)\r\n",
      "Requirement already satisfied: requests-oauthlib>=0.7.0 in /home/alexa/.local/lib/python3.10/site-packages (from google-auth-oauthlib<1.1,>=0.5->tensorboard<2.13,>=2.12->tensorflow) (1.3.1)\r\n",
      "Requirement already satisfied: MarkupSafe>=2.1.1 in /home/alexa/.local/lib/python3.10/site-packages (from werkzeug>=1.0.1->tensorboard<2.13,>=2.12->tensorflow) (2.1.2)\r\n",
      "Requirement already satisfied: pyasn1<0.6.0,>=0.4.6 in /home/alexa/.local/lib/python3.10/site-packages (from pyasn1-modules>=0.2.1->google-auth<3,>=1.6.3->tensorboard<2.13,>=2.12->tensorflow) (0.5.0)\r\n",
      "Requirement already satisfied: oauthlib>=3.0.0 in /usr/lib/python3/dist-packages (from requests-oauthlib>=0.7.0->google-auth-oauthlib<1.1,>=0.5->tensorboard<2.13,>=2.12->tensorflow) (3.2.0)\r\n",
      "Requirement already satisfied: idna>=2.0 in /usr/lib/python3/dist-packages (from yarl<2.0,>=1.0->aiohttp->datasets>=2.0.0->evaluate) (3.3)\r\n"
     ]
    }
   ],
   "source": [
    "!pip install pandas scikit-learn tensorflow --upgrade keras nltk gensim transformers evaluate"
   ],
   "metadata": {
    "collapsed": false,
    "pycharm": {
     "name": "#%%\n"
    }
   }
  },
  {
   "cell_type": "code",
   "execution_count": 2,
   "outputs": [],
   "source": [
    "import os\n",
    "\n",
    "import numpy as np\n",
    "import pandas as pd\n",
    "import nltk\n",
    "from sklearn.model_selection import train_test_split\n"
   ],
   "metadata": {
    "collapsed": false,
    "pycharm": {
     "name": "#%%\n"
    }
   }
  },
  {
   "cell_type": "code",
   "execution_count": 3,
   "outputs": [
    {
     "name": "stderr",
     "output_type": "stream",
     "text": [
      "[nltk_data] Downloading package stopwords to /home/alexa/nltk_data...\n",
      "[nltk_data]   Package stopwords is already up-to-date!\n"
     ]
    },
    {
     "data": {
      "text/plain": "True"
     },
     "execution_count": 3,
     "metadata": {},
     "output_type": "execute_result"
    }
   ],
   "source": [
    "nltk.download('stopwords')"
   ],
   "metadata": {
    "collapsed": false,
    "pycharm": {
     "name": "#%%\n"
    }
   }
  },
  {
   "cell_type": "code",
   "execution_count": 4,
   "outputs": [
    {
     "name": "stdout",
     "output_type": "stream",
     "text": [
      "<class 'pandas.core.frame.DataFrame'>\n",
      "RangeIndex: 1444 entries, 0 to 1443\n",
      "Data columns (total 8 columns):\n",
      " #   Column              Non-Null Count  Dtype  \n",
      "---  ------              --------------  -----  \n",
      " 0   Unnamed: 0          1444 non-null   int64  \n",
      " 1   Дата                1067 non-null   object \n",
      " 2   Время               1067 non-null   object \n",
      " 3   Цена до             1067 non-null   float64\n",
      " 4   Цена после          1067 non-null   float64\n",
      " 5   Разница в долларах  1067 non-null   float64\n",
      " 6   Дельта в процентах  1067 non-null   float64\n",
      " 7   Текст новости       1067 non-null   object \n",
      "dtypes: float64(4), int64(1), object(3)\n",
      "memory usage: 90.4+ KB\n"
     ]
    }
   ],
   "source": [
    "df = pd.read_csv(\"data/amazon.csv\")\n",
    "df.info()"
   ],
   "metadata": {
    "collapsed": false,
    "pycharm": {
     "name": "#%%\n"
    }
   }
  },
  {
   "cell_type": "code",
   "execution_count": 5,
   "outputs": [
    {
     "name": "stdout",
     "output_type": "stream",
     "text": [
      "<class 'pandas.core.frame.DataFrame'>\n",
      "Index: 18447 entries, 0 to 668\n",
      "Data columns (total 8 columns):\n",
      " #   Column              Non-Null Count  Dtype  \n",
      "---  ------              --------------  -----  \n",
      " 0   Unnamed: 0          18447 non-null  int64  \n",
      " 1   Дата                10873 non-null  object \n",
      " 2   Время               10873 non-null  object \n",
      " 3   Цена до             10873 non-null  float64\n",
      " 4   Цена после          10873 non-null  float64\n",
      " 5   Разница в долларах  10873 non-null  float64\n",
      " 6   Дельта в процентах  10873 non-null  float64\n",
      " 7   Текст новости       10873 non-null  object \n",
      "dtypes: float64(4), int64(1), object(3)\n",
      "memory usage: 1.3+ MB\n"
     ]
    }
   ],
   "source": [
    "for root, _, files in os.walk(\"data\"):\n",
    "    for filename in files:\n",
    "        temp_df = pd.read_csv(os.path.join(root, filename))\n",
    "        df = pd.concat([df, temp_df], axis=0, sort=False)\n",
    "\n",
    "df.info()"
   ],
   "metadata": {
    "collapsed": false,
    "pycharm": {
     "name": "#%%\n"
    }
   }
  },
  {
   "cell_type": "code",
   "execution_count": 6,
   "outputs": [
    {
     "name": "stdout",
     "output_type": "stream",
     "text": [
      "<class 'pandas.core.frame.DataFrame'>\n",
      "Index: 3593 entries, 0 to 667\n",
      "Data columns (total 5 columns):\n",
      " #   Column        Non-Null Count  Dtype  \n",
      "---  ------        --------------  -----  \n",
      " 0   date          3593 non-null   object \n",
      " 1   Time          3593 non-null   object \n",
      " 2   price_before  3593 non-null   float64\n",
      " 3   price_after   3593 non-null   float64\n",
      " 4   news_text     3593 non-null   object \n",
      "dtypes: float64(2), object(3)\n",
      "memory usage: 168.4+ KB\n"
     ]
    }
   ],
   "source": [
    "df = df.drop_duplicates(subset=[\"Текст новости\"], keep=False)\n",
    "df.drop(columns=[df.columns[0], \"Разница в долларах\", \"Дельта в процентах\"], axis=1, inplace=True)\n",
    "df.rename(columns={\"Цена до\": \"price_before\", \"Цена после\": \"price_after\", \"Дата\": \"date\", \"Время\": \"Time\", \"Текст новости\": \"news_text\"}, inplace=True)\n",
    "df.info()"
   ],
   "metadata": {
    "collapsed": false,
    "pycharm": {
     "name": "#%%\n"
    }
   }
  },
  {
   "cell_type": "code",
   "execution_count": 7,
   "outputs": [
    {
     "data": {
      "text/plain": "         date      Time  price_before  price_after   \n0  2022-10-14  14:10:32    471.454987   468.269989  \\\n1  2022-10-14  11:38:17    475.109985   472.109985   \n2  2022-10-14  11:25:32    476.359985   475.109985   \n3  2022-10-14  10:37:16    476.359985   475.109985   \n5  2022-10-10  15:21:32    505.105011   506.994995   \n\n                                           news_text   \n0         Check Out What Whales Are Doing With NOC\\n  \\\n1  What 7 Analyst Ratings Have To Say About North...   \n2  7 Analysts Have This to Say About Northrop Gru...   \n3  Benzinga's Top Ratings Upgrades, Downgrades Fo...   \n5  Looking Into Northrop Grumman's Recent Short I...   \n\n   absolute_price_difference  percentage_price_difference   \n0                  -3.184998                    -0.675568  \\\n1                  -3.000000                    -0.631433   \n2                  -1.250000                    -0.262407   \n3                  -1.250000                    -0.262407   \n5                   1.889984                     0.374176   \n\n   price_change_direction  \n0                       0  \n1                       0  \n2                       0  \n3                       0  \n5                       1  ",
      "text/html": "<div>\n<style scoped>\n    .dataframe tbody tr th:only-of-type {\n        vertical-align: middle;\n    }\n\n    .dataframe tbody tr th {\n        vertical-align: top;\n    }\n\n    .dataframe thead th {\n        text-align: right;\n    }\n</style>\n<table border=\"1\" class=\"dataframe\">\n  <thead>\n    <tr style=\"text-align: right;\">\n      <th></th>\n      <th>date</th>\n      <th>Time</th>\n      <th>price_before</th>\n      <th>price_after</th>\n      <th>news_text</th>\n      <th>absolute_price_difference</th>\n      <th>percentage_price_difference</th>\n      <th>price_change_direction</th>\n    </tr>\n  </thead>\n  <tbody>\n    <tr>\n      <th>0</th>\n      <td>2022-10-14</td>\n      <td>14:10:32</td>\n      <td>471.454987</td>\n      <td>468.269989</td>\n      <td>Check Out What Whales Are Doing With NOC\\n</td>\n      <td>-3.184998</td>\n      <td>-0.675568</td>\n      <td>0</td>\n    </tr>\n    <tr>\n      <th>1</th>\n      <td>2022-10-14</td>\n      <td>11:38:17</td>\n      <td>475.109985</td>\n      <td>472.109985</td>\n      <td>What 7 Analyst Ratings Have To Say About North...</td>\n      <td>-3.000000</td>\n      <td>-0.631433</td>\n      <td>0</td>\n    </tr>\n    <tr>\n      <th>2</th>\n      <td>2022-10-14</td>\n      <td>11:25:32</td>\n      <td>476.359985</td>\n      <td>475.109985</td>\n      <td>7 Analysts Have This to Say About Northrop Gru...</td>\n      <td>-1.250000</td>\n      <td>-0.262407</td>\n      <td>0</td>\n    </tr>\n    <tr>\n      <th>3</th>\n      <td>2022-10-14</td>\n      <td>10:37:16</td>\n      <td>476.359985</td>\n      <td>475.109985</td>\n      <td>Benzinga's Top Ratings Upgrades, Downgrades Fo...</td>\n      <td>-1.250000</td>\n      <td>-0.262407</td>\n      <td>0</td>\n    </tr>\n    <tr>\n      <th>5</th>\n      <td>2022-10-10</td>\n      <td>15:21:32</td>\n      <td>505.105011</td>\n      <td>506.994995</td>\n      <td>Looking Into Northrop Grumman's Recent Short I...</td>\n      <td>1.889984</td>\n      <td>0.374176</td>\n      <td>1</td>\n    </tr>\n  </tbody>\n</table>\n</div>"
     },
     "execution_count": 7,
     "metadata": {},
     "output_type": "execute_result"
    }
   ],
   "source": [
    "df[\"absolute_price_difference\"] = df[\"price_after\"] - df[\"price_before\"]\n",
    "df[\"percentage_price_difference\"] = df[\"absolute_price_difference\"] / df[\"price_before\"] * 100\n",
    "df[\"price_change_direction\"] = np.where(df[\"absolute_price_difference\"] > 0, 1, 0)\n",
    "df.head()"
   ],
   "metadata": {
    "collapsed": false,
    "pycharm": {
     "name": "#%%\n"
    }
   }
  },
  {
   "cell_type": "code",
   "execution_count": 8,
   "outputs": [
    {
     "data": {
      "text/plain": "date                           1793\nTime                           1793\nprice_before                   1793\nprice_after                    1793\nnews_text                      1793\nabsolute_price_difference      1793\npercentage_price_difference    1793\nprice_change_direction         1793\ndtype: int64"
     },
     "execution_count": 8,
     "metadata": {},
     "output_type": "execute_result"
    }
   ],
   "source": [
    "df[df[\"price_change_direction\"] == 1].count()"
   ],
   "metadata": {
    "collapsed": false,
    "pycharm": {
     "name": "#%%\n"
    }
   }
  },
  {
   "cell_type": "code",
   "execution_count": 9,
   "outputs": [
    {
     "data": {
      "text/plain": "date                           0\nTime                           0\nprice_before                   0\nprice_after                    0\nnews_text                      0\nabsolute_price_difference      0\npercentage_price_difference    0\nprice_change_direction         0\ndtype: int64"
     },
     "execution_count": 9,
     "metadata": {},
     "output_type": "execute_result"
    }
   ],
   "source": [
    "df[df[\"price_change_direction\"] == -1].count()"
   ],
   "metadata": {
    "collapsed": false,
    "pycharm": {
     "name": "#%%\n"
    }
   }
  },
  {
   "cell_type": "code",
   "execution_count": 10,
   "outputs": [
    {
     "data": {
      "text/plain": "                                           news_text  price_change_direction\n0         Check Out What Whales Are Doing With NOC\\n                       0\n1  What 7 Analyst Ratings Have To Say About North...                       0\n2  7 Analysts Have This to Say About Northrop Gru...                       0\n3  Benzinga's Top Ratings Upgrades, Downgrades Fo...                       0\n5  Looking Into Northrop Grumman's Recent Short I...                       1",
      "text/html": "<div>\n<style scoped>\n    .dataframe tbody tr th:only-of-type {\n        vertical-align: middle;\n    }\n\n    .dataframe tbody tr th {\n        vertical-align: top;\n    }\n\n    .dataframe thead th {\n        text-align: right;\n    }\n</style>\n<table border=\"1\" class=\"dataframe\">\n  <thead>\n    <tr style=\"text-align: right;\">\n      <th></th>\n      <th>news_text</th>\n      <th>price_change_direction</th>\n    </tr>\n  </thead>\n  <tbody>\n    <tr>\n      <th>0</th>\n      <td>Check Out What Whales Are Doing With NOC\\n</td>\n      <td>0</td>\n    </tr>\n    <tr>\n      <th>1</th>\n      <td>What 7 Analyst Ratings Have To Say About North...</td>\n      <td>0</td>\n    </tr>\n    <tr>\n      <th>2</th>\n      <td>7 Analysts Have This to Say About Northrop Gru...</td>\n      <td>0</td>\n    </tr>\n    <tr>\n      <th>3</th>\n      <td>Benzinga's Top Ratings Upgrades, Downgrades Fo...</td>\n      <td>0</td>\n    </tr>\n    <tr>\n      <th>5</th>\n      <td>Looking Into Northrop Grumman's Recent Short I...</td>\n      <td>1</td>\n    </tr>\n  </tbody>\n</table>\n</div>"
     },
     "execution_count": 10,
     "metadata": {},
     "output_type": "execute_result"
    }
   ],
   "source": [
    "news_df = pd.concat([df[\"news_text\"], df[\"price_change_direction\"]], axis=1)\n",
    "news_df.head()"
   ],
   "metadata": {
    "collapsed": false,
    "pycharm": {
     "name": "#%%\n"
    }
   }
  },
  {
   "cell_type": "code",
   "execution_count": 11,
   "outputs": [],
   "source": [
    "X = news_df[\"news_text\"].values\n",
    "y = news_df[\"price_change_direction\"].values"
   ],
   "metadata": {
    "collapsed": false,
    "pycharm": {
     "name": "#%%\n"
    }
   }
  },
  {
   "cell_type": "code",
   "execution_count": 12,
   "outputs": [
    {
     "name": "stdout",
     "output_type": "stream",
     "text": [
      "2874 719 2874 719\n"
     ]
    }
   ],
   "source": [
    "X_train, X_test, y_train, y_test = train_test_split(X ,y, test_size=0.2, shuffle = True, random_state=0)\n",
    "print(len(X_train),len(X_test),len(y_train),len(y_test))\n",
    "\n",
    "X_train = X_train.tolist()"
   ],
   "metadata": {
    "collapsed": false,
    "pycharm": {
     "name": "#%%\n"
    }
   }
  },
  {
   "cell_type": "code",
   "execution_count": 13,
   "outputs": [
    {
     "name": "stderr",
     "output_type": "stream",
     "text": [
      "2023-05-08 20:44:21.381508: I tensorflow/tsl/cuda/cudart_stub.cc:28] Could not find cuda drivers on your machine, GPU will not be used.\n",
      "2023-05-08 20:44:21.706206: I tensorflow/tsl/cuda/cudart_stub.cc:28] Could not find cuda drivers on your machine, GPU will not be used.\n",
      "2023-05-08 20:44:21.707400: I tensorflow/core/platform/cpu_feature_guard.cc:182] This TensorFlow binary is optimized to use available CPU instructions in performance-critical operations.\n",
      "To enable the following instructions: AVX2 FMA, in other operations, rebuild TensorFlow with the appropriate compiler flags.\n",
      "2023-05-08 20:44:22.962171: W tensorflow/compiler/tf2tensorrt/utils/py_utils.cc:38] TF-TRT Warning: Could not find TensorRT\n"
     ]
    }
   ],
   "source": [
    "from transformers import AutoTokenizer,  DataCollatorWithPadding\n",
    "\n",
    "tokenizer = AutoTokenizer.from_pretrained(\"bert-base-cased\")\n",
    "tokenized_data = tokenizer(X_train, return_tensors=\"np\", padding=True)\n",
    "# Tokenizer returns a BatchEncoding, but we convert that to a dict for Keras\n",
    "tokenized_data = dict(tokenized_data)\n",
    "\n",
    "labels = np.array(y_train)  # Label is already an array of 0 and 1"
   ],
   "metadata": {
    "collapsed": false,
    "pycharm": {
     "name": "#%%\n"
    }
   }
  },
  {
   "cell_type": "code",
   "execution_count": 14,
   "outputs": [
    {
     "data": {
      "text/plain": "(2874,)"
     },
     "execution_count": 14,
     "metadata": {},
     "output_type": "execute_result"
    }
   ],
   "source": [
    "labels.shape"
   ],
   "metadata": {
    "collapsed": false,
    "pycharm": {
     "name": "#%%\n"
    }
   }
  },
  {
   "cell_type": "code",
   "execution_count": null,
   "outputs": [
    {
     "name": "stderr",
     "output_type": "stream",
     "text": [
      "All model checkpoint layers were used when initializing TFBertForSequenceClassification.\n",
      "\n",
      "Some layers of TFBertForSequenceClassification were not initialized from the model checkpoint at bert-base-cased and are newly initialized: ['classifier']\n",
      "You should probably TRAIN this model on a down-stream task to be able to use it for predictions and inference.\n",
      "No loss specified in compile() - the model's internal loss computation will be used as the loss. Don't panic - this is a common way to train TensorFlow models in Transformers! To disable this behaviour please pass a loss argument, or explicitly pass `loss=None` if you do not want your model to compute a loss.\n"
     ]
    },
    {
     "name": "stdout",
     "output_type": "stream",
     "text": [
      "Epoch 1/10\n",
      "90/90 [==============================] - 965s 10s/step - loss: 0.6988\n",
      "Epoch 2/10\n",
      "90/90 [==============================] - 919s 10s/step - loss: 0.6992\n",
      "Epoch 3/10\n",
      "90/90 [==============================] - 897s 10s/step - loss: 0.6882\n",
      "Epoch 4/10\n",
      "90/90 [==============================] - 896s 10s/step - loss: 0.6461\n",
      "Epoch 5/10\n",
      "90/90 [==============================] - 893s 10s/step - loss: 0.4857\n",
      "Epoch 6/10\n",
      "90/90 [==============================] - 872s 10s/step - loss: 0.3070\n",
      "Epoch 7/10\n",
      "90/90 [==============================] - 876s 10s/step - loss: 0.2122\n",
      "Epoch 8/10\n",
      "51/90 [================>.............] - ETA: 6:20 - loss: 0.1667"
     ]
    }
   ],
   "source": [
    "from transformers import TFAutoModelForSequenceClassification\n",
    "from tensorflow.keras.optimizers import Adam\n",
    "\n",
    "# Load and compile our model\n",
    "model = TFAutoModelForSequenceClassification.from_pretrained(\"bert-base-cased\")\n",
    "# Lower learning rates are often better for fine-tuning transformers\n",
    "model.compile(optimizer=Adam(3e-5))\n",
    "\n",
    "model.fit(tokenized_data, labels, epochs=10)"
   ],
   "metadata": {
    "collapsed": false,
    "pycharm": {
     "name": "#%%\n",
     "is_executing": true
    }
   }
  },
  {
   "cell_type": "code",
   "execution_count": null,
   "outputs": [],
   "source": [
    "import evaluate\n",
    "\n",
    "acc = evaluate.load(\"accuracy\")\n",
    "# Round the predictions to turn them into \"0\" or \"1\" labels\n",
    "X_test = np.array(X_test)\n",
    "X_test.shape"
   ],
   "metadata": {
    "collapsed": false,
    "pycharm": {
     "name": "#%%\n",
     "is_executing": true
    }
   }
  },
  {
   "cell_type": "code",
   "execution_count": null,
   "outputs": [],
   "source": [],
   "metadata": {
    "collapsed": false,
    "pycharm": {
     "name": "#%%\n",
     "is_executing": true
    }
   }
  },
  {
   "cell_type": "code",
   "execution_count": null,
   "outputs": [],
   "source": [
    "test_preds = np.round(model.predict(X_test)[\"logits\"])\n",
    "test_labels = y_test\n",
    "\n",
    "print(\"Test accuracy is : \", acc.compute(predictions = test_preds, references = test_labels))"
   ],
   "metadata": {
    "collapsed": false,
    "pycharm": {
     "name": "#%%\n",
     "is_executing": true
    }
   }
  }
 ],
 "metadata": {
  "kernelspec": {
   "display_name": "Python 3",
   "language": "python",
   "name": "python3"
  },
  "language_info": {
   "codemirror_mode": {
    "name": "ipython",
    "version": 2
   },
   "file_extension": ".py",
   "mimetype": "text/x-python",
   "name": "python",
   "nbconvert_exporter": "python",
   "pygments_lexer": "ipython2",
   "version": "2.7.6"
  }
 },
 "nbformat": 4,
 "nbformat_minor": 0
}