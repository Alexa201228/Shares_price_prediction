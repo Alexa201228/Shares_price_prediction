{
 "cells": [
  {
   "cell_type": "code",
   "execution_count": 5,
   "metadata": {
    "collapsed": true,
    "pycharm": {
     "name": "#%%\n"
    }
   },
   "outputs": [
    {
     "name": "stdout",
     "output_type": "stream",
     "text": [
      "Defaulting to user installation because normal site-packages is not writeable\r\n",
      "Requirement already satisfied: pandas in /home/alexa/.local/lib/python3.10/site-packages (2.0.1)\r\n",
      "Requirement already satisfied: scikit-learn in /home/alexa/.local/lib/python3.10/site-packages (1.2.2)\r\n",
      "Requirement already satisfied: tensorflow in /home/alexa/.local/lib/python3.10/site-packages (2.12.0)\r\n",
      "Requirement already satisfied: keras in /home/alexa/.local/lib/python3.10/site-packages (2.12.0)\r\n",
      "Requirement already satisfied: nltk in /home/alexa/.local/lib/python3.10/site-packages (3.8.1)\r\n",
      "Requirement already satisfied: gensim in /home/alexa/.local/lib/python3.10/site-packages (4.3.1)\r\n",
      "Requirement already satisfied: transformers in /home/alexa/.local/lib/python3.10/site-packages (4.28.1)\r\n",
      "Requirement already satisfied: python-dateutil>=2.8.2 in /usr/local/lib/python3.10/dist-packages (from pandas) (2.8.2)\r\n",
      "Requirement already satisfied: pytz>=2020.1 in /usr/lib/python3/dist-packages (from pandas) (2022.1)\r\n",
      "Requirement already satisfied: tzdata>=2022.1 in /home/alexa/.local/lib/python3.10/site-packages (from pandas) (2023.3)\r\n",
      "Requirement already satisfied: numpy>=1.21.0 in /home/alexa/.local/lib/python3.10/site-packages (from pandas) (1.23.5)\r\n",
      "Requirement already satisfied: scipy>=1.3.2 in /usr/lib/python3/dist-packages (from scikit-learn) (1.8.0)\r\n",
      "Requirement already satisfied: joblib>=1.1.1 in /home/alexa/.local/lib/python3.10/site-packages (from scikit-learn) (1.2.0)\r\n",
      "Requirement already satisfied: threadpoolctl>=2.0.0 in /home/alexa/.local/lib/python3.10/site-packages (from scikit-learn) (3.1.0)\r\n",
      "Requirement already satisfied: absl-py>=1.0.0 in /home/alexa/.local/lib/python3.10/site-packages (from tensorflow) (1.4.0)\r\n",
      "Requirement already satisfied: astunparse>=1.6.0 in /home/alexa/.local/lib/python3.10/site-packages (from tensorflow) (1.6.3)\r\n",
      "Requirement already satisfied: flatbuffers>=2.0 in /home/alexa/.local/lib/python3.10/site-packages (from tensorflow) (23.3.3)\r\n",
      "Requirement already satisfied: gast<=0.4.0,>=0.2.1 in /home/alexa/.local/lib/python3.10/site-packages (from tensorflow) (0.4.0)\r\n",
      "Requirement already satisfied: google-pasta>=0.1.1 in /home/alexa/.local/lib/python3.10/site-packages (from tensorflow) (0.2.0)\r\n",
      "Requirement already satisfied: grpcio<2.0,>=1.24.3 in /home/alexa/.local/lib/python3.10/site-packages (from tensorflow) (1.54.0)\r\n",
      "Requirement already satisfied: h5py>=2.9.0 in /home/alexa/.local/lib/python3.10/site-packages (from tensorflow) (3.8.0)\r\n",
      "Requirement already satisfied: jax>=0.3.15 in /home/alexa/.local/lib/python3.10/site-packages (from tensorflow) (0.4.8)\r\n",
      "Requirement already satisfied: libclang>=13.0.0 in /home/alexa/.local/lib/python3.10/site-packages (from tensorflow) (16.0.0)\r\n",
      "Requirement already satisfied: opt-einsum>=2.3.2 in /home/alexa/.local/lib/python3.10/site-packages (from tensorflow) (3.3.0)\r\n",
      "Requirement already satisfied: packaging in /usr/lib/python3/dist-packages (from tensorflow) (21.3)\r\n",
      "Requirement already satisfied: protobuf!=4.21.0,!=4.21.1,!=4.21.2,!=4.21.3,!=4.21.4,!=4.21.5,<5.0.0dev,>=3.20.3 in /home/alexa/.local/lib/python3.10/site-packages (from tensorflow) (4.22.4)\r\n",
      "Requirement already satisfied: setuptools in /usr/local/lib/python3.10/dist-packages (from tensorflow) (67.7.2)\r\n",
      "Requirement already satisfied: six>=1.12.0 in /usr/lib/python3/dist-packages (from tensorflow) (1.16.0)\r\n",
      "Requirement already satisfied: tensorboard<2.13,>=2.12 in /home/alexa/.local/lib/python3.10/site-packages (from tensorflow) (2.12.3)\r\n",
      "Requirement already satisfied: tensorflow-estimator<2.13,>=2.12.0 in /home/alexa/.local/lib/python3.10/site-packages (from tensorflow) (2.12.0)\r\n",
      "Requirement already satisfied: termcolor>=1.1.0 in /home/alexa/.local/lib/python3.10/site-packages (from tensorflow) (2.3.0)\r\n",
      "Requirement already satisfied: typing-extensions>=3.6.6 in /usr/local/lib/python3.10/dist-packages (from tensorflow) (4.5.0)\r\n",
      "Requirement already satisfied: wrapt<1.15,>=1.11.0 in /home/alexa/.local/lib/python3.10/site-packages (from tensorflow) (1.14.1)\r\n",
      "Requirement already satisfied: tensorflow-io-gcs-filesystem>=0.23.1 in /home/alexa/.local/lib/python3.10/site-packages (from tensorflow) (0.32.0)\r\n",
      "Requirement already satisfied: click in /usr/lib/python3/dist-packages (from nltk) (8.0.3)\r\n",
      "Requirement already satisfied: regex>=2021.8.3 in /usr/lib/python3/dist-packages (from nltk) (2021.11.10)\r\n",
      "Requirement already satisfied: tqdm in /home/alexa/.local/lib/python3.10/site-packages (from nltk) (4.65.0)\r\n",
      "Requirement already satisfied: smart-open>=1.8.1 in /home/alexa/.local/lib/python3.10/site-packages (from gensim) (6.3.0)\r\n",
      "Requirement already satisfied: filelock in /home/alexa/.local/lib/python3.10/site-packages (from transformers) (3.12.0)\r\n",
      "Requirement already satisfied: huggingface-hub<1.0,>=0.11.0 in /home/alexa/.local/lib/python3.10/site-packages (from transformers) (0.14.1)\r\n",
      "Requirement already satisfied: pyyaml>=5.1 in /usr/lib/python3/dist-packages (from transformers) (5.4.1)\r\n",
      "Requirement already satisfied: requests in /usr/lib/python3/dist-packages (from transformers) (2.25.1)\r\n",
      "Requirement already satisfied: tokenizers!=0.11.3,<0.14,>=0.11.1 in /home/alexa/.local/lib/python3.10/site-packages (from transformers) (0.13.3)\r\n",
      "Requirement already satisfied: wheel<1.0,>=0.23.0 in /home/alexa/.local/lib/python3.10/site-packages (from astunparse>=1.6.0->tensorflow) (0.40.0)\r\n",
      "Requirement already satisfied: fsspec in /home/alexa/.local/lib/python3.10/site-packages (from huggingface-hub<1.0,>=0.11.0->transformers) (2023.5.0)\r\n",
      "Requirement already satisfied: ml-dtypes>=0.0.3 in /home/alexa/.local/lib/python3.10/site-packages (from jax>=0.3.15->tensorflow) (0.1.0)\r\n",
      "Requirement already satisfied: google-auth<3,>=1.6.3 in /home/alexa/.local/lib/python3.10/site-packages (from tensorboard<2.13,>=2.12->tensorflow) (2.17.3)\r\n",
      "Requirement already satisfied: google-auth-oauthlib<1.1,>=0.5 in /home/alexa/.local/lib/python3.10/site-packages (from tensorboard<2.13,>=2.12->tensorflow) (1.0.0)\r\n",
      "Requirement already satisfied: markdown>=2.6.8 in /usr/lib/python3/dist-packages (from tensorboard<2.13,>=2.12->tensorflow) (3.3.6)\r\n",
      "Requirement already satisfied: tensorboard-data-server<0.8.0,>=0.7.0 in /home/alexa/.local/lib/python3.10/site-packages (from tensorboard<2.13,>=2.12->tensorflow) (0.7.0)\r\n",
      "Requirement already satisfied: werkzeug>=1.0.1 in /home/alexa/.local/lib/python3.10/site-packages (from tensorboard<2.13,>=2.12->tensorflow) (2.3.3)\r\n",
      "Requirement already satisfied: cachetools<6.0,>=2.0.0 in /home/alexa/.local/lib/python3.10/site-packages (from google-auth<3,>=1.6.3->tensorboard<2.13,>=2.12->tensorflow) (5.3.0)\r\n",
      "Requirement already satisfied: pyasn1-modules>=0.2.1 in /home/alexa/.local/lib/python3.10/site-packages (from google-auth<3,>=1.6.3->tensorboard<2.13,>=2.12->tensorflow) (0.3.0)\r\n",
      "Requirement already satisfied: rsa<5,>=3.1.4 in /home/alexa/.local/lib/python3.10/site-packages (from google-auth<3,>=1.6.3->tensorboard<2.13,>=2.12->tensorflow) (4.9)\r\n",
      "Requirement already satisfied: requests-oauthlib>=0.7.0 in /home/alexa/.local/lib/python3.10/site-packages (from google-auth-oauthlib<1.1,>=0.5->tensorboard<2.13,>=2.12->tensorflow) (1.3.1)\r\n",
      "Requirement already satisfied: MarkupSafe>=2.1.1 in /home/alexa/.local/lib/python3.10/site-packages (from werkzeug>=1.0.1->tensorboard<2.13,>=2.12->tensorflow) (2.1.2)\r\n",
      "Requirement already satisfied: pyasn1<0.6.0,>=0.4.6 in /home/alexa/.local/lib/python3.10/site-packages (from pyasn1-modules>=0.2.1->google-auth<3,>=1.6.3->tensorboard<2.13,>=2.12->tensorflow) (0.5.0)\r\n",
      "Requirement already satisfied: oauthlib>=3.0.0 in /usr/lib/python3/dist-packages (from requests-oauthlib>=0.7.0->google-auth-oauthlib<1.1,>=0.5->tensorboard<2.13,>=2.12->tensorflow) (3.2.0)\r\n"
     ]
    }
   ],
   "source": [
    "!pip install pandas scikit-learn tensorflow --upgrade keras nltk gensim transformers"
   ]
  },
  {
   "cell_type": "code",
   "execution_count": 6,
   "outputs": [],
   "source": [
    "import os\n",
    "import re\n",
    "\n",
    "import gensim\n",
    "import numpy as np\n",
    "import pandas as pd\n",
    "import nltk\n",
    "from sklearn.model_selection import train_test_split\n",
    "from nltk.tokenize.treebank import TreebankWordDetokenizer\n",
    "import tensorflow as tf\n"
   ],
   "metadata": {
    "collapsed": false,
    "pycharm": {
     "name": "#%%\n"
    }
   }
  },
  {
   "cell_type": "code",
   "execution_count": 7,
   "outputs": [
    {
     "name": "stderr",
     "output_type": "stream",
     "text": [
      "[nltk_data] Downloading package stopwords to /home/alexa/nltk_data...\n",
      "[nltk_data]   Package stopwords is already up-to-date!\n"
     ]
    },
    {
     "data": {
      "text/plain": "True"
     },
     "execution_count": 7,
     "metadata": {},
     "output_type": "execute_result"
    }
   ],
   "source": [
    "nltk.download('stopwords')"
   ],
   "metadata": {
    "collapsed": false,
    "pycharm": {
     "name": "#%%\n"
    }
   }
  },
  {
   "cell_type": "code",
   "execution_count": 8,
   "outputs": [
    {
     "name": "stdout",
     "output_type": "stream",
     "text": [
      "<class 'pandas.core.frame.DataFrame'>\n",
      "RangeIndex: 1444 entries, 0 to 1443\n",
      "Data columns (total 8 columns):\n",
      " #   Column              Non-Null Count  Dtype  \n",
      "---  ------              --------------  -----  \n",
      " 0   Unnamed: 0          1444 non-null   int64  \n",
      " 1   Дата                1067 non-null   object \n",
      " 2   Время               1067 non-null   object \n",
      " 3   Цена до             1067 non-null   float64\n",
      " 4   Цена после          1067 non-null   float64\n",
      " 5   Разница в долларах  1067 non-null   float64\n",
      " 6   Дельта в процентах  1067 non-null   float64\n",
      " 7   Текст новости       1067 non-null   object \n",
      "dtypes: float64(4), int64(1), object(3)\n",
      "memory usage: 90.4+ KB\n"
     ]
    }
   ],
   "source": [
    "df = pd.read_csv(\"data/amazon.csv\")\n",
    "df.info()"
   ],
   "metadata": {
    "collapsed": false,
    "pycharm": {
     "name": "#%%\n"
    }
   }
  },
  {
   "cell_type": "code",
   "execution_count": 9,
   "outputs": [
    {
     "name": "stdout",
     "output_type": "stream",
     "text": [
      "<class 'pandas.core.frame.DataFrame'>\n",
      "Index: 18447 entries, 0 to 668\n",
      "Data columns (total 8 columns):\n",
      " #   Column              Non-Null Count  Dtype  \n",
      "---  ------              --------------  -----  \n",
      " 0   Unnamed: 0          18447 non-null  int64  \n",
      " 1   Дата                10873 non-null  object \n",
      " 2   Время               10873 non-null  object \n",
      " 3   Цена до             10873 non-null  float64\n",
      " 4   Цена после          10873 non-null  float64\n",
      " 5   Разница в долларах  10873 non-null  float64\n",
      " 6   Дельта в процентах  10873 non-null  float64\n",
      " 7   Текст новости       10873 non-null  object \n",
      "dtypes: float64(4), int64(1), object(3)\n",
      "memory usage: 1.3+ MB\n"
     ]
    }
   ],
   "source": [
    "for root, _, files in os.walk(\"data\"):\n",
    "    for filename in files:\n",
    "        temp_df = pd.read_csv(os.path.join(root, filename))\n",
    "        df = pd.concat([df, temp_df], axis=0, sort=False)\n",
    "\n",
    "df.info()"
   ],
   "metadata": {
    "collapsed": false,
    "pycharm": {
     "name": "#%%\n"
    }
   }
  },
  {
   "cell_type": "code",
   "execution_count": 10,
   "outputs": [
    {
     "name": "stdout",
     "output_type": "stream",
     "text": [
      "<class 'pandas.core.frame.DataFrame'>\n",
      "Index: 3593 entries, 0 to 667\n",
      "Data columns (total 5 columns):\n",
      " #   Column        Non-Null Count  Dtype  \n",
      "---  ------        --------------  -----  \n",
      " 0   date          3593 non-null   object \n",
      " 1   Time          3593 non-null   object \n",
      " 2   price_before  3593 non-null   float64\n",
      " 3   price_after   3593 non-null   float64\n",
      " 4   news_text     3593 non-null   object \n",
      "dtypes: float64(2), object(3)\n",
      "memory usage: 168.4+ KB\n"
     ]
    }
   ],
   "source": [
    "df = df.drop_duplicates(subset=[\"Текст новости\"], keep=False)\n",
    "df.drop(columns=[df.columns[0], \"Разница в долларах\", \"Дельта в процентах\"], axis=1, inplace=True)\n",
    "df.rename(columns={\"Цена до\": \"price_before\", \"Цена после\": \"price_after\", \"Дата\": \"date\", \"Время\": \"Time\", \"Текст новости\": \"news_text\"}, inplace=True)\n",
    "df.info()"
   ],
   "metadata": {
    "collapsed": false,
    "pycharm": {
     "name": "#%%\n"
    }
   }
  },
  {
   "cell_type": "code",
   "execution_count": 11,
   "outputs": [
    {
     "data": {
      "text/plain": "         date      Time  price_before  price_after   \n0  2022-10-14  14:10:32    471.454987   468.269989  \\\n1  2022-10-14  11:38:17    475.109985   472.109985   \n2  2022-10-14  11:25:32    476.359985   475.109985   \n3  2022-10-14  10:37:16    476.359985   475.109985   \n5  2022-10-10  15:21:32    505.105011   506.994995   \n\n                                           news_text   \n0         Check Out What Whales Are Doing With NOC\\n  \\\n1  What 7 Analyst Ratings Have To Say About North...   \n2  7 Analysts Have This to Say About Northrop Gru...   \n3  Benzinga's Top Ratings Upgrades, Downgrades Fo...   \n5  Looking Into Northrop Grumman's Recent Short I...   \n\n   absolute_price_difference  percentage_price_difference   \n0                  -3.184998                    -0.675568  \\\n1                  -3.000000                    -0.631433   \n2                  -1.250000                    -0.262407   \n3                  -1.250000                    -0.262407   \n5                   1.889984                     0.374176   \n\n   price_change_direction  \n0                      -1  \n1                      -1  \n2                      -1  \n3                      -1  \n5                       1  ",
      "text/html": "<div>\n<style scoped>\n    .dataframe tbody tr th:only-of-type {\n        vertical-align: middle;\n    }\n\n    .dataframe tbody tr th {\n        vertical-align: top;\n    }\n\n    .dataframe thead th {\n        text-align: right;\n    }\n</style>\n<table border=\"1\" class=\"dataframe\">\n  <thead>\n    <tr style=\"text-align: right;\">\n      <th></th>\n      <th>date</th>\n      <th>Time</th>\n      <th>price_before</th>\n      <th>price_after</th>\n      <th>news_text</th>\n      <th>absolute_price_difference</th>\n      <th>percentage_price_difference</th>\n      <th>price_change_direction</th>\n    </tr>\n  </thead>\n  <tbody>\n    <tr>\n      <th>0</th>\n      <td>2022-10-14</td>\n      <td>14:10:32</td>\n      <td>471.454987</td>\n      <td>468.269989</td>\n      <td>Check Out What Whales Are Doing With NOC\\n</td>\n      <td>-3.184998</td>\n      <td>-0.675568</td>\n      <td>-1</td>\n    </tr>\n    <tr>\n      <th>1</th>\n      <td>2022-10-14</td>\n      <td>11:38:17</td>\n      <td>475.109985</td>\n      <td>472.109985</td>\n      <td>What 7 Analyst Ratings Have To Say About North...</td>\n      <td>-3.000000</td>\n      <td>-0.631433</td>\n      <td>-1</td>\n    </tr>\n    <tr>\n      <th>2</th>\n      <td>2022-10-14</td>\n      <td>11:25:32</td>\n      <td>476.359985</td>\n      <td>475.109985</td>\n      <td>7 Analysts Have This to Say About Northrop Gru...</td>\n      <td>-1.250000</td>\n      <td>-0.262407</td>\n      <td>-1</td>\n    </tr>\n    <tr>\n      <th>3</th>\n      <td>2022-10-14</td>\n      <td>10:37:16</td>\n      <td>476.359985</td>\n      <td>475.109985</td>\n      <td>Benzinga's Top Ratings Upgrades, Downgrades Fo...</td>\n      <td>-1.250000</td>\n      <td>-0.262407</td>\n      <td>-1</td>\n    </tr>\n    <tr>\n      <th>5</th>\n      <td>2022-10-10</td>\n      <td>15:21:32</td>\n      <td>505.105011</td>\n      <td>506.994995</td>\n      <td>Looking Into Northrop Grumman's Recent Short I...</td>\n      <td>1.889984</td>\n      <td>0.374176</td>\n      <td>1</td>\n    </tr>\n  </tbody>\n</table>\n</div>"
     },
     "execution_count": 11,
     "metadata": {},
     "output_type": "execute_result"
    }
   ],
   "source": [
    "df[\"absolute_price_difference\"] = df[\"price_after\"] - df[\"price_before\"]\n",
    "df[\"percentage_price_difference\"] = df[\"absolute_price_difference\"] / df[\"price_before\"] * 100\n",
    "df[\"price_change_direction\"] = np.where(df[\"absolute_price_difference\"] > 0, 1, -1)\n",
    "df.head()"
   ],
   "metadata": {
    "collapsed": false,
    "pycharm": {
     "name": "#%%\n"
    }
   }
  },
  {
   "cell_type": "code",
   "execution_count": 12,
   "outputs": [
    {
     "data": {
      "text/plain": "date                           1793\nTime                           1793\nprice_before                   1793\nprice_after                    1793\nnews_text                      1793\nabsolute_price_difference      1793\npercentage_price_difference    1793\nprice_change_direction         1793\ndtype: int64"
     },
     "execution_count": 12,
     "metadata": {},
     "output_type": "execute_result"
    }
   ],
   "source": [
    "df[df[\"price_change_direction\"] == 1].count()"
   ],
   "metadata": {
    "collapsed": false,
    "pycharm": {
     "name": "#%%\n"
    }
   }
  },
  {
   "cell_type": "code",
   "execution_count": 13,
   "outputs": [
    {
     "data": {
      "text/plain": "date                           1800\nTime                           1800\nprice_before                   1800\nprice_after                    1800\nnews_text                      1800\nabsolute_price_difference      1800\npercentage_price_difference    1800\nprice_change_direction         1800\ndtype: int64"
     },
     "execution_count": 13,
     "metadata": {},
     "output_type": "execute_result"
    }
   ],
   "source": [
    "df[df[\"price_change_direction\"] == -1].count()"
   ],
   "metadata": {
    "collapsed": false,
    "pycharm": {
     "name": "#%%\n"
    }
   }
  },
  {
   "cell_type": "code",
   "execution_count": 14,
   "outputs": [
    {
     "data": {
      "text/plain": "                                           news_text  price_change_direction\n0         Check Out What Whales Are Doing With NOC\\n                      -1\n1  What 7 Analyst Ratings Have To Say About North...                      -1\n2  7 Analysts Have This to Say About Northrop Gru...                      -1\n3  Benzinga's Top Ratings Upgrades, Downgrades Fo...                      -1\n5  Looking Into Northrop Grumman's Recent Short I...                       1",
      "text/html": "<div>\n<style scoped>\n    .dataframe tbody tr th:only-of-type {\n        vertical-align: middle;\n    }\n\n    .dataframe tbody tr th {\n        vertical-align: top;\n    }\n\n    .dataframe thead th {\n        text-align: right;\n    }\n</style>\n<table border=\"1\" class=\"dataframe\">\n  <thead>\n    <tr style=\"text-align: right;\">\n      <th></th>\n      <th>news_text</th>\n      <th>price_change_direction</th>\n    </tr>\n  </thead>\n  <tbody>\n    <tr>\n      <th>0</th>\n      <td>Check Out What Whales Are Doing With NOC\\n</td>\n      <td>-1</td>\n    </tr>\n    <tr>\n      <th>1</th>\n      <td>What 7 Analyst Ratings Have To Say About North...</td>\n      <td>-1</td>\n    </tr>\n    <tr>\n      <th>2</th>\n      <td>7 Analysts Have This to Say About Northrop Gru...</td>\n      <td>-1</td>\n    </tr>\n    <tr>\n      <th>3</th>\n      <td>Benzinga's Top Ratings Upgrades, Downgrades Fo...</td>\n      <td>-1</td>\n    </tr>\n    <tr>\n      <th>5</th>\n      <td>Looking Into Northrop Grumman's Recent Short I...</td>\n      <td>1</td>\n    </tr>\n  </tbody>\n</table>\n</div>"
     },
     "execution_count": 14,
     "metadata": {},
     "output_type": "execute_result"
    }
   ],
   "source": [
    "news_df = pd.concat([df[\"news_text\"], df[\"price_change_direction\"]], axis=1)\n",
    "news_df.head()"
   ],
   "metadata": {
    "collapsed": false,
    "pycharm": {
     "name": "#%%\n"
    }
   }
  },
  {
   "cell_type": "code",
   "execution_count": 15,
   "outputs": [],
   "source": [
    "X = news_df[\"news_text\"].values\n",
    "y = news_df[\"price_change_direction\"].values"
   ],
   "metadata": {
    "collapsed": false,
    "pycharm": {
     "name": "#%%\n"
    }
   }
  },
  {
   "cell_type": "code",
   "execution_count": 16,
   "outputs": [],
   "source": [
    "processed_features = []\n",
    "\n",
    "for sentence in range(len(X)):\n",
    "    processed_feature = re.sub(r'\\W', ' ', str(X[sentence]))\n",
    "\n",
    "    # remove all single characters\n",
    "    processed_feature= re.sub(r'\\s+[a-zA-Z]\\s+', ' ', processed_feature)\n",
    "\n",
    "    # Remove single characters from the start\n",
    "    processed_feature = re.sub(r'\\^[a-zA-Z]\\s+', ' ', processed_feature)\n",
    "\n",
    "    # Substituting multiple spaces with single space\n",
    "    processed_feature = re.sub(r'\\s+', ' ', processed_feature, flags=re.I)\n",
    "\n",
    "    # Removing prefixed 'b'\n",
    "    processed_feature = re.sub(r'^b\\s+', '', processed_feature)\n",
    "\n",
    "    # Converting to Lowercase\n",
    "    processed_feature = processed_feature.lower()\n",
    "\n",
    "    processed_features.append(processed_feature)"
   ],
   "metadata": {
    "collapsed": false,
    "pycharm": {
     "name": "#%%\n"
    }
   }
  },
  {
   "cell_type": "code",
   "execution_count": 17,
   "outputs": [],
   "source": [
    "def sent_to_words(sentences):\n",
    "    for sentence in sentences:\n",
    "        yield(gensim.utils.simple_preprocess(str(sentence), deacc=True))"
   ],
   "metadata": {
    "collapsed": false,
    "pycharm": {
     "name": "#%%\n"
    }
   }
  },
  {
   "cell_type": "code",
   "execution_count": 18,
   "outputs": [
    {
     "name": "stdout",
     "output_type": "stream",
     "text": [
      "[['check', 'out', 'what', 'whales', 'are', 'doing', 'with', 'noc'], ['what', 'analyst', 'ratings', 'have', 'to', 'say', 'about', 'northrop', 'grumman'], ['analysts', 'have', 'this', 'to', 'say', 'about', 'northrop', 'grumman'], ['benzinga', 'top', 'ratings', 'upgrades', 'downgrades', 'for', 'october'], ['looking', 'into', 'northrop', 'grumman', 'recent', 'short', 'interest'], ['this', 'is', 'what', 'whales', 'are', 'betting', 'on', 'northrop', 'grumman'], ['here', 'how', 'much', 'invested', 'in', 'northrop', 'grumman', 'years', 'ago', 'would', 'be', 'worth', 'today'], ['uber', 'nextera', 'are', 'cnbc', 'fast', 'money', 'mentions', 'and', 'this', 'struggling', 'sector', 'is', 'tuesday', 'call', 'of', 'the', 'day'], ['what', 'analyst', 'ratings', 'have', 'to', 'say', 'about', 'northrop', 'grumman'], ['northrop', 'grumman', 'ex', 'dividend', 'date', 'is', 'friday', 'here', 'what', 'you', 'need', 'to', 'know']]\n"
     ]
    }
   ],
   "source": [
    "data_words = list(sent_to_words(processed_features))\n",
    "\n",
    "print(data_words[:10])"
   ],
   "metadata": {
    "collapsed": false,
    "pycharm": {
     "name": "#%%\n"
    }
   }
  },
  {
   "cell_type": "code",
   "execution_count": 19,
   "outputs": [],
   "source": [
    "def detokenize(text):\n",
    "    return TreebankWordDetokenizer().detokenize(text)"
   ],
   "metadata": {
    "collapsed": false,
    "pycharm": {
     "name": "#%%\n"
    }
   }
  },
  {
   "cell_type": "code",
   "execution_count": 20,
   "outputs": [
    {
     "name": "stdout",
     "output_type": "stream",
     "text": [
      "['check out what whales are doing with noc', 'what analyst ratings have to say about northrop grumman', 'analysts have this to say about northrop grumman', 'benzinga top ratings upgrades downgrades for october', 'looking into northrop grumman recent short interest']\n"
     ]
    }
   ],
   "source": [
    "data = []\n",
    "for i in range(len(data_words)):\n",
    "    data.append(detokenize(data_words[i]))\n",
    "print(data[:5])"
   ],
   "metadata": {
    "collapsed": false,
    "pycharm": {
     "name": "#%%\n"
    }
   }
  },
  {
   "cell_type": "code",
   "execution_count": 21,
   "outputs": [],
   "source": [
    "labels = np.array(news_df['price_change_direction'])\n",
    "y = []\n",
    "for i in range(len(labels)):\n",
    "    if labels[i] == -1:\n",
    "        y.append(0)\n",
    "    if labels[i] == 1:\n",
    "        y.append(1)\n",
    "y = np.array(y)\n",
    "labels = tf.keras.utils.to_categorical(y, 2, dtype=\"float32\")\n",
    "del y"
   ],
   "metadata": {
    "collapsed": false,
    "pycharm": {
     "name": "#%%\n"
    }
   }
  },
  {
   "cell_type": "code",
   "execution_count": 22,
   "outputs": [
    {
     "data": {
      "text/plain": "3593"
     },
     "execution_count": 22,
     "metadata": {},
     "output_type": "execute_result"
    }
   ],
   "source": [
    "len(labels)"
   ],
   "metadata": {
    "collapsed": false,
    "pycharm": {
     "name": "#%%\n"
    }
   }
  },
  {
   "cell_type": "code",
   "execution_count": 23,
   "outputs": [
    {
     "name": "stdout",
     "output_type": "stream",
     "text": [
      "[[   0    0    0 ...  349   16 2867]\n",
      " [   0    0    0 ...   47  226  227]\n",
      " [   0    0    0 ...   47  226  227]\n",
      " ...\n",
      " [   0    0    0 ...   24   49  447]\n",
      " [   0    0    0 ...  137  820 1089]\n",
      " [   0    0    0 ...   49    2  285]]\n"
     ]
    },
    {
     "data": {
      "text/plain": "array([[   0,    0,    0, ...,  349,   16, 2867],\n       [   0,    0,    0, ...,   47,  226,  227],\n       [   0,    0,    0, ...,   47,  226,  227],\n       ...,\n       [   0,    0,    0, ...,   24,   49,  447],\n       [   0,    0,    0, ...,  137,  820, 1089],\n       [   0,    0,    0, ...,   49,    2,  285]], dtype=int32)"
     },
     "execution_count": 23,
     "metadata": {},
     "output_type": "execute_result"
    }
   ],
   "source": [
    "from keras.models import Sequential\n",
    "from keras import layers\n",
    "from keras.preprocessing.text import Tokenizer\n",
    "from tensorflow.keras.preprocessing.sequence import pad_sequences\n",
    "from keras.callbacks import ModelCheckpoint\n",
    "\n",
    "max_words = 10000\n",
    "max_len = 200\n",
    "\n",
    "tokenizer = Tokenizer(num_words=max_words)\n",
    "tokenizer.fit_on_texts(data)\n",
    "sequences = tokenizer.texts_to_sequences(data)\n",
    "news = pad_sequences(sequences, maxlen=max_len)\n",
    "print(news)\n",
    "news"
   ],
   "metadata": {
    "collapsed": false,
    "pycharm": {
     "name": "#%%\n"
    }
   }
  },
  {
   "cell_type": "code",
   "execution_count": 24,
   "outputs": [
    {
     "name": "stdout",
     "output_type": "stream",
     "text": [
      "[[1. 0.]\n",
      " [1. 0.]\n",
      " [1. 0.]\n",
      " ...\n",
      " [1. 0.]\n",
      " [1. 0.]\n",
      " [0. 1.]]\n"
     ]
    }
   ],
   "source": [
    "print(labels)"
   ],
   "metadata": {
    "collapsed": false,
    "pycharm": {
     "name": "#%%\n"
    }
   }
  },
  {
   "cell_type": "code",
   "execution_count": 25,
   "outputs": [
    {
     "name": "stdout",
     "output_type": "stream",
     "text": [
      "2874 719 2874 719\n"
     ]
    }
   ],
   "source": [
    "#  Split data to train and test sets\n",
    "\n",
    "X_train, X_test, y_train, y_test = train_test_split(news ,labels, test_size=0.2, shuffle = True, random_state=0)\n",
    "print (len(X_train),len(X_test),len(y_train),len(y_test))\n"
   ],
   "metadata": {
    "collapsed": false,
    "pycharm": {
     "name": "#%%\n"
    }
   }
  },
  {
   "cell_type": "code",
   "execution_count": 26,
   "outputs": [],
   "source": [
    "from keras.layers import BatchNormalization\n",
    "\n",
    "# Neural network without LSTM\n",
    "\n",
    "model0 = Sequential()\n",
    "\n",
    "model0.add(layers.Dense(64, activation=\"relu\"))\n",
    "model0.add(BatchNormalization())\n",
    "model0.add(layers.Dropout(0.8))\n",
    "model0.add(layers.Dense(32, activation=\"relu\"))\n",
    "model0.add(layers.Dropout(0.5))\n",
    "model0.add(layers.Dense(32, activation=\"relu\"))\n",
    "model0.add(layers.Dropout(0.3))\n",
    "model0.add(layers.Dense(16, activation=\"relu\"))\n",
    "model0.add(layers.Dense(2, activation=\"sigmoid\"))"
   ],
   "metadata": {
    "collapsed": false,
    "pycharm": {
     "name": "#%%\n"
    }
   }
  },
  {
   "cell_type": "code",
   "execution_count": 27,
   "outputs": [
    {
     "name": "stdout",
     "output_type": "stream",
     "text": [
      "WARNING:tensorflow:`period` argument is deprecated. Please use `save_freq` to specify the frequency in number of batches seen.\n",
      "Epoch 1/70\n",
      "\n",
      "Epoch 1: val_accuracy improved from -inf to 0.53129, saving model to best_model0.hdf5\n",
      "90/90 - 1s - loss: 0.9451 - accuracy: 0.4986 - val_loss: 0.6936 - val_accuracy: 0.5313 - 1s/epoch - 15ms/step\n",
      "Epoch 2/70\n",
      "\n",
      "Epoch 2: val_accuracy improved from 0.53129 to 0.56050, saving model to best_model0.hdf5\n",
      "90/90 - 0s - loss: 0.7902 - accuracy: 0.4892 - val_loss: 0.6863 - val_accuracy: 0.5605 - 160ms/epoch - 2ms/step\n",
      "Epoch 3/70\n",
      "\n",
      "Epoch 3: val_accuracy did not improve from 0.56050\n",
      "90/90 - 0s - loss: 0.7446 - accuracy: 0.5066 - val_loss: 0.6894 - val_accuracy: 0.5382 - 149ms/epoch - 2ms/step\n",
      "Epoch 4/70\n",
      "\n",
      "Epoch 4: val_accuracy did not improve from 0.56050\n",
      "90/90 - 0s - loss: 0.7327 - accuracy: 0.4979 - val_loss: 0.6914 - val_accuracy: 0.5063 - 132ms/epoch - 1ms/step\n",
      "Epoch 5/70\n",
      "\n",
      "Epoch 5: val_accuracy did not improve from 0.56050\n",
      "90/90 - 0s - loss: 0.7189 - accuracy: 0.5052 - val_loss: 0.6929 - val_accuracy: 0.5090 - 131ms/epoch - 1ms/step\n",
      "Epoch 6/70\n",
      "\n",
      "Epoch 6: val_accuracy did not improve from 0.56050\n",
      "90/90 - 0s - loss: 0.7161 - accuracy: 0.4969 - val_loss: 0.6920 - val_accuracy: 0.5229 - 142ms/epoch - 2ms/step\n",
      "Epoch 7/70\n",
      "\n",
      "Epoch 7: val_accuracy did not improve from 0.56050\n",
      "90/90 - 0s - loss: 0.7153 - accuracy: 0.4826 - val_loss: 0.6920 - val_accuracy: 0.5257 - 161ms/epoch - 2ms/step\n",
      "Epoch 8/70\n",
      "\n",
      "Epoch 8: val_accuracy did not improve from 0.56050\n",
      "90/90 - 0s - loss: 0.7099 - accuracy: 0.5038 - val_loss: 0.6926 - val_accuracy: 0.5188 - 129ms/epoch - 1ms/step\n",
      "Epoch 9/70\n",
      "\n",
      "Epoch 9: val_accuracy did not improve from 0.56050\n",
      "90/90 - 0s - loss: 0.7052 - accuracy: 0.4944 - val_loss: 0.6924 - val_accuracy: 0.5188 - 129ms/epoch - 1ms/step\n",
      "Epoch 10/70\n",
      "\n",
      "Epoch 10: val_accuracy did not improve from 0.56050\n",
      "90/90 - 0s - loss: 0.7015 - accuracy: 0.5035 - val_loss: 0.6929 - val_accuracy: 0.5063 - 129ms/epoch - 1ms/step\n",
      "Epoch 11/70\n",
      "\n",
      "Epoch 11: val_accuracy did not improve from 0.56050\n",
      "90/90 - 0s - loss: 0.7032 - accuracy: 0.4878 - val_loss: 0.6928 - val_accuracy: 0.4979 - 121ms/epoch - 1ms/step\n",
      "Epoch 12/70\n",
      "\n",
      "Epoch 12: val_accuracy did not improve from 0.56050\n",
      "90/90 - 0s - loss: 0.7048 - accuracy: 0.5052 - val_loss: 0.6934 - val_accuracy: 0.4701 - 120ms/epoch - 1ms/step\n",
      "Epoch 13/70\n",
      "\n",
      "Epoch 13: val_accuracy did not improve from 0.56050\n",
      "90/90 - 0s - loss: 0.6995 - accuracy: 0.5066 - val_loss: 0.6927 - val_accuracy: 0.4951 - 130ms/epoch - 1ms/step\n",
      "Epoch 14/70\n",
      "\n",
      "Epoch 14: val_accuracy did not improve from 0.56050\n",
      "90/90 - 0s - loss: 0.6980 - accuracy: 0.5049 - val_loss: 0.6928 - val_accuracy: 0.5132 - 123ms/epoch - 1ms/step\n",
      "Epoch 15/70\n",
      "\n",
      "Epoch 15: val_accuracy did not improve from 0.56050\n",
      "90/90 - 0s - loss: 0.7005 - accuracy: 0.5035 - val_loss: 0.6925 - val_accuracy: 0.5313 - 123ms/epoch - 1ms/step\n",
      "Epoch 16/70\n",
      "\n",
      "Epoch 16: val_accuracy did not improve from 0.56050\n",
      "90/90 - 0s - loss: 0.6978 - accuracy: 0.4923 - val_loss: 0.6924 - val_accuracy: 0.5076 - 120ms/epoch - 1ms/step\n",
      "Epoch 17/70\n",
      "\n",
      "Epoch 17: val_accuracy did not improve from 0.56050\n",
      "90/90 - 0s - loss: 0.6966 - accuracy: 0.4899 - val_loss: 0.6930 - val_accuracy: 0.4896 - 124ms/epoch - 1ms/step\n",
      "Epoch 18/70\n",
      "\n",
      "Epoch 18: val_accuracy did not improve from 0.56050\n",
      "90/90 - 0s - loss: 0.6972 - accuracy: 0.5059 - val_loss: 0.6934 - val_accuracy: 0.4826 - 147ms/epoch - 2ms/step\n",
      "Epoch 19/70\n",
      "\n",
      "Epoch 19: val_accuracy did not improve from 0.56050\n",
      "90/90 - 0s - loss: 0.6973 - accuracy: 0.4916 - val_loss: 0.6939 - val_accuracy: 0.4673 - 172ms/epoch - 2ms/step\n",
      "Epoch 20/70\n",
      "\n",
      "Epoch 20: val_accuracy did not improve from 0.56050\n",
      "90/90 - 0s - loss: 0.6971 - accuracy: 0.5017 - val_loss: 0.6938 - val_accuracy: 0.4812 - 170ms/epoch - 2ms/step\n",
      "Epoch 21/70\n",
      "\n",
      "Epoch 21: val_accuracy did not improve from 0.56050\n",
      "90/90 - 0s - loss: 0.6963 - accuracy: 0.5017 - val_loss: 0.6939 - val_accuracy: 0.4729 - 138ms/epoch - 2ms/step\n",
      "Epoch 22/70\n",
      "\n",
      "Epoch 22: val_accuracy did not improve from 0.56050\n",
      "90/90 - 0s - loss: 0.6968 - accuracy: 0.4892 - val_loss: 0.6941 - val_accuracy: 0.4687 - 121ms/epoch - 1ms/step\n",
      "Epoch 23/70\n",
      "\n",
      "Epoch 23: val_accuracy did not improve from 0.56050\n",
      "90/90 - 0s - loss: 0.6920 - accuracy: 0.5122 - val_loss: 0.6936 - val_accuracy: 0.4757 - 118ms/epoch - 1ms/step\n",
      "Epoch 24/70\n",
      "\n",
      "Epoch 24: val_accuracy did not improve from 0.56050\n",
      "90/90 - 0s - loss: 0.6956 - accuracy: 0.4983 - val_loss: 0.6935 - val_accuracy: 0.4812 - 119ms/epoch - 1ms/step\n",
      "Epoch 25/70\n",
      "\n",
      "Epoch 25: val_accuracy did not improve from 0.56050\n",
      "90/90 - 0s - loss: 0.6940 - accuracy: 0.4955 - val_loss: 0.6937 - val_accuracy: 0.4771 - 122ms/epoch - 1ms/step\n",
      "Epoch 26/70\n",
      "\n",
      "Epoch 26: val_accuracy did not improve from 0.56050\n",
      "90/90 - 0s - loss: 0.6954 - accuracy: 0.4983 - val_loss: 0.6935 - val_accuracy: 0.4798 - 121ms/epoch - 1ms/step\n",
      "Epoch 27/70\n",
      "\n",
      "Epoch 27: val_accuracy did not improve from 0.56050\n",
      "90/90 - 0s - loss: 0.6943 - accuracy: 0.5132 - val_loss: 0.6937 - val_accuracy: 0.4784 - 118ms/epoch - 1ms/step\n",
      "Epoch 28/70\n",
      "\n",
      "Epoch 28: val_accuracy did not improve from 0.56050\n",
      "90/90 - 0s - loss: 0.6947 - accuracy: 0.5000 - val_loss: 0.6939 - val_accuracy: 0.4701 - 116ms/epoch - 1ms/step\n",
      "Epoch 29/70\n",
      "\n",
      "Epoch 29: val_accuracy did not improve from 0.56050\n",
      "90/90 - 0s - loss: 0.6969 - accuracy: 0.4878 - val_loss: 0.6939 - val_accuracy: 0.4701 - 120ms/epoch - 1ms/step\n",
      "Epoch 30/70\n",
      "\n",
      "Epoch 30: val_accuracy did not improve from 0.56050\n",
      "90/90 - 0s - loss: 0.6945 - accuracy: 0.4969 - val_loss: 0.6937 - val_accuracy: 0.4826 - 119ms/epoch - 1ms/step\n",
      "Epoch 31/70\n",
      "\n",
      "Epoch 31: val_accuracy did not improve from 0.56050\n",
      "90/90 - 0s - loss: 0.6935 - accuracy: 0.5014 - val_loss: 0.6941 - val_accuracy: 0.4729 - 134ms/epoch - 1ms/step\n",
      "Epoch 32/70\n",
      "\n",
      "Epoch 32: val_accuracy did not improve from 0.56050\n",
      "90/90 - 0s - loss: 0.6950 - accuracy: 0.5077 - val_loss: 0.6943 - val_accuracy: 0.4687 - 118ms/epoch - 1ms/step\n",
      "Epoch 33/70\n",
      "\n",
      "Epoch 33: val_accuracy did not improve from 0.56050\n",
      "90/90 - 0s - loss: 0.6945 - accuracy: 0.5136 - val_loss: 0.6937 - val_accuracy: 0.4743 - 125ms/epoch - 1ms/step\n",
      "Epoch 34/70\n",
      "\n",
      "Epoch 34: val_accuracy did not improve from 0.56050\n",
      "90/90 - 0s - loss: 0.6922 - accuracy: 0.5129 - val_loss: 0.6940 - val_accuracy: 0.4701 - 126ms/epoch - 1ms/step\n",
      "Epoch 35/70\n",
      "\n",
      "Epoch 35: val_accuracy did not improve from 0.56050\n",
      "90/90 - 0s - loss: 0.6945 - accuracy: 0.4819 - val_loss: 0.6942 - val_accuracy: 0.4687 - 116ms/epoch - 1ms/step\n",
      "Epoch 36/70\n",
      "\n",
      "Epoch 36: val_accuracy did not improve from 0.56050\n",
      "90/90 - 0s - loss: 0.6931 - accuracy: 0.5101 - val_loss: 0.6944 - val_accuracy: 0.4645 - 117ms/epoch - 1ms/step\n",
      "Epoch 37/70\n",
      "\n",
      "Epoch 37: val_accuracy did not improve from 0.56050\n",
      "90/90 - 0s - loss: 0.6942 - accuracy: 0.5066 - val_loss: 0.6941 - val_accuracy: 0.4757 - 120ms/epoch - 1ms/step\n",
      "Epoch 38/70\n",
      "\n",
      "Epoch 38: val_accuracy did not improve from 0.56050\n",
      "90/90 - 0s - loss: 0.6946 - accuracy: 0.4854 - val_loss: 0.6942 - val_accuracy: 0.4673 - 118ms/epoch - 1ms/step\n",
      "Epoch 39/70\n",
      "\n",
      "Epoch 39: val_accuracy did not improve from 0.56050\n",
      "90/90 - 0s - loss: 0.6945 - accuracy: 0.5087 - val_loss: 0.6941 - val_accuracy: 0.4687 - 118ms/epoch - 1ms/step\n",
      "Epoch 40/70\n",
      "\n",
      "Epoch 40: val_accuracy did not improve from 0.56050\n",
      "90/90 - 0s - loss: 0.6932 - accuracy: 0.5077 - val_loss: 0.6944 - val_accuracy: 0.4687 - 119ms/epoch - 1ms/step\n",
      "Epoch 41/70\n",
      "\n",
      "Epoch 41: val_accuracy did not improve from 0.56050\n",
      "90/90 - 0s - loss: 0.6937 - accuracy: 0.5101 - val_loss: 0.6940 - val_accuracy: 0.4743 - 118ms/epoch - 1ms/step\n",
      "Epoch 42/70\n",
      "\n",
      "Epoch 42: val_accuracy did not improve from 0.56050\n",
      "90/90 - 0s - loss: 0.6933 - accuracy: 0.5090 - val_loss: 0.6942 - val_accuracy: 0.4743 - 123ms/epoch - 1ms/step\n",
      "Epoch 43/70\n",
      "\n",
      "Epoch 43: val_accuracy did not improve from 0.56050\n",
      "90/90 - 0s - loss: 0.6935 - accuracy: 0.5021 - val_loss: 0.6941 - val_accuracy: 0.4757 - 116ms/epoch - 1ms/step\n",
      "Epoch 44/70\n",
      "\n",
      "Epoch 44: val_accuracy did not improve from 0.56050\n",
      "90/90 - 0s - loss: 0.6941 - accuracy: 0.5136 - val_loss: 0.6943 - val_accuracy: 0.4701 - 125ms/epoch - 1ms/step\n",
      "Epoch 45/70\n",
      "\n",
      "Epoch 45: val_accuracy did not improve from 0.56050\n",
      "90/90 - 0s - loss: 0.6930 - accuracy: 0.4976 - val_loss: 0.6947 - val_accuracy: 0.4659 - 127ms/epoch - 1ms/step\n",
      "Epoch 46/70\n",
      "\n",
      "Epoch 46: val_accuracy did not improve from 0.56050\n",
      "90/90 - 0s - loss: 0.6942 - accuracy: 0.5104 - val_loss: 0.6943 - val_accuracy: 0.4645 - 124ms/epoch - 1ms/step\n",
      "Epoch 47/70\n",
      "\n",
      "Epoch 47: val_accuracy did not improve from 0.56050\n",
      "90/90 - 0s - loss: 0.6928 - accuracy: 0.5066 - val_loss: 0.6938 - val_accuracy: 0.4645 - 119ms/epoch - 1ms/step\n",
      "Epoch 48/70\n",
      "\n",
      "Epoch 48: val_accuracy did not improve from 0.56050\n",
      "90/90 - 0s - loss: 0.6942 - accuracy: 0.4993 - val_loss: 0.6937 - val_accuracy: 0.4659 - 135ms/epoch - 2ms/step\n",
      "Epoch 49/70\n",
      "\n",
      "Epoch 49: val_accuracy did not improve from 0.56050\n",
      "90/90 - 0s - loss: 0.6928 - accuracy: 0.5070 - val_loss: 0.6936 - val_accuracy: 0.4701 - 125ms/epoch - 1ms/step\n",
      "Epoch 50/70\n",
      "\n",
      "Epoch 50: val_accuracy did not improve from 0.56050\n",
      "90/90 - 0s - loss: 0.6942 - accuracy: 0.4993 - val_loss: 0.6939 - val_accuracy: 0.4729 - 137ms/epoch - 2ms/step\n",
      "Epoch 51/70\n",
      "\n",
      "Epoch 51: val_accuracy did not improve from 0.56050\n",
      "90/90 - 0s - loss: 0.6946 - accuracy: 0.5010 - val_loss: 0.6942 - val_accuracy: 0.4729 - 132ms/epoch - 1ms/step\n",
      "Epoch 52/70\n",
      "\n",
      "Epoch 52: val_accuracy did not improve from 0.56050\n",
      "90/90 - 0s - loss: 0.6943 - accuracy: 0.4969 - val_loss: 0.6943 - val_accuracy: 0.4701 - 121ms/epoch - 1ms/step\n",
      "Epoch 53/70\n",
      "\n",
      "Epoch 53: val_accuracy did not improve from 0.56050\n",
      "90/90 - 0s - loss: 0.6927 - accuracy: 0.5139 - val_loss: 0.6941 - val_accuracy: 0.4673 - 124ms/epoch - 1ms/step\n",
      "Epoch 54/70\n",
      "\n",
      "Epoch 54: val_accuracy did not improve from 0.56050\n",
      "90/90 - 0s - loss: 0.6933 - accuracy: 0.5059 - val_loss: 0.6940 - val_accuracy: 0.4687 - 133ms/epoch - 1ms/step\n",
      "Epoch 55/70\n",
      "\n",
      "Epoch 55: val_accuracy did not improve from 0.56050\n",
      "90/90 - 0s - loss: 0.6934 - accuracy: 0.4997 - val_loss: 0.6939 - val_accuracy: 0.4687 - 121ms/epoch - 1ms/step\n",
      "Epoch 56/70\n",
      "\n",
      "Epoch 56: val_accuracy did not improve from 0.56050\n",
      "90/90 - 0s - loss: 0.6937 - accuracy: 0.5024 - val_loss: 0.6939 - val_accuracy: 0.4687 - 123ms/epoch - 1ms/step\n",
      "Epoch 57/70\n",
      "\n",
      "Epoch 57: val_accuracy did not improve from 0.56050\n",
      "90/90 - 0s - loss: 0.6932 - accuracy: 0.5063 - val_loss: 0.6942 - val_accuracy: 0.4687 - 144ms/epoch - 2ms/step\n",
      "Epoch 58/70\n",
      "\n",
      "Epoch 58: val_accuracy did not improve from 0.56050\n",
      "90/90 - 0s - loss: 0.6936 - accuracy: 0.5014 - val_loss: 0.6943 - val_accuracy: 0.4687 - 134ms/epoch - 1ms/step\n",
      "Epoch 59/70\n",
      "\n",
      "Epoch 59: val_accuracy did not improve from 0.56050\n",
      "90/90 - 0s - loss: 0.6926 - accuracy: 0.5084 - val_loss: 0.6942 - val_accuracy: 0.4687 - 134ms/epoch - 1ms/step\n",
      "Epoch 60/70\n",
      "\n",
      "Epoch 60: val_accuracy did not improve from 0.56050\n",
      "90/90 - 0s - loss: 0.6926 - accuracy: 0.5129 - val_loss: 0.6942 - val_accuracy: 0.4701 - 169ms/epoch - 2ms/step\n",
      "Epoch 61/70\n",
      "\n",
      "Epoch 61: val_accuracy did not improve from 0.56050\n",
      "90/90 - 0s - loss: 0.6923 - accuracy: 0.5153 - val_loss: 0.6941 - val_accuracy: 0.4659 - 125ms/epoch - 1ms/step\n",
      "Epoch 62/70\n",
      "\n",
      "Epoch 62: val_accuracy did not improve from 0.56050\n",
      "90/90 - 0s - loss: 0.6941 - accuracy: 0.5038 - val_loss: 0.6941 - val_accuracy: 0.4659 - 122ms/epoch - 1ms/step\n",
      "Epoch 63/70\n",
      "\n",
      "Epoch 63: val_accuracy did not improve from 0.56050\n",
      "90/90 - 0s - loss: 0.6939 - accuracy: 0.5052 - val_loss: 0.6938 - val_accuracy: 0.4687 - 155ms/epoch - 2ms/step\n",
      "Epoch 64/70\n",
      "\n",
      "Epoch 64: val_accuracy did not improve from 0.56050\n",
      "90/90 - 0s - loss: 0.6927 - accuracy: 0.5094 - val_loss: 0.6936 - val_accuracy: 0.4673 - 120ms/epoch - 1ms/step\n",
      "Epoch 65/70\n",
      "\n",
      "Epoch 65: val_accuracy did not improve from 0.56050\n",
      "90/90 - 0s - loss: 0.6932 - accuracy: 0.5170 - val_loss: 0.6938 - val_accuracy: 0.4701 - 116ms/epoch - 1ms/step\n",
      "Epoch 66/70\n",
      "\n",
      "Epoch 66: val_accuracy did not improve from 0.56050\n",
      "90/90 - 0s - loss: 0.6939 - accuracy: 0.5052 - val_loss: 0.6936 - val_accuracy: 0.4701 - 116ms/epoch - 1ms/step\n",
      "Epoch 67/70\n",
      "\n",
      "Epoch 67: val_accuracy did not improve from 0.56050\n",
      "90/90 - 0s - loss: 0.6938 - accuracy: 0.4948 - val_loss: 0.6938 - val_accuracy: 0.4687 - 116ms/epoch - 1ms/step\n",
      "Epoch 68/70\n",
      "\n",
      "Epoch 68: val_accuracy did not improve from 0.56050\n",
      "90/90 - 0s - loss: 0.6938 - accuracy: 0.4889 - val_loss: 0.6942 - val_accuracy: 0.4673 - 115ms/epoch - 1ms/step\n",
      "Epoch 69/70\n",
      "\n",
      "Epoch 69: val_accuracy did not improve from 0.56050\n",
      "90/90 - 0s - loss: 0.6929 - accuracy: 0.5143 - val_loss: 0.6943 - val_accuracy: 0.4687 - 155ms/epoch - 2ms/step\n",
      "Epoch 70/70\n",
      "\n",
      "Epoch 70: val_accuracy did not improve from 0.56050\n",
      "90/90 - 0s - loss: 0.6933 - accuracy: 0.5132 - val_loss: 0.6942 - val_accuracy: 0.4687 - 203ms/epoch - 2ms/step\n"
     ]
    }
   ],
   "source": [
    "model0.compile(optimizer=\"adam\", loss=\"categorical_crossentropy\", metrics=[\"accuracy\"])\n",
    "\n",
    "checkpoint0 = ModelCheckpoint(\"best_model0.hdf5\", monitor='val_accuracy', verbose=1,save_best_only=True, mode='auto', period=1, save_weights_only=False)\n",
    "\n",
    "history = model0.fit(X_train, y_train,\n",
    "                     validation_data=(X_test, y_test),\n",
    "                     verbose=2,\n",
    "                     epochs=70,\n",
    "                     batch_size=32,\n",
    "                     shuffle=True,\n",
    "                     callbacks=[checkpoint0])"
   ],
   "metadata": {
    "collapsed": false,
    "pycharm": {
     "name": "#%%\n"
    }
   }
  },
  {
   "cell_type": "code",
   "execution_count": 28,
   "outputs": [],
   "source": [
    "# Neural network creation\n",
    "model1 = Sequential()\n",
    "\n",
    "model1.add(layers.Embedding(max_words, 20))\n",
    "model1.add(layers.SpatialDropout1D(0.2))\n",
    "model1.add(layers.LSTM(30, dropout=0.2, recurrent_dropout=0.2))\n",
    "\n",
    "model1.add(layers.Dense(2, activation='sigmoid'))"
   ],
   "metadata": {
    "collapsed": false,
    "pycharm": {
     "name": "#%%\n"
    }
   }
  },
  {
   "cell_type": "code",
   "execution_count": 29,
   "outputs": [
    {
     "name": "stdout",
     "output_type": "stream",
     "text": [
      "WARNING:tensorflow:`period` argument is deprecated. Please use `save_freq` to specify the frequency in number of batches seen.\n",
      "Epoch 1/70\n",
      "\n",
      "Epoch 1: val_accuracy improved from -inf to 0.48122, saving model to best_model1.hdf5\n",
      "90/90 - 9s - loss: 0.6934 - accuracy: 0.5084 - val_loss: 0.6941 - val_accuracy: 0.4812 - 9s/epoch - 102ms/step\n",
      "Epoch 2/70\n",
      "\n",
      "Epoch 2: val_accuracy improved from 0.48122 to 0.48818, saving model to best_model1.hdf5\n",
      "90/90 - 7s - loss: 0.6834 - accuracy: 0.5932 - val_loss: 0.6955 - val_accuracy: 0.4882 - 7s/epoch - 80ms/step\n",
      "Epoch 3/70\n",
      "\n",
      "Epoch 3: val_accuracy did not improve from 0.48818\n",
      "90/90 - 7s - loss: 0.5822 - accuracy: 0.7039 - val_loss: 0.7645 - val_accuracy: 0.4812 - 7s/epoch - 79ms/step\n",
      "Epoch 4/70\n",
      "\n",
      "Epoch 4: val_accuracy improved from 0.48818 to 0.48957, saving model to best_model1.hdf5\n",
      "90/90 - 7s - loss: 0.4192 - accuracy: 0.8065 - val_loss: 0.9007 - val_accuracy: 0.4896 - 7s/epoch - 79ms/step\n",
      "Epoch 5/70\n",
      "\n",
      "Epoch 5: val_accuracy improved from 0.48957 to 0.50487, saving model to best_model1.hdf5\n",
      "90/90 - 7s - loss: 0.3296 - accuracy: 0.8469 - val_loss: 1.0391 - val_accuracy: 0.5049 - 7s/epoch - 77ms/step\n",
      "Epoch 6/70\n",
      "\n",
      "Epoch 6: val_accuracy did not improve from 0.50487\n",
      "90/90 - 7s - loss: 0.2645 - accuracy: 0.8720 - val_loss: 1.2544 - val_accuracy: 0.5049 - 7s/epoch - 76ms/step\n",
      "Epoch 7/70\n",
      "\n",
      "Epoch 7: val_accuracy improved from 0.50487 to 0.50904, saving model to best_model1.hdf5\n",
      "90/90 - 7s - loss: 0.2375 - accuracy: 0.8921 - val_loss: 1.2479 - val_accuracy: 0.5090 - 7s/epoch - 75ms/step\n",
      "Epoch 8/70\n",
      "\n",
      "Epoch 8: val_accuracy improved from 0.50904 to 0.51739, saving model to best_model1.hdf5\n",
      "90/90 - 7s - loss: 0.2078 - accuracy: 0.9043 - val_loss: 1.4640 - val_accuracy: 0.5174 - 7s/epoch - 79ms/step\n",
      "Epoch 9/70\n",
      "\n",
      "Epoch 9: val_accuracy did not improve from 0.51739\n",
      "90/90 - 7s - loss: 0.1934 - accuracy: 0.9071 - val_loss: 1.5136 - val_accuracy: 0.4993 - 7s/epoch - 78ms/step\n",
      "Epoch 10/70\n",
      "\n",
      "Epoch 10: val_accuracy did not improve from 0.51739\n",
      "90/90 - 7s - loss: 0.1870 - accuracy: 0.9054 - val_loss: 1.6194 - val_accuracy: 0.5104 - 7s/epoch - 75ms/step\n",
      "Epoch 11/70\n",
      "\n",
      "Epoch 11: val_accuracy did not improve from 0.51739\n",
      "90/90 - 7s - loss: 0.1687 - accuracy: 0.9158 - val_loss: 1.7530 - val_accuracy: 0.5049 - 7s/epoch - 75ms/step\n",
      "Epoch 12/70\n",
      "\n",
      "Epoch 12: val_accuracy did not improve from 0.51739\n",
      "90/90 - 6s - loss: 0.1596 - accuracy: 0.9189 - val_loss: 1.7741 - val_accuracy: 0.5104 - 6s/epoch - 72ms/step\n",
      "Epoch 13/70\n",
      "\n",
      "Epoch 13: val_accuracy did not improve from 0.51739\n",
      "90/90 - 7s - loss: 0.1600 - accuracy: 0.9231 - val_loss: 1.9167 - val_accuracy: 0.5049 - 7s/epoch - 75ms/step\n",
      "Epoch 14/70\n",
      "\n",
      "Epoch 14: val_accuracy did not improve from 0.51739\n",
      "90/90 - 7s - loss: 0.1505 - accuracy: 0.9231 - val_loss: 1.9920 - val_accuracy: 0.5132 - 7s/epoch - 75ms/step\n",
      "Epoch 15/70\n",
      "\n",
      "Epoch 15: val_accuracy did not improve from 0.51739\n",
      "90/90 - 7s - loss: 0.1497 - accuracy: 0.9255 - val_loss: 2.0184 - val_accuracy: 0.5090 - 7s/epoch - 80ms/step\n",
      "Epoch 16/70\n",
      "\n",
      "Epoch 16: val_accuracy did not improve from 0.51739\n",
      "90/90 - 7s - loss: 0.1454 - accuracy: 0.9283 - val_loss: 1.9853 - val_accuracy: 0.5063 - 7s/epoch - 82ms/step\n",
      "Epoch 17/70\n",
      "\n",
      "Epoch 17: val_accuracy improved from 0.51739 to 0.51878, saving model to best_model1.hdf5\n",
      "90/90 - 7s - loss: 0.1372 - accuracy: 0.9318 - val_loss: 2.1157 - val_accuracy: 0.5188 - 7s/epoch - 81ms/step\n",
      "Epoch 18/70\n",
      "\n",
      "Epoch 18: val_accuracy did not improve from 0.51878\n",
      "90/90 - 7s - loss: 0.1454 - accuracy: 0.9217 - val_loss: 2.1851 - val_accuracy: 0.5174 - 7s/epoch - 77ms/step\n",
      "Epoch 19/70\n",
      "\n",
      "Epoch 19: val_accuracy did not improve from 0.51878\n",
      "90/90 - 7s - loss: 0.1403 - accuracy: 0.9262 - val_loss: 2.1554 - val_accuracy: 0.5090 - 7s/epoch - 79ms/step\n",
      "Epoch 20/70\n",
      "\n",
      "Epoch 20: val_accuracy improved from 0.51878 to 0.52017, saving model to best_model1.hdf5\n",
      "90/90 - 7s - loss: 0.1362 - accuracy: 0.9325 - val_loss: 2.0728 - val_accuracy: 0.5202 - 7s/epoch - 77ms/step\n",
      "Epoch 21/70\n",
      "\n",
      "Epoch 21: val_accuracy did not improve from 0.52017\n",
      "90/90 - 7s - loss: 0.1337 - accuracy: 0.9325 - val_loss: 2.2855 - val_accuracy: 0.5188 - 7s/epoch - 73ms/step\n",
      "Epoch 22/70\n",
      "\n",
      "Epoch 22: val_accuracy improved from 0.52017 to 0.52295, saving model to best_model1.hdf5\n",
      "90/90 - 7s - loss: 0.1300 - accuracy: 0.9304 - val_loss: 2.1839 - val_accuracy: 0.5229 - 7s/epoch - 73ms/step\n",
      "Epoch 23/70\n",
      "\n",
      "Epoch 23: val_accuracy did not improve from 0.52295\n",
      "90/90 - 7s - loss: 0.1420 - accuracy: 0.9283 - val_loss: 2.2627 - val_accuracy: 0.5118 - 7s/epoch - 73ms/step\n",
      "Epoch 24/70\n",
      "\n",
      "Epoch 24: val_accuracy improved from 0.52295 to 0.52434, saving model to best_model1.hdf5\n",
      "90/90 - 7s - loss: 0.1303 - accuracy: 0.9311 - val_loss: 2.2389 - val_accuracy: 0.5243 - 7s/epoch - 74ms/step\n",
      "Epoch 25/70\n",
      "\n",
      "Epoch 25: val_accuracy did not improve from 0.52434\n",
      "90/90 - 7s - loss: 0.1297 - accuracy: 0.9304 - val_loss: 2.4346 - val_accuracy: 0.4965 - 7s/epoch - 79ms/step\n",
      "Epoch 26/70\n",
      "\n",
      "Epoch 26: val_accuracy did not improve from 0.52434\n",
      "90/90 - 7s - loss: 0.1239 - accuracy: 0.9391 - val_loss: 2.3982 - val_accuracy: 0.5090 - 7s/epoch - 73ms/step\n",
      "Epoch 27/70\n",
      "\n",
      "Epoch 27: val_accuracy did not improve from 0.52434\n",
      "90/90 - 7s - loss: 0.1237 - accuracy: 0.9335 - val_loss: 2.4501 - val_accuracy: 0.5076 - 7s/epoch - 73ms/step\n",
      "Epoch 28/70\n",
      "\n",
      "Epoch 28: val_accuracy did not improve from 0.52434\n",
      "90/90 - 7s - loss: 0.1300 - accuracy: 0.9252 - val_loss: 2.4636 - val_accuracy: 0.5202 - 7s/epoch - 75ms/step\n",
      "Epoch 29/70\n",
      "\n",
      "Epoch 29: val_accuracy did not improve from 0.52434\n",
      "90/90 - 7s - loss: 0.1216 - accuracy: 0.9395 - val_loss: 2.3308 - val_accuracy: 0.5229 - 7s/epoch - 77ms/step\n",
      "Epoch 30/70\n",
      "\n",
      "Epoch 30: val_accuracy did not improve from 0.52434\n",
      "90/90 - 7s - loss: 0.1214 - accuracy: 0.9377 - val_loss: 2.6526 - val_accuracy: 0.5160 - 7s/epoch - 77ms/step\n",
      "Epoch 31/70\n",
      "\n",
      "Epoch 31: val_accuracy did not improve from 0.52434\n",
      "90/90 - 7s - loss: 0.1201 - accuracy: 0.9370 - val_loss: 2.5028 - val_accuracy: 0.5216 - 7s/epoch - 81ms/step\n",
      "Epoch 32/70\n",
      "\n",
      "Epoch 32: val_accuracy did not improve from 0.52434\n",
      "90/90 - 7s - loss: 0.1208 - accuracy: 0.9325 - val_loss: 2.4821 - val_accuracy: 0.5063 - 7s/epoch - 76ms/step\n",
      "Epoch 33/70\n",
      "\n",
      "Epoch 33: val_accuracy improved from 0.52434 to 0.52712, saving model to best_model1.hdf5\n",
      "90/90 - 7s - loss: 0.1169 - accuracy: 0.9374 - val_loss: 2.6425 - val_accuracy: 0.5271 - 7s/epoch - 78ms/step\n",
      "Epoch 34/70\n",
      "\n",
      "Epoch 34: val_accuracy did not improve from 0.52712\n",
      "90/90 - 7s - loss: 0.1154 - accuracy: 0.9422 - val_loss: 2.6686 - val_accuracy: 0.5243 - 7s/epoch - 75ms/step\n",
      "Epoch 35/70\n",
      "\n",
      "Epoch 35: val_accuracy did not improve from 0.52712\n",
      "90/90 - 7s - loss: 0.1183 - accuracy: 0.9398 - val_loss: 2.4859 - val_accuracy: 0.5257 - 7s/epoch - 73ms/step\n",
      "Epoch 36/70\n",
      "\n",
      "Epoch 36: val_accuracy improved from 0.52712 to 0.52851, saving model to best_model1.hdf5\n",
      "90/90 - 7s - loss: 0.1161 - accuracy: 0.9391 - val_loss: 2.4651 - val_accuracy: 0.5285 - 7s/epoch - 79ms/step\n",
      "Epoch 37/70\n",
      "\n",
      "Epoch 37: val_accuracy did not improve from 0.52851\n",
      "90/90 - 7s - loss: 0.1173 - accuracy: 0.9384 - val_loss: 2.6476 - val_accuracy: 0.5229 - 7s/epoch - 75ms/step\n",
      "Epoch 38/70\n",
      "\n",
      "Epoch 38: val_accuracy did not improve from 0.52851\n",
      "90/90 - 7s - loss: 0.1170 - accuracy: 0.9395 - val_loss: 2.7919 - val_accuracy: 0.5216 - 7s/epoch - 75ms/step\n",
      "Epoch 39/70\n",
      "\n",
      "Epoch 39: val_accuracy did not improve from 0.52851\n",
      "90/90 - 7s - loss: 0.1115 - accuracy: 0.9405 - val_loss: 2.6742 - val_accuracy: 0.5174 - 7s/epoch - 73ms/step\n",
      "Epoch 40/70\n",
      "\n",
      "Epoch 40: val_accuracy did not improve from 0.52851\n",
      "90/90 - 7s - loss: 0.1128 - accuracy: 0.9377 - val_loss: 2.8586 - val_accuracy: 0.5202 - 7s/epoch - 73ms/step\n",
      "Epoch 41/70\n",
      "\n",
      "Epoch 41: val_accuracy improved from 0.52851 to 0.52990, saving model to best_model1.hdf5\n",
      "90/90 - 7s - loss: 0.1160 - accuracy: 0.9405 - val_loss: 2.6280 - val_accuracy: 0.5299 - 7s/epoch - 78ms/step\n",
      "Epoch 42/70\n",
      "\n",
      "Epoch 42: val_accuracy did not improve from 0.52990\n",
      "90/90 - 7s - loss: 0.1145 - accuracy: 0.9398 - val_loss: 2.8001 - val_accuracy: 0.5202 - 7s/epoch - 76ms/step\n",
      "Epoch 43/70\n",
      "\n",
      "Epoch 43: val_accuracy did not improve from 0.52990\n",
      "90/90 - 7s - loss: 0.1161 - accuracy: 0.9353 - val_loss: 2.8543 - val_accuracy: 0.5063 - 7s/epoch - 75ms/step\n",
      "Epoch 44/70\n",
      "\n",
      "Epoch 44: val_accuracy did not improve from 0.52990\n",
      "90/90 - 7s - loss: 0.1170 - accuracy: 0.9402 - val_loss: 2.5930 - val_accuracy: 0.5188 - 7s/epoch - 77ms/step\n",
      "Epoch 45/70\n",
      "\n",
      "Epoch 45: val_accuracy did not improve from 0.52990\n",
      "90/90 - 7s - loss: 0.1111 - accuracy: 0.9415 - val_loss: 2.5477 - val_accuracy: 0.5160 - 7s/epoch - 75ms/step\n",
      "Epoch 46/70\n",
      "\n",
      "Epoch 46: val_accuracy did not improve from 0.52990\n",
      "90/90 - 7s - loss: 0.1087 - accuracy: 0.9422 - val_loss: 2.6666 - val_accuracy: 0.5035 - 7s/epoch - 74ms/step\n",
      "Epoch 47/70\n",
      "\n",
      "Epoch 47: val_accuracy did not improve from 0.52990\n",
      "90/90 - 7s - loss: 0.1083 - accuracy: 0.9440 - val_loss: 2.7282 - val_accuracy: 0.5049 - 7s/epoch - 73ms/step\n",
      "Epoch 48/70\n",
      "\n",
      "Epoch 48: val_accuracy did not improve from 0.52990\n",
      "90/90 - 7s - loss: 0.1107 - accuracy: 0.9384 - val_loss: 2.6358 - val_accuracy: 0.5090 - 7s/epoch - 76ms/step\n",
      "Epoch 49/70\n",
      "\n",
      "Epoch 49: val_accuracy did not improve from 0.52990\n",
      "90/90 - 7s - loss: 0.1076 - accuracy: 0.9433 - val_loss: 2.9424 - val_accuracy: 0.4951 - 7s/epoch - 78ms/step\n",
      "Epoch 50/70\n",
      "\n",
      "Epoch 50: val_accuracy did not improve from 0.52990\n",
      "90/90 - 7s - loss: 0.1071 - accuracy: 0.9391 - val_loss: 2.9894 - val_accuracy: 0.5104 - 7s/epoch - 76ms/step\n",
      "Epoch 51/70\n",
      "\n",
      "Epoch 51: val_accuracy did not improve from 0.52990\n",
      "90/90 - 7s - loss: 0.1068 - accuracy: 0.9454 - val_loss: 3.1198 - val_accuracy: 0.5118 - 7s/epoch - 76ms/step\n",
      "Epoch 52/70\n",
      "\n",
      "Epoch 52: val_accuracy did not improve from 0.52990\n",
      "90/90 - 7s - loss: 0.1121 - accuracy: 0.9412 - val_loss: 3.0780 - val_accuracy: 0.5090 - 7s/epoch - 75ms/step\n",
      "Epoch 53/70\n",
      "\n",
      "Epoch 53: val_accuracy did not improve from 0.52990\n",
      "90/90 - 7s - loss: 0.1087 - accuracy: 0.9447 - val_loss: 3.1696 - val_accuracy: 0.5090 - 7s/epoch - 74ms/step\n",
      "Epoch 54/70\n",
      "\n",
      "Epoch 54: val_accuracy did not improve from 0.52990\n",
      "90/90 - 7s - loss: 0.1066 - accuracy: 0.9433 - val_loss: 3.0512 - val_accuracy: 0.5035 - 7s/epoch - 74ms/step\n",
      "Epoch 55/70\n",
      "\n",
      "Epoch 55: val_accuracy did not improve from 0.52990\n",
      "90/90 - 7s - loss: 0.1012 - accuracy: 0.9450 - val_loss: 3.0525 - val_accuracy: 0.4993 - 7s/epoch - 73ms/step\n",
      "Epoch 56/70\n",
      "\n",
      "Epoch 56: val_accuracy did not improve from 0.52990\n",
      "90/90 - 7s - loss: 0.1045 - accuracy: 0.9454 - val_loss: 3.1273 - val_accuracy: 0.4924 - 7s/epoch - 73ms/step\n",
      "Epoch 57/70\n",
      "\n",
      "Epoch 57: val_accuracy did not improve from 0.52990\n",
      "90/90 - 7s - loss: 0.1084 - accuracy: 0.9436 - val_loss: 2.9992 - val_accuracy: 0.5132 - 7s/epoch - 73ms/step\n",
      "Epoch 58/70\n",
      "\n",
      "Epoch 58: val_accuracy did not improve from 0.52990\n",
      "90/90 - 7s - loss: 0.0979 - accuracy: 0.9468 - val_loss: 3.1237 - val_accuracy: 0.5160 - 7s/epoch - 73ms/step\n",
      "Epoch 59/70\n",
      "\n",
      "Epoch 59: val_accuracy did not improve from 0.52990\n",
      "90/90 - 7s - loss: 0.1099 - accuracy: 0.9419 - val_loss: 2.9744 - val_accuracy: 0.5132 - 7s/epoch - 73ms/step\n",
      "Epoch 60/70\n",
      "\n",
      "Epoch 60: val_accuracy did not improve from 0.52990\n",
      "90/90 - 7s - loss: 0.1039 - accuracy: 0.9485 - val_loss: 2.9433 - val_accuracy: 0.5160 - 7s/epoch - 73ms/step\n",
      "Epoch 61/70\n",
      "\n",
      "Epoch 61: val_accuracy did not improve from 0.52990\n",
      "90/90 - 7s - loss: 0.0998 - accuracy: 0.9509 - val_loss: 3.1631 - val_accuracy: 0.5118 - 7s/epoch - 73ms/step\n",
      "Epoch 62/70\n",
      "\n",
      "Epoch 62: val_accuracy did not improve from 0.52990\n",
      "90/90 - 7s - loss: 0.1003 - accuracy: 0.9454 - val_loss: 3.2469 - val_accuracy: 0.5243 - 7s/epoch - 73ms/step\n",
      "Epoch 63/70\n",
      "\n",
      "Epoch 63: val_accuracy did not improve from 0.52990\n",
      "90/90 - 7s - loss: 0.1037 - accuracy: 0.9436 - val_loss: 3.3089 - val_accuracy: 0.5174 - 7s/epoch - 73ms/step\n",
      "Epoch 64/70\n",
      "\n",
      "Epoch 64: val_accuracy did not improve from 0.52990\n",
      "90/90 - 7s - loss: 0.1052 - accuracy: 0.9450 - val_loss: 3.2090 - val_accuracy: 0.5160 - 7s/epoch - 73ms/step\n",
      "Epoch 65/70\n",
      "\n",
      "Epoch 65: val_accuracy did not improve from 0.52990\n",
      "90/90 - 7s - loss: 0.1017 - accuracy: 0.9450 - val_loss: 3.1693 - val_accuracy: 0.5118 - 7s/epoch - 73ms/step\n",
      "Epoch 66/70\n",
      "\n",
      "Epoch 66: val_accuracy did not improve from 0.52990\n",
      "90/90 - 7s - loss: 0.1024 - accuracy: 0.9485 - val_loss: 3.1420 - val_accuracy: 0.5174 - 7s/epoch - 74ms/step\n",
      "Epoch 67/70\n",
      "\n",
      "Epoch 67: val_accuracy did not improve from 0.52990\n",
      "90/90 - 7s - loss: 0.1006 - accuracy: 0.9450 - val_loss: 2.8507 - val_accuracy: 0.5104 - 7s/epoch - 77ms/step\n",
      "Epoch 68/70\n",
      "\n",
      "Epoch 68: val_accuracy did not improve from 0.52990\n",
      "90/90 - 7s - loss: 0.0983 - accuracy: 0.9478 - val_loss: 3.1881 - val_accuracy: 0.5146 - 7s/epoch - 74ms/step\n",
      "Epoch 69/70\n",
      "\n",
      "Epoch 69: val_accuracy did not improve from 0.52990\n",
      "90/90 - 7s - loss: 0.0950 - accuracy: 0.9489 - val_loss: 3.1246 - val_accuracy: 0.5104 - 7s/epoch - 74ms/step\n",
      "Epoch 70/70\n",
      "\n",
      "Epoch 70: val_accuracy did not improve from 0.52990\n",
      "90/90 - 7s - loss: 0.0998 - accuracy: 0.9482 - val_loss: 3.2921 - val_accuracy: 0.5146 - 7s/epoch - 73ms/step\n"
     ]
    }
   ],
   "source": [
    "model1.compile(optimizer='adam',loss='categorical_crossentropy', metrics=['accuracy'])\n",
    "\n",
    "#Implementing model checkpoins to save the best metric and do not lose it on training.\n",
    "checkpoint1 = ModelCheckpoint(\"best_model1.hdf5\", monitor='val_accuracy', verbose=1,save_best_only=True, mode='auto', period=1, save_weights_only=False)\n",
    "\n",
    "history = model1.fit(X_train, y_train, epochs=70,\n",
    "                     batch_size=32,\n",
    "                     verbose=2,\n",
    "                     validation_data=(X_test, y_test),callbacks=[checkpoint1])"
   ],
   "metadata": {
    "collapsed": false,
    "pycharm": {
     "name": "#%%\n"
    }
   }
  },
  {
   "cell_type": "code",
   "execution_count": 30,
   "outputs": [
    {
     "name": "stderr",
     "output_type": "stream",
     "text": [
      "2023-05-08 19:57:38.846031: I tensorflow/core/common_runtime/executor.cc:1197] [/device:CPU:0] (DEBUG INFO) Executor start aborting (this does not indicate an error and you can ignore this message): INVALID_ARGUMENT: You must feed a value for placeholder tensor 'gradients/split_2_grad/concat/split_2/split_dim' with dtype int32\n",
      "\t [[{{node gradients/split_2_grad/concat/split_2/split_dim}}]]\n",
      "2023-05-08 19:57:38.847216: I tensorflow/core/common_runtime/executor.cc:1197] [/device:CPU:0] (DEBUG INFO) Executor start aborting (this does not indicate an error and you can ignore this message): INVALID_ARGUMENT: You must feed a value for placeholder tensor 'gradients/split_grad/concat/split/split_dim' with dtype int32\n",
      "\t [[{{node gradients/split_grad/concat/split/split_dim}}]]\n",
      "2023-05-08 19:57:38.848098: I tensorflow/core/common_runtime/executor.cc:1197] [/device:CPU:0] (DEBUG INFO) Executor start aborting (this does not indicate an error and you can ignore this message): INVALID_ARGUMENT: You must feed a value for placeholder tensor 'gradients/split_1_grad/concat/split_1/split_dim' with dtype int32\n",
      "\t [[{{node gradients/split_1_grad/concat/split_1/split_dim}}]]\n",
      "2023-05-08 19:57:38.958640: I tensorflow/core/common_runtime/executor.cc:1197] [/device:CPU:0] (DEBUG INFO) Executor start aborting (this does not indicate an error and you can ignore this message): INVALID_ARGUMENT: You must feed a value for placeholder tensor 'gradients/ReverseV2_grad/ReverseV2/ReverseV2/axis' with dtype int32 and shape [1]\n",
      "\t [[{{node gradients/ReverseV2_grad/ReverseV2/ReverseV2/axis}}]]\n",
      "2023-05-08 19:57:38.997559: I tensorflow/core/common_runtime/executor.cc:1197] [/device:CPU:0] (DEBUG INFO) Executor start aborting (this does not indicate an error and you can ignore this message): INVALID_ARGUMENT: You must feed a value for placeholder tensor 'gradients/split_2_grad/concat/split_2/split_dim' with dtype int32\n",
      "\t [[{{node gradients/split_2_grad/concat/split_2/split_dim}}]]\n",
      "2023-05-08 19:57:38.998506: I tensorflow/core/common_runtime/executor.cc:1197] [/device:CPU:0] (DEBUG INFO) Executor start aborting (this does not indicate an error and you can ignore this message): INVALID_ARGUMENT: You must feed a value for placeholder tensor 'gradients/split_grad/concat/split/split_dim' with dtype int32\n",
      "\t [[{{node gradients/split_grad/concat/split/split_dim}}]]\n",
      "2023-05-08 19:57:38.999411: I tensorflow/core/common_runtime/executor.cc:1197] [/device:CPU:0] (DEBUG INFO) Executor start aborting (this does not indicate an error and you can ignore this message): INVALID_ARGUMENT: You must feed a value for placeholder tensor 'gradients/split_1_grad/concat/split_1/split_dim' with dtype int32\n",
      "\t [[{{node gradients/split_1_grad/concat/split_1/split_dim}}]]\n"
     ]
    }
   ],
   "source": [
    "model2 = Sequential()\n",
    "model2.add(layers.Embedding(max_words, 15, input_length=max_len))\n",
    "model2.add(layers.Bidirectional(layers.LSTM(10,dropout=0.6)))\n",
    "model2.add(layers.Dense(2, activation='sigmoid'))\n",
    "model2.compile(optimizer='rmsprop',loss='categorical_crossentropy', metrics=['accuracy'])"
   ],
   "metadata": {
    "collapsed": false,
    "pycharm": {
     "name": "#%%\n"
    }
   }
  },
  {
   "cell_type": "code",
   "execution_count": 31,
   "outputs": [
    {
     "name": "stdout",
     "output_type": "stream",
     "text": [
      "WARNING:tensorflow:`period` argument is deprecated. Please use `save_freq` to specify the frequency in number of batches seen.\n",
      "Epoch 1/70\n"
     ]
    },
    {
     "name": "stderr",
     "output_type": "stream",
     "text": [
      "2023-05-08 19:57:39.235893: I tensorflow/core/common_runtime/executor.cc:1197] [/device:CPU:0] (DEBUG INFO) Executor start aborting (this does not indicate an error and you can ignore this message): INVALID_ARGUMENT: You must feed a value for placeholder tensor 'gradients/split_2_grad/concat/split_2/split_dim' with dtype int32\n",
      "\t [[{{node gradients/split_2_grad/concat/split_2/split_dim}}]]\n",
      "2023-05-08 19:57:39.237253: I tensorflow/core/common_runtime/executor.cc:1197] [/device:CPU:0] (DEBUG INFO) Executor start aborting (this does not indicate an error and you can ignore this message): INVALID_ARGUMENT: You must feed a value for placeholder tensor 'gradients/split_grad/concat/split/split_dim' with dtype int32\n",
      "\t [[{{node gradients/split_grad/concat/split/split_dim}}]]\n",
      "2023-05-08 19:57:39.238228: I tensorflow/core/common_runtime/executor.cc:1197] [/device:CPU:0] (DEBUG INFO) Executor start aborting (this does not indicate an error and you can ignore this message): INVALID_ARGUMENT: You must feed a value for placeholder tensor 'gradients/split_1_grad/concat/split_1/split_dim' with dtype int32\n",
      "\t [[{{node gradients/split_1_grad/concat/split_1/split_dim}}]]\n",
      "2023-05-08 19:57:39.366140: I tensorflow/core/common_runtime/executor.cc:1197] [/device:CPU:0] (DEBUG INFO) Executor start aborting (this does not indicate an error and you can ignore this message): INVALID_ARGUMENT: You must feed a value for placeholder tensor 'gradients/ReverseV2_grad/ReverseV2/ReverseV2/axis' with dtype int32 and shape [1]\n",
      "\t [[{{node gradients/ReverseV2_grad/ReverseV2/ReverseV2/axis}}]]\n",
      "2023-05-08 19:57:39.407873: I tensorflow/core/common_runtime/executor.cc:1197] [/device:CPU:0] (DEBUG INFO) Executor start aborting (this does not indicate an error and you can ignore this message): INVALID_ARGUMENT: You must feed a value for placeholder tensor 'gradients/split_2_grad/concat/split_2/split_dim' with dtype int32\n",
      "\t [[{{node gradients/split_2_grad/concat/split_2/split_dim}}]]\n",
      "2023-05-08 19:57:39.409003: I tensorflow/core/common_runtime/executor.cc:1197] [/device:CPU:0] (DEBUG INFO) Executor start aborting (this does not indicate an error and you can ignore this message): INVALID_ARGUMENT: You must feed a value for placeholder tensor 'gradients/split_grad/concat/split/split_dim' with dtype int32\n",
      "\t [[{{node gradients/split_grad/concat/split/split_dim}}]]\n",
      "2023-05-08 19:57:39.409958: I tensorflow/core/common_runtime/executor.cc:1197] [/device:CPU:0] (DEBUG INFO) Executor start aborting (this does not indicate an error and you can ignore this message): INVALID_ARGUMENT: You must feed a value for placeholder tensor 'gradients/split_1_grad/concat/split_1/split_dim' with dtype int32\n",
      "\t [[{{node gradients/split_1_grad/concat/split_1/split_dim}}]]\n",
      "2023-05-08 19:57:39.805886: I tensorflow/core/common_runtime/executor.cc:1197] [/device:CPU:0] (DEBUG INFO) Executor start aborting (this does not indicate an error and you can ignore this message): INVALID_ARGUMENT: You must feed a value for placeholder tensor 'gradients/ReverseV2_grad/ReverseV2/ReverseV2/axis' with dtype int32 and shape [1]\n",
      "\t [[{{node gradients/ReverseV2_grad/ReverseV2/ReverseV2/axis}}]]\n",
      "2023-05-08 19:57:40.102086: I tensorflow/core/common_runtime/executor.cc:1197] [/device:CPU:0] (DEBUG INFO) Executor start aborting (this does not indicate an error and you can ignore this message): INVALID_ARGUMENT: You must feed a value for placeholder tensor 'gradients/split_2_grad/concat/split_2/split_dim' with dtype int32\n",
      "\t [[{{node gradients/split_2_grad/concat/split_2/split_dim}}]]\n",
      "2023-05-08 19:57:40.103617: I tensorflow/core/common_runtime/executor.cc:1197] [/device:CPU:0] (DEBUG INFO) Executor start aborting (this does not indicate an error and you can ignore this message): INVALID_ARGUMENT: You must feed a value for placeholder tensor 'gradients/split_grad/concat/split/split_dim' with dtype int32\n",
      "\t [[{{node gradients/split_grad/concat/split/split_dim}}]]\n",
      "2023-05-08 19:57:40.104636: I tensorflow/core/common_runtime/executor.cc:1197] [/device:CPU:0] (DEBUG INFO) Executor start aborting (this does not indicate an error and you can ignore this message): INVALID_ARGUMENT: You must feed a value for placeholder tensor 'gradients/split_1_grad/concat/split_1/split_dim' with dtype int32\n",
      "\t [[{{node gradients/split_1_grad/concat/split_1/split_dim}}]]\n",
      "2023-05-08 19:57:40.235518: I tensorflow/core/common_runtime/executor.cc:1197] [/device:CPU:0] (DEBUG INFO) Executor start aborting (this does not indicate an error and you can ignore this message): INVALID_ARGUMENT: You must feed a value for placeholder tensor 'gradients/ReverseV2_grad/ReverseV2/ReverseV2/axis' with dtype int32 and shape [1]\n",
      "\t [[{{node gradients/ReverseV2_grad/ReverseV2/ReverseV2/axis}}]]\n",
      "2023-05-08 19:57:40.277231: I tensorflow/core/common_runtime/executor.cc:1197] [/device:CPU:0] (DEBUG INFO) Executor start aborting (this does not indicate an error and you can ignore this message): INVALID_ARGUMENT: You must feed a value for placeholder tensor 'gradients/split_2_grad/concat/split_2/split_dim' with dtype int32\n",
      "\t [[{{node gradients/split_2_grad/concat/split_2/split_dim}}]]\n",
      "2023-05-08 19:57:40.278298: I tensorflow/core/common_runtime/executor.cc:1197] [/device:CPU:0] (DEBUG INFO) Executor start aborting (this does not indicate an error and you can ignore this message): INVALID_ARGUMENT: You must feed a value for placeholder tensor 'gradients/split_grad/concat/split/split_dim' with dtype int32\n",
      "\t [[{{node gradients/split_grad/concat/split/split_dim}}]]\n",
      "2023-05-08 19:57:40.279262: I tensorflow/core/common_runtime/executor.cc:1197] [/device:CPU:0] (DEBUG INFO) Executor start aborting (this does not indicate an error and you can ignore this message): INVALID_ARGUMENT: You must feed a value for placeholder tensor 'gradients/split_1_grad/concat/split_1/split_dim' with dtype int32\n",
      "\t [[{{node gradients/split_1_grad/concat/split_1/split_dim}}]]\n",
      "2023-05-08 19:57:40.668920: I tensorflow/core/common_runtime/executor.cc:1197] [/device:CPU:0] (DEBUG INFO) Executor start aborting (this does not indicate an error and you can ignore this message): INVALID_ARGUMENT: You must feed a value for placeholder tensor 'gradients/ReverseV2_grad/ReverseV2/ReverseV2/axis' with dtype int32 and shape [1]\n",
      "\t [[{{node gradients/ReverseV2_grad/ReverseV2/ReverseV2/axis}}]]\n"
     ]
    },
    {
     "name": "stdout",
     "output_type": "stream",
     "text": [
      "89/90 [============================>.] - ETA: 0s - loss: 0.6930 - accuracy: 0.5172"
     ]
    },
    {
     "name": "stderr",
     "output_type": "stream",
     "text": [
      "2023-05-08 19:57:45.162290: I tensorflow/core/common_runtime/executor.cc:1197] [/device:CPU:0] (DEBUG INFO) Executor start aborting (this does not indicate an error and you can ignore this message): INVALID_ARGUMENT: You must feed a value for placeholder tensor 'gradients/split_2_grad/concat/split_2/split_dim' with dtype int32\n",
      "\t [[{{node gradients/split_2_grad/concat/split_2/split_dim}}]]\n",
      "2023-05-08 19:57:45.163484: I tensorflow/core/common_runtime/executor.cc:1197] [/device:CPU:0] (DEBUG INFO) Executor start aborting (this does not indicate an error and you can ignore this message): INVALID_ARGUMENT: You must feed a value for placeholder tensor 'gradients/split_grad/concat/split/split_dim' with dtype int32\n",
      "\t [[{{node gradients/split_grad/concat/split/split_dim}}]]\n",
      "2023-05-08 19:57:45.164392: I tensorflow/core/common_runtime/executor.cc:1197] [/device:CPU:0] (DEBUG INFO) Executor start aborting (this does not indicate an error and you can ignore this message): INVALID_ARGUMENT: You must feed a value for placeholder tensor 'gradients/split_1_grad/concat/split_1/split_dim' with dtype int32\n",
      "\t [[{{node gradients/split_1_grad/concat/split_1/split_dim}}]]\n",
      "2023-05-08 19:57:45.277291: I tensorflow/core/common_runtime/executor.cc:1197] [/device:CPU:0] (DEBUG INFO) Executor start aborting (this does not indicate an error and you can ignore this message): INVALID_ARGUMENT: You must feed a value for placeholder tensor 'gradients/ReverseV2_grad/ReverseV2/ReverseV2/axis' with dtype int32 and shape [1]\n",
      "\t [[{{node gradients/ReverseV2_grad/ReverseV2/ReverseV2/axis}}]]\n",
      "2023-05-08 19:57:45.316047: I tensorflow/core/common_runtime/executor.cc:1197] [/device:CPU:0] (DEBUG INFO) Executor start aborting (this does not indicate an error and you can ignore this message): INVALID_ARGUMENT: You must feed a value for placeholder tensor 'gradients/split_2_grad/concat/split_2/split_dim' with dtype int32\n",
      "\t [[{{node gradients/split_2_grad/concat/split_2/split_dim}}]]\n",
      "2023-05-08 19:57:45.316999: I tensorflow/core/common_runtime/executor.cc:1197] [/device:CPU:0] (DEBUG INFO) Executor start aborting (this does not indicate an error and you can ignore this message): INVALID_ARGUMENT: You must feed a value for placeholder tensor 'gradients/split_grad/concat/split/split_dim' with dtype int32\n",
      "\t [[{{node gradients/split_grad/concat/split/split_dim}}]]\n",
      "2023-05-08 19:57:45.317912: I tensorflow/core/common_runtime/executor.cc:1197] [/device:CPU:0] (DEBUG INFO) Executor start aborting (this does not indicate an error and you can ignore this message): INVALID_ARGUMENT: You must feed a value for placeholder tensor 'gradients/split_1_grad/concat/split_1/split_dim' with dtype int32\n",
      "\t [[{{node gradients/split_1_grad/concat/split_1/split_dim}}]]\n"
     ]
    },
    {
     "name": "stdout",
     "output_type": "stream",
     "text": [
      "\n",
      "Epoch 1: accuracy improved from -inf to 0.51705, saving model to best_model2.hdf5\n",
      "90/90 [==============================] - 7s 50ms/step - loss: 0.6930 - accuracy: 0.5170 - val_loss: 0.6948 - val_accuracy: 0.4687\n",
      "Epoch 2/70\n",
      "89/90 [============================>.] - ETA: 0s - loss: 0.6921 - accuracy: 0.5320\n",
      "Epoch 2: accuracy improved from 0.51705 to 0.53097, saving model to best_model2.hdf5\n",
      "90/90 [==============================] - 4s 44ms/step - loss: 0.6921 - accuracy: 0.5310 - val_loss: 0.6946 - val_accuracy: 0.4826\n",
      "Epoch 3/70\n",
      "89/90 [============================>.] - ETA: 0s - loss: 0.6889 - accuracy: 0.5537\n",
      "Epoch 3: accuracy improved from 0.53097 to 0.55324, saving model to best_model2.hdf5\n",
      "90/90 [==============================] - 4s 43ms/step - loss: 0.6889 - accuracy: 0.5532 - val_loss: 0.6944 - val_accuracy: 0.4896\n",
      "Epoch 4/70\n",
      "90/90 [==============================] - ETA: 0s - loss: 0.6821 - accuracy: 0.5929\n",
      "Epoch 4: accuracy improved from 0.55324 to 0.59290, saving model to best_model2.hdf5\n",
      "90/90 [==============================] - 4s 46ms/step - loss: 0.6821 - accuracy: 0.5929 - val_loss: 0.6986 - val_accuracy: 0.4882\n",
      "Epoch 5/70\n",
      "90/90 [==============================] - ETA: 0s - loss: 0.6636 - accuracy: 0.6305\n",
      "Epoch 5: accuracy improved from 0.59290 to 0.63048, saving model to best_model2.hdf5\n",
      "90/90 [==============================] - 4s 44ms/step - loss: 0.6636 - accuracy: 0.6305 - val_loss: 0.7048 - val_accuracy: 0.4729\n",
      "Epoch 6/70\n",
      "90/90 [==============================] - ETA: 0s - loss: 0.6417 - accuracy: 0.6646\n",
      "Epoch 6: accuracy improved from 0.63048 to 0.66458, saving model to best_model2.hdf5\n",
      "90/90 [==============================] - 4s 45ms/step - loss: 0.6417 - accuracy: 0.6646 - val_loss: 0.7334 - val_accuracy: 0.4645\n",
      "Epoch 7/70\n",
      "90/90 [==============================] - ETA: 0s - loss: 0.6126 - accuracy: 0.6771\n",
      "Epoch 7: accuracy improved from 0.66458 to 0.67711, saving model to best_model2.hdf5\n",
      "90/90 [==============================] - 4s 45ms/step - loss: 0.6126 - accuracy: 0.6771 - val_loss: 0.7393 - val_accuracy: 0.4798\n",
      "Epoch 8/70\n",
      "89/90 [============================>.] - ETA: 0s - loss: 0.5756 - accuracy: 0.7040\n",
      "Epoch 8: accuracy improved from 0.67711 to 0.70390, saving model to best_model2.hdf5\n",
      "90/90 [==============================] - 4s 44ms/step - loss: 0.5760 - accuracy: 0.7039 - val_loss: 0.7683 - val_accuracy: 0.4729\n",
      "Epoch 9/70\n",
      "90/90 [==============================] - ETA: 0s - loss: 0.5558 - accuracy: 0.7182\n",
      "Epoch 9: accuracy improved from 0.70390 to 0.71816, saving model to best_model2.hdf5\n",
      "90/90 [==============================] - 4s 45ms/step - loss: 0.5558 - accuracy: 0.7182 - val_loss: 0.7813 - val_accuracy: 0.4868\n",
      "Epoch 10/70\n",
      "89/90 [============================>.] - ETA: 0s - loss: 0.5218 - accuracy: 0.7395\n",
      "Epoch 10: accuracy improved from 0.71816 to 0.74008, saving model to best_model2.hdf5\n",
      "90/90 [==============================] - 4s 44ms/step - loss: 0.5217 - accuracy: 0.7401 - val_loss: 0.8099 - val_accuracy: 0.4743\n",
      "Epoch 11/70\n",
      "89/90 [============================>.] - ETA: 0s - loss: 0.4931 - accuracy: 0.7640\n",
      "Epoch 11: accuracy improved from 0.74008 to 0.76374, saving model to best_model2.hdf5\n",
      "90/90 [==============================] - 4s 45ms/step - loss: 0.4928 - accuracy: 0.7637 - val_loss: 0.8576 - val_accuracy: 0.4757\n",
      "Epoch 12/70\n",
      "89/90 [============================>.] - ETA: 0s - loss: 0.4840 - accuracy: 0.7570\n",
      "Epoch 12: accuracy did not improve from 0.76374\n",
      "90/90 [==============================] - 4s 44ms/step - loss: 0.4850 - accuracy: 0.7564 - val_loss: 0.8641 - val_accuracy: 0.4757\n",
      "Epoch 13/70\n",
      "90/90 [==============================] - ETA: 0s - loss: 0.4604 - accuracy: 0.7721\n",
      "Epoch 13: accuracy improved from 0.76374 to 0.77209, saving model to best_model2.hdf5\n",
      "90/90 [==============================] - 4s 44ms/step - loss: 0.4604 - accuracy: 0.7721 - val_loss: 0.8850 - val_accuracy: 0.4812\n",
      "Epoch 14/70\n",
      "89/90 [============================>.] - ETA: 0s - loss: 0.4494 - accuracy: 0.7827\n",
      "Epoch 14: accuracy improved from 0.77209 to 0.78358, saving model to best_model2.hdf5\n",
      "90/90 [==============================] - 4s 44ms/step - loss: 0.4482 - accuracy: 0.7836 - val_loss: 0.8937 - val_accuracy: 0.4868\n",
      "Epoch 15/70\n",
      "89/90 [============================>.] - ETA: 0s - loss: 0.4203 - accuracy: 0.8009\n",
      "Epoch 15: accuracy improved from 0.78358 to 0.80132, saving model to best_model2.hdf5\n",
      "90/90 [==============================] - 4s 45ms/step - loss: 0.4199 - accuracy: 0.8013 - val_loss: 0.9512 - val_accuracy: 0.4729\n",
      "Epoch 16/70\n",
      "90/90 [==============================] - ETA: 0s - loss: 0.4179 - accuracy: 0.7985\n",
      "Epoch 16: accuracy did not improve from 0.80132\n",
      "90/90 [==============================] - 4s 45ms/step - loss: 0.4179 - accuracy: 0.7985 - val_loss: 0.9428 - val_accuracy: 0.4757\n",
      "Epoch 17/70\n",
      "90/90 [==============================] - ETA: 0s - loss: 0.4017 - accuracy: 0.8038\n",
      "Epoch 17: accuracy improved from 0.80132 to 0.80376, saving model to best_model2.hdf5\n",
      "90/90 [==============================] - 4s 45ms/step - loss: 0.4017 - accuracy: 0.8038 - val_loss: 0.9456 - val_accuracy: 0.5007\n",
      "Epoch 18/70\n",
      "90/90 [==============================] - ETA: 0s - loss: 0.3890 - accuracy: 0.8225\n",
      "Epoch 18: accuracy improved from 0.80376 to 0.82255, saving model to best_model2.hdf5\n",
      "90/90 [==============================] - 4s 48ms/step - loss: 0.3890 - accuracy: 0.8225 - val_loss: 0.9866 - val_accuracy: 0.4812\n",
      "Epoch 19/70\n",
      "90/90 [==============================] - ETA: 0s - loss: 0.3746 - accuracy: 0.8215\n",
      "Epoch 19: accuracy did not improve from 0.82255\n",
      "90/90 [==============================] - 4s 45ms/step - loss: 0.3746 - accuracy: 0.8215 - val_loss: 1.0007 - val_accuracy: 0.4979\n",
      "Epoch 20/70\n",
      "90/90 [==============================] - ETA: 0s - loss: 0.3683 - accuracy: 0.8215\n",
      "Epoch 20: accuracy did not improve from 0.82255\n",
      "90/90 [==============================] - 4s 46ms/step - loss: 0.3683 - accuracy: 0.8215 - val_loss: 1.0267 - val_accuracy: 0.4896\n",
      "Epoch 21/70\n",
      "90/90 [==============================] - ETA: 0s - loss: 0.3603 - accuracy: 0.8347\n",
      "Epoch 21: accuracy improved from 0.82255 to 0.83473, saving model to best_model2.hdf5\n",
      "90/90 [==============================] - 4s 47ms/step - loss: 0.3603 - accuracy: 0.8347 - val_loss: 1.0043 - val_accuracy: 0.5063\n",
      "Epoch 22/70\n",
      "90/90 [==============================] - ETA: 0s - loss: 0.3498 - accuracy: 0.8396\n",
      "Epoch 22: accuracy improved from 0.83473 to 0.83960, saving model to best_model2.hdf5\n",
      "90/90 [==============================] - 4s 43ms/step - loss: 0.3498 - accuracy: 0.8396 - val_loss: 0.9939 - val_accuracy: 0.4910\n",
      "Epoch 23/70\n",
      "89/90 [============================>.] - ETA: 0s - loss: 0.3467 - accuracy: 0.8374\n",
      "Epoch 23: accuracy did not improve from 0.83960\n",
      "90/90 [==============================] - 4s 47ms/step - loss: 0.3463 - accuracy: 0.8372 - val_loss: 1.0528 - val_accuracy: 0.4868\n",
      "Epoch 24/70\n",
      "89/90 [============================>.] - ETA: 0s - loss: 0.3266 - accuracy: 0.8525\n",
      "Epoch 24: accuracy improved from 0.83960 to 0.85247, saving model to best_model2.hdf5\n",
      "90/90 [==============================] - 4s 45ms/step - loss: 0.3270 - accuracy: 0.8525 - val_loss: 1.0723 - val_accuracy: 0.4993\n",
      "Epoch 25/70\n",
      "89/90 [============================>.] - ETA: 0s - loss: 0.3269 - accuracy: 0.8522\n",
      "Epoch 25: accuracy did not improve from 0.85247\n",
      "90/90 [==============================] - 4s 43ms/step - loss: 0.3280 - accuracy: 0.8511 - val_loss: 1.0508 - val_accuracy: 0.4924\n",
      "Epoch 26/70\n",
      "90/90 [==============================] - ETA: 0s - loss: 0.3158 - accuracy: 0.8490\n",
      "Epoch 26: accuracy did not improve from 0.85247\n",
      "90/90 [==============================] - 4s 49ms/step - loss: 0.3158 - accuracy: 0.8490 - val_loss: 1.1026 - val_accuracy: 0.4979\n",
      "Epoch 27/70\n",
      "89/90 [============================>.] - ETA: 0s - loss: 0.3173 - accuracy: 0.8525\n",
      "Epoch 27: accuracy improved from 0.85247 to 0.85282, saving model to best_model2.hdf5\n",
      "90/90 [==============================] - 4s 46ms/step - loss: 0.3169 - accuracy: 0.8528 - val_loss: 1.1051 - val_accuracy: 0.5049\n",
      "Epoch 28/70\n",
      "89/90 [============================>.] - ETA: 0s - loss: 0.3011 - accuracy: 0.8624\n",
      "Epoch 28: accuracy improved from 0.85282 to 0.86256, saving model to best_model2.hdf5\n",
      "90/90 [==============================] - 4s 47ms/step - loss: 0.3007 - accuracy: 0.8626 - val_loss: 1.1451 - val_accuracy: 0.5007\n",
      "Epoch 29/70\n",
      "90/90 [==============================] - ETA: 0s - loss: 0.3000 - accuracy: 0.8636\n",
      "Epoch 29: accuracy improved from 0.86256 to 0.86360, saving model to best_model2.hdf5\n",
      "90/90 [==============================] - 4s 48ms/step - loss: 0.3000 - accuracy: 0.8636 - val_loss: 1.1117 - val_accuracy: 0.5035\n",
      "Epoch 30/70\n",
      "89/90 [============================>.] - ETA: 0s - loss: 0.2912 - accuracy: 0.8711\n",
      "Epoch 30: accuracy improved from 0.86360 to 0.87091, saving model to best_model2.hdf5\n",
      "90/90 [==============================] - 4s 46ms/step - loss: 0.2915 - accuracy: 0.8709 - val_loss: 1.1474 - val_accuracy: 0.4951\n",
      "Epoch 31/70\n",
      "89/90 [============================>.] - ETA: 0s - loss: 0.2929 - accuracy: 0.8697\n",
      "Epoch 31: accuracy did not improve from 0.87091\n",
      "90/90 [==============================] - 4s 46ms/step - loss: 0.2913 - accuracy: 0.8709 - val_loss: 1.1218 - val_accuracy: 0.5021\n",
      "Epoch 32/70\n",
      "90/90 [==============================] - ETA: 0s - loss: 0.2924 - accuracy: 0.8657\n",
      "Epoch 32: accuracy did not improve from 0.87091\n",
      "90/90 [==============================] - 4s 48ms/step - loss: 0.2924 - accuracy: 0.8657 - val_loss: 1.1466 - val_accuracy: 0.4854\n",
      "Epoch 33/70\n",
      "90/90 [==============================] - ETA: 0s - loss: 0.2808 - accuracy: 0.8664\n",
      "Epoch 33: accuracy did not improve from 0.87091\n",
      "90/90 [==============================] - 4s 47ms/step - loss: 0.2808 - accuracy: 0.8664 - val_loss: 1.1406 - val_accuracy: 0.5090\n",
      "Epoch 34/70\n",
      "89/90 [============================>.] - ETA: 0s - loss: 0.2798 - accuracy: 0.8680\n",
      "Epoch 34: accuracy did not improve from 0.87091\n",
      "90/90 [==============================] - 4s 47ms/step - loss: 0.2801 - accuracy: 0.8681 - val_loss: 1.1401 - val_accuracy: 0.5063\n",
      "Epoch 35/70\n",
      "89/90 [============================>.] - ETA: 0s - loss: 0.2729 - accuracy: 0.8757\n",
      "Epoch 35: accuracy improved from 0.87091 to 0.87543, saving model to best_model2.hdf5\n",
      "90/90 [==============================] - 4s 48ms/step - loss: 0.2740 - accuracy: 0.8754 - val_loss: 1.1597 - val_accuracy: 0.5090\n",
      "Epoch 36/70\n",
      "90/90 [==============================] - ETA: 0s - loss: 0.2752 - accuracy: 0.8754\n",
      "Epoch 36: accuracy did not improve from 0.87543\n",
      "90/90 [==============================] - 4s 48ms/step - loss: 0.2752 - accuracy: 0.8754 - val_loss: 1.1488 - val_accuracy: 0.4993\n",
      "Epoch 37/70\n",
      "90/90 [==============================] - ETA: 0s - loss: 0.2731 - accuracy: 0.8723\n",
      "Epoch 37: accuracy did not improve from 0.87543\n",
      "90/90 [==============================] - 4s 46ms/step - loss: 0.2731 - accuracy: 0.8723 - val_loss: 1.2106 - val_accuracy: 0.5021\n",
      "Epoch 38/70\n",
      "89/90 [============================>.] - ETA: 0s - loss: 0.2648 - accuracy: 0.8799\n",
      "Epoch 38: accuracy improved from 0.87543 to 0.87857, saving model to best_model2.hdf5\n",
      "90/90 [==============================] - 4s 47ms/step - loss: 0.2668 - accuracy: 0.8786 - val_loss: 1.1491 - val_accuracy: 0.5049\n",
      "Epoch 39/70\n",
      "89/90 [============================>.] - ETA: 0s - loss: 0.2629 - accuracy: 0.8757\n",
      "Epoch 39: accuracy did not improve from 0.87857\n",
      "90/90 [==============================] - 4s 46ms/step - loss: 0.2624 - accuracy: 0.8765 - val_loss: 1.2159 - val_accuracy: 0.5007\n",
      "Epoch 40/70\n",
      "89/90 [============================>.] - ETA: 0s - loss: 0.2566 - accuracy: 0.8810\n",
      "Epoch 40: accuracy improved from 0.87857 to 0.88100, saving model to best_model2.hdf5\n",
      "90/90 [==============================] - 4s 46ms/step - loss: 0.2565 - accuracy: 0.8810 - val_loss: 1.2364 - val_accuracy: 0.4937\n",
      "Epoch 41/70\n",
      "89/90 [============================>.] - ETA: 0s - loss: 0.2489 - accuracy: 0.8806\n",
      "Epoch 41: accuracy did not improve from 0.88100\n",
      "90/90 [==============================] - 4s 46ms/step - loss: 0.2486 - accuracy: 0.8810 - val_loss: 1.2204 - val_accuracy: 0.5007\n",
      "Epoch 42/70\n",
      "89/90 [============================>.] - ETA: 0s - loss: 0.2548 - accuracy: 0.8834\n",
      "Epoch 42: accuracy improved from 0.88100 to 0.88379, saving model to best_model2.hdf5\n",
      "90/90 [==============================] - 4s 44ms/step - loss: 0.2547 - accuracy: 0.8838 - val_loss: 1.1723 - val_accuracy: 0.5049\n",
      "Epoch 43/70\n",
      "90/90 [==============================] - ETA: 0s - loss: 0.2512 - accuracy: 0.8841\n",
      "Epoch 43: accuracy improved from 0.88379 to 0.88413, saving model to best_model2.hdf5\n",
      "90/90 [==============================] - 4s 45ms/step - loss: 0.2512 - accuracy: 0.8841 - val_loss: 1.2307 - val_accuracy: 0.4882\n",
      "Epoch 44/70\n",
      "89/90 [============================>.] - ETA: 0s - loss: 0.2515 - accuracy: 0.8890\n",
      "Epoch 44: accuracy improved from 0.88413 to 0.88970, saving model to best_model2.hdf5\n",
      "90/90 [==============================] - 4s 47ms/step - loss: 0.2507 - accuracy: 0.8897 - val_loss: 1.2193 - val_accuracy: 0.5035\n",
      "Epoch 45/70\n",
      "90/90 [==============================] - ETA: 0s - loss: 0.2508 - accuracy: 0.8873\n",
      "Epoch 45: accuracy did not improve from 0.88970\n",
      "90/90 [==============================] - 4s 47ms/step - loss: 0.2508 - accuracy: 0.8873 - val_loss: 1.2208 - val_accuracy: 0.5076\n",
      "Epoch 46/70\n",
      "89/90 [============================>.] - ETA: 0s - loss: 0.2380 - accuracy: 0.8890\n",
      "Epoch 46: accuracy did not improve from 0.88970\n",
      "90/90 [==============================] - 4s 46ms/step - loss: 0.2372 - accuracy: 0.8897 - val_loss: 1.2379 - val_accuracy: 0.4993\n",
      "Epoch 47/70\n",
      "89/90 [============================>.] - ETA: 0s - loss: 0.2504 - accuracy: 0.8869\n",
      "Epoch 47: accuracy did not improve from 0.88970\n",
      "90/90 [==============================] - 4s 45ms/step - loss: 0.2498 - accuracy: 0.8869 - val_loss: 1.2019 - val_accuracy: 0.4937\n",
      "Epoch 48/70\n",
      "90/90 [==============================] - ETA: 0s - loss: 0.2343 - accuracy: 0.8974\n",
      "Epoch 48: accuracy improved from 0.88970 to 0.89736, saving model to best_model2.hdf5\n",
      "90/90 [==============================] - 4s 45ms/step - loss: 0.2343 - accuracy: 0.8974 - val_loss: 1.2526 - val_accuracy: 0.5035\n",
      "Epoch 49/70\n",
      "89/90 [============================>.] - ETA: 0s - loss: 0.2361 - accuracy: 0.8869\n",
      "Epoch 49: accuracy did not improve from 0.89736\n",
      "90/90 [==============================] - 4s 46ms/step - loss: 0.2386 - accuracy: 0.8859 - val_loss: 1.2233 - val_accuracy: 0.4965\n",
      "Epoch 50/70\n",
      "90/90 [==============================] - ETA: 0s - loss: 0.2355 - accuracy: 0.8932\n",
      "Epoch 50: accuracy did not improve from 0.89736\n",
      "90/90 [==============================] - 4s 46ms/step - loss: 0.2355 - accuracy: 0.8932 - val_loss: 1.2907 - val_accuracy: 0.4924\n",
      "Epoch 51/70\n",
      "89/90 [============================>.] - ETA: 0s - loss: 0.2295 - accuracy: 0.8940\n",
      "Epoch 51: accuracy did not improve from 0.89736\n",
      "90/90 [==============================] - 4s 46ms/step - loss: 0.2329 - accuracy: 0.8925 - val_loss: 1.2314 - val_accuracy: 0.4951\n",
      "Epoch 52/70\n",
      "89/90 [============================>.] - ETA: 0s - loss: 0.2334 - accuracy: 0.8887\n",
      "Epoch 52: accuracy did not improve from 0.89736\n",
      "90/90 [==============================] - 4s 47ms/step - loss: 0.2321 - accuracy: 0.8897 - val_loss: 1.2641 - val_accuracy: 0.5146\n",
      "Epoch 53/70\n",
      "89/90 [============================>.] - ETA: 0s - loss: 0.2357 - accuracy: 0.8961\n",
      "Epoch 53: accuracy did not improve from 0.89736\n",
      "90/90 [==============================] - 4s 45ms/step - loss: 0.2353 - accuracy: 0.8967 - val_loss: 1.3079 - val_accuracy: 0.4826\n",
      "Epoch 54/70\n",
      "89/90 [============================>.] - ETA: 0s - loss: 0.2270 - accuracy: 0.8975\n",
      "Epoch 54: accuracy did not improve from 0.89736\n",
      "90/90 [==============================] - 4s 43ms/step - loss: 0.2268 - accuracy: 0.8974 - val_loss: 1.2546 - val_accuracy: 0.5188\n",
      "Epoch 55/70\n",
      "89/90 [============================>.] - ETA: 0s - loss: 0.2341 - accuracy: 0.8943\n",
      "Epoch 55: accuracy did not improve from 0.89736\n",
      "90/90 [==============================] - 4s 44ms/step - loss: 0.2331 - accuracy: 0.8949 - val_loss: 1.2441 - val_accuracy: 0.5063\n",
      "Epoch 56/70\n",
      "89/90 [============================>.] - ETA: 0s - loss: 0.2260 - accuracy: 0.8954\n",
      "Epoch 56: accuracy did not improve from 0.89736\n",
      "90/90 [==============================] - 4s 44ms/step - loss: 0.2261 - accuracy: 0.8956 - val_loss: 1.2987 - val_accuracy: 0.5090\n",
      "Epoch 57/70\n",
      "90/90 [==============================] - ETA: 0s - loss: 0.2215 - accuracy: 0.8991\n",
      "Epoch 57: accuracy improved from 0.89736 to 0.89910, saving model to best_model2.hdf5\n",
      "90/90 [==============================] - 4s 45ms/step - loss: 0.2215 - accuracy: 0.8991 - val_loss: 1.2593 - val_accuracy: 0.5035\n",
      "Epoch 58/70\n",
      "89/90 [============================>.] - ETA: 0s - loss: 0.2262 - accuracy: 0.8943\n",
      "Epoch 58: accuracy did not improve from 0.89910\n",
      "90/90 [==============================] - 4s 44ms/step - loss: 0.2254 - accuracy: 0.8949 - val_loss: 1.2990 - val_accuracy: 0.5035\n",
      "Epoch 59/70\n",
      "89/90 [============================>.] - ETA: 0s - loss: 0.2197 - accuracy: 0.8978\n",
      "Epoch 59: accuracy did not improve from 0.89910\n",
      "90/90 [==============================] - 4s 44ms/step - loss: 0.2187 - accuracy: 0.8984 - val_loss: 1.2964 - val_accuracy: 0.5118\n",
      "Epoch 60/70\n",
      "89/90 [============================>.] - ETA: 0s - loss: 0.2218 - accuracy: 0.8992\n",
      "Epoch 60: accuracy did not improve from 0.89910\n",
      "90/90 [==============================] - 4s 46ms/step - loss: 0.2217 - accuracy: 0.8991 - val_loss: 1.2731 - val_accuracy: 0.5076\n",
      "Epoch 61/70\n",
      "89/90 [============================>.] - ETA: 0s - loss: 0.2274 - accuracy: 0.8954\n",
      "Epoch 61: accuracy did not improve from 0.89910\n",
      "90/90 [==============================] - 4s 45ms/step - loss: 0.2270 - accuracy: 0.8956 - val_loss: 1.2724 - val_accuracy: 0.5104\n",
      "Epoch 62/70\n",
      "89/90 [============================>.] - ETA: 0s - loss: 0.2196 - accuracy: 0.8992\n",
      "Epoch 62: accuracy did not improve from 0.89910\n",
      "90/90 [==============================] - 4s 47ms/step - loss: 0.2201 - accuracy: 0.8991 - val_loss: 1.2431 - val_accuracy: 0.5063\n",
      "Epoch 63/70\n",
      "89/90 [============================>.] - ETA: 0s - loss: 0.2263 - accuracy: 0.8968\n",
      "Epoch 63: accuracy did not improve from 0.89910\n",
      "90/90 [==============================] - 4s 45ms/step - loss: 0.2250 - accuracy: 0.8977 - val_loss: 1.2795 - val_accuracy: 0.5104\n",
      "Epoch 64/70\n",
      "89/90 [============================>.] - ETA: 0s - loss: 0.2249 - accuracy: 0.8940\n",
      "Epoch 64: accuracy did not improve from 0.89910\n",
      "90/90 [==============================] - 4s 46ms/step - loss: 0.2237 - accuracy: 0.8946 - val_loss: 1.3457 - val_accuracy: 0.5049\n",
      "Epoch 65/70\n",
      "89/90 [============================>.] - ETA: 0s - loss: 0.2164 - accuracy: 0.8978\n",
      "Epoch 65: accuracy did not improve from 0.89910\n",
      "90/90 [==============================] - 4s 45ms/step - loss: 0.2157 - accuracy: 0.8981 - val_loss: 1.3292 - val_accuracy: 0.5076\n",
      "Epoch 66/70\n",
      "89/90 [============================>.] - ETA: 0s - loss: 0.2098 - accuracy: 0.9006\n",
      "Epoch 66: accuracy improved from 0.89910 to 0.90014, saving model to best_model2.hdf5\n",
      "90/90 [==============================] - 4s 44ms/step - loss: 0.2106 - accuracy: 0.9001 - val_loss: 1.2906 - val_accuracy: 0.5063\n",
      "Epoch 67/70\n",
      "89/90 [============================>.] - ETA: 0s - loss: 0.2104 - accuracy: 0.9041\n",
      "Epoch 67: accuracy improved from 0.90014 to 0.90397, saving model to best_model2.hdf5\n",
      "90/90 [==============================] - 4s 44ms/step - loss: 0.2104 - accuracy: 0.9040 - val_loss: 1.2485 - val_accuracy: 0.5049\n",
      "Epoch 68/70\n",
      "90/90 [==============================] - ETA: 0s - loss: 0.2270 - accuracy: 0.8939\n",
      "Epoch 68: accuracy did not improve from 0.90397\n",
      "90/90 [==============================] - 4s 46ms/step - loss: 0.2270 - accuracy: 0.8939 - val_loss: 1.2781 - val_accuracy: 0.5104\n",
      "Epoch 69/70\n",
      "90/90 [==============================] - ETA: 0s - loss: 0.2133 - accuracy: 0.9033\n",
      "Epoch 69: accuracy did not improve from 0.90397\n",
      "90/90 [==============================] - 4s 47ms/step - loss: 0.2133 - accuracy: 0.9033 - val_loss: 1.3479 - val_accuracy: 0.4965\n",
      "Epoch 70/70\n",
      "90/90 [==============================] - ETA: 0s - loss: 0.2116 - accuracy: 0.8987\n",
      "Epoch 70: accuracy did not improve from 0.90397\n",
      "90/90 [==============================] - 4s 45ms/step - loss: 0.2116 - accuracy: 0.8987 - val_loss: 1.3375 - val_accuracy: 0.5090\n"
     ]
    }
   ],
   "source": [
    "checkpoint2 = ModelCheckpoint(\"best_model2.hdf5\", monitor='accuracy', verbose=1,save_best_only=True, mode='auto', period=1,save_weights_only=False)\n",
    "history = model2.fit(X_train, y_train, epochs=70,validation_data=(X_test, y_test),callbacks=[checkpoint2])"
   ],
   "metadata": {
    "collapsed": false,
    "pycharm": {
     "name": "#%%\n"
    }
   }
  },
  {
   "cell_type": "code",
   "execution_count": 32,
   "outputs": [],
   "source": [
    "best_model = tf.keras.models.load_model(\"best_model0.hdf5\")"
   ],
   "metadata": {
    "collapsed": false,
    "pycharm": {
     "name": "#%%\n"
    }
   }
  },
  {
   "cell_type": "code",
   "execution_count": 33,
   "outputs": [
    {
     "name": "stdout",
     "output_type": "stream",
     "text": [
      "23/23 - 0s - loss: 0.6863 - accuracy: 0.5605 - 122ms/epoch - 5ms/step\n",
      "Model accuracy:  0.5605006814002991\n"
     ]
    }
   ],
   "source": [
    "test_loss, test_acc = best_model.evaluate(X_test, y_test, verbose=2)\n",
    "print('Model accuracy: ',test_acc)"
   ],
   "metadata": {
    "collapsed": false,
    "pycharm": {
     "name": "#%%\n"
    }
   }
  }
 ],
 "metadata": {
  "kernelspec": {
   "display_name": "Python 3",
   "language": "python",
   "name": "python3"
  },
  "language_info": {
   "codemirror_mode": {
    "name": "ipython",
    "version": 2
   },
   "file_extension": ".py",
   "mimetype": "text/x-python",
   "name": "python",
   "nbconvert_exporter": "python",
   "pygments_lexer": "ipython2",
   "version": "2.7.6"
  }
 },
 "nbformat": 4,
 "nbformat_minor": 0
}