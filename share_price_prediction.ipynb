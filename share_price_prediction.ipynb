{
 "cells": [
  {
   "cell_type": "code",
   "execution_count": null,
   "metadata": {
    "collapsed": true,
    "pycharm": {
     "name": "#%%\n",
     "is_executing": true
    }
   },
   "outputs": [
    {
     "name": "stdout",
     "output_type": "stream",
     "text": [
      "Collecting pandas\r\n",
      "  Downloading pandas-2.0.0-cp310-cp310-manylinux_2_17_x86_64.manylinux2014_x86_64.whl (12.3 MB)\r\n",
      "     |████████████████████████████████| 12.3 MB 6.3 MB/s            \r\n",
      "\u001B[?25hCollecting scikit-learn\r\n",
      "  Downloading scikit_learn-1.2.2-cp310-cp310-manylinux_2_17_x86_64.manylinux2014_x86_64.whl (9.6 MB)\r\n",
      "     |████████████████████████████████| 9.6 MB 8.3 MB/s             \r\n",
      "\u001B[?25hCollecting tensorflow\r\n",
      "  Downloading tensorflow-2.12.0-cp310-cp310-manylinux_2_17_x86_64.manylinux2014_x86_64.whl (585.9 MB)\r\n",
      "     |███████████████                 | 274.7 MB 9.4 MB/s eta 0:00:34 "
     ]
    }
   ],
   "source": [
    "!pip install pandas scikit-learn tensorflow"
   ]
  },
  {
   "cell_type": "code",
   "execution_count": 31,
   "outputs": [],
   "source": [
    "import numpy as np\n",
    "import pandas as pd\n",
    "import os"
   ],
   "metadata": {
    "collapsed": false,
    "pycharm": {
     "name": "#%%\n"
    }
   }
  },
  {
   "cell_type": "code",
   "execution_count": 26,
   "outputs": [
    {
     "name": "stdout",
     "output_type": "stream",
     "text": [
      "<class 'pandas.core.frame.DataFrame'>\n",
      "RangeIndex: 1444 entries, 0 to 1443\n",
      "Data columns (total 8 columns):\n",
      " #   Column              Non-Null Count  Dtype  \n",
      "---  ------              --------------  -----  \n",
      " 0   Unnamed: 0          1444 non-null   int64  \n",
      " 1   Дата                1067 non-null   object \n",
      " 2   Время               1067 non-null   object \n",
      " 3   Цена до             1067 non-null   float64\n",
      " 4   Цена после          1067 non-null   float64\n",
      " 5   Разница в долларах  1067 non-null   float64\n",
      " 6   Дельта в процентах  1067 non-null   float64\n",
      " 7   Текст новости       1067 non-null   object \n",
      "dtypes: float64(4), int64(1), object(3)\n",
      "memory usage: 90.4+ KB\n"
     ]
    }
   ],
   "source": [
    "df = pd.read_csv(\"data/amazon.csv\")\n",
    "df.info()"
   ],
   "metadata": {
    "collapsed": false,
    "pycharm": {
     "name": "#%%\n"
    }
   }
  },
  {
   "cell_type": "code",
   "execution_count": 27,
   "outputs": [
    {
     "name": "stdout",
     "output_type": "stream",
     "text": [
      "<class 'pandas.core.frame.DataFrame'>\n",
      "Index: 18447 entries, 0 to 668\n",
      "Data columns (total 8 columns):\n",
      " #   Column              Non-Null Count  Dtype  \n",
      "---  ------              --------------  -----  \n",
      " 0   Unnamed: 0          18447 non-null  int64  \n",
      " 1   Дата                10873 non-null  object \n",
      " 2   Время               10873 non-null  object \n",
      " 3   Цена до             10873 non-null  float64\n",
      " 4   Цена после          10873 non-null  float64\n",
      " 5   Разница в долларах  10873 non-null  float64\n",
      " 6   Дельта в процентах  10873 non-null  float64\n",
      " 7   Текст новости       10873 non-null  object \n",
      "dtypes: float64(4), int64(1), object(3)\n",
      "memory usage: 1.3+ MB\n"
     ]
    }
   ],
   "source": [
    "for root, _, files in os.walk(\"data\"):\n",
    "    for filename in files:\n",
    "        temp_df = pd.read_csv(os.path.join(root, filename))\n",
    "        df = pd.concat([df, temp_df], axis=0, sort=False)\n",
    "\n",
    "df.info()"
   ],
   "metadata": {
    "collapsed": false,
    "pycharm": {
     "name": "#%%\n"
    }
   }
  },
  {
   "cell_type": "code",
   "execution_count": 28,
   "outputs": [
    {
     "name": "stdout",
     "output_type": "stream",
     "text": [
      "<class 'pandas.core.frame.DataFrame'>\n",
      "Index: 3593 entries, 2 to 443\n",
      "Data columns (total 5 columns):\n",
      " #   Column         Non-Null Count  Dtype  \n",
      "---  ------         --------------  -----  \n",
      " 0   date           3593 non-null   object \n",
      " 1   Time           3593 non-null   object \n",
      " 2   price_before   3593 non-null   float64\n",
      " 3   price_after    3593 non-null   float64\n",
      " 4   Текст новости  3593 non-null   object \n",
      "dtypes: float64(2), object(3)\n",
      "memory usage: 168.4+ KB\n"
     ]
    }
   ],
   "source": [
    "df = df.drop_duplicates(subset=[\"Текст новости\"], keep=False)\n",
    "df.drop(columns=[df.columns[0], \"Разница в долларах\", \"Дельта в процентах\"], axis=1, inplace=True)\n",
    "df.rename(columns={\"Цена до\": \"price_before\", \"Цена после\": \"price_after\", \"Дата\": \"date\", \"Время\": \"Time\"}, inplace=True)\n",
    "df.info()"
   ],
   "metadata": {
    "collapsed": false,
    "pycharm": {
     "name": "#%%\n"
    }
   }
  },
  {
   "cell_type": "code",
   "execution_count": 32,
   "outputs": [
    {
     "data": {
      "text/plain": "         date      Time  price_before  price_after   \n2  2022-10-21  11:57:55    144.250107   145.074997  \\\n3  2022-10-21  10:43:20    144.574997   144.250107   \n5  2022-10-20  12:06:39    145.115005   144.869995   \n7  2022-10-18  14:45:49    145.339996   142.779999   \n8  2022-10-18  14:24:43    144.960007   145.339996   \n\n                                       Текст новости   \n2  When Can Elon Musk Sell Tesla Shares? Could Mo...  \\\n3  Google's New Tweaks To Messages May Annoy iPho...   \n5  Microsoft Takes On Apple And Google, Plans Xbo...   \n7  T-Mobile US' Pricing Power Of 5G Is A Pivot Po...   \n8  Company That Assembles The iPhone Hopes To Eve...   \n\n   absolute_price_difference  percentage_price_difference   \n2                   0.824890                     0.571847  \\\n3                  -0.324890                    -0.224721   \n5                  -0.245010                    -0.168839   \n7                  -2.559997                    -1.761385   \n8                   0.379989                     0.262134   \n\n   price_change_direction  \n2                       1  \n3                      -1  \n5                      -1  \n7                      -1  \n8                       1  ",
      "text/html": "<div>\n<style scoped>\n    .dataframe tbody tr th:only-of-type {\n        vertical-align: middle;\n    }\n\n    .dataframe tbody tr th {\n        vertical-align: top;\n    }\n\n    .dataframe thead th {\n        text-align: right;\n    }\n</style>\n<table border=\"1\" class=\"dataframe\">\n  <thead>\n    <tr style=\"text-align: right;\">\n      <th></th>\n      <th>date</th>\n      <th>Time</th>\n      <th>price_before</th>\n      <th>price_after</th>\n      <th>Текст новости</th>\n      <th>absolute_price_difference</th>\n      <th>percentage_price_difference</th>\n      <th>price_change_direction</th>\n    </tr>\n  </thead>\n  <tbody>\n    <tr>\n      <th>2</th>\n      <td>2022-10-21</td>\n      <td>11:57:55</td>\n      <td>144.250107</td>\n      <td>145.074997</td>\n      <td>When Can Elon Musk Sell Tesla Shares? Could Mo...</td>\n      <td>0.824890</td>\n      <td>0.571847</td>\n      <td>1</td>\n    </tr>\n    <tr>\n      <th>3</th>\n      <td>2022-10-21</td>\n      <td>10:43:20</td>\n      <td>144.574997</td>\n      <td>144.250107</td>\n      <td>Google's New Tweaks To Messages May Annoy iPho...</td>\n      <td>-0.324890</td>\n      <td>-0.224721</td>\n      <td>-1</td>\n    </tr>\n    <tr>\n      <th>5</th>\n      <td>2022-10-20</td>\n      <td>12:06:39</td>\n      <td>145.115005</td>\n      <td>144.869995</td>\n      <td>Microsoft Takes On Apple And Google, Plans Xbo...</td>\n      <td>-0.245010</td>\n      <td>-0.168839</td>\n      <td>-1</td>\n    </tr>\n    <tr>\n      <th>7</th>\n      <td>2022-10-18</td>\n      <td>14:45:49</td>\n      <td>145.339996</td>\n      <td>142.779999</td>\n      <td>T-Mobile US' Pricing Power Of 5G Is A Pivot Po...</td>\n      <td>-2.559997</td>\n      <td>-1.761385</td>\n      <td>-1</td>\n    </tr>\n    <tr>\n      <th>8</th>\n      <td>2022-10-18</td>\n      <td>14:24:43</td>\n      <td>144.960007</td>\n      <td>145.339996</td>\n      <td>Company That Assembles The iPhone Hopes To Eve...</td>\n      <td>0.379989</td>\n      <td>0.262134</td>\n      <td>1</td>\n    </tr>\n  </tbody>\n</table>\n</div>"
     },
     "execution_count": 32,
     "metadata": {},
     "output_type": "execute_result"
    }
   ],
   "source": [
    "df[\"absolute_price_difference\"] = df[\"price_after\"] - df[\"price_before\"]\n",
    "df[\"percentage_price_difference\"] = df[\"absolute_price_difference\"] / df[\"price_before\"] * 100\n",
    "df[\"price_change_direction\"] = np.where(df[\"absolute_price_difference\"] > 0, 1, -1)\n",
    "df.head()"
   ],
   "metadata": {
    "collapsed": false,
    "pycharm": {
     "name": "#%%\n"
    }
   }
  },
  {
   "cell_type": "code",
   "execution_count": 33,
   "outputs": [
    {
     "data": {
      "text/plain": "date                           1793\nTime                           1793\nprice_before                   1793\nprice_after                    1793\nТекст новости                  1793\nabsolute_price_difference      1793\npercentage_price_difference    1793\nprice_change_direction         1793\ndtype: int64"
     },
     "execution_count": 33,
     "metadata": {},
     "output_type": "execute_result"
    }
   ],
   "source": [
    "df[df[\"price_change_direction\"] == 1].count()"
   ],
   "metadata": {
    "collapsed": false,
    "pycharm": {
     "name": "#%%\n"
    }
   }
  },
  {
   "cell_type": "code",
   "execution_count": 34,
   "outputs": [
    {
     "data": {
      "text/plain": "date                           1800\nTime                           1800\nprice_before                   1800\nprice_after                    1800\nТекст новости                  1800\nabsolute_price_difference      1800\npercentage_price_difference    1800\nprice_change_direction         1800\ndtype: int64"
     },
     "execution_count": 34,
     "metadata": {},
     "output_type": "execute_result"
    }
   ],
   "source": [
    "df[df[\"price_change_direction\"] == -1].count()"
   ],
   "metadata": {
    "collapsed": false,
    "pycharm": {
     "name": "#%%\n"
    }
   }
  }
 ],
 "metadata": {
  "kernelspec": {
   "display_name": "Python 3",
   "language": "python",
   "name": "python3"
  },
  "language_info": {
   "codemirror_mode": {
    "name": "ipython",
    "version": 2
   },
   "file_extension": ".py",
   "mimetype": "text/x-python",
   "name": "python",
   "nbconvert_exporter": "python",
   "pygments_lexer": "ipython2",
   "version": "2.7.6"
  }
 },
 "nbformat": 4,
 "nbformat_minor": 0
}