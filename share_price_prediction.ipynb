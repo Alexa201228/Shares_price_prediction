{
 "cells": [
  {
   "cell_type": "code",
   "execution_count": 3,
   "metadata": {
    "collapsed": true,
    "pycharm": {
     "name": "#%%\n"
    }
   },
   "outputs": [
    {
     "name": "stdout",
     "output_type": "stream",
     "text": [
      "Requirement already satisfied: pandas in ./venv/lib/python3.10/site-packages (2.0.0)\r\n",
      "Requirement already satisfied: scikit-learn in ./venv/lib/python3.10/site-packages (1.2.2)\r\n",
      "Requirement already satisfied: tensorflow in ./venv/lib/python3.10/site-packages (2.12.0)\r\n",
      "Requirement already satisfied: keras in ./venv/lib/python3.10/site-packages (2.12.0)\r\n",
      "Requirement already satisfied: imbalanced-learn in ./venv/lib/python3.10/site-packages (0.10.1)\r\n",
      "Requirement already satisfied: nltk in ./venv/lib/python3.10/site-packages (3.8.1)\r\n",
      "Requirement already satisfied: gensim in ./venv/lib/python3.10/site-packages (4.3.1)\r\n",
      "Requirement already satisfied: pytz>=2020.1 in ./venv/lib/python3.10/site-packages (from pandas) (2023.3)\r\n",
      "Requirement already satisfied: numpy>=1.21.0 in ./venv/lib/python3.10/site-packages (from pandas) (1.23.5)\r\n",
      "Requirement already satisfied: python-dateutil>=2.8.2 in ./venv/lib/python3.10/site-packages (from pandas) (2.8.2)\r\n",
      "Requirement already satisfied: tzdata>=2022.1 in ./venv/lib/python3.10/site-packages (from pandas) (2023.3)\r\n",
      "Requirement already satisfied: threadpoolctl>=2.0.0 in ./venv/lib/python3.10/site-packages (from scikit-learn) (3.1.0)\r\n",
      "Requirement already satisfied: scipy>=1.3.2 in ./venv/lib/python3.10/site-packages (from scikit-learn) (1.10.1)\r\n",
      "Requirement already satisfied: joblib>=1.1.1 in ./venv/lib/python3.10/site-packages (from scikit-learn) (1.2.0)\r\n",
      "Requirement already satisfied: typing-extensions>=3.6.6 in ./venv/lib/python3.10/site-packages (from tensorflow) (4.5.0)\r\n",
      "Requirement already satisfied: protobuf!=4.21.0,!=4.21.1,!=4.21.2,!=4.21.3,!=4.21.4,!=4.21.5,<5.0.0dev,>=3.20.3 in ./venv/lib/python3.10/site-packages (from tensorflow) (4.22.3)\r\n",
      "Requirement already satisfied: packaging in ./venv/lib/python3.10/site-packages (from tensorflow) (23.1)\r\n",
      "Requirement already satisfied: flatbuffers>=2.0 in ./venv/lib/python3.10/site-packages (from tensorflow) (23.3.3)\r\n",
      "Requirement already satisfied: absl-py>=1.0.0 in ./venv/lib/python3.10/site-packages (from tensorflow) (1.4.0)\r\n",
      "Requirement already satisfied: six>=1.12.0 in ./venv/lib/python3.10/site-packages (from tensorflow) (1.16.0)\r\n",
      "Requirement already satisfied: jax>=0.3.15 in ./venv/lib/python3.10/site-packages (from tensorflow) (0.4.8)\r\n",
      "Requirement already satisfied: wrapt<1.15,>=1.11.0 in ./venv/lib/python3.10/site-packages (from tensorflow) (1.14.1)\r\n",
      "Requirement already satisfied: setuptools in ./venv/lib/python3.10/site-packages (from tensorflow) (60.2.0)\r\n",
      "Requirement already satisfied: h5py>=2.9.0 in ./venv/lib/python3.10/site-packages (from tensorflow) (3.8.0)\r\n",
      "Requirement already satisfied: libclang>=13.0.0 in ./venv/lib/python3.10/site-packages (from tensorflow) (16.0.0)\r\n",
      "Requirement already satisfied: termcolor>=1.1.0 in ./venv/lib/python3.10/site-packages (from tensorflow) (2.2.0)\r\n",
      "Requirement already satisfied: tensorflow-io-gcs-filesystem>=0.23.1 in ./venv/lib/python3.10/site-packages (from tensorflow) (0.32.0)\r\n",
      "Requirement already satisfied: gast<=0.4.0,>=0.2.1 in ./venv/lib/python3.10/site-packages (from tensorflow) (0.4.0)\r\n",
      "Requirement already satisfied: tensorflow-estimator<2.13,>=2.12.0 in ./venv/lib/python3.10/site-packages (from tensorflow) (2.12.0)\r\n",
      "Requirement already satisfied: opt-einsum>=2.3.2 in ./venv/lib/python3.10/site-packages (from tensorflow) (3.3.0)\r\n",
      "Requirement already satisfied: astunparse>=1.6.0 in ./venv/lib/python3.10/site-packages (from tensorflow) (1.6.3)\r\n",
      "Requirement already satisfied: grpcio<2.0,>=1.24.3 in ./venv/lib/python3.10/site-packages (from tensorflow) (1.53.0)\r\n",
      "Requirement already satisfied: tensorboard<2.13,>=2.12 in ./venv/lib/python3.10/site-packages (from tensorflow) (2.12.2)\r\n",
      "Requirement already satisfied: google-pasta>=0.1.1 in ./venv/lib/python3.10/site-packages (from tensorflow) (0.2.0)\r\n",
      "Requirement already satisfied: tqdm in ./venv/lib/python3.10/site-packages (from nltk) (4.65.0)\r\n",
      "Requirement already satisfied: regex>=2021.8.3 in ./venv/lib/python3.10/site-packages (from nltk) (2023.3.23)\r\n",
      "Requirement already satisfied: click in ./venv/lib/python3.10/site-packages (from nltk) (8.1.3)\r\n",
      "Requirement already satisfied: smart-open>=1.8.1 in ./venv/lib/python3.10/site-packages (from gensim) (6.3.0)\r\n",
      "Requirement already satisfied: wheel<1.0,>=0.23.0 in ./venv/lib/python3.10/site-packages (from astunparse>=1.6.0->tensorflow) (0.37.1)\r\n",
      "Requirement already satisfied: ml-dtypes>=0.0.3 in ./venv/lib/python3.10/site-packages (from jax>=0.3.15->tensorflow) (0.1.0)\r\n",
      "Requirement already satisfied: google-auth-oauthlib<1.1,>=0.5 in ./venv/lib/python3.10/site-packages (from tensorboard<2.13,>=2.12->tensorflow) (1.0.0)\r\n",
      "Requirement already satisfied: markdown>=2.6.8 in ./venv/lib/python3.10/site-packages (from tensorboard<2.13,>=2.12->tensorflow) (3.4.3)\r\n",
      "Requirement already satisfied: google-auth<3,>=1.6.3 in ./venv/lib/python3.10/site-packages (from tensorboard<2.13,>=2.12->tensorflow) (2.17.3)\r\n",
      "Requirement already satisfied: requests<3,>=2.21.0 in ./venv/lib/python3.10/site-packages (from tensorboard<2.13,>=2.12->tensorflow) (2.28.2)\r\n",
      "Requirement already satisfied: tensorboard-plugin-wit>=1.6.0 in ./venv/lib/python3.10/site-packages (from tensorboard<2.13,>=2.12->tensorflow) (1.8.1)\r\n",
      "Requirement already satisfied: tensorboard-data-server<0.8.0,>=0.7.0 in ./venv/lib/python3.10/site-packages (from tensorboard<2.13,>=2.12->tensorflow) (0.7.0)\r\n",
      "Requirement already satisfied: werkzeug>=1.0.1 in ./venv/lib/python3.10/site-packages (from tensorboard<2.13,>=2.12->tensorflow) (2.2.3)\r\n",
      "Requirement already satisfied: rsa<5,>=3.1.4 in ./venv/lib/python3.10/site-packages (from google-auth<3,>=1.6.3->tensorboard<2.13,>=2.12->tensorflow) (4.9)\r\n",
      "Requirement already satisfied: pyasn1-modules>=0.2.1 in ./venv/lib/python3.10/site-packages (from google-auth<3,>=1.6.3->tensorboard<2.13,>=2.12->tensorflow) (0.2.8)\r\n",
      "Requirement already satisfied: cachetools<6.0,>=2.0.0 in ./venv/lib/python3.10/site-packages (from google-auth<3,>=1.6.3->tensorboard<2.13,>=2.12->tensorflow) (5.3.0)\r\n",
      "Requirement already satisfied: requests-oauthlib>=0.7.0 in ./venv/lib/python3.10/site-packages (from google-auth-oauthlib<1.1,>=0.5->tensorboard<2.13,>=2.12->tensorflow) (1.3.1)\r\n",
      "Requirement already satisfied: charset-normalizer<4,>=2 in ./venv/lib/python3.10/site-packages (from requests<3,>=2.21.0->tensorboard<2.13,>=2.12->tensorflow) (3.1.0)\r\n",
      "Requirement already satisfied: certifi>=2017.4.17 in ./venv/lib/python3.10/site-packages (from requests<3,>=2.21.0->tensorboard<2.13,>=2.12->tensorflow) (2022.12.7)\r\n",
      "Requirement already satisfied: idna<4,>=2.5 in ./venv/lib/python3.10/site-packages (from requests<3,>=2.21.0->tensorboard<2.13,>=2.12->tensorflow) (3.4)\r\n",
      "Requirement already satisfied: urllib3<1.27,>=1.21.1 in ./venv/lib/python3.10/site-packages (from requests<3,>=2.21.0->tensorboard<2.13,>=2.12->tensorflow) (1.26.15)\r\n",
      "Requirement already satisfied: MarkupSafe>=2.1.1 in ./venv/lib/python3.10/site-packages (from werkzeug>=1.0.1->tensorboard<2.13,>=2.12->tensorflow) (2.1.2)\r\n",
      "Requirement already satisfied: pyasn1<0.5.0,>=0.4.6 in ./venv/lib/python3.10/site-packages (from pyasn1-modules>=0.2.1->google-auth<3,>=1.6.3->tensorboard<2.13,>=2.12->tensorflow) (0.4.8)\r\n",
      "Requirement already satisfied: oauthlib>=3.0.0 in ./venv/lib/python3.10/site-packages (from requests-oauthlib>=0.7.0->google-auth-oauthlib<1.1,>=0.5->tensorboard<2.13,>=2.12->tensorflow) (3.2.2)\r\n",
      "\u001B[33mWARNING: You are using pip version 21.3.1; however, version 23.1 is available.\r\n",
      "You should consider upgrading via the '/home/alexa/codingTime/share_prices_prediction/venv/bin/python -m pip install --upgrade pip' command.\u001B[0m\r\n"
     ]
    }
   ],
   "source": [
    "!pip install pandas scikit-learn tensorflow --upgrade keras imbalanced-learn nltk gensim"
   ]
  },
  {
   "cell_type": "code",
   "execution_count": 4,
   "outputs": [],
   "source": [
    "import os\n",
    "import re\n",
    "\n",
    "import gensim\n",
    "import numpy as np\n",
    "import pandas as pd\n",
    "import nltk\n",
    "from tensorflow.keras.models import Sequential\n",
    "from tensorflow.keras import layers\n",
    "from sklearn.model_selection import train_test_split\n",
    "from nltk.corpus import wordnet\n",
    "from nltk.stem import WordNetLemmatizer\n",
    "from nltk.tokenize.treebank import TreebankWordDetokenizer\n",
    "import tensorflow as tf\n"
   ],
   "metadata": {
    "collapsed": false,
    "pycharm": {
     "name": "#%%\n"
    }
   }
  },
  {
   "cell_type": "code",
   "execution_count": 5,
   "outputs": [
    {
     "name": "stderr",
     "output_type": "stream",
     "text": [
      "[nltk_data] Downloading package stopwords to /home/alexa/nltk_data...\n",
      "[nltk_data]   Package stopwords is already up-to-date!\n"
     ]
    },
    {
     "data": {
      "text/plain": "True"
     },
     "execution_count": 5,
     "metadata": {},
     "output_type": "execute_result"
    }
   ],
   "source": [
    "nltk.download('stopwords')"
   ],
   "metadata": {
    "collapsed": false,
    "pycharm": {
     "name": "#%%\n"
    }
   }
  },
  {
   "cell_type": "code",
   "execution_count": 6,
   "outputs": [
    {
     "name": "stdout",
     "output_type": "stream",
     "text": [
      "<class 'pandas.core.frame.DataFrame'>\n",
      "RangeIndex: 1444 entries, 0 to 1443\n",
      "Data columns (total 8 columns):\n",
      " #   Column              Non-Null Count  Dtype  \n",
      "---  ------              --------------  -----  \n",
      " 0   Unnamed: 0          1444 non-null   int64  \n",
      " 1   Дата                1067 non-null   object \n",
      " 2   Время               1067 non-null   object \n",
      " 3   Цена до             1067 non-null   float64\n",
      " 4   Цена после          1067 non-null   float64\n",
      " 5   Разница в долларах  1067 non-null   float64\n",
      " 6   Дельта в процентах  1067 non-null   float64\n",
      " 7   Текст новости       1067 non-null   object \n",
      "dtypes: float64(4), int64(1), object(3)\n",
      "memory usage: 90.4+ KB\n"
     ]
    }
   ],
   "source": [
    "df = pd.read_csv(\"data/amazon.csv\")\n",
    "df.info()"
   ],
   "metadata": {
    "collapsed": false,
    "pycharm": {
     "name": "#%%\n"
    }
   }
  },
  {
   "cell_type": "code",
   "execution_count": 7,
   "outputs": [
    {
     "name": "stdout",
     "output_type": "stream",
     "text": [
      "<class 'pandas.core.frame.DataFrame'>\n",
      "Index: 18447 entries, 0 to 668\n",
      "Data columns (total 8 columns):\n",
      " #   Column              Non-Null Count  Dtype  \n",
      "---  ------              --------------  -----  \n",
      " 0   Unnamed: 0          18447 non-null  int64  \n",
      " 1   Дата                10873 non-null  object \n",
      " 2   Время               10873 non-null  object \n",
      " 3   Цена до             10873 non-null  float64\n",
      " 4   Цена после          10873 non-null  float64\n",
      " 5   Разница в долларах  10873 non-null  float64\n",
      " 6   Дельта в процентах  10873 non-null  float64\n",
      " 7   Текст новости       10873 non-null  object \n",
      "dtypes: float64(4), int64(1), object(3)\n",
      "memory usage: 1.3+ MB\n"
     ]
    }
   ],
   "source": [
    "for root, _, files in os.walk(\"data\"):\n",
    "    for filename in files:\n",
    "        temp_df = pd.read_csv(os.path.join(root, filename))\n",
    "        df = pd.concat([df, temp_df], axis=0, sort=False)\n",
    "\n",
    "df.info()"
   ],
   "metadata": {
    "collapsed": false,
    "pycharm": {
     "name": "#%%\n"
    }
   }
  },
  {
   "cell_type": "code",
   "execution_count": 8,
   "outputs": [
    {
     "name": "stdout",
     "output_type": "stream",
     "text": [
      "<class 'pandas.core.frame.DataFrame'>\n",
      "Index: 3593 entries, 2 to 443\n",
      "Data columns (total 5 columns):\n",
      " #   Column        Non-Null Count  Dtype  \n",
      "---  ------        --------------  -----  \n",
      " 0   date          3593 non-null   object \n",
      " 1   Time          3593 non-null   object \n",
      " 2   price_before  3593 non-null   float64\n",
      " 3   price_after   3593 non-null   float64\n",
      " 4   news_text     3593 non-null   object \n",
      "dtypes: float64(2), object(3)\n",
      "memory usage: 168.4+ KB\n"
     ]
    }
   ],
   "source": [
    "df = df.drop_duplicates(subset=[\"Текст новости\"], keep=False)\n",
    "df.drop(columns=[df.columns[0], \"Разница в долларах\", \"Дельта в процентах\"], axis=1, inplace=True)\n",
    "df.rename(columns={\"Цена до\": \"price_before\", \"Цена после\": \"price_after\", \"Дата\": \"date\", \"Время\": \"Time\", \"Текст новости\": \"news_text\"}, inplace=True)\n",
    "df.info()"
   ],
   "metadata": {
    "collapsed": false,
    "pycharm": {
     "name": "#%%\n"
    }
   }
  },
  {
   "cell_type": "code",
   "execution_count": 9,
   "outputs": [
    {
     "data": {
      "text/plain": "         date      Time  price_before  price_after   \n2  2022-10-21  11:57:55    144.250107   145.074997  \\\n3  2022-10-21  10:43:20    144.574997   144.250107   \n5  2022-10-20  12:06:39    145.115005   144.869995   \n7  2022-10-18  14:45:49    145.339996   142.779999   \n8  2022-10-18  14:24:43    144.960007   145.339996   \n\n                                           news_text   \n2  When Can Elon Musk Sell Tesla Shares? Could Mo...  \\\n3  Google's New Tweaks To Messages May Annoy iPho...   \n5  Microsoft Takes On Apple And Google, Plans Xbo...   \n7  T-Mobile US' Pricing Power Of 5G Is A Pivot Po...   \n8  Company That Assembles The iPhone Hopes To Eve...   \n\n   absolute_price_difference  percentage_price_difference   \n2                   0.824890                     0.571847  \\\n3                  -0.324890                    -0.224721   \n5                  -0.245010                    -0.168839   \n7                  -2.559997                    -1.761385   \n8                   0.379989                     0.262134   \n\n   price_change_direction  \n2                       1  \n3                      -1  \n5                      -1  \n7                      -1  \n8                       1  ",
      "text/html": "<div>\n<style scoped>\n    .dataframe tbody tr th:only-of-type {\n        vertical-align: middle;\n    }\n\n    .dataframe tbody tr th {\n        vertical-align: top;\n    }\n\n    .dataframe thead th {\n        text-align: right;\n    }\n</style>\n<table border=\"1\" class=\"dataframe\">\n  <thead>\n    <tr style=\"text-align: right;\">\n      <th></th>\n      <th>date</th>\n      <th>Time</th>\n      <th>price_before</th>\n      <th>price_after</th>\n      <th>news_text</th>\n      <th>absolute_price_difference</th>\n      <th>percentage_price_difference</th>\n      <th>price_change_direction</th>\n    </tr>\n  </thead>\n  <tbody>\n    <tr>\n      <th>2</th>\n      <td>2022-10-21</td>\n      <td>11:57:55</td>\n      <td>144.250107</td>\n      <td>145.074997</td>\n      <td>When Can Elon Musk Sell Tesla Shares? Could Mo...</td>\n      <td>0.824890</td>\n      <td>0.571847</td>\n      <td>1</td>\n    </tr>\n    <tr>\n      <th>3</th>\n      <td>2022-10-21</td>\n      <td>10:43:20</td>\n      <td>144.574997</td>\n      <td>144.250107</td>\n      <td>Google's New Tweaks To Messages May Annoy iPho...</td>\n      <td>-0.324890</td>\n      <td>-0.224721</td>\n      <td>-1</td>\n    </tr>\n    <tr>\n      <th>5</th>\n      <td>2022-10-20</td>\n      <td>12:06:39</td>\n      <td>145.115005</td>\n      <td>144.869995</td>\n      <td>Microsoft Takes On Apple And Google, Plans Xbo...</td>\n      <td>-0.245010</td>\n      <td>-0.168839</td>\n      <td>-1</td>\n    </tr>\n    <tr>\n      <th>7</th>\n      <td>2022-10-18</td>\n      <td>14:45:49</td>\n      <td>145.339996</td>\n      <td>142.779999</td>\n      <td>T-Mobile US' Pricing Power Of 5G Is A Pivot Po...</td>\n      <td>-2.559997</td>\n      <td>-1.761385</td>\n      <td>-1</td>\n    </tr>\n    <tr>\n      <th>8</th>\n      <td>2022-10-18</td>\n      <td>14:24:43</td>\n      <td>144.960007</td>\n      <td>145.339996</td>\n      <td>Company That Assembles The iPhone Hopes To Eve...</td>\n      <td>0.379989</td>\n      <td>0.262134</td>\n      <td>1</td>\n    </tr>\n  </tbody>\n</table>\n</div>"
     },
     "execution_count": 9,
     "metadata": {},
     "output_type": "execute_result"
    }
   ],
   "source": [
    "df[\"absolute_price_difference\"] = df[\"price_after\"] - df[\"price_before\"]\n",
    "df[\"percentage_price_difference\"] = df[\"absolute_price_difference\"] / df[\"price_before\"] * 100\n",
    "df[\"price_change_direction\"] = np.where(df[\"absolute_price_difference\"] > 0, 1, -1)\n",
    "df.head()"
   ],
   "metadata": {
    "collapsed": false,
    "pycharm": {
     "name": "#%%\n"
    }
   }
  },
  {
   "cell_type": "code",
   "execution_count": 10,
   "outputs": [
    {
     "data": {
      "text/plain": "date                           1793\nTime                           1793\nprice_before                   1793\nprice_after                    1793\nnews_text                      1793\nabsolute_price_difference      1793\npercentage_price_difference    1793\nprice_change_direction         1793\ndtype: int64"
     },
     "execution_count": 10,
     "metadata": {},
     "output_type": "execute_result"
    }
   ],
   "source": [
    "df[df[\"price_change_direction\"] == 1].count()"
   ],
   "metadata": {
    "collapsed": false,
    "pycharm": {
     "name": "#%%\n"
    }
   }
  },
  {
   "cell_type": "code",
   "execution_count": 11,
   "outputs": [
    {
     "data": {
      "text/plain": "date                           1800\nTime                           1800\nprice_before                   1800\nprice_after                    1800\nnews_text                      1800\nabsolute_price_difference      1800\npercentage_price_difference    1800\nprice_change_direction         1800\ndtype: int64"
     },
     "execution_count": 11,
     "metadata": {},
     "output_type": "execute_result"
    }
   ],
   "source": [
    "df[df[\"price_change_direction\"] == -1].count()"
   ],
   "metadata": {
    "collapsed": false,
    "pycharm": {
     "name": "#%%\n"
    }
   }
  },
  {
   "cell_type": "code",
   "execution_count": 12,
   "outputs": [
    {
     "data": {
      "text/plain": "                                           news_text  price_change_direction\n2  When Can Elon Musk Sell Tesla Shares? Could Mo...                       1\n3  Google's New Tweaks To Messages May Annoy iPho...                      -1\n5  Microsoft Takes On Apple And Google, Plans Xbo...                      -1\n7  T-Mobile US' Pricing Power Of 5G Is A Pivot Po...                      -1\n8  Company That Assembles The iPhone Hopes To Eve...                       1",
      "text/html": "<div>\n<style scoped>\n    .dataframe tbody tr th:only-of-type {\n        vertical-align: middle;\n    }\n\n    .dataframe tbody tr th {\n        vertical-align: top;\n    }\n\n    .dataframe thead th {\n        text-align: right;\n    }\n</style>\n<table border=\"1\" class=\"dataframe\">\n  <thead>\n    <tr style=\"text-align: right;\">\n      <th></th>\n      <th>news_text</th>\n      <th>price_change_direction</th>\n    </tr>\n  </thead>\n  <tbody>\n    <tr>\n      <th>2</th>\n      <td>When Can Elon Musk Sell Tesla Shares? Could Mo...</td>\n      <td>1</td>\n    </tr>\n    <tr>\n      <th>3</th>\n      <td>Google's New Tweaks To Messages May Annoy iPho...</td>\n      <td>-1</td>\n    </tr>\n    <tr>\n      <th>5</th>\n      <td>Microsoft Takes On Apple And Google, Plans Xbo...</td>\n      <td>-1</td>\n    </tr>\n    <tr>\n      <th>7</th>\n      <td>T-Mobile US' Pricing Power Of 5G Is A Pivot Po...</td>\n      <td>-1</td>\n    </tr>\n    <tr>\n      <th>8</th>\n      <td>Company That Assembles The iPhone Hopes To Eve...</td>\n      <td>1</td>\n    </tr>\n  </tbody>\n</table>\n</div>"
     },
     "execution_count": 12,
     "metadata": {},
     "output_type": "execute_result"
    }
   ],
   "source": [
    "news_df = pd.concat([df[\"news_text\"], df[\"price_change_direction\"]], axis=1)\n",
    "news_df.head()"
   ],
   "metadata": {
    "collapsed": false,
    "pycharm": {
     "name": "#%%\n"
    }
   }
  },
  {
   "cell_type": "code",
   "execution_count": 13,
   "outputs": [],
   "source": [
    "X = news_df[\"news_text\"].values\n",
    "y = news_df[\"price_change_direction\"].values"
   ],
   "metadata": {
    "collapsed": false,
    "pycharm": {
     "name": "#%%\n"
    }
   }
  },
  {
   "cell_type": "code",
   "execution_count": 14,
   "outputs": [],
   "source": [
    "processed_features = []\n",
    "\n",
    "for sentence in range(len(X)):\n",
    "    processed_feature = re.sub(r'\\W', ' ', str(X[sentence]))\n",
    "\n",
    "    # remove all single characters\n",
    "    processed_feature= re.sub(r'\\s+[a-zA-Z]\\s+', ' ', processed_feature)\n",
    "\n",
    "    # Remove single characters from the start\n",
    "    processed_feature = re.sub(r'\\^[a-zA-Z]\\s+', ' ', processed_feature)\n",
    "\n",
    "    # Substituting multiple spaces with single space\n",
    "    processed_feature = re.sub(r'\\s+', ' ', processed_feature, flags=re.I)\n",
    "\n",
    "    # Removing prefixed 'b'\n",
    "    processed_feature = re.sub(r'^b\\s+', '', processed_feature)\n",
    "\n",
    "    # Converting to Lowercase\n",
    "    processed_feature = processed_feature.lower()\n",
    "\n",
    "    processed_features.append(processed_feature)"
   ],
   "metadata": {
    "collapsed": false,
    "pycharm": {
     "name": "#%%\n"
    }
   }
  },
  {
   "cell_type": "code",
   "execution_count": 15,
   "outputs": [],
   "source": [
    "def sent_to_words(sentences):\n",
    "    for sentence in sentences:\n",
    "        yield(gensim.utils.simple_preprocess(str(sentence), deacc=True))"
   ],
   "metadata": {
    "collapsed": false,
    "pycharm": {
     "name": "#%%\n"
    }
   }
  },
  {
   "cell_type": "code",
   "execution_count": 16,
   "outputs": [
    {
     "name": "stdout",
     "output_type": "stream",
     "text": [
      "[['when', 'can', 'elon', 'musk', 'sell', 'tesla', 'shares', 'could', 'more', 'shares', 'be', 'unloaded', 'to', 'finance', 'twitter', 'acquisition'], ['google', 'new', 'tweaks', 'to', 'messages', 'may', 'annoy', 'iphone', 'users', 'вђ', 'and', 'add', 'more', 'fuel', 'to', 'rcs', 'battle', 'with', 'appl'], ['microsoft', 'takes', 'on', 'apple', 'and', 'google', 'plans', 'xbox', 'mobile', 'game', 'store', 'on', 'heels', 'of', 'activision', 'blizzard', 'deal'], ['mobile', 'us', 'pricing', 'power', 'of', 'is', 'pivot', 'point', 'analyst', 'says'], ['company', 'that', 'assembles', 'the', 'iphone', 'hopes', 'to', 'eventually', 'make', 'tesla', 'cars'], ['why', 'these', 'apple', 'analysts', 'have', 'reduced', 'their', 'price', 'targets', 'ahead', 'of', 'results'], ['why', 'apple', 'looks', 'ready', 'to', 'break', 'trend', 'and', 'fly', 'higher'], ['apple', 'supplier', 'tsmc', 'is', 'attractive', 'analyst', 'says', 'what', 'results', 'may', 'mean', 'for', 'iphone', 'maker'], ['facebook', 'parent', 'takes', 'step', 'forward', 'with', 'metaverse', 'quest', 'pro', 'plans', 'gene', 'munster'], ['experts', 'on', 'what', 'the', 'cpi', 'print', 'means', 'for', 'the', 'fed', 'the', 'markets', 'could', 'supersize', 'rate', 'hike', 'spark', 'rude', 'awakening']]\n"
     ]
    }
   ],
   "source": [
    "data_words = list(sent_to_words(processed_features))\n",
    "\n",
    "print(data_words[:10])"
   ],
   "metadata": {
    "collapsed": false,
    "pycharm": {
     "name": "#%%\n"
    }
   }
  },
  {
   "cell_type": "code",
   "execution_count": 17,
   "outputs": [],
   "source": [
    "def detokenize(text):\n",
    "    return TreebankWordDetokenizer().detokenize(text)"
   ],
   "metadata": {
    "collapsed": false,
    "pycharm": {
     "name": "#%%\n"
    }
   }
  },
  {
   "cell_type": "code",
   "execution_count": 18,
   "outputs": [
    {
     "name": "stdout",
     "output_type": "stream",
     "text": [
      "['when can elon musk sell tesla shares could more shares be unloaded to finance twitter acquisition', 'google new tweaks to messages may annoy iphone users вђ and add more fuel to rcs battle with appl', 'microsoft takes on apple and google plans xbox mobile game store on heels of activision blizzard deal', 'mobile us pricing power of is pivot point analyst says', 'company that assembles the iphone hopes to eventually make tesla cars']\n"
     ]
    }
   ],
   "source": [
    "data = []\n",
    "for i in range(len(data_words)):\n",
    "    data.append(detokenize(data_words[i]))\n",
    "print(data[:5])"
   ],
   "metadata": {
    "collapsed": false,
    "pycharm": {
     "name": "#%%\n"
    }
   }
  },
  {
   "cell_type": "code",
   "execution_count": 19,
   "outputs": [],
   "source": [
    "labels = np.array(news_df['price_change_direction'])\n",
    "y = []\n",
    "for i in range(len(labels)):\n",
    "    if labels[i] == -1:\n",
    "        y.append(0)\n",
    "    if labels[i] == 1:\n",
    "        y.append(1)\n",
    "y = np.array(y)\n",
    "labels = tf.keras.utils.to_categorical(y, 2, dtype=\"float32\")\n",
    "del y"
   ],
   "metadata": {
    "collapsed": false,
    "pycharm": {
     "name": "#%%\n"
    }
   }
  },
  {
   "cell_type": "code",
   "execution_count": 20,
   "outputs": [
    {
     "data": {
      "text/plain": "3593"
     },
     "execution_count": 20,
     "metadata": {},
     "output_type": "execute_result"
    }
   ],
   "source": [
    "len(labels)"
   ],
   "metadata": {
    "collapsed": false,
    "pycharm": {
     "name": "#%%\n"
    }
   }
  },
  {
   "cell_type": "code",
   "execution_count": 21,
   "outputs": [
    {
     "name": "stdout",
     "output_type": "stream",
     "text": [
      "[[   0    0    0 ...  541   21  210]\n",
      " [   0    0    0 ...  842   16 2871]\n",
      " [   0    0    0 ... 1424 1892   84]\n",
      " ...\n",
      " [   0    0    0 ...  206 1163  329]\n",
      " [   0    0    0 ...  722   51 6237]\n",
      " [   0    0    0 ...  612  165  291]]\n"
     ]
    }
   ],
   "source": [
    "from keras.models import Sequential\n",
    "from keras import layers\n",
    "from keras.preprocessing.text import Tokenizer\n",
    "from tensorflow.keras.preprocessing.sequence import pad_sequences\n",
    "from keras.callbacks import ModelCheckpoint\n",
    "\n",
    "max_words = 10000\n",
    "max_len = 200\n",
    "\n",
    "tokenizer = Tokenizer(num_words=max_words)\n",
    "tokenizer.fit_on_texts(data)\n",
    "sequences = tokenizer.texts_to_sequences(data)\n",
    "news = pad_sequences(sequences, maxlen=max_len)\n",
    "print(news)"
   ],
   "metadata": {
    "collapsed": false,
    "pycharm": {
     "name": "#%%\n"
    }
   }
  },
  {
   "cell_type": "code",
   "execution_count": 22,
   "outputs": [
    {
     "name": "stdout",
     "output_type": "stream",
     "text": [
      "[[0. 1.]\n",
      " [1. 0.]\n",
      " [1. 0.]\n",
      " ...\n",
      " [0. 1.]\n",
      " [1. 0.]\n",
      " [1. 0.]]\n"
     ]
    }
   ],
   "source": [
    "print(labels)"
   ],
   "metadata": {
    "collapsed": false,
    "pycharm": {
     "name": "#%%\n"
    }
   }
  },
  {
   "cell_type": "code",
   "execution_count": 23,
   "outputs": [
    {
     "name": "stdout",
     "output_type": "stream",
     "text": [
      "2874 719 2874 719\n"
     ]
    }
   ],
   "source": [
    "#  Split data to train and test sets\n",
    "\n",
    "X_train, X_test, y_train, y_test = train_test_split(news ,labels, test_size=0.2, shuffle = True, random_state=0)\n",
    "print (len(X_train),len(X_test),len(y_train),len(y_test))\n"
   ],
   "metadata": {
    "collapsed": false,
    "pycharm": {
     "name": "#%%\n"
    }
   }
  },
  {
   "cell_type": "code",
   "execution_count": 24,
   "outputs": [
    {
     "name": "stderr",
     "output_type": "stream",
     "text": [
      "2023-04-23 10:52:52.285934: I tensorflow/compiler/xla/stream_executor/cuda/cuda_gpu_executor.cc:996] successful NUMA node read from SysFS had negative value (-1), but there must be at least one NUMA node, so returning NUMA node zero. See more at https://github.com/torvalds/linux/blob/v6.0/Documentation/ABI/testing/sysfs-bus-pci#L344-L355\n",
      "2023-04-23 10:52:52.304983: I tensorflow/compiler/xla/stream_executor/cuda/cuda_gpu_executor.cc:996] successful NUMA node read from SysFS had negative value (-1), but there must be at least one NUMA node, so returning NUMA node zero. See more at https://github.com/torvalds/linux/blob/v6.0/Documentation/ABI/testing/sysfs-bus-pci#L344-L355\n",
      "2023-04-23 10:52:52.305142: I tensorflow/compiler/xla/stream_executor/cuda/cuda_gpu_executor.cc:996] successful NUMA node read from SysFS had negative value (-1), but there must be at least one NUMA node, so returning NUMA node zero. See more at https://github.com/torvalds/linux/blob/v6.0/Documentation/ABI/testing/sysfs-bus-pci#L344-L355\n",
      "2023-04-23 10:52:52.305834: I tensorflow/compiler/xla/stream_executor/cuda/cuda_gpu_executor.cc:996] successful NUMA node read from SysFS had negative value (-1), but there must be at least one NUMA node, so returning NUMA node zero. See more at https://github.com/torvalds/linux/blob/v6.0/Documentation/ABI/testing/sysfs-bus-pci#L344-L355\n",
      "2023-04-23 10:52:52.305949: I tensorflow/compiler/xla/stream_executor/cuda/cuda_gpu_executor.cc:996] successful NUMA node read from SysFS had negative value (-1), but there must be at least one NUMA node, so returning NUMA node zero. See more at https://github.com/torvalds/linux/blob/v6.0/Documentation/ABI/testing/sysfs-bus-pci#L344-L355\n",
      "2023-04-23 10:52:52.306048: I tensorflow/compiler/xla/stream_executor/cuda/cuda_gpu_executor.cc:996] successful NUMA node read from SysFS had negative value (-1), but there must be at least one NUMA node, so returning NUMA node zero. See more at https://github.com/torvalds/linux/blob/v6.0/Documentation/ABI/testing/sysfs-bus-pci#L344-L355\n",
      "2023-04-23 10:52:52.789071: I tensorflow/compiler/xla/stream_executor/cuda/cuda_gpu_executor.cc:996] successful NUMA node read from SysFS had negative value (-1), but there must be at least one NUMA node, so returning NUMA node zero. See more at https://github.com/torvalds/linux/blob/v6.0/Documentation/ABI/testing/sysfs-bus-pci#L344-L355\n",
      "2023-04-23 10:52:52.789237: I tensorflow/compiler/xla/stream_executor/cuda/cuda_gpu_executor.cc:996] successful NUMA node read from SysFS had negative value (-1), but there must be at least one NUMA node, so returning NUMA node zero. See more at https://github.com/torvalds/linux/blob/v6.0/Documentation/ABI/testing/sysfs-bus-pci#L344-L355\n",
      "2023-04-23 10:52:52.789342: I tensorflow/compiler/xla/stream_executor/cuda/cuda_gpu_executor.cc:996] successful NUMA node read from SysFS had negative value (-1), but there must be at least one NUMA node, so returning NUMA node zero. See more at https://github.com/torvalds/linux/blob/v6.0/Documentation/ABI/testing/sysfs-bus-pci#L344-L355\n",
      "2023-04-23 10:52:52.789422: I tensorflow/core/common_runtime/gpu/gpu_device.cc:1635] Created device /job:localhost/replica:0/task:0/device:GPU:0 with 9929 MB memory:  -> device: 0, name: NVIDIA GeForce RTX 3060, pci bus id: 0000:01:00.0, compute capability: 8.6\n"
     ]
    }
   ],
   "source": [
    "from keras.layers import BatchNormalization\n",
    "\n",
    "# Neural network without LSTM\n",
    "\n",
    "model0 = Sequential()\n",
    "\n",
    "model0.add(layers.Dense(64, activation=\"relu\"))\n",
    "model0.add(BatchNormalization())\n",
    "model0.add(layers.Dropout(0.8))\n",
    "model0.add(layers.Dense(32, activation=\"relu\"))\n",
    "model0.add(layers.Dropout(0.5))\n",
    "model0.add(layers.Dense(32, activation=\"relu\"))\n",
    "model0.add(layers.Dropout(0.3))\n",
    "model0.add(layers.Dense(16, activation=\"relu\"))\n",
    "model0.add(layers.Dense(2, activation=\"sigmoid\"))"
   ],
   "metadata": {
    "collapsed": false,
    "pycharm": {
     "name": "#%%\n"
    }
   }
  },
  {
   "cell_type": "code",
   "execution_count": 25,
   "outputs": [
    {
     "name": "stdout",
     "output_type": "stream",
     "text": [
      "WARNING:tensorflow:`period` argument is deprecated. Please use `save_freq` to specify the frequency in number of batches seen.\n",
      "Epoch 1/70\n"
     ]
    },
    {
     "name": "stderr",
     "output_type": "stream",
     "text": [
      "2023-04-23 10:52:54.391615: I tensorflow/compiler/xla/stream_executor/cuda/cuda_blas.cc:637] TensorFloat-32 will be used for the matrix multiplication. This will only be logged once.\n",
      "2023-04-23 10:52:54.394206: I tensorflow/compiler/xla/service/service.cc:169] XLA service 0x7fa0cd99a250 initialized for platform CUDA (this does not guarantee that XLA will be used). Devices:\n",
      "2023-04-23 10:52:54.394219: I tensorflow/compiler/xla/service/service.cc:177]   StreamExecutor device (0): NVIDIA GeForce RTX 3060, Compute Capability 8.6\n",
      "2023-04-23 10:52:54.397428: I tensorflow/compiler/mlir/tensorflow/utils/dump_mlir_util.cc:269] disabling MLIR crash reproducer, set env var `MLIR_CRASH_REPRODUCER_DIRECTORY` to enable.\n",
      "2023-04-23 10:52:54.521511: I tensorflow/compiler/xla/stream_executor/cuda/cuda_dnn.cc:424] Loaded cuDNN version 8700\n",
      "2023-04-23 10:52:54.607699: I ./tensorflow/compiler/jit/device_compiler.h:180] Compiled cluster using XLA!  This line is logged at most once for the lifetime of the process.\n"
     ]
    },
    {
     "name": "stdout",
     "output_type": "stream",
     "text": [
      "\n",
      "Epoch 1: val_accuracy improved from -inf to 0.49096, saving model to best_model0.hdf5\n",
      "90/90 - 3s - loss: 0.9017 - accuracy: 0.5101 - val_loss: 0.7030 - val_accuracy: 0.4910 - 3s/epoch - 34ms/step\n",
      "Epoch 2/70\n",
      "\n",
      "Epoch 2: val_accuracy did not improve from 0.49096\n",
      "90/90 - 0s - loss: 0.7542 - accuracy: 0.5070 - val_loss: 0.6961 - val_accuracy: 0.4910 - 234ms/epoch - 3ms/step\n",
      "Epoch 3/70\n",
      "\n",
      "Epoch 3: val_accuracy improved from 0.49096 to 0.50070, saving model to best_model0.hdf5\n",
      "90/90 - 0s - loss: 0.7261 - accuracy: 0.5045 - val_loss: 0.6943 - val_accuracy: 0.5007 - 250ms/epoch - 3ms/step\n",
      "Epoch 4/70\n",
      "\n",
      "Epoch 4: val_accuracy improved from 0.50070 to 0.50626, saving model to best_model0.hdf5\n",
      "90/90 - 0s - loss: 0.7190 - accuracy: 0.4927 - val_loss: 0.6944 - val_accuracy: 0.5063 - 370ms/epoch - 4ms/step\n",
      "Epoch 5/70\n",
      "\n",
      "Epoch 5: val_accuracy improved from 0.50626 to 0.52017, saving model to best_model0.hdf5\n",
      "90/90 - 0s - loss: 0.7135 - accuracy: 0.4889 - val_loss: 0.6939 - val_accuracy: 0.5202 - 334ms/epoch - 4ms/step\n",
      "Epoch 6/70\n",
      "\n",
      "Epoch 6: val_accuracy did not improve from 0.52017\n",
      "90/90 - 0s - loss: 0.7049 - accuracy: 0.5052 - val_loss: 0.6934 - val_accuracy: 0.5049 - 227ms/epoch - 3ms/step\n",
      "Epoch 7/70\n",
      "\n",
      "Epoch 7: val_accuracy did not improve from 0.52017\n",
      "90/90 - 0s - loss: 0.7049 - accuracy: 0.5195 - val_loss: 0.6935 - val_accuracy: 0.4979 - 222ms/epoch - 2ms/step\n",
      "Epoch 8/70\n",
      "\n",
      "Epoch 8: val_accuracy did not improve from 0.52017\n",
      "90/90 - 0s - loss: 0.7007 - accuracy: 0.5017 - val_loss: 0.6931 - val_accuracy: 0.4965 - 218ms/epoch - 2ms/step\n",
      "Epoch 9/70\n",
      "\n",
      "Epoch 9: val_accuracy did not improve from 0.52017\n",
      "90/90 - 0s - loss: 0.7013 - accuracy: 0.4871 - val_loss: 0.6932 - val_accuracy: 0.4910 - 216ms/epoch - 2ms/step\n",
      "Epoch 10/70\n",
      "\n",
      "Epoch 10: val_accuracy did not improve from 0.52017\n",
      "90/90 - 0s - loss: 0.6982 - accuracy: 0.4986 - val_loss: 0.6934 - val_accuracy: 0.4937 - 219ms/epoch - 2ms/step\n",
      "Epoch 11/70\n",
      "\n",
      "Epoch 11: val_accuracy did not improve from 0.52017\n",
      "90/90 - 0s - loss: 0.6995 - accuracy: 0.5010 - val_loss: 0.6933 - val_accuracy: 0.5021 - 224ms/epoch - 2ms/step\n",
      "Epoch 12/70\n",
      "\n",
      "Epoch 12: val_accuracy did not improve from 0.52017\n",
      "90/90 - 0s - loss: 0.6977 - accuracy: 0.4920 - val_loss: 0.6934 - val_accuracy: 0.5007 - 227ms/epoch - 3ms/step\n",
      "Epoch 13/70\n",
      "\n",
      "Epoch 13: val_accuracy did not improve from 0.52017\n",
      "90/90 - 0s - loss: 0.6985 - accuracy: 0.4854 - val_loss: 0.6933 - val_accuracy: 0.5021 - 365ms/epoch - 4ms/step\n",
      "Epoch 14/70\n",
      "\n",
      "Epoch 14: val_accuracy did not improve from 0.52017\n",
      "90/90 - 0s - loss: 0.6980 - accuracy: 0.4892 - val_loss: 0.6932 - val_accuracy: 0.5076 - 219ms/epoch - 2ms/step\n",
      "Epoch 15/70\n",
      "\n",
      "Epoch 15: val_accuracy did not improve from 0.52017\n",
      "90/90 - 0s - loss: 0.6968 - accuracy: 0.4923 - val_loss: 0.6932 - val_accuracy: 0.4965 - 226ms/epoch - 3ms/step\n",
      "Epoch 16/70\n",
      "\n",
      "Epoch 16: val_accuracy did not improve from 0.52017\n",
      "90/90 - 0s - loss: 0.6927 - accuracy: 0.5017 - val_loss: 0.6934 - val_accuracy: 0.4937 - 218ms/epoch - 2ms/step\n",
      "Epoch 17/70\n",
      "\n",
      "Epoch 17: val_accuracy did not improve from 0.52017\n",
      "90/90 - 0s - loss: 0.6917 - accuracy: 0.5195 - val_loss: 0.6934 - val_accuracy: 0.4979 - 240ms/epoch - 3ms/step\n",
      "Epoch 18/70\n",
      "\n",
      "Epoch 18: val_accuracy did not improve from 0.52017\n",
      "90/90 - 0s - loss: 0.6940 - accuracy: 0.5049 - val_loss: 0.6936 - val_accuracy: 0.4910 - 222ms/epoch - 2ms/step\n",
      "Epoch 19/70\n",
      "\n",
      "Epoch 19: val_accuracy did not improve from 0.52017\n",
      "90/90 - 0s - loss: 0.6935 - accuracy: 0.5216 - val_loss: 0.6936 - val_accuracy: 0.5007 - 220ms/epoch - 2ms/step\n",
      "Epoch 20/70\n",
      "\n",
      "Epoch 20: val_accuracy did not improve from 0.52017\n",
      "90/90 - 0s - loss: 0.6952 - accuracy: 0.4993 - val_loss: 0.6934 - val_accuracy: 0.4979 - 251ms/epoch - 3ms/step\n",
      "Epoch 21/70\n",
      "\n",
      "Epoch 21: val_accuracy did not improve from 0.52017\n",
      "90/90 - 0s - loss: 0.6969 - accuracy: 0.4847 - val_loss: 0.6933 - val_accuracy: 0.5063 - 358ms/epoch - 4ms/step\n",
      "Epoch 22/70\n",
      "\n",
      "Epoch 22: val_accuracy did not improve from 0.52017\n",
      "90/90 - 0s - loss: 0.6931 - accuracy: 0.5136 - val_loss: 0.6934 - val_accuracy: 0.4979 - 219ms/epoch - 2ms/step\n",
      "Epoch 23/70\n",
      "\n",
      "Epoch 23: val_accuracy did not improve from 0.52017\n",
      "90/90 - 0s - loss: 0.6934 - accuracy: 0.5115 - val_loss: 0.6934 - val_accuracy: 0.4896 - 226ms/epoch - 3ms/step\n",
      "Epoch 24/70\n",
      "\n",
      "Epoch 24: val_accuracy did not improve from 0.52017\n",
      "90/90 - 0s - loss: 0.6964 - accuracy: 0.4816 - val_loss: 0.6933 - val_accuracy: 0.5035 - 214ms/epoch - 2ms/step\n",
      "Epoch 25/70\n",
      "\n",
      "Epoch 25: val_accuracy did not improve from 0.52017\n",
      "90/90 - 0s - loss: 0.6937 - accuracy: 0.4976 - val_loss: 0.6932 - val_accuracy: 0.5035 - 217ms/epoch - 2ms/step\n",
      "Epoch 26/70\n",
      "\n",
      "Epoch 26: val_accuracy did not improve from 0.52017\n",
      "90/90 - 0s - loss: 0.6945 - accuracy: 0.5150 - val_loss: 0.6932 - val_accuracy: 0.4965 - 216ms/epoch - 2ms/step\n",
      "Epoch 27/70\n",
      "\n",
      "Epoch 27: val_accuracy did not improve from 0.52017\n",
      "90/90 - 0s - loss: 0.6922 - accuracy: 0.5146 - val_loss: 0.6933 - val_accuracy: 0.5132 - 218ms/epoch - 2ms/step\n",
      "Epoch 28/70\n",
      "\n",
      "Epoch 28: val_accuracy did not improve from 0.52017\n",
      "90/90 - 0s - loss: 0.6934 - accuracy: 0.5174 - val_loss: 0.6933 - val_accuracy: 0.4924 - 214ms/epoch - 2ms/step\n",
      "Epoch 29/70\n",
      "\n",
      "Epoch 29: val_accuracy did not improve from 0.52017\n",
      "90/90 - 0s - loss: 0.6947 - accuracy: 0.4930 - val_loss: 0.6932 - val_accuracy: 0.4965 - 218ms/epoch - 2ms/step\n",
      "Epoch 30/70\n",
      "\n",
      "Epoch 30: val_accuracy did not improve from 0.52017\n",
      "90/90 - 0s - loss: 0.6941 - accuracy: 0.5129 - val_loss: 0.6933 - val_accuracy: 0.4993 - 222ms/epoch - 2ms/step\n",
      "Epoch 31/70\n",
      "\n",
      "Epoch 31: val_accuracy did not improve from 0.52017\n",
      "90/90 - 0s - loss: 0.6941 - accuracy: 0.5073 - val_loss: 0.6933 - val_accuracy: 0.4993 - 217ms/epoch - 2ms/step\n",
      "Epoch 32/70\n",
      "\n",
      "Epoch 32: val_accuracy did not improve from 0.52017\n",
      "90/90 - 0s - loss: 0.6945 - accuracy: 0.5024 - val_loss: 0.6933 - val_accuracy: 0.5021 - 218ms/epoch - 2ms/step\n",
      "Epoch 33/70\n",
      "\n",
      "Epoch 33: val_accuracy did not improve from 0.52017\n",
      "90/90 - 0s - loss: 0.6936 - accuracy: 0.4983 - val_loss: 0.6932 - val_accuracy: 0.5007 - 215ms/epoch - 2ms/step\n",
      "Epoch 34/70\n",
      "\n",
      "Epoch 34: val_accuracy did not improve from 0.52017\n",
      "90/90 - 0s - loss: 0.6942 - accuracy: 0.5000 - val_loss: 0.6931 - val_accuracy: 0.5035 - 217ms/epoch - 2ms/step\n",
      "Epoch 35/70\n",
      "\n",
      "Epoch 35: val_accuracy did not improve from 0.52017\n",
      "90/90 - 0s - loss: 0.6938 - accuracy: 0.5084 - val_loss: 0.6931 - val_accuracy: 0.5021 - 230ms/epoch - 3ms/step\n",
      "Epoch 36/70\n",
      "\n",
      "Epoch 36: val_accuracy did not improve from 0.52017\n",
      "90/90 - 0s - loss: 0.6941 - accuracy: 0.5024 - val_loss: 0.6931 - val_accuracy: 0.5021 - 255ms/epoch - 3ms/step\n",
      "Epoch 37/70\n",
      "\n",
      "Epoch 37: val_accuracy did not improve from 0.52017\n",
      "90/90 - 0s - loss: 0.6941 - accuracy: 0.4868 - val_loss: 0.6932 - val_accuracy: 0.5021 - 225ms/epoch - 3ms/step\n",
      "Epoch 38/70\n",
      "\n",
      "Epoch 38: val_accuracy did not improve from 0.52017\n",
      "90/90 - 0s - loss: 0.6923 - accuracy: 0.5164 - val_loss: 0.6933 - val_accuracy: 0.4840 - 347ms/epoch - 4ms/step\n",
      "Epoch 39/70\n",
      "\n",
      "Epoch 39: val_accuracy did not improve from 0.52017\n",
      "90/90 - 0s - loss: 0.6925 - accuracy: 0.5056 - val_loss: 0.6934 - val_accuracy: 0.4868 - 227ms/epoch - 3ms/step\n",
      "Epoch 40/70\n",
      "\n",
      "Epoch 40: val_accuracy did not improve from 0.52017\n",
      "90/90 - 0s - loss: 0.6925 - accuracy: 0.5237 - val_loss: 0.6935 - val_accuracy: 0.4896 - 226ms/epoch - 3ms/step\n",
      "Epoch 41/70\n",
      "\n",
      "Epoch 41: val_accuracy did not improve from 0.52017\n",
      "90/90 - 0s - loss: 0.6939 - accuracy: 0.5063 - val_loss: 0.6935 - val_accuracy: 0.4979 - 221ms/epoch - 2ms/step\n",
      "Epoch 42/70\n",
      "\n",
      "Epoch 42: val_accuracy did not improve from 0.52017\n",
      "90/90 - 0s - loss: 0.6938 - accuracy: 0.5028 - val_loss: 0.6934 - val_accuracy: 0.4854 - 222ms/epoch - 2ms/step\n",
      "Epoch 43/70\n",
      "\n",
      "Epoch 43: val_accuracy did not improve from 0.52017\n",
      "90/90 - 0s - loss: 0.6940 - accuracy: 0.5028 - val_loss: 0.6933 - val_accuracy: 0.4882 - 219ms/epoch - 2ms/step\n",
      "Epoch 44/70\n",
      "\n",
      "Epoch 44: val_accuracy did not improve from 0.52017\n",
      "90/90 - 0s - loss: 0.6934 - accuracy: 0.5042 - val_loss: 0.6933 - val_accuracy: 0.5021 - 222ms/epoch - 2ms/step\n",
      "Epoch 45/70\n",
      "\n",
      "Epoch 45: val_accuracy did not improve from 0.52017\n",
      "90/90 - 0s - loss: 0.6926 - accuracy: 0.5073 - val_loss: 0.6934 - val_accuracy: 0.4937 - 222ms/epoch - 2ms/step\n",
      "Epoch 46/70\n",
      "\n",
      "Epoch 46: val_accuracy did not improve from 0.52017\n",
      "90/90 - 0s - loss: 0.6929 - accuracy: 0.5024 - val_loss: 0.6936 - val_accuracy: 0.4937 - 217ms/epoch - 2ms/step\n",
      "Epoch 47/70\n",
      "\n",
      "Epoch 47: val_accuracy did not improve from 0.52017\n",
      "90/90 - 0s - loss: 0.6936 - accuracy: 0.5101 - val_loss: 0.6935 - val_accuracy: 0.4924 - 219ms/epoch - 2ms/step\n",
      "Epoch 48/70\n",
      "\n",
      "Epoch 48: val_accuracy did not improve from 0.52017\n",
      "90/90 - 0s - loss: 0.6926 - accuracy: 0.5010 - val_loss: 0.6934 - val_accuracy: 0.4937 - 218ms/epoch - 2ms/step\n",
      "Epoch 49/70\n",
      "\n",
      "Epoch 49: val_accuracy did not improve from 0.52017\n",
      "90/90 - 0s - loss: 0.6923 - accuracy: 0.5226 - val_loss: 0.6935 - val_accuracy: 0.5049 - 220ms/epoch - 2ms/step\n",
      "Epoch 50/70\n",
      "\n",
      "Epoch 50: val_accuracy did not improve from 0.52017\n",
      "90/90 - 0s - loss: 0.6919 - accuracy: 0.5097 - val_loss: 0.6936 - val_accuracy: 0.5035 - 218ms/epoch - 2ms/step\n",
      "Epoch 51/70\n",
      "\n",
      "Epoch 51: val_accuracy did not improve from 0.52017\n",
      "90/90 - 0s - loss: 0.6930 - accuracy: 0.5000 - val_loss: 0.6935 - val_accuracy: 0.4951 - 217ms/epoch - 2ms/step\n",
      "Epoch 52/70\n",
      "\n",
      "Epoch 52: val_accuracy did not improve from 0.52017\n",
      "90/90 - 0s - loss: 0.6917 - accuracy: 0.5251 - val_loss: 0.6935 - val_accuracy: 0.5063 - 217ms/epoch - 2ms/step\n",
      "Epoch 53/70\n",
      "\n",
      "Epoch 53: val_accuracy did not improve from 0.52017\n",
      "90/90 - 0s - loss: 0.6931 - accuracy: 0.5007 - val_loss: 0.6935 - val_accuracy: 0.4910 - 217ms/epoch - 2ms/step\n",
      "Epoch 54/70\n",
      "\n",
      "Epoch 54: val_accuracy did not improve from 0.52017\n",
      "90/90 - 0s - loss: 0.6936 - accuracy: 0.5090 - val_loss: 0.6934 - val_accuracy: 0.4937 - 219ms/epoch - 2ms/step\n",
      "Epoch 55/70\n",
      "\n",
      "Epoch 55: val_accuracy did not improve from 0.52017\n",
      "90/90 - 0s - loss: 0.6927 - accuracy: 0.5024 - val_loss: 0.6933 - val_accuracy: 0.4882 - 216ms/epoch - 2ms/step\n",
      "Epoch 56/70\n",
      "\n",
      "Epoch 56: val_accuracy did not improve from 0.52017\n",
      "90/90 - 0s - loss: 0.6926 - accuracy: 0.5170 - val_loss: 0.6932 - val_accuracy: 0.4868 - 220ms/epoch - 2ms/step\n",
      "Epoch 57/70\n",
      "\n",
      "Epoch 57: val_accuracy did not improve from 0.52017\n",
      "90/90 - 0s - loss: 0.6923 - accuracy: 0.5157 - val_loss: 0.6932 - val_accuracy: 0.4937 - 218ms/epoch - 2ms/step\n",
      "Epoch 58/70\n",
      "\n",
      "Epoch 58: val_accuracy did not improve from 0.52017\n",
      "90/90 - 0s - loss: 0.6930 - accuracy: 0.5108 - val_loss: 0.6933 - val_accuracy: 0.4965 - 220ms/epoch - 2ms/step\n",
      "Epoch 59/70\n",
      "\n",
      "Epoch 59: val_accuracy did not improve from 0.52017\n",
      "90/90 - 0s - loss: 0.6915 - accuracy: 0.5219 - val_loss: 0.6935 - val_accuracy: 0.4951 - 216ms/epoch - 2ms/step\n",
      "Epoch 60/70\n",
      "\n",
      "Epoch 60: val_accuracy did not improve from 0.52017\n",
      "90/90 - 0s - loss: 0.6927 - accuracy: 0.5111 - val_loss: 0.6934 - val_accuracy: 0.4924 - 217ms/epoch - 2ms/step\n",
      "Epoch 61/70\n",
      "\n",
      "Epoch 61: val_accuracy did not improve from 0.52017\n",
      "90/90 - 0s - loss: 0.6923 - accuracy: 0.5160 - val_loss: 0.6936 - val_accuracy: 0.4937 - 220ms/epoch - 2ms/step\n",
      "Epoch 62/70\n",
      "\n",
      "Epoch 62: val_accuracy did not improve from 0.52017\n",
      "90/90 - 0s - loss: 0.6933 - accuracy: 0.5150 - val_loss: 0.6934 - val_accuracy: 0.4965 - 231ms/epoch - 3ms/step\n",
      "Epoch 63/70\n",
      "\n",
      "Epoch 63: val_accuracy did not improve from 0.52017\n",
      "90/90 - 0s - loss: 0.6927 - accuracy: 0.5139 - val_loss: 0.6935 - val_accuracy: 0.4882 - 242ms/epoch - 3ms/step\n",
      "Epoch 64/70\n",
      "\n",
      "Epoch 64: val_accuracy did not improve from 0.52017\n",
      "90/90 - 0s - loss: 0.6921 - accuracy: 0.5268 - val_loss: 0.6936 - val_accuracy: 0.4896 - 233ms/epoch - 3ms/step\n",
      "Epoch 65/70\n",
      "\n",
      "Epoch 65: val_accuracy did not improve from 0.52017\n",
      "90/90 - 0s - loss: 0.6917 - accuracy: 0.5205 - val_loss: 0.6940 - val_accuracy: 0.4965 - 240ms/epoch - 3ms/step\n",
      "Epoch 66/70\n",
      "\n",
      "Epoch 66: val_accuracy did not improve from 0.52017\n",
      "90/90 - 0s - loss: 0.6930 - accuracy: 0.5125 - val_loss: 0.6938 - val_accuracy: 0.4993 - 221ms/epoch - 2ms/step\n",
      "Epoch 67/70\n",
      "\n",
      "Epoch 67: val_accuracy did not improve from 0.52017\n",
      "90/90 - 0s - loss: 0.6933 - accuracy: 0.5070 - val_loss: 0.6935 - val_accuracy: 0.4924 - 228ms/epoch - 3ms/step\n",
      "Epoch 68/70\n",
      "\n",
      "Epoch 68: val_accuracy did not improve from 0.52017\n",
      "90/90 - 0s - loss: 0.6924 - accuracy: 0.5184 - val_loss: 0.6937 - val_accuracy: 0.4979 - 227ms/epoch - 3ms/step\n",
      "Epoch 69/70\n",
      "\n",
      "Epoch 69: val_accuracy did not improve from 0.52017\n",
      "90/90 - 0s - loss: 0.6916 - accuracy: 0.5331 - val_loss: 0.6936 - val_accuracy: 0.4937 - 221ms/epoch - 2ms/step\n",
      "Epoch 70/70\n",
      "\n",
      "Epoch 70: val_accuracy did not improve from 0.52017\n",
      "90/90 - 0s - loss: 0.6927 - accuracy: 0.5063 - val_loss: 0.6938 - val_accuracy: 0.4979 - 219ms/epoch - 2ms/step\n"
     ]
    }
   ],
   "source": [
    "model0.compile(optimizer=\"adam\", loss=\"categorical_crossentropy\", metrics=[\"accuracy\"])\n",
    "\n",
    "checkpoint0 = ModelCheckpoint(\"best_model0.hdf5\", monitor='val_accuracy', verbose=1,save_best_only=True, mode='auto', period=1, save_weights_only=False)\n",
    "\n",
    "history = model0.fit(X_train, y_train,\n",
    "                     validation_data=(X_test, y_test),\n",
    "                     verbose=2,\n",
    "                     epochs=70,\n",
    "                     batch_size=32,\n",
    "                     shuffle=True,\n",
    "                     callbacks=[checkpoint0])"
   ],
   "metadata": {
    "collapsed": false,
    "pycharm": {
     "name": "#%%\n"
    }
   }
  },
  {
   "cell_type": "code",
   "execution_count": 26,
   "outputs": [
    {
     "name": "stdout",
     "output_type": "stream",
     "text": [
      "WARNING:tensorflow:Layer lstm will not use cuDNN kernels since it doesn't meet the criteria. It will use a generic GPU kernel as fallback when running on GPU.\n"
     ]
    }
   ],
   "source": [
    "# Neural network creation\n",
    "model1 = Sequential()\n",
    "\n",
    "model1.add(layers.Embedding(max_words, 20))\n",
    "model1.add(layers.SpatialDropout1D(0.2))\n",
    "model1.add(layers.LSTM(30, dropout=0.2, recurrent_dropout=0.2))\n",
    "\n",
    "model1.add(layers.Dense(2, activation='sigmoid'))"
   ],
   "metadata": {
    "collapsed": false,
    "pycharm": {
     "name": "#%%\n"
    }
   }
  },
  {
   "cell_type": "code",
   "execution_count": 27,
   "outputs": [
    {
     "name": "stdout",
     "output_type": "stream",
     "text": [
      "WARNING:tensorflow:`period` argument is deprecated. Please use `save_freq` to specify the frequency in number of batches seen.\n",
      "Epoch 1/70\n",
      "\n",
      "Epoch 1: val_accuracy improved from -inf to 0.49930, saving model to best_model1.hdf5\n",
      "90/90 - 40s - loss: 0.6935 - accuracy: 0.5059 - val_loss: 0.6932 - val_accuracy: 0.4993 - 40s/epoch - 446ms/step\n",
      "Epoch 2/70\n",
      "\n",
      "Epoch 2: val_accuracy did not improve from 0.49930\n",
      "90/90 - 35s - loss: 0.6819 - accuracy: 0.6211 - val_loss: 0.7003 - val_accuracy: 0.4896 - 35s/epoch - 386ms/step\n",
      "Epoch 3/70\n",
      "\n",
      "Epoch 3: val_accuracy did not improve from 0.49930\n",
      "90/90 - 33s - loss: 0.5789 - accuracy: 0.7035 - val_loss: 0.7624 - val_accuracy: 0.4965 - 33s/epoch - 371ms/step\n",
      "Epoch 4/70\n",
      "\n",
      "Epoch 4: val_accuracy did not improve from 0.49930\n",
      "90/90 - 32s - loss: 0.4294 - accuracy: 0.7999 - val_loss: 0.9088 - val_accuracy: 0.4993 - 32s/epoch - 356ms/step\n",
      "Epoch 5/70\n",
      "\n",
      "Epoch 5: val_accuracy did not improve from 0.49930\n",
      "90/90 - 32s - loss: 0.3218 - accuracy: 0.8525 - val_loss: 1.1353 - val_accuracy: 0.4951 - 32s/epoch - 357ms/step\n",
      "Epoch 6/70\n",
      "\n",
      "Epoch 6: val_accuracy did not improve from 0.49930\n",
      "90/90 - 32s - loss: 0.2778 - accuracy: 0.8740 - val_loss: 1.1038 - val_accuracy: 0.4896 - 32s/epoch - 358ms/step\n",
      "Epoch 7/70\n",
      "\n",
      "Epoch 7: val_accuracy did not improve from 0.49930\n",
      "90/90 - 32s - loss: 0.2389 - accuracy: 0.8873 - val_loss: 1.2685 - val_accuracy: 0.4965 - 32s/epoch - 358ms/step\n",
      "Epoch 8/70\n",
      "\n",
      "Epoch 8: val_accuracy improved from 0.49930 to 0.50765, saving model to best_model1.hdf5\n",
      "90/90 - 33s - loss: 0.2147 - accuracy: 0.9036 - val_loss: 1.3100 - val_accuracy: 0.5076 - 33s/epoch - 362ms/step\n",
      "Epoch 9/70\n",
      "\n",
      "Epoch 9: val_accuracy improved from 0.50765 to 0.51599, saving model to best_model1.hdf5\n",
      "90/90 - 33s - loss: 0.1993 - accuracy: 0.9057 - val_loss: 1.3813 - val_accuracy: 0.5160 - 33s/epoch - 363ms/step\n",
      "Epoch 10/70\n",
      "\n",
      "Epoch 10: val_accuracy did not improve from 0.51599\n",
      "90/90 - 32s - loss: 0.1856 - accuracy: 0.9172 - val_loss: 1.3151 - val_accuracy: 0.5076 - 32s/epoch - 354ms/step\n",
      "Epoch 11/70\n",
      "\n",
      "Epoch 11: val_accuracy did not improve from 0.51599\n",
      "90/90 - 33s - loss: 0.1760 - accuracy: 0.9113 - val_loss: 1.3149 - val_accuracy: 0.5146 - 33s/epoch - 361ms/step\n",
      "Epoch 12/70\n",
      "\n",
      "Epoch 12: val_accuracy did not improve from 0.51599\n",
      "90/90 - 33s - loss: 0.1773 - accuracy: 0.9186 - val_loss: 1.5394 - val_accuracy: 0.4924 - 33s/epoch - 369ms/step\n",
      "Epoch 13/70\n",
      "\n",
      "Epoch 13: val_accuracy did not improve from 0.51599\n",
      "90/90 - 32s - loss: 0.1647 - accuracy: 0.9252 - val_loss: 1.6237 - val_accuracy: 0.5021 - 32s/epoch - 359ms/step\n",
      "Epoch 14/70\n",
      "\n",
      "Epoch 14: val_accuracy did not improve from 0.51599\n",
      "90/90 - 32s - loss: 0.1573 - accuracy: 0.9235 - val_loss: 1.6380 - val_accuracy: 0.5021 - 32s/epoch - 351ms/step\n",
      "Epoch 15/70\n",
      "\n",
      "Epoch 15: val_accuracy did not improve from 0.51599\n",
      "90/90 - 32s - loss: 0.1513 - accuracy: 0.9269 - val_loss: 1.7501 - val_accuracy: 0.5090 - 32s/epoch - 354ms/step\n",
      "Epoch 16/70\n",
      "\n",
      "Epoch 16: val_accuracy did not improve from 0.51599\n",
      "90/90 - 32s - loss: 0.1473 - accuracy: 0.9262 - val_loss: 1.7652 - val_accuracy: 0.5076 - 32s/epoch - 351ms/step\n",
      "Epoch 17/70\n",
      "\n",
      "Epoch 17: val_accuracy improved from 0.51599 to 0.52156, saving model to best_model1.hdf5\n",
      "90/90 - 31s - loss: 0.1523 - accuracy: 0.9231 - val_loss: 1.6278 - val_accuracy: 0.5216 - 31s/epoch - 348ms/step\n",
      "Epoch 18/70\n",
      "\n",
      "Epoch 18: val_accuracy improved from 0.52156 to 0.52295, saving model to best_model1.hdf5\n",
      "90/90 - 32s - loss: 0.1435 - accuracy: 0.9353 - val_loss: 1.9810 - val_accuracy: 0.5229 - 32s/epoch - 351ms/step\n",
      "Epoch 19/70\n",
      "\n",
      "Epoch 19: val_accuracy did not improve from 0.52295\n",
      "90/90 - 31s - loss: 0.1417 - accuracy: 0.9304 - val_loss: 1.8898 - val_accuracy: 0.5160 - 31s/epoch - 348ms/step\n",
      "Epoch 20/70\n",
      "\n",
      "Epoch 20: val_accuracy did not improve from 0.52295\n",
      "90/90 - 31s - loss: 0.1462 - accuracy: 0.9248 - val_loss: 1.7090 - val_accuracy: 0.5104 - 31s/epoch - 349ms/step\n",
      "Epoch 21/70\n",
      "\n",
      "Epoch 21: val_accuracy did not improve from 0.52295\n",
      "90/90 - 31s - loss: 0.1435 - accuracy: 0.9283 - val_loss: 2.0264 - val_accuracy: 0.4993 - 31s/epoch - 346ms/step\n",
      "Epoch 22/70\n",
      "\n",
      "Epoch 22: val_accuracy did not improve from 0.52295\n",
      "90/90 - 31s - loss: 0.1330 - accuracy: 0.9353 - val_loss: 2.0313 - val_accuracy: 0.5076 - 31s/epoch - 346ms/step\n",
      "Epoch 23/70\n",
      "\n",
      "Epoch 23: val_accuracy did not improve from 0.52295\n",
      "90/90 - 31s - loss: 0.1480 - accuracy: 0.9273 - val_loss: 1.7698 - val_accuracy: 0.5104 - 31s/epoch - 348ms/step\n",
      "Epoch 24/70\n",
      "\n",
      "Epoch 24: val_accuracy did not improve from 0.52295\n",
      "90/90 - 31s - loss: 0.1349 - accuracy: 0.9308 - val_loss: 1.8081 - val_accuracy: 0.5118 - 31s/epoch - 344ms/step\n",
      "Epoch 25/70\n",
      "\n",
      "Epoch 25: val_accuracy did not improve from 0.52295\n",
      "90/90 - 31s - loss: 0.1307 - accuracy: 0.9325 - val_loss: 2.0912 - val_accuracy: 0.4951 - 31s/epoch - 346ms/step\n",
      "Epoch 26/70\n",
      "\n",
      "Epoch 26: val_accuracy did not improve from 0.52295\n",
      "90/90 - 32s - loss: 0.1231 - accuracy: 0.9360 - val_loss: 2.1103 - val_accuracy: 0.5118 - 32s/epoch - 351ms/step\n",
      "Epoch 27/70\n",
      "\n",
      "Epoch 27: val_accuracy did not improve from 0.52295\n",
      "90/90 - 31s - loss: 0.1276 - accuracy: 0.9349 - val_loss: 2.0952 - val_accuracy: 0.5104 - 31s/epoch - 347ms/step\n",
      "Epoch 28/70\n",
      "\n",
      "Epoch 28: val_accuracy did not improve from 0.52295\n",
      "90/90 - 31s - loss: 0.1300 - accuracy: 0.9315 - val_loss: 2.0942 - val_accuracy: 0.5160 - 31s/epoch - 348ms/step\n",
      "Epoch 29/70\n",
      "\n",
      "Epoch 29: val_accuracy did not improve from 0.52295\n",
      "90/90 - 31s - loss: 0.1188 - accuracy: 0.9374 - val_loss: 2.1832 - val_accuracy: 0.5202 - 31s/epoch - 347ms/step\n",
      "Epoch 30/70\n",
      "\n",
      "Epoch 30: val_accuracy did not improve from 0.52295\n",
      "90/90 - 31s - loss: 0.1263 - accuracy: 0.9367 - val_loss: 2.2095 - val_accuracy: 0.5118 - 31s/epoch - 347ms/step\n",
      "Epoch 31/70\n",
      "\n",
      "Epoch 31: val_accuracy did not improve from 0.52295\n",
      "90/90 - 31s - loss: 0.1207 - accuracy: 0.9374 - val_loss: 2.3127 - val_accuracy: 0.5188 - 31s/epoch - 348ms/step\n",
      "Epoch 32/70\n",
      "\n",
      "Epoch 32: val_accuracy did not improve from 0.52295\n",
      "90/90 - 31s - loss: 0.1206 - accuracy: 0.9398 - val_loss: 2.2361 - val_accuracy: 0.5049 - 31s/epoch - 348ms/step\n",
      "Epoch 33/70\n",
      "\n",
      "Epoch 33: val_accuracy did not improve from 0.52295\n",
      "90/90 - 31s - loss: 0.1265 - accuracy: 0.9360 - val_loss: 2.1085 - val_accuracy: 0.5090 - 31s/epoch - 347ms/step\n",
      "Epoch 34/70\n",
      "\n",
      "Epoch 34: val_accuracy did not improve from 0.52295\n",
      "90/90 - 31s - loss: 0.1216 - accuracy: 0.9370 - val_loss: 2.2816 - val_accuracy: 0.5090 - 31s/epoch - 348ms/step\n",
      "Epoch 35/70\n",
      "\n",
      "Epoch 35: val_accuracy did not improve from 0.52295\n",
      "90/90 - 31s - loss: 0.1165 - accuracy: 0.9422 - val_loss: 2.0313 - val_accuracy: 0.5049 - 31s/epoch - 346ms/step\n",
      "Epoch 36/70\n",
      "\n",
      "Epoch 36: val_accuracy did not improve from 0.52295\n",
      "90/90 - 31s - loss: 0.1199 - accuracy: 0.9356 - val_loss: 2.2633 - val_accuracy: 0.5021 - 31s/epoch - 348ms/step\n",
      "Epoch 37/70\n",
      "\n",
      "Epoch 37: val_accuracy did not improve from 0.52295\n",
      "90/90 - 32s - loss: 0.1203 - accuracy: 0.9415 - val_loss: 2.2650 - val_accuracy: 0.5146 - 32s/epoch - 350ms/step\n",
      "Epoch 38/70\n",
      "\n",
      "Epoch 38: val_accuracy did not improve from 0.52295\n",
      "90/90 - 32s - loss: 0.1183 - accuracy: 0.9363 - val_loss: 2.3707 - val_accuracy: 0.5049 - 32s/epoch - 351ms/step\n",
      "Epoch 39/70\n",
      "\n",
      "Epoch 39: val_accuracy did not improve from 0.52295\n",
      "90/90 - 32s - loss: 0.1105 - accuracy: 0.9426 - val_loss: 2.6509 - val_accuracy: 0.5160 - 32s/epoch - 350ms/step\n",
      "Epoch 40/70\n",
      "\n",
      "Epoch 40: val_accuracy did not improve from 0.52295\n",
      "90/90 - 31s - loss: 0.1141 - accuracy: 0.9384 - val_loss: 2.5723 - val_accuracy: 0.5174 - 31s/epoch - 349ms/step\n",
      "Epoch 41/70\n",
      "\n",
      "Epoch 41: val_accuracy improved from 0.52295 to 0.52990, saving model to best_model1.hdf5\n",
      "90/90 - 32s - loss: 0.1125 - accuracy: 0.9415 - val_loss: 2.5171 - val_accuracy: 0.5299 - 32s/epoch - 352ms/step\n",
      "Epoch 42/70\n",
      "\n",
      "Epoch 42: val_accuracy did not improve from 0.52990\n",
      "90/90 - 31s - loss: 0.1151 - accuracy: 0.9384 - val_loss: 2.6837 - val_accuracy: 0.5243 - 31s/epoch - 349ms/step\n",
      "Epoch 43/70\n",
      "\n",
      "Epoch 43: val_accuracy did not improve from 0.52990\n",
      "90/90 - 31s - loss: 0.1116 - accuracy: 0.9408 - val_loss: 2.5194 - val_accuracy: 0.5146 - 31s/epoch - 348ms/step\n",
      "Epoch 44/70\n",
      "\n",
      "Epoch 44: val_accuracy did not improve from 0.52990\n",
      "90/90 - 31s - loss: 0.1143 - accuracy: 0.9384 - val_loss: 2.4746 - val_accuracy: 0.5216 - 31s/epoch - 347ms/step\n",
      "Epoch 45/70\n",
      "\n",
      "Epoch 45: val_accuracy did not improve from 0.52990\n",
      "90/90 - 31s - loss: 0.1119 - accuracy: 0.9440 - val_loss: 2.5970 - val_accuracy: 0.5299 - 31s/epoch - 348ms/step\n",
      "Epoch 46/70\n",
      "\n",
      "Epoch 46: val_accuracy did not improve from 0.52990\n",
      "90/90 - 31s - loss: 0.1079 - accuracy: 0.9471 - val_loss: 2.5717 - val_accuracy: 0.5090 - 31s/epoch - 349ms/step\n",
      "Epoch 47/70\n",
      "\n",
      "Epoch 47: val_accuracy did not improve from 0.52990\n",
      "90/90 - 31s - loss: 0.1120 - accuracy: 0.9422 - val_loss: 2.6649 - val_accuracy: 0.5243 - 31s/epoch - 347ms/step\n",
      "Epoch 48/70\n",
      "\n",
      "Epoch 48: val_accuracy did not improve from 0.52990\n",
      "90/90 - 31s - loss: 0.1085 - accuracy: 0.9454 - val_loss: 2.6177 - val_accuracy: 0.5243 - 31s/epoch - 348ms/step\n",
      "Epoch 49/70\n",
      "\n",
      "Epoch 49: val_accuracy did not improve from 0.52990\n",
      "90/90 - 31s - loss: 0.1107 - accuracy: 0.9447 - val_loss: 2.4794 - val_accuracy: 0.5202 - 31s/epoch - 347ms/step\n",
      "Epoch 50/70\n",
      "\n",
      "Epoch 50: val_accuracy did not improve from 0.52990\n",
      "90/90 - 31s - loss: 0.1124 - accuracy: 0.9415 - val_loss: 2.6860 - val_accuracy: 0.5104 - 31s/epoch - 348ms/step\n",
      "Epoch 51/70\n",
      "\n",
      "Epoch 51: val_accuracy did not improve from 0.52990\n",
      "90/90 - 31s - loss: 0.1049 - accuracy: 0.9422 - val_loss: 2.8378 - val_accuracy: 0.5049 - 31s/epoch - 348ms/step\n",
      "Epoch 52/70\n",
      "\n",
      "Epoch 52: val_accuracy did not improve from 0.52990\n",
      "90/90 - 31s - loss: 0.1044 - accuracy: 0.9464 - val_loss: 2.7968 - val_accuracy: 0.5104 - 31s/epoch - 347ms/step\n",
      "Epoch 53/70\n",
      "\n",
      "Epoch 53: val_accuracy did not improve from 0.52990\n",
      "90/90 - 31s - loss: 0.1059 - accuracy: 0.9457 - val_loss: 3.1116 - val_accuracy: 0.5007 - 31s/epoch - 348ms/step\n",
      "Epoch 54/70\n",
      "\n",
      "Epoch 54: val_accuracy did not improve from 0.52990\n",
      "90/90 - 32s - loss: 0.1109 - accuracy: 0.9402 - val_loss: 2.9658 - val_accuracy: 0.5076 - 32s/epoch - 358ms/step\n",
      "Epoch 55/70\n",
      "\n",
      "Epoch 55: val_accuracy did not improve from 0.52990\n",
      "90/90 - 32s - loss: 0.1036 - accuracy: 0.9412 - val_loss: 2.9475 - val_accuracy: 0.5007 - 32s/epoch - 360ms/step\n",
      "Epoch 56/70\n",
      "\n",
      "Epoch 56: val_accuracy did not improve from 0.52990\n",
      "90/90 - 32s - loss: 0.1040 - accuracy: 0.9447 - val_loss: 2.8079 - val_accuracy: 0.5188 - 32s/epoch - 357ms/step\n",
      "Epoch 57/70\n",
      "\n",
      "Epoch 57: val_accuracy did not improve from 0.52990\n",
      "90/90 - 32s - loss: 0.1017 - accuracy: 0.9461 - val_loss: 2.9387 - val_accuracy: 0.5104 - 32s/epoch - 358ms/step\n",
      "Epoch 58/70\n",
      "\n",
      "Epoch 58: val_accuracy did not improve from 0.52990\n",
      "90/90 - 32s - loss: 0.0998 - accuracy: 0.9454 - val_loss: 3.0602 - val_accuracy: 0.5021 - 32s/epoch - 358ms/step\n",
      "Epoch 59/70\n",
      "\n",
      "Epoch 59: val_accuracy did not improve from 0.52990\n",
      "90/90 - 32s - loss: 0.1037 - accuracy: 0.9454 - val_loss: 2.8318 - val_accuracy: 0.5146 - 32s/epoch - 361ms/step\n",
      "Epoch 60/70\n",
      "\n",
      "Epoch 60: val_accuracy did not improve from 0.52990\n",
      "90/90 - 32s - loss: 0.1026 - accuracy: 0.9475 - val_loss: 3.0601 - val_accuracy: 0.5188 - 32s/epoch - 357ms/step\n",
      "Epoch 61/70\n",
      "\n",
      "Epoch 61: val_accuracy did not improve from 0.52990\n",
      "90/90 - 32s - loss: 0.1062 - accuracy: 0.9454 - val_loss: 2.9633 - val_accuracy: 0.5132 - 32s/epoch - 359ms/step\n",
      "Epoch 62/70\n",
      "\n",
      "Epoch 62: val_accuracy did not improve from 0.52990\n",
      "90/90 - 32s - loss: 0.1040 - accuracy: 0.9454 - val_loss: 3.0062 - val_accuracy: 0.5035 - 32s/epoch - 360ms/step\n",
      "Epoch 63/70\n",
      "\n",
      "Epoch 63: val_accuracy did not improve from 0.52990\n",
      "90/90 - 32s - loss: 0.0968 - accuracy: 0.9478 - val_loss: 3.1252 - val_accuracy: 0.4951 - 32s/epoch - 356ms/step\n",
      "Epoch 64/70\n",
      "\n",
      "Epoch 64: val_accuracy did not improve from 0.52990\n",
      "90/90 - 32s - loss: 0.1034 - accuracy: 0.9450 - val_loss: 3.0755 - val_accuracy: 0.4868 - 32s/epoch - 357ms/step\n",
      "Epoch 65/70\n",
      "\n",
      "Epoch 65: val_accuracy did not improve from 0.52990\n",
      "90/90 - 32s - loss: 0.0987 - accuracy: 0.9489 - val_loss: 3.2169 - val_accuracy: 0.4993 - 32s/epoch - 358ms/step\n",
      "Epoch 66/70\n",
      "\n",
      "Epoch 66: val_accuracy did not improve from 0.52990\n",
      "90/90 - 32s - loss: 0.1051 - accuracy: 0.9408 - val_loss: 3.0497 - val_accuracy: 0.5076 - 32s/epoch - 357ms/step\n",
      "Epoch 67/70\n",
      "\n",
      "Epoch 67: val_accuracy did not improve from 0.52990\n",
      "90/90 - 32s - loss: 0.0996 - accuracy: 0.9482 - val_loss: 3.0618 - val_accuracy: 0.5132 - 32s/epoch - 359ms/step\n",
      "Epoch 68/70\n",
      "\n",
      "Epoch 68: val_accuracy did not improve from 0.52990\n",
      "90/90 - 32s - loss: 0.1007 - accuracy: 0.9485 - val_loss: 2.9114 - val_accuracy: 0.5118 - 32s/epoch - 358ms/step\n",
      "Epoch 69/70\n",
      "\n",
      "Epoch 69: val_accuracy did not improve from 0.52990\n",
      "90/90 - 32s - loss: 0.1005 - accuracy: 0.9468 - val_loss: 3.2705 - val_accuracy: 0.5146 - 32s/epoch - 359ms/step\n",
      "Epoch 70/70\n",
      "\n",
      "Epoch 70: val_accuracy did not improve from 0.52990\n",
      "90/90 - 32s - loss: 0.1006 - accuracy: 0.9454 - val_loss: 2.9719 - val_accuracy: 0.5202 - 32s/epoch - 359ms/step\n"
     ]
    }
   ],
   "source": [
    "model1.compile(optimizer='adam',loss='categorical_crossentropy', metrics=['accuracy'])\n",
    "\n",
    "#Implementing model checkpoins to save the best metric and do not lose it on training.\n",
    "checkpoint1 = ModelCheckpoint(\"best_model1.hdf5\", monitor='val_accuracy', verbose=1,save_best_only=True, mode='auto', period=1, save_weights_only=False)\n",
    "\n",
    "history = model1.fit(X_train, y_train, epochs=70,\n",
    "                     batch_size=32,\n",
    "                     verbose=2,\n",
    "                     validation_data=(X_test, y_test),callbacks=[checkpoint1])"
   ],
   "metadata": {
    "collapsed": false,
    "pycharm": {
     "name": "#%%\n"
    }
   }
  },
  {
   "cell_type": "code",
   "execution_count": 28,
   "outputs": [
    {
     "name": "stderr",
     "output_type": "stream",
     "text": [
      "2023-04-23 11:30:26.986851: I tensorflow/core/common_runtime/executor.cc:1197] [/device:CPU:0] (DEBUG INFO) Executor start aborting (this does not indicate an error and you can ignore this message): INVALID_ARGUMENT: You must feed a value for placeholder tensor 'gradients/split_2_grad/concat/split_2/split_dim' with dtype int32\n",
      "\t [[{{node gradients/split_2_grad/concat/split_2/split_dim}}]]\n",
      "2023-04-23 11:30:26.987944: I tensorflow/core/common_runtime/executor.cc:1197] [/device:CPU:0] (DEBUG INFO) Executor start aborting (this does not indicate an error and you can ignore this message): INVALID_ARGUMENT: You must feed a value for placeholder tensor 'gradients/split_grad/concat/split/split_dim' with dtype int32\n",
      "\t [[{{node gradients/split_grad/concat/split/split_dim}}]]\n",
      "2023-04-23 11:30:26.988707: I tensorflow/core/common_runtime/executor.cc:1197] [/device:CPU:0] (DEBUG INFO) Executor start aborting (this does not indicate an error and you can ignore this message): INVALID_ARGUMENT: You must feed a value for placeholder tensor 'gradients/split_1_grad/concat/split_1/split_dim' with dtype int32\n",
      "\t [[{{node gradients/split_1_grad/concat/split_1/split_dim}}]]\n",
      "2023-04-23 11:30:27.089963: I tensorflow/core/common_runtime/executor.cc:1197] [/device:CPU:0] (DEBUG INFO) Executor start aborting (this does not indicate an error and you can ignore this message): INVALID_ARGUMENT: You must feed a value for placeholder tensor 'gradients/ReverseV2_grad/ReverseV2/ReverseV2/axis' with dtype int32 and shape [1]\n",
      "\t [[{{node gradients/ReverseV2_grad/ReverseV2/ReverseV2/axis}}]]\n",
      "2023-04-23 11:30:27.123873: I tensorflow/core/common_runtime/executor.cc:1197] [/device:CPU:0] (DEBUG INFO) Executor start aborting (this does not indicate an error and you can ignore this message): INVALID_ARGUMENT: You must feed a value for placeholder tensor 'gradients/split_2_grad/concat/split_2/split_dim' with dtype int32\n",
      "\t [[{{node gradients/split_2_grad/concat/split_2/split_dim}}]]\n",
      "2023-04-23 11:30:27.124708: I tensorflow/core/common_runtime/executor.cc:1197] [/device:CPU:0] (DEBUG INFO) Executor start aborting (this does not indicate an error and you can ignore this message): INVALID_ARGUMENT: You must feed a value for placeholder tensor 'gradients/split_grad/concat/split/split_dim' with dtype int32\n",
      "\t [[{{node gradients/split_grad/concat/split/split_dim}}]]\n",
      "2023-04-23 11:30:27.125460: I tensorflow/core/common_runtime/executor.cc:1197] [/device:CPU:0] (DEBUG INFO) Executor start aborting (this does not indicate an error and you can ignore this message): INVALID_ARGUMENT: You must feed a value for placeholder tensor 'gradients/split_1_grad/concat/split_1/split_dim' with dtype int32\n",
      "\t [[{{node gradients/split_1_grad/concat/split_1/split_dim}}]]\n"
     ]
    }
   ],
   "source": [
    "model2 = Sequential()\n",
    "model2.add(layers.Embedding(max_words, 15, input_length=max_len))\n",
    "model2.add(layers.Bidirectional(layers.LSTM(10,dropout=0.6)))\n",
    "model2.add(layers.Dense(2, activation='sigmoid'))\n",
    "model2.compile(optimizer='rmsprop',loss='categorical_crossentropy', metrics=['accuracy'])"
   ],
   "metadata": {
    "collapsed": false,
    "pycharm": {
     "name": "#%%\n"
    }
   }
  },
  {
   "cell_type": "code",
   "execution_count": 29,
   "outputs": [
    {
     "name": "stdout",
     "output_type": "stream",
     "text": [
      "WARNING:tensorflow:`period` argument is deprecated. Please use `save_freq` to specify the frequency in number of batches seen.\n",
      "Epoch 1/70\n"
     ]
    },
    {
     "name": "stderr",
     "output_type": "stream",
     "text": [
      "2023-04-23 11:30:27.354396: I tensorflow/core/common_runtime/executor.cc:1197] [/device:CPU:0] (DEBUG INFO) Executor start aborting (this does not indicate an error and you can ignore this message): INVALID_ARGUMENT: You must feed a value for placeholder tensor 'gradients/split_2_grad/concat/split_2/split_dim' with dtype int32\n",
      "\t [[{{node gradients/split_2_grad/concat/split_2/split_dim}}]]\n",
      "2023-04-23 11:30:27.355752: I tensorflow/core/common_runtime/executor.cc:1197] [/device:CPU:0] (DEBUG INFO) Executor start aborting (this does not indicate an error and you can ignore this message): INVALID_ARGUMENT: You must feed a value for placeholder tensor 'gradients/split_grad/concat/split/split_dim' with dtype int32\n",
      "\t [[{{node gradients/split_grad/concat/split/split_dim}}]]\n",
      "2023-04-23 11:30:27.356612: I tensorflow/core/common_runtime/executor.cc:1197] [/device:CPU:0] (DEBUG INFO) Executor start aborting (this does not indicate an error and you can ignore this message): INVALID_ARGUMENT: You must feed a value for placeholder tensor 'gradients/split_1_grad/concat/split_1/split_dim' with dtype int32\n",
      "\t [[{{node gradients/split_1_grad/concat/split_1/split_dim}}]]\n",
      "2023-04-23 11:30:27.470398: I tensorflow/core/common_runtime/executor.cc:1197] [/device:CPU:0] (DEBUG INFO) Executor start aborting (this does not indicate an error and you can ignore this message): INVALID_ARGUMENT: You must feed a value for placeholder tensor 'gradients/ReverseV2_grad/ReverseV2/ReverseV2/axis' with dtype int32 and shape [1]\n",
      "\t [[{{node gradients/ReverseV2_grad/ReverseV2/ReverseV2/axis}}]]\n",
      "2023-04-23 11:30:27.506659: I tensorflow/core/common_runtime/executor.cc:1197] [/device:CPU:0] (DEBUG INFO) Executor start aborting (this does not indicate an error and you can ignore this message): INVALID_ARGUMENT: You must feed a value for placeholder tensor 'gradients/split_2_grad/concat/split_2/split_dim' with dtype int32\n",
      "\t [[{{node gradients/split_2_grad/concat/split_2/split_dim}}]]\n",
      "2023-04-23 11:30:27.507587: I tensorflow/core/common_runtime/executor.cc:1197] [/device:CPU:0] (DEBUG INFO) Executor start aborting (this does not indicate an error and you can ignore this message): INVALID_ARGUMENT: You must feed a value for placeholder tensor 'gradients/split_grad/concat/split/split_dim' with dtype int32\n",
      "\t [[{{node gradients/split_grad/concat/split/split_dim}}]]\n",
      "2023-04-23 11:30:27.508434: I tensorflow/core/common_runtime/executor.cc:1197] [/device:CPU:0] (DEBUG INFO) Executor start aborting (this does not indicate an error and you can ignore this message): INVALID_ARGUMENT: You must feed a value for placeholder tensor 'gradients/split_1_grad/concat/split_1/split_dim' with dtype int32\n",
      "\t [[{{node gradients/split_1_grad/concat/split_1/split_dim}}]]\n",
      "2023-04-23 11:30:27.869317: I tensorflow/core/common_runtime/executor.cc:1197] [/device:CPU:0] (DEBUG INFO) Executor start aborting (this does not indicate an error and you can ignore this message): INVALID_ARGUMENT: You must feed a value for placeholder tensor 'gradients/ReverseV2_grad/ReverseV2/ReverseV2/axis' with dtype int32 and shape [1]\n",
      "\t [[{{node gradients/ReverseV2_grad/ReverseV2/ReverseV2/axis}}]]\n",
      "2023-04-23 11:30:28.169976: I tensorflow/core/common_runtime/executor.cc:1197] [/device:CPU:0] (DEBUG INFO) Executor start aborting (this does not indicate an error and you can ignore this message): INVALID_ARGUMENT: You must feed a value for placeholder tensor 'gradients/split_2_grad/concat/split_2/split_dim' with dtype int32\n",
      "\t [[{{node gradients/split_2_grad/concat/split_2/split_dim}}]]\n",
      "2023-04-23 11:30:28.171162: I tensorflow/core/common_runtime/executor.cc:1197] [/device:CPU:0] (DEBUG INFO) Executor start aborting (this does not indicate an error and you can ignore this message): INVALID_ARGUMENT: You must feed a value for placeholder tensor 'gradients/split_grad/concat/split/split_dim' with dtype int32\n",
      "\t [[{{node gradients/split_grad/concat/split/split_dim}}]]\n",
      "2023-04-23 11:30:28.172077: I tensorflow/core/common_runtime/executor.cc:1197] [/device:CPU:0] (DEBUG INFO) Executor start aborting (this does not indicate an error and you can ignore this message): INVALID_ARGUMENT: You must feed a value for placeholder tensor 'gradients/split_1_grad/concat/split_1/split_dim' with dtype int32\n",
      "\t [[{{node gradients/split_1_grad/concat/split_1/split_dim}}]]\n",
      "2023-04-23 11:30:28.287704: I tensorflow/core/common_runtime/executor.cc:1197] [/device:CPU:0] (DEBUG INFO) Executor start aborting (this does not indicate an error and you can ignore this message): INVALID_ARGUMENT: You must feed a value for placeholder tensor 'gradients/ReverseV2_grad/ReverseV2/ReverseV2/axis' with dtype int32 and shape [1]\n",
      "\t [[{{node gradients/ReverseV2_grad/ReverseV2/ReverseV2/axis}}]]\n",
      "2023-04-23 11:30:28.324431: I tensorflow/core/common_runtime/executor.cc:1197] [/device:CPU:0] (DEBUG INFO) Executor start aborting (this does not indicate an error and you can ignore this message): INVALID_ARGUMENT: You must feed a value for placeholder tensor 'gradients/split_2_grad/concat/split_2/split_dim' with dtype int32\n",
      "\t [[{{node gradients/split_2_grad/concat/split_2/split_dim}}]]\n",
      "2023-04-23 11:30:28.325366: I tensorflow/core/common_runtime/executor.cc:1197] [/device:CPU:0] (DEBUG INFO) Executor start aborting (this does not indicate an error and you can ignore this message): INVALID_ARGUMENT: You must feed a value for placeholder tensor 'gradients/split_grad/concat/split/split_dim' with dtype int32\n",
      "\t [[{{node gradients/split_grad/concat/split/split_dim}}]]\n",
      "2023-04-23 11:30:28.326407: I tensorflow/core/common_runtime/executor.cc:1197] [/device:CPU:0] (DEBUG INFO) Executor start aborting (this does not indicate an error and you can ignore this message): INVALID_ARGUMENT: You must feed a value for placeholder tensor 'gradients/split_1_grad/concat/split_1/split_dim' with dtype int32\n",
      "\t [[{{node gradients/split_1_grad/concat/split_1/split_dim}}]]\n",
      "2023-04-23 11:30:28.678329: I tensorflow/core/common_runtime/executor.cc:1197] [/device:CPU:0] (DEBUG INFO) Executor start aborting (this does not indicate an error and you can ignore this message): INVALID_ARGUMENT: You must feed a value for placeholder tensor 'gradients/ReverseV2_grad/ReverseV2/ReverseV2/axis' with dtype int32 and shape [1]\n",
      "\t [[{{node gradients/ReverseV2_grad/ReverseV2/ReverseV2/axis}}]]\n"
     ]
    },
    {
     "name": "stdout",
     "output_type": "stream",
     "text": [
      "89/90 [============================>.] - ETA: 0s - loss: 0.6935 - accuracy: 0.4968"
     ]
    },
    {
     "name": "stderr",
     "output_type": "stream",
     "text": [
      "2023-04-23 11:30:35.119961: I tensorflow/core/common_runtime/executor.cc:1197] [/device:CPU:0] (DEBUG INFO) Executor start aborting (this does not indicate an error and you can ignore this message): INVALID_ARGUMENT: You must feed a value for placeholder tensor 'gradients/split_2_grad/concat/split_2/split_dim' with dtype int32\n",
      "\t [[{{node gradients/split_2_grad/concat/split_2/split_dim}}]]\n",
      "2023-04-23 11:30:35.120842: I tensorflow/core/common_runtime/executor.cc:1197] [/device:CPU:0] (DEBUG INFO) Executor start aborting (this does not indicate an error and you can ignore this message): INVALID_ARGUMENT: You must feed a value for placeholder tensor 'gradients/split_grad/concat/split/split_dim' with dtype int32\n",
      "\t [[{{node gradients/split_grad/concat/split/split_dim}}]]\n",
      "2023-04-23 11:30:35.121680: I tensorflow/core/common_runtime/executor.cc:1197] [/device:CPU:0] (DEBUG INFO) Executor start aborting (this does not indicate an error and you can ignore this message): INVALID_ARGUMENT: You must feed a value for placeholder tensor 'gradients/split_1_grad/concat/split_1/split_dim' with dtype int32\n",
      "\t [[{{node gradients/split_1_grad/concat/split_1/split_dim}}]]\n",
      "2023-04-23 11:30:35.224272: I tensorflow/core/common_runtime/executor.cc:1197] [/device:CPU:0] (DEBUG INFO) Executor start aborting (this does not indicate an error and you can ignore this message): INVALID_ARGUMENT: You must feed a value for placeholder tensor 'gradients/ReverseV2_grad/ReverseV2/ReverseV2/axis' with dtype int32 and shape [1]\n",
      "\t [[{{node gradients/ReverseV2_grad/ReverseV2/ReverseV2/axis}}]]\n",
      "2023-04-23 11:30:35.259412: I tensorflow/core/common_runtime/executor.cc:1197] [/device:CPU:0] (DEBUG INFO) Executor start aborting (this does not indicate an error and you can ignore this message): INVALID_ARGUMENT: You must feed a value for placeholder tensor 'gradients/split_2_grad/concat/split_2/split_dim' with dtype int32\n",
      "\t [[{{node gradients/split_2_grad/concat/split_2/split_dim}}]]\n",
      "2023-04-23 11:30:35.260376: I tensorflow/core/common_runtime/executor.cc:1197] [/device:CPU:0] (DEBUG INFO) Executor start aborting (this does not indicate an error and you can ignore this message): INVALID_ARGUMENT: You must feed a value for placeholder tensor 'gradients/split_grad/concat/split/split_dim' with dtype int32\n",
      "\t [[{{node gradients/split_grad/concat/split/split_dim}}]]\n",
      "2023-04-23 11:30:35.261210: I tensorflow/core/common_runtime/executor.cc:1197] [/device:CPU:0] (DEBUG INFO) Executor start aborting (this does not indicate an error and you can ignore this message): INVALID_ARGUMENT: You must feed a value for placeholder tensor 'gradients/split_1_grad/concat/split_1/split_dim' with dtype int32\n",
      "\t [[{{node gradients/split_1_grad/concat/split_1/split_dim}}]]\n"
     ]
    },
    {
     "name": "stdout",
     "output_type": "stream",
     "text": [
      "\n",
      "Epoch 1: accuracy improved from -inf to 0.49756, saving model to best_model2.hdf5\n",
      "90/90 [==============================] - 8s 68ms/step - loss: 0.6935 - accuracy: 0.4976 - val_loss: 0.6930 - val_accuracy: 0.5341\n",
      "Epoch 2/70\n",
      "90/90 [==============================] - ETA: 0s - loss: 0.6930 - accuracy: 0.5157\n",
      "Epoch 2: accuracy improved from 0.49756 to 0.51566, saving model to best_model2.hdf5\n",
      "90/90 [==============================] - 3s 28ms/step - loss: 0.6930 - accuracy: 0.5157 - val_loss: 0.6929 - val_accuracy: 0.5188\n",
      "Epoch 3/70\n",
      "90/90 [==============================] - ETA: 0s - loss: 0.6914 - accuracy: 0.5306\n",
      "Epoch 3: accuracy improved from 0.51566 to 0.53062, saving model to best_model2.hdf5\n",
      "90/90 [==============================] - 2s 24ms/step - loss: 0.6914 - accuracy: 0.5306 - val_loss: 0.6926 - val_accuracy: 0.5049\n",
      "Epoch 4/70\n",
      "88/90 [============================>.] - ETA: 0s - loss: 0.6870 - accuracy: 0.5625\n",
      "Epoch 4: accuracy improved from 0.53062 to 0.56193, saving model to best_model2.hdf5\n",
      "90/90 [==============================] - 1s 13ms/step - loss: 0.6870 - accuracy: 0.5619 - val_loss: 0.6926 - val_accuracy: 0.5118\n",
      "Epoch 5/70\n",
      "90/90 [==============================] - ETA: 0s - loss: 0.6777 - accuracy: 0.6086\n",
      "Epoch 5: accuracy improved from 0.56193 to 0.60856, saving model to best_model2.hdf5\n",
      "90/90 [==============================] - 1s 13ms/step - loss: 0.6777 - accuracy: 0.6086 - val_loss: 0.6925 - val_accuracy: 0.5132\n",
      "Epoch 6/70\n",
      "88/90 [============================>.] - ETA: 0s - loss: 0.6594 - accuracy: 0.6413\n",
      "Epoch 6: accuracy improved from 0.60856 to 0.64092, saving model to best_model2.hdf5\n",
      "90/90 [==============================] - 1s 13ms/step - loss: 0.6591 - accuracy: 0.6409 - val_loss: 0.6974 - val_accuracy: 0.5132\n",
      "Epoch 7/70\n",
      "90/90 [==============================] - ETA: 0s - loss: 0.6309 - accuracy: 0.6670\n",
      "Epoch 7: accuracy improved from 0.64092 to 0.66701, saving model to best_model2.hdf5\n",
      "90/90 [==============================] - 1s 14ms/step - loss: 0.6309 - accuracy: 0.6670 - val_loss: 0.7068 - val_accuracy: 0.5271\n",
      "Epoch 8/70\n",
      "86/90 [===========================>..] - ETA: 0s - loss: 0.6022 - accuracy: 0.6835\n",
      "Epoch 8: accuracy improved from 0.66701 to 0.68580, saving model to best_model2.hdf5\n",
      "90/90 [==============================] - 1s 11ms/step - loss: 0.6010 - accuracy: 0.6858 - val_loss: 0.7235 - val_accuracy: 0.5132\n",
      "Epoch 9/70\n",
      "85/90 [===========================>..] - ETA: 0s - loss: 0.5744 - accuracy: 0.7044\n",
      "Epoch 9: accuracy improved from 0.68580 to 0.70598, saving model to best_model2.hdf5\n",
      "90/90 [==============================] - 1s 11ms/step - loss: 0.5733 - accuracy: 0.7060 - val_loss: 0.7386 - val_accuracy: 0.5160\n",
      "Epoch 10/70\n",
      "85/90 [===========================>..] - ETA: 0s - loss: 0.5440 - accuracy: 0.7151\n",
      "Epoch 10: accuracy improved from 0.70598 to 0.71225, saving model to best_model2.hdf5\n",
      "90/90 [==============================] - 1s 14ms/step - loss: 0.5486 - accuracy: 0.7122 - val_loss: 0.7480 - val_accuracy: 0.5355\n",
      "Epoch 11/70\n",
      "87/90 [============================>.] - ETA: 0s - loss: 0.5223 - accuracy: 0.7432\n",
      "Epoch 11: accuracy improved from 0.71225 to 0.74113, saving model to best_model2.hdf5\n",
      "90/90 [==============================] - 1s 10ms/step - loss: 0.5240 - accuracy: 0.7411 - val_loss: 0.7639 - val_accuracy: 0.5313\n",
      "Epoch 12/70\n",
      "90/90 [==============================] - ETA: 0s - loss: 0.5088 - accuracy: 0.7460\n",
      "Epoch 12: accuracy improved from 0.74113 to 0.74600, saving model to best_model2.hdf5\n",
      "90/90 [==============================] - 1s 11ms/step - loss: 0.5088 - accuracy: 0.7460 - val_loss: 0.7798 - val_accuracy: 0.5285\n",
      "Epoch 13/70\n",
      "86/90 [===========================>..] - ETA: 0s - loss: 0.4861 - accuracy: 0.7656\n",
      "Epoch 13: accuracy improved from 0.74600 to 0.76862, saving model to best_model2.hdf5\n",
      "90/90 [==============================] - 1s 11ms/step - loss: 0.4820 - accuracy: 0.7686 - val_loss: 0.8080 - val_accuracy: 0.5188\n",
      "Epoch 14/70\n",
      "90/90 [==============================] - ETA: 0s - loss: 0.4627 - accuracy: 0.7777\n",
      "Epoch 14: accuracy improved from 0.76862 to 0.77766, saving model to best_model2.hdf5\n",
      "90/90 [==============================] - 1s 12ms/step - loss: 0.4627 - accuracy: 0.7777 - val_loss: 0.8290 - val_accuracy: 0.5285\n",
      "Epoch 15/70\n",
      "86/90 [===========================>..] - ETA: 0s - loss: 0.4384 - accuracy: 0.7954\n",
      "Epoch 15: accuracy improved from 0.77766 to 0.79228, saving model to best_model2.hdf5\n",
      "90/90 [==============================] - 1s 10ms/step - loss: 0.4437 - accuracy: 0.7923 - val_loss: 0.8434 - val_accuracy: 0.5257\n",
      "Epoch 16/70\n",
      "90/90 [==============================] - ETA: 0s - loss: 0.4280 - accuracy: 0.7996\n",
      "Epoch 16: accuracy improved from 0.79228 to 0.79958, saving model to best_model2.hdf5\n",
      "90/90 [==============================] - 1s 10ms/step - loss: 0.4280 - accuracy: 0.7996 - val_loss: 0.8545 - val_accuracy: 0.5257\n",
      "Epoch 17/70\n",
      "85/90 [===========================>..] - ETA: 0s - loss: 0.4077 - accuracy: 0.8151\n",
      "Epoch 17: accuracy improved from 0.79958 to 0.81802, saving model to best_model2.hdf5\n",
      "90/90 [==============================] - 1s 12ms/step - loss: 0.4029 - accuracy: 0.8180 - val_loss: 0.8947 - val_accuracy: 0.5104\n",
      "Epoch 18/70\n",
      "86/90 [===========================>..] - ETA: 0s - loss: 0.4087 - accuracy: 0.8103\n",
      "Epoch 18: accuracy did not improve from 0.81802\n",
      "90/90 [==============================] - 1s 12ms/step - loss: 0.4073 - accuracy: 0.8107 - val_loss: 0.9269 - val_accuracy: 0.5118\n",
      "Epoch 19/70\n",
      "89/90 [============================>.] - ETA: 0s - loss: 0.3956 - accuracy: 0.8125\n",
      "Epoch 19: accuracy did not improve from 0.81802\n",
      "90/90 [==============================] - 1s 10ms/step - loss: 0.3945 - accuracy: 0.8138 - val_loss: 0.9316 - val_accuracy: 0.5188\n",
      "Epoch 20/70\n",
      "87/90 [============================>.] - ETA: 0s - loss: 0.3786 - accuracy: 0.8279\n",
      "Epoch 20: accuracy improved from 0.81802 to 0.82742, saving model to best_model2.hdf5\n",
      "90/90 [==============================] - 1s 11ms/step - loss: 0.3781 - accuracy: 0.8274 - val_loss: 0.9393 - val_accuracy: 0.5202\n",
      "Epoch 21/70\n",
      "89/90 [============================>.] - ETA: 0s - loss: 0.3672 - accuracy: 0.8364\n",
      "Epoch 21: accuracy improved from 0.82742 to 0.83716, saving model to best_model2.hdf5\n",
      "90/90 [==============================] - 1s 10ms/step - loss: 0.3663 - accuracy: 0.8372 - val_loss: 0.9470 - val_accuracy: 0.5118\n",
      "Epoch 22/70\n",
      "85/90 [===========================>..] - ETA: 0s - loss: 0.3572 - accuracy: 0.8379\n",
      "Epoch 22: accuracy did not improve from 0.83716\n",
      "90/90 [==============================] - 1s 11ms/step - loss: 0.3551 - accuracy: 0.8372 - val_loss: 0.9692 - val_accuracy: 0.5146\n",
      "Epoch 23/70\n",
      "90/90 [==============================] - ETA: 0s - loss: 0.3465 - accuracy: 0.8473\n",
      "Epoch 23: accuracy improved from 0.83716 to 0.84725, saving model to best_model2.hdf5\n",
      "90/90 [==============================] - 1s 10ms/step - loss: 0.3465 - accuracy: 0.8473 - val_loss: 0.9953 - val_accuracy: 0.5007\n",
      "Epoch 24/70\n",
      "86/90 [===========================>..] - ETA: 0s - loss: 0.3410 - accuracy: 0.8423\n",
      "Epoch 24: accuracy did not improve from 0.84725\n",
      "90/90 [==============================] - 1s 9ms/step - loss: 0.3413 - accuracy: 0.8417 - val_loss: 0.9772 - val_accuracy: 0.5104\n",
      "Epoch 25/70\n",
      "87/90 [============================>.] - ETA: 0s - loss: 0.3397 - accuracy: 0.8430\n",
      "Epoch 25: accuracy did not improve from 0.84725\n",
      "90/90 [==============================] - 1s 10ms/step - loss: 0.3373 - accuracy: 0.8434 - val_loss: 1.0214 - val_accuracy: 0.5132\n",
      "Epoch 26/70\n",
      "85/90 [===========================>..] - ETA: 0s - loss: 0.3355 - accuracy: 0.8482\n",
      "Epoch 26: accuracy improved from 0.84725 to 0.85108, saving model to best_model2.hdf5\n",
      "90/90 [==============================] - 1s 10ms/step - loss: 0.3315 - accuracy: 0.8511 - val_loss: 1.0395 - val_accuracy: 0.5188\n",
      "Epoch 27/70\n",
      "90/90 [==============================] - ETA: 0s - loss: 0.3273 - accuracy: 0.8535\n",
      "Epoch 27: accuracy improved from 0.85108 to 0.85351, saving model to best_model2.hdf5\n",
      "90/90 [==============================] - 1s 12ms/step - loss: 0.3273 - accuracy: 0.8535 - val_loss: 1.0196 - val_accuracy: 0.4965\n",
      "Epoch 28/70\n",
      "90/90 [==============================] - ETA: 0s - loss: 0.3145 - accuracy: 0.8636\n",
      "Epoch 28: accuracy improved from 0.85351 to 0.86360, saving model to best_model2.hdf5\n",
      "90/90 [==============================] - 1s 11ms/step - loss: 0.3145 - accuracy: 0.8636 - val_loss: 1.0484 - val_accuracy: 0.5132\n",
      "Epoch 29/70\n",
      "89/90 [============================>.] - ETA: 0s - loss: 0.3195 - accuracy: 0.8557\n",
      "Epoch 29: accuracy did not improve from 0.86360\n",
      "90/90 [==============================] - 1s 10ms/step - loss: 0.3191 - accuracy: 0.8553 - val_loss: 1.0409 - val_accuracy: 0.5229\n",
      "Epoch 30/70\n",
      "86/90 [===========================>..] - ETA: 0s - loss: 0.3081 - accuracy: 0.8586\n",
      "Epoch 30: accuracy did not improve from 0.86360\n",
      "90/90 [==============================] - 1s 9ms/step - loss: 0.3049 - accuracy: 0.8619 - val_loss: 1.0683 - val_accuracy: 0.5090\n",
      "Epoch 31/70\n",
      "85/90 [===========================>..] - ETA: 0s - loss: 0.3211 - accuracy: 0.8478\n",
      "Epoch 31: accuracy did not improve from 0.86360\n",
      "90/90 [==============================] - 1s 10ms/step - loss: 0.3195 - accuracy: 0.8493 - val_loss: 1.0557 - val_accuracy: 0.5090\n",
      "Epoch 32/70\n",
      "90/90 [==============================] - ETA: 0s - loss: 0.2980 - accuracy: 0.8629\n",
      "Epoch 32: accuracy did not improve from 0.86360\n",
      "90/90 [==============================] - 1s 10ms/step - loss: 0.2980 - accuracy: 0.8629 - val_loss: 1.0531 - val_accuracy: 0.5090\n",
      "Epoch 33/70\n",
      "90/90 [==============================] - ETA: 0s - loss: 0.3060 - accuracy: 0.8612\n",
      "Epoch 33: accuracy did not improve from 0.86360\n",
      "90/90 [==============================] - 1s 10ms/step - loss: 0.3060 - accuracy: 0.8612 - val_loss: 1.0747 - val_accuracy: 0.5104\n",
      "Epoch 34/70\n",
      "84/90 [===========================>..] - ETA: 0s - loss: 0.2932 - accuracy: 0.8679\n",
      "Epoch 34: accuracy improved from 0.86360 to 0.86952, saving model to best_model2.hdf5\n",
      "90/90 [==============================] - 1s 10ms/step - loss: 0.2911 - accuracy: 0.8695 - val_loss: 1.0953 - val_accuracy: 0.5063\n",
      "Epoch 35/70\n",
      "85/90 [===========================>..] - ETA: 0s - loss: 0.2930 - accuracy: 0.8680\n",
      "Epoch 35: accuracy did not improve from 0.86952\n",
      "90/90 [==============================] - 1s 9ms/step - loss: 0.2917 - accuracy: 0.8685 - val_loss: 1.0895 - val_accuracy: 0.5132\n",
      "Epoch 36/70\n",
      "84/90 [===========================>..] - ETA: 0s - loss: 0.2802 - accuracy: 0.8720\n",
      "Epoch 36: accuracy did not improve from 0.86952\n",
      "90/90 [==============================] - 1s 10ms/step - loss: 0.2823 - accuracy: 0.8692 - val_loss: 1.1085 - val_accuracy: 0.5132\n",
      "Epoch 37/70\n",
      "86/90 [===========================>..] - ETA: 0s - loss: 0.2768 - accuracy: 0.8725\n",
      "Epoch 37: accuracy improved from 0.86952 to 0.87265, saving model to best_model2.hdf5\n",
      "90/90 [==============================] - 1s 10ms/step - loss: 0.2780 - accuracy: 0.8727 - val_loss: 1.1448 - val_accuracy: 0.5229\n",
      "Epoch 38/70\n",
      "90/90 [==============================] - ETA: 0s - loss: 0.2755 - accuracy: 0.8786\n",
      "Epoch 38: accuracy improved from 0.87265 to 0.87857, saving model to best_model2.hdf5\n",
      "90/90 [==============================] - 1s 10ms/step - loss: 0.2755 - accuracy: 0.8786 - val_loss: 1.1493 - val_accuracy: 0.5090\n",
      "Epoch 39/70\n",
      "89/90 [============================>.] - ETA: 0s - loss: 0.2644 - accuracy: 0.8764\n",
      "Epoch 39: accuracy did not improve from 0.87857\n",
      "90/90 [==============================] - 1s 11ms/step - loss: 0.2654 - accuracy: 0.8751 - val_loss: 1.1732 - val_accuracy: 0.5174\n",
      "Epoch 40/70\n",
      "90/90 [==============================] - ETA: 0s - loss: 0.2713 - accuracy: 0.8727\n",
      "Epoch 40: accuracy did not improve from 0.87857\n",
      "90/90 [==============================] - 1s 10ms/step - loss: 0.2713 - accuracy: 0.8727 - val_loss: 1.1543 - val_accuracy: 0.5076\n",
      "Epoch 41/70\n",
      "88/90 [============================>.] - ETA: 0s - loss: 0.2525 - accuracy: 0.8860\n",
      "Epoch 41: accuracy improved from 0.87857 to 0.88657, saving model to best_model2.hdf5\n",
      "90/90 [==============================] - 1s 10ms/step - loss: 0.2524 - accuracy: 0.8866 - val_loss: 1.1934 - val_accuracy: 0.5118\n",
      "Epoch 42/70\n",
      "84/90 [===========================>..] - ETA: 0s - loss: 0.2705 - accuracy: 0.8787\n",
      "Epoch 42: accuracy did not improve from 0.88657\n",
      "90/90 [==============================] - 1s 10ms/step - loss: 0.2664 - accuracy: 0.8814 - val_loss: 1.2040 - val_accuracy: 0.5076\n",
      "Epoch 43/70\n",
      "88/90 [============================>.] - ETA: 0s - loss: 0.2514 - accuracy: 0.8881\n",
      "Epoch 43: accuracy did not improve from 0.88657\n",
      "90/90 [==============================] - 1s 10ms/step - loss: 0.2556 - accuracy: 0.8855 - val_loss: 1.2139 - val_accuracy: 0.5104\n",
      "Epoch 44/70\n",
      "85/90 [===========================>..] - ETA: 0s - loss: 0.2599 - accuracy: 0.8787\n",
      "Epoch 44: accuracy did not improve from 0.88657\n",
      "90/90 [==============================] - 1s 10ms/step - loss: 0.2593 - accuracy: 0.8789 - val_loss: 1.1814 - val_accuracy: 0.5104\n",
      "Epoch 45/70\n",
      "90/90 [==============================] - ETA: 0s - loss: 0.2531 - accuracy: 0.8900\n",
      "Epoch 45: accuracy improved from 0.88657 to 0.89005, saving model to best_model2.hdf5\n",
      "90/90 [==============================] - 1s 10ms/step - loss: 0.2531 - accuracy: 0.8900 - val_loss: 1.2011 - val_accuracy: 0.5049\n",
      "Epoch 46/70\n",
      "89/90 [============================>.] - ETA: 0s - loss: 0.2494 - accuracy: 0.8855\n",
      "Epoch 46: accuracy did not improve from 0.89005\n",
      "90/90 [==============================] - 1s 10ms/step - loss: 0.2505 - accuracy: 0.8845 - val_loss: 1.1896 - val_accuracy: 0.5090\n",
      "Epoch 47/70\n",
      "84/90 [===========================>..] - ETA: 0s - loss: 0.2423 - accuracy: 0.8888\n",
      "Epoch 47: accuracy did not improve from 0.89005\n",
      "90/90 [==============================] - 1s 10ms/step - loss: 0.2447 - accuracy: 0.8880 - val_loss: 1.1915 - val_accuracy: 0.5063\n",
      "Epoch 48/70\n",
      "90/90 [==============================] - ETA: 0s - loss: 0.2500 - accuracy: 0.8876\n",
      "Epoch 48: accuracy did not improve from 0.89005\n",
      "90/90 [==============================] - 1s 10ms/step - loss: 0.2500 - accuracy: 0.8876 - val_loss: 1.2223 - val_accuracy: 0.5007\n",
      "Epoch 49/70\n",
      "89/90 [============================>.] - ETA: 0s - loss: 0.2452 - accuracy: 0.8887\n",
      "Epoch 49: accuracy did not improve from 0.89005\n",
      "90/90 [==============================] - 1s 10ms/step - loss: 0.2448 - accuracy: 0.8890 - val_loss: 1.2452 - val_accuracy: 0.5035\n",
      "Epoch 50/70\n",
      "90/90 [==============================] - ETA: 0s - loss: 0.2436 - accuracy: 0.8883\n",
      "Epoch 50: accuracy did not improve from 0.89005\n",
      "90/90 [==============================] - 1s 10ms/step - loss: 0.2436 - accuracy: 0.8883 - val_loss: 1.2174 - val_accuracy: 0.4993\n",
      "Epoch 51/70\n",
      "90/90 [==============================] - ETA: 0s - loss: 0.2468 - accuracy: 0.8907\n",
      "Epoch 51: accuracy improved from 0.89005 to 0.89074, saving model to best_model2.hdf5\n",
      "90/90 [==============================] - 1s 10ms/step - loss: 0.2468 - accuracy: 0.8907 - val_loss: 1.2064 - val_accuracy: 0.5049\n",
      "Epoch 52/70\n",
      "88/90 [============================>.] - ETA: 0s - loss: 0.2429 - accuracy: 0.8888\n",
      "Epoch 52: accuracy did not improve from 0.89074\n",
      "90/90 [==============================] - 1s 10ms/step - loss: 0.2411 - accuracy: 0.8897 - val_loss: 1.2073 - val_accuracy: 0.5104\n",
      "Epoch 53/70\n",
      "84/90 [===========================>..] - ETA: 0s - loss: 0.2347 - accuracy: 0.8914\n",
      "Epoch 53: accuracy did not improve from 0.89074\n",
      "90/90 [==============================] - 1s 9ms/step - loss: 0.2395 - accuracy: 0.8907 - val_loss: 1.2621 - val_accuracy: 0.5063\n",
      "Epoch 54/70\n",
      "87/90 [============================>.] - ETA: 0s - loss: 0.2384 - accuracy: 0.8894\n",
      "Epoch 54: accuracy did not improve from 0.89074\n",
      "90/90 [==============================] - 1s 11ms/step - loss: 0.2362 - accuracy: 0.8907 - val_loss: 1.2590 - val_accuracy: 0.5104\n",
      "Epoch 55/70\n",
      "87/90 [============================>.] - ETA: 0s - loss: 0.2352 - accuracy: 0.8951\n",
      "Epoch 55: accuracy improved from 0.89074 to 0.89527, saving model to best_model2.hdf5\n",
      "90/90 [==============================] - 1s 10ms/step - loss: 0.2342 - accuracy: 0.8953 - val_loss: 1.2563 - val_accuracy: 0.4979\n",
      "Epoch 56/70\n",
      "88/90 [============================>.] - ETA: 0s - loss: 0.2390 - accuracy: 0.8917\n",
      "Epoch 56: accuracy did not improve from 0.89527\n",
      "90/90 [==============================] - 1s 10ms/step - loss: 0.2387 - accuracy: 0.8925 - val_loss: 1.2410 - val_accuracy: 0.4965\n",
      "Epoch 57/70\n",
      "87/90 [============================>.] - ETA: 0s - loss: 0.2224 - accuracy: 0.9027\n",
      "Epoch 57: accuracy improved from 0.89527 to 0.90327, saving model to best_model2.hdf5\n",
      "90/90 [==============================] - 1s 11ms/step - loss: 0.2228 - accuracy: 0.9033 - val_loss: 1.2648 - val_accuracy: 0.4979\n",
      "Epoch 58/70\n",
      "85/90 [===========================>..] - ETA: 0s - loss: 0.2302 - accuracy: 0.8963\n",
      "Epoch 58: accuracy did not improve from 0.90327\n",
      "90/90 [==============================] - 1s 10ms/step - loss: 0.2303 - accuracy: 0.8956 - val_loss: 1.2374 - val_accuracy: 0.5049\n",
      "Epoch 59/70\n",
      "84/90 [===========================>..] - ETA: 0s - loss: 0.2351 - accuracy: 0.8981\n",
      "Epoch 59: accuracy did not improve from 0.90327\n",
      "90/90 [==============================] - 1s 10ms/step - loss: 0.2370 - accuracy: 0.8960 - val_loss: 1.2199 - val_accuracy: 0.5076\n",
      "Epoch 60/70\n",
      "88/90 [============================>.] - ETA: 0s - loss: 0.2254 - accuracy: 0.8945\n",
      "Epoch 60: accuracy did not improve from 0.90327\n",
      "90/90 [==============================] - 1s 10ms/step - loss: 0.2269 - accuracy: 0.8939 - val_loss: 1.2621 - val_accuracy: 0.5118\n",
      "Epoch 61/70\n",
      "87/90 [============================>.] - ETA: 0s - loss: 0.2268 - accuracy: 0.8966\n",
      "Epoch 61: accuracy did not improve from 0.90327\n",
      "90/90 [==============================] - 1s 10ms/step - loss: 0.2263 - accuracy: 0.8974 - val_loss: 1.3148 - val_accuracy: 0.5118\n",
      "Epoch 62/70\n",
      "90/90 [==============================] - ETA: 0s - loss: 0.2280 - accuracy: 0.8991\n",
      "Epoch 62: accuracy did not improve from 0.90327\n",
      "90/90 [==============================] - 1s 10ms/step - loss: 0.2280 - accuracy: 0.8991 - val_loss: 1.2520 - val_accuracy: 0.5118\n",
      "Epoch 63/70\n",
      "88/90 [============================>.] - ETA: 0s - loss: 0.2169 - accuracy: 0.9070\n",
      "Epoch 63: accuracy improved from 0.90327 to 0.90501, saving model to best_model2.hdf5\n",
      "90/90 [==============================] - 1s 10ms/step - loss: 0.2192 - accuracy: 0.9050 - val_loss: 1.2680 - val_accuracy: 0.5174\n",
      "Epoch 64/70\n",
      "87/90 [============================>.] - ETA: 0s - loss: 0.2226 - accuracy: 0.8930\n",
      "Epoch 64: accuracy did not improve from 0.90501\n",
      "90/90 [==============================] - 1s 10ms/step - loss: 0.2251 - accuracy: 0.8911 - val_loss: 1.2934 - val_accuracy: 0.5104\n",
      "Epoch 65/70\n",
      "85/90 [===========================>..] - ETA: 0s - loss: 0.2246 - accuracy: 0.8967\n",
      "Epoch 65: accuracy did not improve from 0.90501\n",
      "90/90 [==============================] - 1s 10ms/step - loss: 0.2234 - accuracy: 0.8984 - val_loss: 1.3094 - val_accuracy: 0.5104\n",
      "Epoch 66/70\n",
      "88/90 [============================>.] - ETA: 0s - loss: 0.2167 - accuracy: 0.8995\n",
      "Epoch 66: accuracy did not improve from 0.90501\n",
      "90/90 [==============================] - 1s 10ms/step - loss: 0.2154 - accuracy: 0.8998 - val_loss: 1.2788 - val_accuracy: 0.5118\n",
      "Epoch 67/70\n",
      "85/90 [===========================>..] - ETA: 0s - loss: 0.2153 - accuracy: 0.9029\n",
      "Epoch 67: accuracy did not improve from 0.90501\n",
      "90/90 [==============================] - 1s 10ms/step - loss: 0.2166 - accuracy: 0.9029 - val_loss: 1.3508 - val_accuracy: 0.5076\n",
      "Epoch 68/70\n",
      "90/90 [==============================] - ETA: 0s - loss: 0.2104 - accuracy: 0.9022\n",
      "Epoch 68: accuracy did not improve from 0.90501\n",
      "90/90 [==============================] - 1s 11ms/step - loss: 0.2104 - accuracy: 0.9022 - val_loss: 1.3509 - val_accuracy: 0.5049\n",
      "Epoch 69/70\n",
      "90/90 [==============================] - ETA: 0s - loss: 0.2169 - accuracy: 0.9001\n",
      "Epoch 69: accuracy did not improve from 0.90501\n",
      "90/90 [==============================] - 1s 11ms/step - loss: 0.2169 - accuracy: 0.9001 - val_loss: 1.3477 - val_accuracy: 0.5118\n",
      "Epoch 70/70\n",
      "84/90 [===========================>..] - ETA: 0s - loss: 0.2125 - accuracy: 0.9059\n",
      "Epoch 70: accuracy improved from 0.90501 to 0.90884, saving model to best_model2.hdf5\n",
      "90/90 [==============================] - 1s 10ms/step - loss: 0.2092 - accuracy: 0.9088 - val_loss: 1.3838 - val_accuracy: 0.5132\n"
     ]
    }
   ],
   "source": [
    "checkpoint2 = ModelCheckpoint(\"best_model2.hdf5\", monitor='accuracy', verbose=1,save_best_only=True, mode='auto', period=1,save_weights_only=False)\n",
    "history = model2.fit(X_train, y_train, epochs=70,validation_data=(X_test, y_test),callbacks=[checkpoint2])"
   ],
   "metadata": {
    "collapsed": false,
    "pycharm": {
     "name": "#%%\n"
    }
   }
  },
  {
   "cell_type": "code",
   "execution_count": 30,
   "outputs": [
    {
     "name": "stdout",
     "output_type": "stream",
     "text": [
      "WARNING:tensorflow:Layer lstm will not use cuDNN kernels since it doesn't meet the criteria. It will use a generic GPU kernel as fallback when running on GPU.\n"
     ]
    }
   ],
   "source": [
    "best_model = tf.keras.models.load_model(\"best_model0.hdf5\")"
   ],
   "metadata": {
    "collapsed": false,
    "pycharm": {
     "name": "#%%\n"
    }
   }
  },
  {
   "cell_type": "code",
   "execution_count": 31,
   "outputs": [
    {
     "name": "stdout",
     "output_type": "stream",
     "text": [
      "23/23 - 1s - loss: 2.5171 - accuracy: 0.5299 - 1s/epoch - 51ms/step\n",
      "Model accuracy:  0.5299026370048523\n"
     ]
    }
   ],
   "source": [
    "test_loss, test_acc = best_model.evaluate(X_test, y_test, verbose=2)\n",
    "print('Model accuracy: ',test_acc)"
   ],
   "metadata": {
    "collapsed": false,
    "pycharm": {
     "name": "#%%\n"
    }
   }
  }
 ],
 "metadata": {
  "kernelspec": {
   "display_name": "Python 3",
   "language": "python",
   "name": "python3"
  },
  "language_info": {
   "codemirror_mode": {
    "name": "ipython",
    "version": 2
   },
   "file_extension": ".py",
   "mimetype": "text/x-python",
   "name": "python",
   "nbconvert_exporter": "python",
   "pygments_lexer": "ipython2",
   "version": "2.7.6"
  }
 },
 "nbformat": 4,
 "nbformat_minor": 0
}
